{
 "cells": [
  {
   "cell_type": "code",
   "execution_count": 7,
   "metadata": {},
   "outputs": [
    {
     "data": {
      "text/plain": [
       "{1, 2}"
      ]
     },
     "execution_count": 7,
     "metadata": {},
     "output_type": "execute_result"
    }
   ],
   "source": [
    "%%local\n",
    "\n",
    "a = {1} \n",
    "a | {2}"
   ]
  },
  {
   "cell_type": "code",
   "execution_count": null,
   "metadata": {},
   "outputs": [],
   "source": [
    "# This function assumes a (spark) dataframe with columns 'start_vertex', 'end_vertex', 'start_time', 'duration', 'route_id' \n",
    "# edges is a dataframe that represents the edges of the graph, \n",
    "# edges should be sorted by order of descending starting time\n",
    "# inward_walking_edges is a map route_id -> list(route_id), representing the nodes from which we can walk to a given node\n",
    "# walking_edge_duration is a map (route_id, route_id) -> float, representing the duration of the walk\n",
    "# end_time should be in the format 'HH:MM'\n",
    "def latest_departure_paths(edges, end_stop, end_time, walking_edges, walking_edge_duration):\n",
    "    \n",
    "    def add_walking_edges_for_node(start_vertex, min_time, exclude_nodes):\n",
    "        \n",
    "        if start_vertex in nodes_w_processed:\n",
    "            return\n",
    "        \n",
    "        next_edges = all_roads.get(start_vertex, [])\n",
    "        \n",
    "        exclude_nodes = exclude_nodes | {start_vertex}\n",
    "        \n",
    "        for end_vertex in walking_edges.get(start_vertex, []):\n",
    "            \n",
    "            dur = walking_edge_duration[(start_vertex, end_vertex)]\n",
    "            \n",
    "            add_walking_edges_for_node(end_vertex, min_time, exclude_nodes)\n",
    "            \n",
    "            for edge in all_roads.get(end_vertex, []):\n",
    "                time_v, next_v, route_id_v, dur_v = edge\n",
    "                if route_id_v == 'Walking' and dur_v + dur <= max_walking_time and time_v - dur >= min_time:\n",
    "                    next_edges.append((time_v - dur, end_vertex, 'Walking', dur))\n",
    "                elif route_id != 'Walking' and time_v - dur - transfer_time >= min_time:\n",
    "                    next_edges.append((time_v - dur - transfer_time, end_vertex, 'Walking', dur))\n",
    "                    \n",
    "        \n",
    "        nodes_w_processed.add(start_vertex)\n",
    "        all_roads[start_vertex] = list(set(next_edges))\n",
    "        return\n",
    "    \n",
    "    # This function computes whether edge (u, v, t, dur, route_id) can be taken\n",
    "    # returns update to node u if possible, and None otherwise\n",
    "    def edge_valid(u, v, time, dur, route_id):\n",
    "        \n",
    "        add_walking_edges_for_node(v, time, {u})\n",
    "        next_edges = all_roads.get(v, [])\n",
    "        \n",
    "        for edge in next_edges: \n",
    "            time_v, next_v, route_id_v, dur_v = edge\n",
    "            if ((route_id == route_id_v or v == end_stop) and time + duration <= time_v) or (time + duration + transfer_time <= time_v): \n",
    "                return (time, v, route_id, dur)\n",
    "\n",
    "        return None\n",
    "                \n",
    "    def time_to_minutes(timestamp):\n",
    "        return int(timestamp[:2]) * 60 + int(timestamp[3:5])\n",
    "    \n",
    "    \n",
    "    transfer_time = 2 # at least 2 minutes to transfer\n",
    "    max_walking_time = 10\n",
    "\n",
    "    nodes_w_processed = set()\n",
    "    \n",
    "    all_roads = {end_stop}\n",
    "    end_time = time_to_minutes(end_time)\n",
    "    start_time = end_time - 120 # look only at edges departing at most 2 hours before end_time\n",
    "    \n",
    "    all_roads[end_stop] = [(end_time, end_stop, None, 0)]\n",
    "\n",
    "    edges = edges.filter(F.col('start_time').between(start_time, end_time)).toPandas().sort_values(by=['start_time'], ascending=False).to_numpy()\n",
    "\n",
    "    for row in edges:\n",
    "        start_vertex, end_vertex, start, duration, route_id = row[:5]\n",
    "        \n",
    "        nodes_w_processed = nodes_w_processed - [u for u in walking_edges[start_vertex]]\n",
    "        update = edge_valid(start_vertex, end_vertex, start, duration, route_id)\n",
    "        if update:\n",
    "            if start_vertex in all_roads:    \n",
    "                all_roads[start_vertex].append(update)\n",
    "            else:\n",
    "                all_roads[start_vertex] = [update]\n",
    "                \n",
    "                            \n",
    "    return all_roads"
   ]
  }
 ],
 "metadata": {
  "kernelspec": {
   "display_name": "PySpark",
   "language": "python",
   "name": "pysparkkernel"
  },
  "language_info": {
   "codemirror_mode": {
    "name": "python",
    "version": 3
   },
   "file_extension": ".py",
   "mimetype": "text/x-python",
   "name": "pyspark",
   "pygments_lexer": "python3"
  }
 },
 "nbformat": 4,
 "nbformat_minor": 4
}
