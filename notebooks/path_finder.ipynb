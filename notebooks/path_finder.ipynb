{
 "cells": [
  {
   "cell_type": "code",
   "execution_count": null,
   "metadata": {},
   "outputs": [],
   "source": [
    "%%local\n",
    "import os\n",
    "username = os.environ['JUPYTERHUB_USER']\n",
    "get_ipython().run_cell_magic('configure', line=\"-f\", cell='{ \"name\":\"%s-final-path-finder\", \"executorMemory\":\"4G\", \"executorCores\":4, \"numExecutors\":10, \"driverMemory\": \"4G\" }' % username)"
   ]
  },
  {
   "cell_type": "code",
   "execution_count": null,
   "metadata": {},
   "outputs": [],
   "source": [
    "%%send_to_spark -i username -t str -n username"
   ]
  },
  {
   "cell_type": "code",
   "execution_count": null,
   "metadata": {},
   "outputs": [],
   "source": [
    "import pyspark.sql.functions as F"
   ]
  },
  {
   "cell_type": "markdown",
   "metadata": {},
   "source": [
    "## Import data from HDFS"
   ]
  },
  {
   "cell_type": "code",
   "execution_count": null,
   "metadata": {},
   "outputs": [],
   "source": [
    "walking_edges = spark.read.parquet('/user/%s/final/parquet/walking_edges' % username)"
   ]
  },
  {
   "cell_type": "code",
   "execution_count": null,
   "metadata": {},
   "outputs": [],
   "source": [
    "transport_edges = spark.read.parquet('/user/%s/final/parquet/transport_edges' % username)"
   ]
  },
  {
   "cell_type": "code",
   "execution_count": null,
   "metadata": {},
   "outputs": [],
   "source": [
    "transport_edges.columns"
   ]
  },
  {
   "cell_type": "markdown",
   "metadata": {},
   "source": [
    "## Shortest Path"
   ]
  },
  {
   "cell_type": "code",
   "execution_count": null,
   "metadata": {},
   "outputs": [],
   "source": [
    "print('hello')"
   ]
  },
  {
   "cell_type": "code",
   "execution_count": null,
   "metadata": {},
   "outputs": [],
   "source": [
    "inward_walking_edges = walking_edges.groupby('end_vertex').agg({'start_vertex': 'collect_set'})\\\n",
    "                                                              .withColumnRenamed('collect_set(start_vertex)', 'start_vertices')\\\n",
    "                                                              .toPandas().set_index('end_vertex').to_dict()['start_vertices']\n",
    "walking_edge_duration = walking_edges.toPandas()\n",
    "walking_edge_duration['key'] = walking_edge_duration.apply(lambda x: (x['start_vertex'], x['end_vertex']), axis=1)\n",
    "walking_edge_duration = walking_edge_duration.set_index('key').to_dict()['duration']"
   ]
  },
  {
   "cell_type": "code",
   "execution_count": null,
   "metadata": {},
   "outputs": [],
   "source": [
    "edges = transport_edges.filter('weekday == \"monday\"').sort(F.col('start_time').desc())"
   ]
  },
  {
   "cell_type": "code",
   "execution_count": null,
   "metadata": {},
   "outputs": [],
   "source": []
  },
  {
   "cell_type": "code",
   "execution_count": null,
   "metadata": {},
   "outputs": [],
   "source": [
    "n = edges.toPandas().to_numpy()"
   ]
  },
  {
   "cell_type": "code",
   "execution_count": null,
   "metadata": {},
   "outputs": [],
   "source": [
    "i=0\n",
    "for e in n:\n",
    "    print(e.shape)\n",
    "    i += 1\n",
    "    if i > 5:\n",
    "        break"
   ]
  },
  {
   "cell_type": "code",
   "execution_count": null,
   "metadata": {},
   "outputs": [],
   "source": []
  },
  {
   "cell_type": "code",
   "execution_count": null,
   "metadata": {},
   "outputs": [],
   "source": [
    "# This function assumes a (spark) dataframe with columns 'start_vertex', 'end_vertex', 'start_time', 'duration', 'route_id' \n",
    "# edges is a dataframe that represents the edges of the graph, \n",
    "# edges should be sorted by order of descending starting time\n",
    "# inward_walking_edges is a map route_id -> list(route_id), representing the nodes from which we can walk to a given node\n",
    "# walking_edge_duration is a map (route_id, route_id) -> float, representing the duration of the walk\n",
    "# end_time should be in the format 'HH:MM'\n",
    "def latest_departure_paths(edges, end_stop, end_time, inward_walking_edges, walking_edge_duration):\n",
    "    \n",
    "    # This function computes whether edge (u, v, t, dur, route_id) can be taken\n",
    "    # returns update to node u if possible, and None otherwise\n",
    "    def edge_valid(u, v, time, dur, route_id):\n",
    "        \n",
    "        cur_best = next_transfer.get(u)\n",
    "        next_edge = next_transfer.get(v)\n",
    "        \n",
    "        if next_edge: # needs to be defined\n",
    "            time_v, next_v, route_id_v, dur_v = next_edge\n",
    "            \n",
    "            if route_id == 'walking':\n",
    "                if  route_id_v == 'walking' and dur_v + dur <= max_walking_time:\n",
    "                    time = time_v - dur - transfer_time\n",
    "                    if (not cur_best) or time > cur_best[0]:\n",
    "                        return (time, next_v, route_id, dur + dur_v)\n",
    "                elif route_id_v != 'walking':\n",
    "                    time = time_v - dur - transfer_time\n",
    "                    if (not cur_best) or time > cur_best[0]:\n",
    "                        return (time, v, route_id, dur)\n",
    "                      \n",
    "            \n",
    "            elif (route_id == route_id_v or v == end_stop) and time + duration <= time_v: # same route or last_stop\n",
    "                if (not cur_best) or time > cur_best[0]: # can we improve\n",
    "                    return (time, next_v, route_id, dur + dur_v)\n",
    "            \n",
    "            \n",
    "            elif time + duration + transfer_time <= time_v: # transfer at node_v\n",
    "                if (not cur_best) or time > cur_best[0]:\n",
    "                    return (time, v, route_id, dur) \n",
    "        \n",
    "        # In any other case no update can be made\n",
    "        return None\n",
    "                \n",
    "    def time_to_minutes(timestamp):\n",
    "        return int(timestamp[:2]) * 60 + int(timestamp[3:5])\n",
    "    \n",
    "    transfer_time = 2 # at least 2 minutes to transfer\n",
    "    max_walking_time = 10\n",
    "\n",
    "    next_transfer = {} # stores for each node u the node v \n",
    "                       # where the next transfer happens format (departure_time, v, route_id to v, duration)\n",
    "    end_time = time_to_minutes(end_time)\n",
    "    start_time = end_time - 120 # look only at edges departing at most 2 hours before end_time\n",
    "    next_transfer[end_stop] = (end_time, end_stop, None, 0)\n",
    "    \n",
    "    edges = edges.filter(F.col('start_time').between(start_time, end_time)).toPandas()\n",
    "\n",
    "    for _, row in edges.iterrows():\n",
    "        \n",
    "        start_vertex, end_vertex, start, duration, route_id = row.start_vertex, row.end_vertex, row.start_time, row.duration, row.route_id\n",
    "        \n",
    "        update = edge_valid(start_vertex, end_vertex, start, duration, route_id)\n",
    "        if update:\n",
    "            next_transfer[start_vertex] = update\n",
    "                    \n",
    "            w_start_vertex = start_vertex\n",
    "            for w_end_vertex in inward_walking_edges.get(w_start_vertex, []):\n",
    "                duration = walking_edge_duration[(w_start_vertex, w_end_vertex)]\n",
    "                w_start = start \n",
    "                update = edge_valid(w_start_vertex, w_end_vertex, w_start, duration, 'walking')\n",
    "                if update:\n",
    "                     next_transfer[w_start_vertex] = update\n",
    "                    \n",
    "        \n",
    "    return next_transfer"
   ]
  },
  {
   "cell_type": "code",
   "execution_count": null,
   "metadata": {},
   "outputs": [],
   "source": [
    "import time\n",
    "start = time.time()\n",
    "next_transfer = latest_departure_paths(edges, '8591221', '20:00', inward_walking_edges, walking_edge_duration)\n",
    "end = time.time() \n",
    "print(end - start)"
   ]
  },
  {
   "cell_type": "code",
   "execution_count": null,
   "metadata": {},
   "outputs": [],
   "source": [
    "def minutes_to_timestamp(minutes):\n",
    "    return str(minutes // 60) + ':' + str(minutes % 60).zfill(2)\n",
    "    \n",
    "def reconstruct_route(next_transfer, start_stop):\n",
    "    time, next_stop, route_id, duration = next_transfer[start_stop]\n",
    "    journey = ''\n",
    "    while next_stop != start_stop:\n",
    "        journey += \"\"\"  \\n\n",
    "                        %s : %s \n",
    "                        | \n",
    "                        | %s (%s min) \n",
    "                        | \n",
    "                        %s : %s \"\"\" % (minutes_to_timestamp(time),\\\n",
    "                                       stop_id_to_stop[start_stop],\\\n",
    "                                       route_id_to_route_name[route_id],\\\n",
    "                                       duration, minutes_to_timestamp(time + duration), stop_id_to_stop[next_stop])\n",
    "        start_stop = next_stop\n",
    "        time, next_stop, route_id, duration = next_transfer[next_stop]\n",
    "        \n",
    "    return journey"
   ]
  },
  {
   "cell_type": "code",
   "execution_count": null,
   "metadata": {},
   "outputs": [],
   "source": [
    "route_id_to_route_name = routes.select('route_id', 'route_desc', 'route_short_name').toPandas()\n",
    "route_id_to_route_name['route_name'] = route_id_to_route_name['route_desc'] + ' ' + route_id_to_route_name['route_short_name']\n",
    "route_id_to_route_name = route_id_to_route_name.set_index('route_id').to_dict()['route_name']\n",
    "route_id_to_route_name['walking'] = 'walk'"
   ]
  },
  {
   "cell_type": "code",
   "execution_count": null,
   "metadata": {},
   "outputs": [],
   "source": [
    "stop_id_to_stop = stops.select('stop_id', 'stop_name').toPandas().set_index('stop_id').to_dict()['stop_name']"
   ]
  },
  {
   "cell_type": "code",
   "execution_count": null,
   "metadata": {},
   "outputs": [],
   "source": [
    "def minutes_to_timestamp(minutes):\n",
    "    return str(minutes // 60) + ':' + str(minutes % 60).zfill(2)\n",
    "    \n",
    "def reconstruct_route(next_transfer, start_stop):\n",
    "    time, next_stop, route_id, duration = next_transfer[start_stop]\n",
    "    journey = ''\n",
    "    while next_stop != start_stop:\n",
    "        journey += \"\"\"  \\n\n",
    "                        %s : %s \n",
    "                        | \n",
    "                        | %s (%s min) \n",
    "                        | \n",
    "                        %s : %s \"\"\" % (minutes_to_timestamp(time),\\\n",
    "                                       stop_id_to_stop[start_stop],\\\n",
    "                                       route_id_to_route_name[route_id],\\\n",
    "                                       duration, minutes_to_timestamp(time + duration), stop_id_to_stop[next_stop])\n",
    "        start_stop = next_stop\n",
    "        time, next_stop, route_id, duration = next_transfer[next_stop]\n",
    "        \n",
    "    return journey"
   ]
  },
  {
   "cell_type": "code",
   "execution_count": null,
   "metadata": {},
   "outputs": [],
   "source": []
  },
  {
   "cell_type": "code",
   "execution_count": null,
   "metadata": {},
   "outputs": [],
   "source": []
  },
  {
   "cell_type": "code",
   "execution_count": null,
   "metadata": {},
   "outputs": [],
   "source": []
  },
  {
   "cell_type": "code",
   "execution_count": null,
   "metadata": {},
   "outputs": [],
   "source": []
  },
  {
   "cell_type": "code",
   "execution_count": null,
   "metadata": {},
   "outputs": [],
   "source": []
  }
 ],
 "metadata": {
  "kernelspec": {
   "display_name": "PySpark",
   "language": "python",
   "name": "pysparkkernel"
  },
  "language_info": {
   "codemirror_mode": {
    "name": "python",
    "version": 3
   },
   "file_extension": ".py",
   "mimetype": "text/x-python",
   "name": "pyspark",
   "pygments_lexer": "python3"
  }
 },
 "nbformat": 4,
 "nbformat_minor": 4
}
