{
 "cells": [
  {
   "cell_type": "markdown",
   "metadata": {},
   "source": [
    "# Path Finder"
   ]
  },
  {
   "cell_type": "markdown",
   "metadata": {},
   "source": [
    "## Setup Spark environment"
   ]
  },
  {
   "cell_type": "code",
   "execution_count": 2,
   "metadata": {},
   "outputs": [
    {
     "data": {
      "text/html": [
       "Current session configs: <tt>{'name': 'mezghani-final-path-finder', 'executorMemory': '4G', 'executorCores': 4, 'numExecutors': 10, 'driverMemory': '4G', 'kind': 'pyspark'}</tt><br>"
      ],
      "text/plain": [
       "<IPython.core.display.HTML object>"
      ]
     },
     "metadata": {},
     "output_type": "display_data"
    },
    {
     "data": {
      "text/html": [
       "<table>\n",
       "<tr><th>ID</th><th>YARN Application ID</th><th>Kind</th><th>State</th><th>Spark UI</th><th>Driver log</th><th>User</th><th>Current session?</th></tr><tr><td>5316</td><td>application_1618324153128_4558</td><td>pyspark</td><td>idle</td><td><a target=\"_blank\" href=\"http://iccluster040.iccluster.epfl.ch:8088/proxy/application_1618324153128_4558/\">Link</a></td><td><a target=\"_blank\" href=\"http://iccluster066.iccluster.epfl.ch:8042/node/containerlogs/container_e01_1618324153128_4558_01_000001/ebouille\">Link</a></td><td>None</td><td></td></tr><tr><td>5336</td><td>application_1618324153128_4586</td><td>pyspark</td><td>idle</td><td><a target=\"_blank\" href=\"http://iccluster040.iccluster.epfl.ch:8088/proxy/application_1618324153128_4586/\">Link</a></td><td><a target=\"_blank\" href=\"http://iccluster078.iccluster.epfl.ch:8042/node/containerlogs/container_e01_1618324153128_4586_01_000001/ebouille\">Link</a></td><td>None</td><td></td></tr><tr><td>5391</td><td>application_1618324153128_4663</td><td>pyspark</td><td>idle</td><td><a target=\"_blank\" href=\"http://iccluster040.iccluster.epfl.ch:8088/proxy/application_1618324153128_4663/\">Link</a></td><td><a target=\"_blank\" href=\"http://iccluster078.iccluster.epfl.ch:8042/node/containerlogs/container_e01_1618324153128_4663_01_000001/ebouille\">Link</a></td><td>None</td><td></td></tr><tr><td>5392</td><td>application_1618324153128_4664</td><td>pyspark</td><td>idle</td><td><a target=\"_blank\" href=\"http://iccluster040.iccluster.epfl.ch:8088/proxy/application_1618324153128_4664/\">Link</a></td><td><a target=\"_blank\" href=\"http://iccluster072.iccluster.epfl.ch:8042/node/containerlogs/container_e01_1618324153128_4664_01_000001/ebouille\">Link</a></td><td>None</td><td></td></tr><tr><td>5397</td><td>application_1618324153128_4671</td><td>pyspark</td><td>busy</td><td><a target=\"_blank\" href=\"http://iccluster040.iccluster.epfl.ch:8088/proxy/application_1618324153128_4671/\">Link</a></td><td><a target=\"_blank\" href=\"http://iccluster067.iccluster.epfl.ch:8042/node/containerlogs/container_e01_1618324153128_4671_01_000001/ebouille\">Link</a></td><td>None</td><td></td></tr><tr><td>5429</td><td>application_1618324153128_4705</td><td>pyspark</td><td>idle</td><td><a target=\"_blank\" href=\"http://iccluster040.iccluster.epfl.ch:8088/proxy/application_1618324153128_4705/\">Link</a></td><td><a target=\"_blank\" href=\"http://iccluster070.iccluster.epfl.ch:8042/node/containerlogs/container_e01_1618324153128_4705_01_000001/ebouille\">Link</a></td><td>None</td><td></td></tr><tr><td>5433</td><td>application_1618324153128_4710</td><td>pyspark</td><td>idle</td><td><a target=\"_blank\" href=\"http://iccluster040.iccluster.epfl.ch:8088/proxy/application_1618324153128_4710/\">Link</a></td><td><a target=\"_blank\" href=\"http://iccluster071.iccluster.epfl.ch:8042/node/containerlogs/container_e01_1618324153128_4710_01_000001/ebouille\">Link</a></td><td>None</td><td></td></tr><tr><td>5434</td><td>application_1618324153128_4711</td><td>pyspark</td><td>idle</td><td><a target=\"_blank\" href=\"http://iccluster040.iccluster.epfl.ch:8088/proxy/application_1618324153128_4711/\">Link</a></td><td><a target=\"_blank\" href=\"http://iccluster066.iccluster.epfl.ch:8042/node/containerlogs/container_e01_1618324153128_4711_01_000001/ebouille\">Link</a></td><td>None</td><td></td></tr><tr><td>5435</td><td>application_1618324153128_4712</td><td>pyspark</td><td>idle</td><td><a target=\"_blank\" href=\"http://iccluster040.iccluster.epfl.ch:8088/proxy/application_1618324153128_4712/\">Link</a></td><td><a target=\"_blank\" href=\"http://iccluster077.iccluster.epfl.ch:8042/node/containerlogs/container_e01_1618324153128_4712_01_000001/ebouille\">Link</a></td><td>None</td><td></td></tr><tr><td>5436</td><td>application_1618324153128_4713</td><td>pyspark</td><td>idle</td><td><a target=\"_blank\" href=\"http://iccluster040.iccluster.epfl.ch:8088/proxy/application_1618324153128_4713/\">Link</a></td><td><a target=\"_blank\" href=\"http://iccluster066.iccluster.epfl.ch:8042/node/containerlogs/container_e01_1618324153128_4713_01_000001/ebouille\">Link</a></td><td>None</td><td></td></tr><tr><td>5438</td><td>application_1618324153128_4715</td><td>pyspark</td><td>idle</td><td><a target=\"_blank\" href=\"http://iccluster040.iccluster.epfl.ch:8088/proxy/application_1618324153128_4715/\">Link</a></td><td><a target=\"_blank\" href=\"http://iccluster066.iccluster.epfl.ch:8042/node/containerlogs/container_e01_1618324153128_4715_01_000001/ebouille\">Link</a></td><td>None</td><td></td></tr><tr><td>5439</td><td>application_1618324153128_4716</td><td>pyspark</td><td>idle</td><td><a target=\"_blank\" href=\"http://iccluster040.iccluster.epfl.ch:8088/proxy/application_1618324153128_4716/\">Link</a></td><td><a target=\"_blank\" href=\"http://iccluster078.iccluster.epfl.ch:8042/node/containerlogs/container_e01_1618324153128_4716_01_000001/ebouille\">Link</a></td><td>None</td><td></td></tr><tr><td>5440</td><td>application_1618324153128_4717</td><td>pyspark</td><td>idle</td><td><a target=\"_blank\" href=\"http://iccluster040.iccluster.epfl.ch:8088/proxy/application_1618324153128_4717/\">Link</a></td><td><a target=\"_blank\" href=\"http://iccluster069.iccluster.epfl.ch:8042/node/containerlogs/container_e01_1618324153128_4717_01_000001/ebouille\">Link</a></td><td>None</td><td></td></tr><tr><td>5442</td><td>application_1618324153128_4719</td><td>pyspark</td><td>idle</td><td><a target=\"_blank\" href=\"http://iccluster040.iccluster.epfl.ch:8088/proxy/application_1618324153128_4719/\">Link</a></td><td><a target=\"_blank\" href=\"http://iccluster067.iccluster.epfl.ch:8042/node/containerlogs/container_e01_1618324153128_4719_01_000001/ebouille\">Link</a></td><td>None</td><td></td></tr><tr><td>5443</td><td>application_1618324153128_4721</td><td>pyspark</td><td>idle</td><td><a target=\"_blank\" href=\"http://iccluster040.iccluster.epfl.ch:8088/proxy/application_1618324153128_4721/\">Link</a></td><td><a target=\"_blank\" href=\"http://iccluster072.iccluster.epfl.ch:8042/node/containerlogs/container_e01_1618324153128_4721_01_000001/ebouille\">Link</a></td><td>None</td><td></td></tr><tr><td>5444</td><td>application_1618324153128_4722</td><td>pyspark</td><td>busy</td><td><a target=\"_blank\" href=\"http://iccluster040.iccluster.epfl.ch:8088/proxy/application_1618324153128_4722/\">Link</a></td><td><a target=\"_blank\" href=\"http://iccluster069.iccluster.epfl.ch:8042/node/containerlogs/container_e01_1618324153128_4722_01_000001/ebouille\">Link</a></td><td>None</td><td></td></tr><tr><td>5445</td><td>application_1618324153128_4723</td><td>pyspark</td><td>idle</td><td><a target=\"_blank\" href=\"http://iccluster040.iccluster.epfl.ch:8088/proxy/application_1618324153128_4723/\">Link</a></td><td><a target=\"_blank\" href=\"http://iccluster070.iccluster.epfl.ch:8042/node/containerlogs/container_e01_1618324153128_4723_01_000001/ebouille\">Link</a></td><td>None</td><td></td></tr><tr><td>5446</td><td>application_1618324153128_4724</td><td>pyspark</td><td>idle</td><td><a target=\"_blank\" href=\"http://iccluster040.iccluster.epfl.ch:8088/proxy/application_1618324153128_4724/\">Link</a></td><td><a target=\"_blank\" href=\"http://iccluster077.iccluster.epfl.ch:8042/node/containerlogs/container_e01_1618324153128_4724_01_000001/ebouille\">Link</a></td><td>None</td><td></td></tr><tr><td>5447</td><td>application_1618324153128_4726</td><td>pyspark</td><td>idle</td><td><a target=\"_blank\" href=\"http://iccluster040.iccluster.epfl.ch:8088/proxy/application_1618324153128_4726/\">Link</a></td><td><a target=\"_blank\" href=\"http://iccluster071.iccluster.epfl.ch:8042/node/containerlogs/container_e01_1618324153128_4726_01_000001/ebouille\">Link</a></td><td>None</td><td></td></tr><tr><td>5449</td><td>application_1618324153128_4728</td><td>pyspark</td><td>idle</td><td><a target=\"_blank\" href=\"http://iccluster040.iccluster.epfl.ch:8088/proxy/application_1618324153128_4728/\">Link</a></td><td><a target=\"_blank\" href=\"http://iccluster068.iccluster.epfl.ch:8042/node/containerlogs/container_e01_1618324153128_4728_01_000001/ebouille\">Link</a></td><td>None</td><td></td></tr><tr><td>5451</td><td>application_1618324153128_4730</td><td>pyspark</td><td>idle</td><td><a target=\"_blank\" href=\"http://iccluster040.iccluster.epfl.ch:8088/proxy/application_1618324153128_4730/\">Link</a></td><td><a target=\"_blank\" href=\"http://iccluster071.iccluster.epfl.ch:8042/node/containerlogs/container_e01_1618324153128_4730_01_000001/ebouille\">Link</a></td><td>None</td><td></td></tr><tr><td>5452</td><td>application_1618324153128_4731</td><td>pyspark</td><td>idle</td><td><a target=\"_blank\" href=\"http://iccluster040.iccluster.epfl.ch:8088/proxy/application_1618324153128_4731/\">Link</a></td><td><a target=\"_blank\" href=\"http://iccluster068.iccluster.epfl.ch:8042/node/containerlogs/container_e01_1618324153128_4731_01_000001/ebouille\">Link</a></td><td>None</td><td></td></tr><tr><td>5454</td><td>application_1618324153128_4734</td><td>pyspark</td><td>idle</td><td><a target=\"_blank\" href=\"http://iccluster040.iccluster.epfl.ch:8088/proxy/application_1618324153128_4734/\">Link</a></td><td><a target=\"_blank\" href=\"http://iccluster078.iccluster.epfl.ch:8042/node/containerlogs/container_e01_1618324153128_4734_01_000001/ebouille\">Link</a></td><td>None</td><td></td></tr><tr><td>5455</td><td>application_1618324153128_4735</td><td>pyspark</td><td>idle</td><td><a target=\"_blank\" href=\"http://iccluster040.iccluster.epfl.ch:8088/proxy/application_1618324153128_4735/\">Link</a></td><td><a target=\"_blank\" href=\"http://iccluster068.iccluster.epfl.ch:8042/node/containerlogs/container_e01_1618324153128_4735_01_000001/ebouille\">Link</a></td><td>None</td><td></td></tr></table>"
      ],
      "text/plain": [
       "<IPython.core.display.HTML object>"
      ]
     },
     "metadata": {},
     "output_type": "display_data"
    }
   ],
   "source": [
    "%%local\n",
    "import os\n",
    "username = os.environ['JUPYTERHUB_USER']\n",
    "get_ipython().run_cell_magic('configure', line=\"-f\", cell='{ \"name\":\"%s-final-path-finder\", \"executorMemory\":\"4G\", \"executorCores\":4, \"numExecutors\":10, \"driverMemory\": \"4G\" }' % username)"
   ]
  },
  {
   "cell_type": "code",
   "execution_count": 3,
   "metadata": {},
   "outputs": [
    {
     "name": "stdout",
     "output_type": "stream",
     "text": [
      "Starting Spark application\n"
     ]
    },
    {
     "data": {
      "text/html": [
       "<table>\n",
       "<tr><th>ID</th><th>YARN Application ID</th><th>Kind</th><th>State</th><th>Spark UI</th><th>Driver log</th><th>User</th><th>Current session?</th></tr><tr><td>5456</td><td>application_1618324153128_4736</td><td>pyspark</td><td>idle</td><td><a target=\"_blank\" href=\"http://iccluster040.iccluster.epfl.ch:8088/proxy/application_1618324153128_4736/\">Link</a></td><td><a target=\"_blank\" href=\"http://iccluster068.iccluster.epfl.ch:8042/node/containerlogs/container_e01_1618324153128_4736_01_000001/ebouille\">Link</a></td><td>None</td><td>✔</td></tr></table>"
      ],
      "text/plain": [
       "<IPython.core.display.HTML object>"
      ]
     },
     "metadata": {},
     "output_type": "display_data"
    },
    {
     "data": {
      "application/vnd.jupyter.widget-view+json": {
       "model_id": "",
       "version_major": 2,
       "version_minor": 0
      },
      "text/plain": [
       "FloatProgress(value=0.0, bar_style='info', description='Progress:', layout=Layout(height='25px', width='50%'),…"
      ]
     },
     "metadata": {},
     "output_type": "display_data"
    },
    {
     "name": "stdout",
     "output_type": "stream",
     "text": [
      "SparkSession available as 'spark'.\n"
     ]
    },
    {
     "data": {
      "application/vnd.jupyter.widget-view+json": {
       "model_id": "",
       "version_major": 2,
       "version_minor": 0
      },
      "text/plain": [
       "FloatProgress(value=0.0, bar_style='info', description='Progress:', layout=Layout(height='25px', width='50%'),…"
      ]
     },
     "metadata": {},
     "output_type": "display_data"
    },
    {
     "name": "stdout",
     "output_type": "stream",
     "text": [
      "Successfully passed 'username' as 'username' to Spark kernel"
     ]
    }
   ],
   "source": [
    "%%send_to_spark -i username -t str -n username"
   ]
  },
  {
   "cell_type": "code",
   "execution_count": 4,
   "metadata": {},
   "outputs": [
    {
     "data": {
      "application/vnd.jupyter.widget-view+json": {
       "model_id": "",
       "version_major": 2,
       "version_minor": 0
      },
      "text/plain": [
       "FloatProgress(value=0.0, bar_style='info', description='Progress:', layout=Layout(height='25px', width='50%'),…"
      ]
     },
     "metadata": {},
     "output_type": "display_data"
    }
   ],
   "source": [
    "import pyspark.sql.functions as F\n",
    "from pyspark.sql.types import *"
   ]
  },
  {
   "cell_type": "markdown",
   "metadata": {},
   "source": [
    "## Import data from HDFS"
   ]
  },
  {
   "cell_type": "code",
   "execution_count": 5,
   "metadata": {},
   "outputs": [
    {
     "data": {
      "application/vnd.jupyter.widget-view+json": {
       "model_id": "",
       "version_major": 2,
       "version_minor": 0
      },
      "text/plain": [
       "FloatProgress(value=0.0, bar_style='info', description='Progress:', layout=Layout(height='25px', width='50%'),…"
      ]
     },
     "metadata": {},
     "output_type": "display_data"
    }
   ],
   "source": [
    "routes = spark.read.csv('/data/sbb/csv/timetable/routes/2019/05/07/routes.csv', header=True )\n",
    "stops = spark.read.orc('/data/sbb/orc/geostops')"
   ]
  },
  {
   "cell_type": "code",
   "execution_count": 6,
   "metadata": {},
   "outputs": [
    {
     "data": {
      "application/vnd.jupyter.widget-view+json": {
       "model_id": "",
       "version_major": 2,
       "version_minor": 0
      },
      "text/plain": [
       "FloatProgress(value=0.0, bar_style='info', description='Progress:', layout=Layout(height='25px', width='50%'),…"
      ]
     },
     "metadata": {},
     "output_type": "display_data"
    }
   ],
   "source": [
    "walking_edges = spark.read.parquet('/user/%s/final/parquet/walking_edges' % username)\n",
    "transport_edges = spark.read.parquet('/user/%s/final/parquet/transport_edges' % username)"
   ]
  },
  {
   "cell_type": "code",
   "execution_count": 7,
   "metadata": {},
   "outputs": [
    {
     "data": {
      "application/vnd.jupyter.widget-view+json": {
       "model_id": "",
       "version_major": 2,
       "version_minor": 0
      },
      "text/plain": [
       "FloatProgress(value=0.0, bar_style='info', description='Progress:', layout=Layout(height='25px', width='50%'),…"
      ]
     },
     "metadata": {},
     "output_type": "display_data"
    },
    {
     "name": "stdout",
     "output_type": "stream",
     "text": [
      "['start_vertex', 'end_vertex', 'start_time', 'duration', 'route_id', 'weekday']"
     ]
    }
   ],
   "source": [
    "transport_edges.columns"
   ]
  },
  {
   "cell_type": "markdown",
   "metadata": {},
   "source": [
    "## Shortest Path"
   ]
  },
  {
   "cell_type": "code",
   "execution_count": 8,
   "metadata": {},
   "outputs": [
    {
     "data": {
      "application/vnd.jupyter.widget-view+json": {
       "model_id": "",
       "version_major": 2,
       "version_minor": 0
      },
      "text/plain": [
       "FloatProgress(value=0.0, bar_style='info', description='Progress:', layout=Layout(height='25px', width='50%'),…"
      ]
     },
     "metadata": {},
     "output_type": "display_data"
    }
   ],
   "source": [
    "inward_walking_edges = walking_edges.groupby('end_vertex').agg({'start_vertex': 'collect_set'})\\\n",
    "                                                              .withColumnRenamed('collect_set(start_vertex)', 'start_vertices')\\\n",
    "                                                              .toPandas().set_index('end_vertex').to_dict()['start_vertices']"
   ]
  },
  {
   "cell_type": "code",
   "execution_count": 9,
   "metadata": {},
   "outputs": [
    {
     "data": {
      "application/vnd.jupyter.widget-view+json": {
       "model_id": "",
       "version_major": 2,
       "version_minor": 0
      },
      "text/plain": [
       "FloatProgress(value=0.0, bar_style='info', description='Progress:', layout=Layout(height='25px', width='50%'),…"
      ]
     },
     "metadata": {},
     "output_type": "display_data"
    }
   ],
   "source": [
    "walking_edge_duration = walking_edges.withColumn('key', F.struct(F.col('start_vertex'), F.col('end_vertex')))\\\n",
    "                                     .toPandas()\\\n",
    "                                     .set_index('key')\\\n",
    "                                     .to_dict()['duration']"
   ]
  },
  {
   "cell_type": "code",
   "execution_count": 10,
   "metadata": {},
   "outputs": [
    {
     "data": {
      "application/vnd.jupyter.widget-view+json": {
       "model_id": "",
       "version_major": 2,
       "version_minor": 0
      },
      "text/plain": [
       "FloatProgress(value=0.0, bar_style='info', description='Progress:', layout=Layout(height='25px', width='50%'),…"
      ]
     },
     "metadata": {},
     "output_type": "display_data"
    }
   ],
   "source": [
    "edges = transport_edges.filter('weekday == \"monday\"')"
   ]
  },
  {
   "cell_type": "code",
   "execution_count": 11,
   "metadata": {},
   "outputs": [
    {
     "data": {
      "application/vnd.jupyter.widget-view+json": {
       "model_id": "",
       "version_major": 2,
       "version_minor": 0
      },
      "text/plain": [
       "FloatProgress(value=0.0, bar_style='info', description='Progress:', layout=Layout(height='25px', width='50%'),…"
      ]
     },
     "metadata": {},
     "output_type": "display_data"
    }
   ],
   "source": [
    "# This function assumes a (spark) dataframe with columns 'start_vertex', 'end_vertex', 'start_time', 'duration', 'route_id' \n",
    "# edges is a dataframe that represents the edges of the graph, \n",
    "# edges should be sorted by order of descending starting time\n",
    "# inward_walking_edges is a map route_id -> list(route_id), representing the nodes from which we can walk to a given node\n",
    "# walking_edge_duration is a map (route_id, route_id) -> float, representing the duration of the walk\n",
    "# end_time should be in the format 'HH:MM'\n",
    "def latest_departure_paths(edges, end_stop, end_time, inward_walking_edges, walking_edge_duration):\n",
    "    \n",
    "    # This function computes whether edge (u, v, t, dur, route_id) can be taken\n",
    "    # returns update to node u if possible, and None otherwise\n",
    "    def edge_valid(u, v, time, dur, route_id):\n",
    "        \n",
    "        cur_best = next_transfer.get(u)\n",
    "        next_edge = next_transfer.get(v)\n",
    "        \n",
    "        if next_edge: # needs to be defined\n",
    "            time_v, next_v, route_id_v, dur_v, seq_v = next_edge\n",
    "            \n",
    "            if route_id == 'walking':\n",
    "                if  route_id_v == 'walking' and dur_v + dur <= max_walking_time:\n",
    "                    time = time_v - dur - transfer_time\n",
    "                    if (not cur_best) or time > cur_best[0]:\n",
    "                        return (time, next_v, route_id, dur + dur_v, [u] + seq_v)\n",
    "                elif route_id_v != 'walking':\n",
    "                    time = time_v - dur - transfer_time\n",
    "                    if (not cur_best) or time > cur_best[0]:\n",
    "                        return (time, v, route_id, dur, [u, v])\n",
    "                      \n",
    "            \n",
    "            elif (route_id == route_id_v or v == end_stop) and time + duration <= time_v: # same route or last_stop\n",
    "                if (not cur_best) or time > cur_best[0]: # can we improve\n",
    "                    return (time, next_v, route_id, dur + dur_v, [u] + seq_v)\n",
    "            \n",
    "            \n",
    "            elif time + duration + transfer_time <= time_v: # transfer at node_v\n",
    "                if (not cur_best) or time > cur_best[0]:\n",
    "                    return (time, v, route_id, dur, [u, v]) \n",
    "        \n",
    "        # In any other case no update can be made\n",
    "        return None\n",
    "                \n",
    "    def time_to_minutes(timestamp):\n",
    "        return int(timestamp[:2]) * 60 + int(timestamp[3:5])\n",
    "    \n",
    "    transfer_time = 2 # at least 2 minutes to transfer\n",
    "    max_walking_time = 10\n",
    "\n",
    "    next_transfer = {} # stores for each node u the node v \n",
    "                       # where the next transfer happens format (departure_time, v, route_id to v, duration)\n",
    "    all_roads = {}\n",
    "    end_time = time_to_minutes(end_time)\n",
    "    start_time = end_time - 120 # look only at edges departing at most 2 hours before end_time\n",
    "    \n",
    "    next_transfer[end_stop] = (end_time, end_stop, None, 0, [end_stop])\n",
    "    all_roads[end_stop] = [(end_time, end_stop, None, 0, [end_stop])]\n",
    "\n",
    "    edges = edges.filter(F.col('start_time').between(start_time, end_time)).toPandas().sort_values(by=['start_time'], ascending=False).to_numpy()\n",
    "\n",
    "    for row in edges:\n",
    "        \n",
    "        start_vertex, end_vertex, start, duration, route_id = row[:5]\n",
    "        \n",
    "        update = edge_valid(start_vertex, end_vertex, start, duration, route_id)\n",
    "        if update:\n",
    "            if(all_roads.get(start_vertex) != None):    \n",
    "                all_roads[start_vertex].append(update)\n",
    "            elif (all_roads.get(start_vertex) == None):\n",
    "                all_roads[start_vertex] = [update]\n",
    "                \n",
    "            next_transfer[start_vertex] = update\n",
    "                    \n",
    "            w_start_vertex = start_vertex\n",
    "            for w_end_vertex in inward_walking_edges.get(w_start_vertex, []):\n",
    "                duration = walking_edge_duration[(w_start_vertex, w_end_vertex)]\n",
    "                w_start = start \n",
    "                update = edge_valid(w_start_vertex, w_end_vertex, w_start, duration, 'walking')\n",
    "                if update:\n",
    "                    if(all_roads.get(w_start_vertex) != None):\n",
    "                        all_roads[w_start_vertex].append(update)\n",
    "                    elif (all_roads.get(start_vertex) == None):\n",
    "                        all_roads[w_start_vertex] = [update]\n",
    "                    \n",
    "                    next_transfer[w_start_vertex] = update\n",
    "\n",
    "    return all_roads"
   ]
  },
  {
   "cell_type": "code",
   "execution_count": 12,
   "metadata": {},
   "outputs": [
    {
     "data": {
      "application/vnd.jupyter.widget-view+json": {
       "model_id": "",
       "version_major": 2,
       "version_minor": 0
      },
      "text/plain": [
       "FloatProgress(value=0.0, bar_style='info', description='Progress:', layout=Layout(height='25px', width='50%'),…"
      ]
     },
     "metadata": {},
     "output_type": "display_data"
    },
    {
     "name": "stdout",
     "output_type": "stream",
     "text": [
      "1.74451398849"
     ]
    }
   ],
   "source": [
    "import time\n",
    "start = time.time()\n",
    "all_roads = latest_departure_paths(edges, '8591221', '20:00', inward_walking_edges, walking_edge_duration)\n",
    "end = time.time() \n",
    "print(end - start)"
   ]
  },
  {
   "cell_type": "code",
   "execution_count": 13,
   "metadata": {},
   "outputs": [
    {
     "data": {
      "application/vnd.jupyter.widget-view+json": {
       "model_id": "",
       "version_major": 2,
       "version_minor": 0
      },
      "text/plain": [
       "FloatProgress(value=0.0, bar_style='info', description='Progress:', layout=Layout(height='25px', width='50%'),…"
      ]
     },
     "metadata": {},
     "output_type": "display_data"
    },
    {
     "name": "stdout",
     "output_type": "stream",
     "text": [
      "True"
     ]
    }
   ],
   "source": [
    "all([len(all_roads.values()[i][0]) == 5 for i in range(len(all_roads))])"
   ]
  },
  {
   "cell_type": "code",
   "execution_count": 14,
   "metadata": {},
   "outputs": [
    {
     "data": {
      "application/vnd.jupyter.widget-view+json": {
       "model_id": "",
       "version_major": 2,
       "version_minor": 0
      },
      "text/plain": [
       "FloatProgress(value=0.0, bar_style='info', description='Progress:', layout=Layout(height='25px', width='50%'),…"
      ]
     },
     "metadata": {},
     "output_type": "display_data"
    }
   ],
   "source": [
    "stop_id_to_stop = stops.select('stop_id', 'stop_name')\n",
    "stop_id_to_stop_dict = stop_id_to_stop.toPandas().set_index('stop_id').to_dict()['stop_name']\n",
    "\n",
    "route_id_to_route_name = routes.withColumn('route_name', F.concat(F.col('route_desc'), F.lit(' '), F.col('route_short_name')))\\\n",
    "                               .select('route_id', 'route_desc', 'route_short_name', 'route_name')\n",
    "route_id_to_route_name_dict = route_id_to_route_name.toPandas().set_index('route_id').to_dict()['route_name']\n",
    "route_id_to_route_name_dict['walking'] = 'Walk'"
   ]
  },
  {
   "cell_type": "code",
   "execution_count": 22,
   "metadata": {},
   "outputs": [
    {
     "data": {
      "application/vnd.jupyter.widget-view+json": {
       "model_id": "",
       "version_major": 2,
       "version_minor": 0
      },
      "text/plain": [
       "FloatProgress(value=0.0, bar_style='info', description='Progress:', layout=Layout(height='25px', width='50%'),…"
      ]
     },
     "metadata": {},
     "output_type": "display_data"
    }
   ],
   "source": [
    "# This cell is for generating best k paths\n",
    "def minutes_to_timestamp(minutes):\n",
    "    return str(minutes // 60) + ':' + str(minutes % 60).zfill(2)\n",
    "\n",
    "def select_next(time, paths_from_next_stop):\n",
    "    rev = paths_from_next_stop[::-1]\n",
    "    \n",
    "    for i in rev:\n",
    "        if (i[0] >= time):\n",
    "            return i\n",
    "    \n",
    "    return (None, None, None, None , [])\n",
    "\n",
    "def generate_best_k_paths(k_paths, start_stop, k):\n",
    "    l = k_paths[start_stop]\n",
    "    nbre_paths = k\n",
    "    \n",
    "    if (l == None):\n",
    "        return None\n",
    "    \n",
    "    if(len(l) < k):\n",
    "        nbre_paths = len(l)\n",
    "    \n",
    "    possible = l[::-1][0:nbre_paths]\n",
    "    \n",
    "    roads = []\n",
    "    for p in possible:\n",
    "        start_stop_ = start_stop\n",
    "        time, next_stop, route_id, duration, stops = p\n",
    "        journey = []\n",
    "        i = 1\n",
    "        while next_stop != start_stop_:\n",
    "            journey.append(\n",
    "                (i, start_stop_, next_stop, route_id, time, duration, stops)\n",
    "            )\n",
    "            \n",
    "            start_stop_ = next_stop\n",
    "            i += 1\n",
    "            \n",
    "            paths_from_next_stop = k_paths[next_stop]\n",
    "            m = select_next(time + duration, paths_from_next_stop)\n",
    "            \n",
    "            if (m[0] != None):\n",
    "                time, next_stop, route_id, duration, stops = m\n",
    "        \n",
    "        roads.append(journey)\n",
    "        \n",
    "    return roads"
   ]
  },
  {
   "cell_type": "code",
   "execution_count": 23,
   "metadata": {},
   "outputs": [
    {
     "data": {
      "application/vnd.jupyter.widget-view+json": {
       "model_id": "",
       "version_major": 2,
       "version_minor": 0
      },
      "text/plain": [
       "FloatProgress(value=0.0, bar_style='info', description='Progress:', layout=Layout(height='25px', width='50%'),…"
      ]
     },
     "metadata": {},
     "output_type": "display_data"
    }
   ],
   "source": [
    "g = generate_best_k_paths(all_roads, '8591250', 4 )"
   ]
  },
  {
   "cell_type": "code",
   "execution_count": 24,
   "metadata": {},
   "outputs": [
    {
     "data": {
      "application/vnd.jupyter.widget-view+json": {
       "model_id": "",
       "version_major": 2,
       "version_minor": 0
      },
      "text/plain": [
       "FloatProgress(value=0.0, bar_style='info', description='Progress:', layout=Layout(height='25px', width='50%'),…"
      ]
     },
     "metadata": {},
     "output_type": "display_data"
    },
    {
     "name": "stdout",
     "output_type": "stream",
     "text": [
      "[(1, '8591250', u'8591118', 'walking', 1154, 7, [u'8591250', u'8591118']), (2, u'8591118', u'8591307', u'26-32-j19-1', 1163, 6, [u'8591118', u'8591160', u'8591285', u'8591086', u'8591307']), (3, u'8591307', u'8588078', u'26-11-A-j19-1', 1172, 11, [u'8591307', u'8591101', u'8591246', u'8591335', u'8591324', u'8591298', u'8591373', u'8591174', u'8588078']), (4, u'8588078', '8591221', u'26-31-j19-1', 1185, 11, [u'8588078', u'8591287', u'8591239', u'8591375', u'8530813', u'8591364', u'8530812', u'8591137', u'8591233', '8591221'])]"
     ]
    }
   ],
   "source": [
    "g[0]"
   ]
  },
  {
   "cell_type": "code",
   "execution_count": 18,
   "metadata": {},
   "outputs": [
    {
     "data": {
      "application/vnd.jupyter.widget-view+json": {
       "model_id": "",
       "version_major": 2,
       "version_minor": 0
      },
      "text/plain": [
       "FloatProgress(value=0.0, bar_style='info', description='Progress:', layout=Layout(height='25px', width='50%'),…"
      ]
     },
     "metadata": {},
     "output_type": "display_data"
    }
   ],
   "source": [
    "def pretty_print_journey(journey):\n",
    "    if journey == None:\n",
    "        return \"No possible second best path\"\n",
    "    journey_str = '\\n'.join([\"%s : %s\\n|\\n| %s (%s min) %s\\n|\\n%s : %s\\n\" % segment for segment in journey])\n",
    "    return journey_str"
   ]
  },
  {
   "cell_type": "code",
   "execution_count": 19,
   "metadata": {},
   "outputs": [
    {
     "data": {
      "application/vnd.jupyter.widget-view+json": {
       "model_id": "",
       "version_major": 2,
       "version_minor": 0
      },
      "text/plain": [
       "FloatProgress(value=0.0, bar_style='info', description='Progress:', layout=Layout(height='25px', width='50%'),…"
      ]
     },
     "metadata": {},
     "output_type": "display_data"
    },
    {
     "name": "stdout",
     "output_type": "stream",
     "text": [
      "19:14 : Zürich, Lerchenrain\n",
      "|\n",
      "| Walk (7 min) \n",
      "|\n",
      "19:21 : Zürich, Einfangstrasse\n",
      "\n",
      "19:23 : Zürich, Einfangstrasse\n",
      "|\n",
      "| Bus 32 (6 min) Ride 5 stops\n",
      "|\n",
      "19:29 : Zürich, Radiostudio\n",
      "\n",
      "19:32 : Zürich, Radiostudio\n",
      "|\n",
      "| Tram 11 (11 min) Ride 9 stops\n",
      "|\n",
      "19:43 : Zürich, Central\n",
      "\n",
      "19:45 : Zürich, Central\n",
      "|\n",
      "| Bus 31 (11 min) Ride 10 stops\n",
      "|\n",
      "19:56 : Zürich, Kapfstrasse\n",
      "\n",
      "**************************\n",
      "19:10 : Zürich, Lerchenrain\n",
      "|\n",
      "| Walk (6 min) \n",
      "|\n",
      "19:16 : Zürich, Lerchenhalde\n",
      "\n",
      "19:18 : Zürich, Lerchenhalde\n",
      "|\n",
      "| Bus 80 (2 min) Ride 2 stops\n",
      "|\n",
      "19:20 : Zürich, ETH Hönggerberg\n",
      "\n",
      "19:24 : Zürich, ETH Hönggerberg\n",
      "|\n",
      "| Bus 69 (8 min) Ride 8 stops\n",
      "|\n",
      "19:32 : Zürich, Bucheggplatz\n",
      "\n",
      "19:34 : Zürich, Bucheggplatz\n",
      "|\n",
      "| Tram 11 (9 min) Ride 8 stops\n",
      "|\n",
      "19:43 : Zürich, Central\n",
      "\n",
      "19:45 : Zürich, Central\n",
      "|\n",
      "| Bus 31 (11 min) Ride 10 stops\n",
      "|\n",
      "19:56 : Zürich, Kapfstrasse\n",
      "\n",
      "**************************\n",
      "19:05 : Zürich, Lerchenrain\n",
      "|\n",
      "| Walk (10 min) \n",
      "|\n",
      "19:15 : Zürich, Schumacherweg\n",
      "\n",
      "19:17 : Zürich, Schumacherweg\n",
      "|\n",
      "| Bus 80 (3 min) Ride 3 stops\n",
      "|\n",
      "19:20 : Zürich, ETH Hönggerberg\n",
      "\n",
      "19:24 : Zürich, ETH Hönggerberg\n",
      "|\n",
      "| Bus 69 (8 min) Ride 8 stops\n",
      "|\n",
      "19:32 : Zürich, Bucheggplatz\n",
      "\n",
      "19:34 : Zürich, Bucheggplatz\n",
      "|\n",
      "| Tram 11 (9 min) Ride 8 stops\n",
      "|\n",
      "19:43 : Zürich, Central\n",
      "\n",
      "19:45 : Zürich, Central\n",
      "|\n",
      "| Bus 31 (11 min) Ride 10 stops\n",
      "|\n",
      "19:56 : Zürich, Kapfstrasse\n",
      "\n",
      "**************************\n",
      "19:04 : Zürich, Lerchenrain\n",
      "|\n",
      "| Bus 37 (1 min) Ride 2 stops\n",
      "|\n",
      "19:05 : Zürich, Schauenberg\n",
      "\n",
      "19:13 : Zürich, Schauenberg\n",
      "|\n",
      "| Walk (7 min) \n",
      "|\n",
      "19:20 : Zürich, Zehntenhausplatz\n",
      "\n",
      "19:22 : Zürich, Zehntenhausplatz\n",
      "|\n",
      "| Bus 32 (7 min) Ride 6 stops\n",
      "|\n",
      "19:29 : Zürich, Radiostudio\n",
      "\n",
      "19:32 : Zürich, Radiostudio\n",
      "|\n",
      "| Tram 11 (11 min) Ride 9 stops\n",
      "|\n",
      "19:43 : Zürich, Central\n",
      "\n",
      "19:45 : Zürich, Central\n",
      "|\n",
      "| Bus 31 (11 min) Ride 10 stops\n",
      "|\n",
      "19:56 : Zürich, Kapfstrasse\n",
      "\n",
      "**************************"
     ]
    }
   ],
   "source": [
    "for i in g:\n",
    "    print(pretty_print_journey(i))\n",
    "    print(\"**************************\")"
   ]
  },
  {
   "cell_type": "code",
   "execution_count": null,
   "metadata": {},
   "outputs": [],
   "source": [
    "m = all_roads['8591250']\n",
    "time, next_stop, route_id, duration, stops = select_next(4, m)"
   ]
  },
  {
   "cell_type": "code",
   "execution_count": null,
   "metadata": {},
   "outputs": [],
   "source": [
    "stops"
   ]
  },
  {
   "cell_type": "markdown",
   "metadata": {},
   "source": [
    "## Send to local"
   ]
  },
  {
   "cell_type": "markdown",
   "metadata": {},
   "source": [
    "Send transfer dataframe to local"
   ]
  },
  {
   "cell_type": "code",
   "execution_count": null,
   "metadata": {},
   "outputs": [],
   "source": [
    "%%spark -o next_transfer_df -n -1"
   ]
  },
  {
   "cell_type": "code",
   "execution_count": null,
   "metadata": {},
   "outputs": [],
   "source": [
    "%%local\n",
    "next_transfer_df.head()"
   ]
  },
  {
   "cell_type": "markdown",
   "metadata": {},
   "source": [
    "Reconstruct a dict for transfers to keep old code"
   ]
  },
  {
   "cell_type": "code",
   "execution_count": null,
   "metadata": {},
   "outputs": [],
   "source": [
    "%%local\n",
    "next_transfer = {e[0]: tuple(e[1:]) for e in next_transfer_df.to_numpy()}"
   ]
  },
  {
   "cell_type": "markdown",
   "metadata": {},
   "source": [
    "Send route id to route name mapping to local"
   ]
  },
  {
   "cell_type": "code",
   "execution_count": null,
   "metadata": {},
   "outputs": [],
   "source": [
    "%%spark -o route_id_to_route_name -n -1\n",
    "route_id_to_route_name = routes.withColumn('route_name', F.concat(F.col('route_desc'), F.lit(' '), F.col('route_short_name')))\\\n",
    "                               .select('route_id', 'route_desc', 'route_short_name', 'route_name')"
   ]
  },
  {
   "cell_type": "code",
   "execution_count": null,
   "metadata": {},
   "outputs": [],
   "source": [
    "%%local\n",
    "route_id_to_route_name_dict = route_id_to_route_name.set_index('route_id').to_dict()['route_name']\n",
    "route_id_to_route_name_dict['walking'] = 'walk'"
   ]
  },
  {
   "cell_type": "markdown",
   "metadata": {},
   "source": [
    "Send stop id to stop name mapping to local"
   ]
  },
  {
   "cell_type": "code",
   "execution_count": null,
   "metadata": {},
   "outputs": [],
   "source": [
    "%%spark -o stop_id_to_stop -n -1\n",
    "stop_id_to_stop = stops.select('stop_id', 'stop_name')"
   ]
  },
  {
   "cell_type": "code",
   "execution_count": null,
   "metadata": {},
   "outputs": [],
   "source": [
    "%%local\n",
    "stop_id_to_stop_dict = stop_id_to_stop.set_index('stop_id').to_dict()['stop_name']"
   ]
  },
  {
   "cell_type": "markdown",
   "metadata": {},
   "source": [
    "## Reconstruct path and pretty print"
   ]
  },
  {
   "cell_type": "code",
   "execution_count": null,
   "metadata": {},
   "outputs": [],
   "source": [
    "%%local\n",
    "def minutes_to_timestamp(minutes):\n",
    "    return str(minutes // 60) + ':' + str(minutes % 60).zfill(2)\n",
    "    \n",
    "    \n",
    "def reconstruct_journey(next_transfer, start_stop):\n",
    "    time, next_stop, route_id, duration, stop_seq = next_transfer[start_stop]\n",
    "    journey = []\n",
    "    while next_stop != start_stop:\n",
    "        journey.append(\n",
    "            (minutes_to_timestamp(time),\n",
    "             stop_id_to_stop_dict[start_stop], \n",
    "             route_id_to_route_name_dict[route_id],\n",
    "             duration,\n",
    "             'Ride %d stops' % (len(stop_seq)-1),\n",
    "             minutes_to_timestamp(time + duration),\n",
    "             stop_id_to_stop_dict[next_stop])\n",
    "        )\n",
    "        \n",
    "        start_stop = next_stop\n",
    "        time, next_stop, route_id, duration, stop_seq = next_transfer[next_stop]\n",
    "    return journey\n",
    "\n",
    "\n",
    "def pretty_print_journey(journey):\n",
    "    journey_str = '\\n'.join([\"%s : %s\\n|\\n| %s (%s min) %s\\n|\\n%s : %s\\n\" % segment for segment in journey])\n",
    "    return journey_str"
   ]
  },
  {
   "cell_type": "code",
   "execution_count": null,
   "metadata": {},
   "outputs": [],
   "source": [
    "%%local\n",
    "print(pretty_print_journey(reconstruct_journey(next_transfer, '8590883'))) # almost same as sbb"
   ]
  },
  {
   "cell_type": "code",
   "execution_count": null,
   "metadata": {},
   "outputs": [],
   "source": [
    "%%local\n",
    "print(pretty_print_journey(reconstruct_journey(next_transfer, '8591353'))) # almost same as sbb"
   ]
  },
  {
   "cell_type": "code",
   "execution_count": null,
   "metadata": {},
   "outputs": [],
   "source": [
    "%%local\n",
    "print(pretty_print_journey(reconstruct_journey(next_transfer, '8590788'))) # not in sbb"
   ]
  },
  {
   "cell_type": "code",
   "execution_count": null,
   "metadata": {},
   "outputs": [],
   "source": [
    "%%local\n",
    "print(pretty_print_journey(reconstruct_journey(next_transfer, '8591368'))) # Correct"
   ]
  },
  {
   "cell_type": "code",
   "execution_count": null,
   "metadata": {},
   "outputs": [],
   "source": []
  }
 ],
 "metadata": {
  "kernelspec": {
   "display_name": "PySpark",
   "language": "python",
   "name": "pysparkkernel"
  },
  "language_info": {
   "codemirror_mode": {
    "name": "python",
    "version": 3
   },
   "file_extension": ".py",
   "mimetype": "text/x-python",
   "name": "pyspark",
   "pygments_lexer": "python3"
  }
 },
 "nbformat": 4,
 "nbformat_minor": 4
}
