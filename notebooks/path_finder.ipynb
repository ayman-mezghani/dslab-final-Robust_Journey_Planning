{
 "cells": [
  {
   "cell_type": "markdown",
   "metadata": {},
   "source": [
    "# Path Finder"
   ]
  },
  {
   "cell_type": "markdown",
   "metadata": {},
   "source": [
    "## Setup Spark environment"
   ]
  },
  {
   "cell_type": "code",
   "execution_count": null,
   "metadata": {},
   "outputs": [],
   "source": [
    "%%local\n",
    "import os\n",
    "username = os.environ['JUPYTERHUB_USER']\n",
    "get_ipython().run_cell_magic('configure', line=\"-f\", cell='{ \"name\":\"%s-final-path-finder\", \"executorMemory\":\"4G\", \"executorCores\":4, \"numExecutors\":10, \"driverMemory\": \"4G\" }' % username)"
   ]
  },
  {
   "cell_type": "code",
   "execution_count": null,
   "metadata": {},
   "outputs": [],
   "source": [
    "%%send_to_spark -i username -t str -n username"
   ]
  },
  {
   "cell_type": "code",
   "execution_count": null,
   "metadata": {},
   "outputs": [],
   "source": [
    "import pyspark.sql.functions as F\n",
    "from pyspark.sql.types import *"
   ]
  },
  {
   "cell_type": "markdown",
   "metadata": {},
   "source": [
    "## Import data from HDFS"
   ]
  },
  {
   "cell_type": "code",
   "execution_count": null,
   "metadata": {},
   "outputs": [],
   "source": [
    "routes = spark.read.csv('/data/sbb/csv/timetable/routes/2019/05/07/routes.csv', header=True )\n",
    "stops = spark.read.orc('/data/sbb/orc/geostops')"
   ]
  },
  {
   "cell_type": "code",
   "execution_count": null,
   "metadata": {},
   "outputs": [],
   "source": [
    "walking_edges = spark.read.parquet('/user/%s/final/parquet/walking_edges' % username)\n",
    "transport_edges = spark.read.parquet('/user/%s/final/parquet/transport_edges' % username)"
   ]
  },
  {
   "cell_type": "markdown",
   "metadata": {},
   "source": [
    "## Shortest paths"
   ]
  },
  {
   "cell_type": "code",
   "execution_count": null,
   "metadata": {},
   "outputs": [],
   "source": [
    "inward_walking_edges = walking_edges.groupby('end_vertex').agg({'start_vertex': 'collect_set'})\\\n",
    "                                                              .withColumnRenamed('collect_set(start_vertex)', 'start_vertices')\\\n",
    "                                                              .toPandas().set_index('end_vertex').to_dict()['start_vertices']"
   ]
  },
  {
   "cell_type": "code",
   "execution_count": null,
   "metadata": {},
   "outputs": [],
   "source": [
    "walking_edge_duration = walking_edges.withColumn('key', F.struct(F.col('start_vertex'), F.col('end_vertex')))\\\n",
    "                                     .toPandas()\\\n",
    "                                     .set_index('key')\\\n",
    "                                     .to_dict()['duration']"
   ]
  },
  {
   "cell_type": "code",
   "execution_count": null,
   "metadata": {},
   "outputs": [],
   "source": [
    "edges = transport_edges.filter('weekday == \"monday\"')"
   ]
  },
  {
   "cell_type": "code",
   "execution_count": null,
   "metadata": {},
   "outputs": [],
   "source": [
    "# This function assumes a (spark) dataframe with columns 'start_vertex', 'end_vertex', 'start_time', 'duration', 'route_id' \n",
    "# edges is a dataframe that represents the edges of the graph, \n",
    "# edges should be sorted by order of descending starting time\n",
    "# inward_walking_edges is a map route_id -> list(route_id), representing the nodes from which we can walk to a given node\n",
    "# walking_edge_duration is a map (route_id, route_id) -> float, representing the duration of the walk\n",
    "# end_time should be in the format 'HH:MM'\n",
    "def latest_departure_paths(edges, end_stop, end_time, inward_walking_edges, walking_edge_duration):\n",
    "    \n",
    "    # This function computes whether edge (u, v, t, dur, route_id) can be taken\n",
    "    # returns update to node u if possible, and None otherwise\n",
    "    def edge_valid(u, v, time, dur, route_id):\n",
    "        \n",
    "        cur_best = next_transfer.get(u)\n",
    "        next_edge = next_transfer.get(v)\n",
    "        \n",
    "        if next_edge: # needs to be defined\n",
    "            time_v, next_v, route_id_v, dur_v, seq_v = next_edge\n",
    "            \n",
    "            if route_id == 'walking':\n",
    "                if  route_id_v == 'walking' and dur_v + dur <= max_walking_time:\n",
    "                    time = time_v - dur - transfer_time\n",
    "                    if (not cur_best) or time > cur_best[0]:\n",
    "                        return (time, next_v, route_id, dur + dur_v, [u] + seq_v)\n",
    "                elif route_id_v != 'walking':\n",
    "                    time = time_v - dur - transfer_time\n",
    "                    if (not cur_best) or time > cur_best[0]:\n",
    "                        return (time, v, route_id, dur, [u, v])\n",
    "                      \n",
    "            \n",
    "            elif (route_id == route_id_v or v == end_stop) and time + duration <= time_v: # same route or last_stop\n",
    "                if (not cur_best) or time > cur_best[0]: # can we improve\n",
    "                    return (time, next_v, route_id, dur + dur_v, [u] + seq_v)\n",
    "            \n",
    "            \n",
    "            elif time + duration + transfer_time <= time_v: # transfer at node_v\n",
    "                if (not cur_best) or time > cur_best[0]:\n",
    "                    return (time, v, route_id, dur, [u, v]) \n",
    "        \n",
    "        # In any other case no update can be made\n",
    "        return None\n",
    "                \n",
    "    def time_to_minutes(timestamp):\n",
    "        return int(timestamp[:2]) * 60 + int(timestamp[3:5])\n",
    "    \n",
    "    transfer_time = 2 # at least 2 minutes to transfer\n",
    "    max_walking_time = 10\n",
    "\n",
    "    next_transfer = {} # stores for each node u the node v \n",
    "                       # where the next transfer happens format (departure_time, v, route_id to v, duration)\n",
    "    all_roads = {}\n",
    "    end_time = time_to_minutes(end_time)\n",
    "    start_time = end_time - 120 # look only at edges departing at most 2 hours before end_time\n",
    "    \n",
    "    next_transfer[end_stop] = (end_time, end_stop, None, 0, [end_stop])\n",
    "    all_roads[end_stop] = [(end_time, end_stop, None, 0, [end_stop])]\n",
    "\n",
    "    edges = edges.filter(F.col('start_time').between(start_time, end_time)).toPandas().sort_values(by=['start_time'], ascending=False).to_numpy()\n",
    "\n",
    "    for row in edges:\n",
    "        \n",
    "        start_vertex, end_vertex, start, duration, route_id = row[:5]\n",
    "        \n",
    "        update = edge_valid(start_vertex, end_vertex, start, duration, route_id)\n",
    "        if update:\n",
    "            if(all_roads.get(start_vertex) != None):    \n",
    "                all_roads[start_vertex].append(update)\n",
    "            elif (all_roads.get(start_vertex) == None):\n",
    "                all_roads[start_vertex] = [update]\n",
    "                \n",
    "            next_transfer[start_vertex] = update\n",
    "                    \n",
    "            w_start_vertex = start_vertex\n",
    "            for w_end_vertex in inward_walking_edges.get(w_start_vertex, []):\n",
    "                duration = walking_edge_duration[(w_start_vertex, w_end_vertex)]\n",
    "                w_start = start \n",
    "                update = edge_valid(w_start_vertex, w_end_vertex, w_start, duration, 'walking')\n",
    "                if update:\n",
    "                    if(all_roads.get(w_start_vertex) != None):\n",
    "                        all_roads[w_start_vertex].append(update)\n",
    "                    elif (all_roads.get(start_vertex) == None):\n",
    "                        all_roads[w_start_vertex] = [update]\n",
    "                    \n",
    "                    next_transfer[w_start_vertex] = update\n",
    "\n",
    "    return all_roads"
   ]
  },
  {
   "cell_type": "code",
   "execution_count": null,
   "metadata": {},
   "outputs": [],
   "source": [
    "import time\n",
    "start = time.time()\n",
    "all_roads = latest_departure_paths(edges, '8591221', '20:00', inward_walking_edges, walking_edge_duration)\n",
    "end = time.time() \n",
    "print(end - start)"
   ]
  },
  {
   "cell_type": "code",
   "execution_count": null,
   "metadata": {},
   "outputs": [],
   "source": [
    "# This cell is for generating best k paths\n",
    "def select_next(time, paths_from_next_stop):\n",
    "    rev = paths_from_next_stop[::-1]\n",
    "    \n",
    "    for i in rev:\n",
    "        if (i[0] >= time):\n",
    "            return i\n",
    "    \n",
    "    return (None, None, None, None , [])\n",
    "\n",
    "def generate_best_k_paths(k_paths, start_stop, k):\n",
    "    l = k_paths[start_stop]\n",
    "    nbre_paths = k\n",
    "    \n",
    "    if (l == None):\n",
    "        return None\n",
    "    \n",
    "    if(len(l) < k):\n",
    "        nbre_paths = len(l)\n",
    "    \n",
    "    possible = l[::-1][0:nbre_paths]\n",
    "    \n",
    "    roads = []\n",
    "    for p in possible:\n",
    "        start_stop_ = start_stop\n",
    "        time, next_stop, route_id, duration, stops = p\n",
    "        journey = []\n",
    "        i = 1\n",
    "        while next_stop != start_stop_:\n",
    "            journey.append(\n",
    "                (i, start_stop_, next_stop, route_id, time, duration, stops)\n",
    "            )\n",
    "            \n",
    "            start_stop_ = next_stop\n",
    "            i += 1\n",
    "            \n",
    "            paths_from_next_stop = k_paths[next_stop]\n",
    "            m = select_next(time + duration, paths_from_next_stop)\n",
    "            \n",
    "            if (m[0] != None):\n",
    "                time, next_stop, route_id, duration, stops = m\n",
    "        \n",
    "        roads.append(journey)\n",
    "        \n",
    "    return roads"
   ]
  },
  {
   "cell_type": "code",
   "execution_count": null,
   "metadata": {},
   "outputs": [],
   "source": [
    "best_k_paths = generate_best_k_paths(all_roads, '8591250', 4 )"
   ]
  },
  {
   "cell_type": "code",
   "execution_count": null,
   "metadata": {},
   "outputs": [],
   "source": [
    "def journey_to_df(journey_list):\n",
    "    arr = []\n",
    "    journey_number = 0\n",
    "    for journey in journey_list:\n",
    "        journey_number += 1\n",
    "        arr = arr + [(journey_number,) + seg for seg in journey]\n",
    "    \n",
    "    schema = StructType([\n",
    "        StructField(\"journey_number\", IntegerType(), True),\n",
    "        StructField(\"segment_number\", IntegerType(), True),\n",
    "        StructField(\"start_vertex\", StringType(), True),\n",
    "        StructField(\"end_vertex\", StringType(), True),\n",
    "        StructField(\"route_id\", StringType(), True),\n",
    "        StructField(\"departure_time\", StringType(), True),\n",
    "        StructField(\"duration\", StringType(), True),\n",
    "        StructField(\"stop_seq\", ArrayType(StringType()), True)\n",
    "    ])\n",
    "    \n",
    "    journey_df = spark.createDataFrame(arr, schema)\n",
    "    \n",
    "    return journey_df"
   ]
  },
  {
   "cell_type": "code",
   "execution_count": null,
   "metadata": {},
   "outputs": [],
   "source": [
    "journey_df = journey_to_df(best_k_paths)"
   ]
  },
  {
   "cell_type": "code",
   "execution_count": null,
   "metadata": {},
   "outputs": [],
   "source": [
    "journey_df.show()"
   ]
  },
  {
   "cell_type": "markdown",
   "metadata": {},
   "source": [
    "## Send to local"
   ]
  },
  {
   "cell_type": "code",
   "execution_count": null,
   "metadata": {},
   "outputs": [],
   "source": [
    "%%spark -o journey_df -n -1"
   ]
  },
  {
   "cell_type": "code",
   "execution_count": null,
   "metadata": {},
   "outputs": [],
   "source": [
    "%%local\n",
    "journey_df['start_vertex'] = journey_df.start_vertex.astype(str)\n",
    "journey_df['end_vertex'] = journey_df.end_vertex.astype(str)"
   ]
  },
  {
   "cell_type": "code",
   "execution_count": null,
   "metadata": {},
   "outputs": [],
   "source": [
    "%%spark -o stop_id_to_stop -n -1\n",
    "stop_id_to_stop = stops.select('stop_id', 'stop_name')"
   ]
  },
  {
   "cell_type": "code",
   "execution_count": null,
   "metadata": {},
   "outputs": [],
   "source": [
    "%%spark -o stop_id_to_lon -n -1\n",
    "stop_id_to_lon = stops.select('stop_id', 'stop_lon')"
   ]
  },
  {
   "cell_type": "code",
   "execution_count": null,
   "metadata": {},
   "outputs": [],
   "source": [
    "%%spark -o stop_id_to_lat -n -1\n",
    "stop_id_to_lat = stops.select('stop_id', 'stop_lat')"
   ]
  },
  {
   "cell_type": "code",
   "execution_count": null,
   "metadata": {},
   "outputs": [],
   "source": [
    "%%spark -o route_id_to_route_name -n -1\n",
    "route_id_to_route_name = routes.withColumn('route_name', F.concat(F.col('route_desc'), F.lit(' '), F.col('route_short_name')))\\\n",
    "                               .select('route_id', 'route_desc', 'route_short_name', 'route_name')"
   ]
  },
  {
   "cell_type": "markdown",
   "metadata": {},
   "source": [
    "## Display results"
   ]
  },
  {
   "cell_type": "code",
   "execution_count": null,
   "metadata": {},
   "outputs": [],
   "source": [
    "%%local\n",
    "stop_id_to_stop_dict = stop_id_to_stop.set_index('stop_id').to_dict()['stop_name']\n",
    "\n",
    "stop_id_to_lon_dict = stop_id_to_lon.set_index('stop_id').to_dict()['stop_lon']\n",
    "stop_id_to_lat_dict = stop_id_to_lat.set_index('stop_id').to_dict()['stop_lat']\n",
    "\n",
    "route_id_to_route_name_dict = route_id_to_route_name.set_index('route_id').to_dict()['route_name']\n",
    "route_id_to_route_name_dict['walking'] = 'Walk'"
   ]
  },
  {
   "cell_type": "code",
   "execution_count": null,
   "metadata": {},
   "outputs": [],
   "source": [
    "%%local\n",
    "def minutes_to_timestamp(minutes):\n",
    "    if minutes < 60:\n",
    "        return str(minutes)\n",
    "    return str(minutes // 60) + ':' + str(minutes % 60).zfill(2)"
   ]
  },
  {
   "cell_type": "markdown",
   "metadata": {},
   "source": [
    "### Print paths"
   ]
  },
  {
   "cell_type": "code",
   "execution_count": null,
   "metadata": {},
   "outputs": [],
   "source": [
    "%%local\n",
    "def pretty_print_journey(journey):\n",
    "    journey_str = '\\n'.join([\"%s : %s\\n|\\n| %s (%s min)\\n| %s\\n|\\n%s : %s\\n\" % (minutes_to_timestamp(time), \n",
    "                                                                             stop_id_to_stop_dict[start],\n",
    "                                                                             route_id_to_route_name_dict[route_id],\n",
    "                                                                             minutes_to_timestamp(duration),\n",
    "                                                                             ' -> '.join([stop_id_to_stop_dict[s] for s in stops]) if route_id != 'walking' else '',\n",
    "                                                                             minutes_to_timestamp(time + duration),\n",
    "                                                                             stop_id_to_stop_dict[end]) for _, start, end, route_id, time, duration, stops in journey])\n",
    "    return journey_str"
   ]
  },
  {
   "cell_type": "code",
   "execution_count": null,
   "metadata": {},
   "outputs": [],
   "source": [
    "%%local\n",
    "def journeys_to_str(df):\n",
    "    if len(df) == 0:\n",
    "        return \"No possible path\"\n",
    "    \n",
    "    n = df['journey_number'].unique()\n",
    "\n",
    "    res = []\n",
    "    for i in sorted(n):\n",
    "        segment_list = sorted(df[df.journey_number == i].values[:,1:], key = lambda e: e[0])\n",
    "        res.append(pretty_print_journey(segment_list))\n",
    "    return '\\n******************************\\n'.join(res)"
   ]
  },
  {
   "cell_type": "code",
   "execution_count": null,
   "metadata": {},
   "outputs": [],
   "source": [
    "%%local\n",
    "print(journeys_to_str(journey_df))"
   ]
  },
  {
   "cell_type": "markdown",
   "metadata": {},
   "source": [
    "### Map visualization"
   ]
  },
  {
   "cell_type": "code",
   "execution_count": null,
   "metadata": {},
   "outputs": [],
   "source": [
    "%%local\n",
    "import matplotlib.pyplot as plt\n",
    "\n",
    "def get_cmap(n, name='hsv'):\n",
    "    '''Returns a function that maps each index in 0, 1, ..., n-1 to a distinct \n",
    "    RGB color; the keyword argument name must be a standard mpl colormap name.'''\n",
    "    return plt.cm.get_cmap(name, n)"
   ]
  },
  {
   "cell_type": "code",
   "execution_count": null,
   "metadata": {},
   "outputs": [],
   "source": [
    "%%local\n",
    "import plotly.graph_objects as go\n",
    "from matplotlib.colors import rgb2hex\n",
    "from ipywidgets import interact\n",
    "\n",
    "def map_plot():\n",
    "    fig = go.Figure()\n",
    "\n",
    "    fig.add_trace(go.Scattermapbox(\n",
    "    ))\n",
    "\n",
    "    fig.update_layout(\n",
    "        autosize=True,\n",
    "        hovermode='closest',\n",
    "        mapbox=dict(\n",
    "            style='carto-positron',\n",
    "            # style='open-street-map',\n",
    "            bearing=0,\n",
    "            center=dict(\n",
    "                lat=47.378177,\n",
    "                lon=8.540192\n",
    "            ),\n",
    "            pitch=0,\n",
    "            zoom=12\n",
    "        ),\n",
    "        height=900,\n",
    "        width=1200\n",
    "    )\n",
    "\n",
    "    return fig"
   ]
  },
  {
   "cell_type": "code",
   "execution_count": null,
   "metadata": {},
   "outputs": [],
   "source": [
    "%%local\n",
    "\n",
    "fig = map_plot()\n",
    "stream_fig = go.FigureWidget(fig)\n",
    "stream_data = stream_fig.data\n",
    "\n",
    "@interact(path_number=journey_df.journey_number.unique())\n",
    "def show_path(path_number):\n",
    "    df=journey_df\n",
    "\n",
    "    if len(df) == 0:\n",
    "        return\n",
    "\n",
    "    n = df['journey_number'].unique()\n",
    "\n",
    "    cmap = get_cmap(max(n)+1)\n",
    "    color = rgb2hex(cmap(path_number-1))\n",
    "\n",
    "    journey = sorted(df[df.journey_number == path_number].values[:,1:], key = lambda e: e[0])        \n",
    "        \n",
    "    stops_per_segment = [seg[-1] for seg in journey]\n",
    "    \n",
    "    stops_per_segment_no_duplicates = [stops_per_segment[0]] + [ss[1:] for ss in stops_per_segment[1:]]\n",
    "\n",
    "    stops = [item for sublist in stops_per_segment_no_duplicates for item in sublist]\n",
    "    \n",
    "    lats = [stop_id_to_lat_dict[s] for s in stops]\n",
    "    lons = [stop_id_to_lon_dict[s] for s in stops]\n",
    "    \n",
    "    with stream_fig.batch_update():\n",
    "        stream_fig.data = stream_fig.data[:1]\n",
    "        stream_fig.update_layout(mapbox_center=dict(lat= sum(lats)/len(lats), lon= sum(lons)/len(lons)))\n",
    "    \n",
    "    \n",
    "    stops_per_route = [(seg[3], seg[-1]) for seg in journey]\n",
    "    \n",
    "    for route_id, stops in stops_per_route:\n",
    "        stop_names = [stop_id_to_stop_dict[s] for s in stops]\n",
    "        with stream_fig.batch_update():\n",
    "            stream_fig.add_trace(go.Scattermapbox(\n",
    "                lat=[stop_id_to_lat_dict[s] for s in stops],\n",
    "                lon=[stop_id_to_lon_dict[s] for s in stops],\n",
    "                mode='lines+markers',\n",
    "                marker=go.scattermapbox.Marker(\n",
    "                    size=6,\n",
    "                ),\n",
    "                opacity=1,\n",
    "                hovertext=stop_names,\n",
    "                name=route_id_to_route_name_dict[route_id],\n",
    "                hoverinfo=\"text+name\"\n",
    "            ))\n",
    "        \n",
    "stream_fig"
   ]
  },
  {
   "cell_type": "code",
   "execution_count": null,
   "metadata": {},
   "outputs": [],
   "source": []
  }
 ],
 "metadata": {
  "kernelspec": {
   "display_name": "PySpark",
   "language": "python",
   "name": "pysparkkernel"
  },
  "language_info": {
   "codemirror_mode": {
    "name": "python",
    "version": 3
   },
   "file_extension": ".py",
   "mimetype": "text/x-python",
   "name": "pyspark",
   "pygments_lexer": "python3"
  }
 },
 "nbformat": 4,
 "nbformat_minor": 4
}
