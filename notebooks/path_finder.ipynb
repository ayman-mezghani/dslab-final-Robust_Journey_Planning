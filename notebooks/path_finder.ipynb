{
 "cells": [
  {
   "cell_type": "markdown",
   "metadata": {},
   "source": [
    "# Path Finder"
   ]
  },
  {
   "cell_type": "markdown",
   "metadata": {},
   "source": [
    "## Setup Spark environment"
   ]
  },
  {
   "cell_type": "code",
   "execution_count": 95,
   "metadata": {},
   "outputs": [
    {
     "name": "stdout",
     "output_type": "stream",
     "text": [
      "Starting Spark application\n"
     ]
    },
    {
     "data": {
      "text/html": [
       "<table>\n",
       "<tr><th>ID</th><th>YARN Application ID</th><th>Kind</th><th>State</th><th>Spark UI</th><th>Driver log</th><th>User</th><th>Current session?</th></tr><tr><td>5499</td><td>application_1618324153128_4780</td><td>pyspark</td><td>idle</td><td><a target=\"_blank\" href=\"http://iccluster040.iccluster.epfl.ch:8088/proxy/application_1618324153128_4780/\">Link</a></td><td><a target=\"_blank\" href=\"http://iccluster067.iccluster.epfl.ch:8042/node/containerlogs/container_e01_1618324153128_4780_01_000001/ebouille\">Link</a></td><td>None</td><td>✔</td></tr></table>"
      ],
      "text/plain": [
       "<IPython.core.display.HTML object>"
      ]
     },
     "metadata": {},
     "output_type": "display_data"
    },
    {
     "data": {
      "application/vnd.jupyter.widget-view+json": {
       "model_id": "",
       "version_major": 2,
       "version_minor": 0
      },
      "text/plain": [
       "FloatProgress(value=0.0, bar_style='info', description='Progress:', layout=Layout(height='25px', width='50%'),…"
      ]
     },
     "metadata": {},
     "output_type": "display_data"
    },
    {
     "name": "stdout",
     "output_type": "stream",
     "text": [
      "SparkSession available as 'spark'.\n"
     ]
    },
    {
     "data": {
      "text/html": [
       "Current session configs: <tt>{'name': 'jellouli-final-path-finder', 'executorMemory': '4G', 'executorCores': 4, 'numExecutors': 10, 'driverMemory': '4G', 'kind': 'pyspark'}</tt><br>"
      ],
      "text/plain": [
       "<IPython.core.display.HTML object>"
      ]
     },
     "metadata": {},
     "output_type": "display_data"
    },
    {
     "data": {
      "text/html": [
       "<table>\n",
       "<tr><th>ID</th><th>YARN Application ID</th><th>Kind</th><th>State</th><th>Spark UI</th><th>Driver log</th><th>User</th><th>Current session?</th></tr><tr><td>5397</td><td>application_1618324153128_4671</td><td>pyspark</td><td>idle</td><td><a target=\"_blank\" href=\"http://iccluster040.iccluster.epfl.ch:8088/proxy/application_1618324153128_4671/\">Link</a></td><td><a target=\"_blank\" href=\"http://iccluster067.iccluster.epfl.ch:8042/node/containerlogs/container_e01_1618324153128_4671_01_000001/ebouille\">Link</a></td><td>None</td><td></td></tr><tr><td>5445</td><td>application_1618324153128_4723</td><td>pyspark</td><td>idle</td><td><a target=\"_blank\" href=\"http://iccluster040.iccluster.epfl.ch:8088/proxy/application_1618324153128_4723/\">Link</a></td><td><a target=\"_blank\" href=\"http://iccluster070.iccluster.epfl.ch:8042/node/containerlogs/container_e01_1618324153128_4723_01_000001/ebouille\">Link</a></td><td>None</td><td></td></tr><tr><td>5461</td><td>application_1618324153128_4741</td><td>pyspark</td><td>idle</td><td><a target=\"_blank\" href=\"http://iccluster040.iccluster.epfl.ch:8088/proxy/application_1618324153128_4741/\">Link</a></td><td><a target=\"_blank\" href=\"http://iccluster078.iccluster.epfl.ch:8042/node/containerlogs/container_e01_1618324153128_4741_01_000001/ebouille\">Link</a></td><td>None</td><td></td></tr><tr><td>5465</td><td>application_1618324153128_4745</td><td>pyspark</td><td>idle</td><td><a target=\"_blank\" href=\"http://iccluster040.iccluster.epfl.ch:8088/proxy/application_1618324153128_4745/\">Link</a></td><td><a target=\"_blank\" href=\"http://iccluster068.iccluster.epfl.ch:8042/node/containerlogs/container_e01_1618324153128_4745_01_000001/ebouille\">Link</a></td><td>None</td><td></td></tr><tr><td>5471</td><td>application_1618324153128_4751</td><td>pyspark</td><td>idle</td><td><a target=\"_blank\" href=\"http://iccluster040.iccluster.epfl.ch:8088/proxy/application_1618324153128_4751/\">Link</a></td><td><a target=\"_blank\" href=\"http://iccluster068.iccluster.epfl.ch:8042/node/containerlogs/container_e01_1618324153128_4751_01_000001/ebouille\">Link</a></td><td>None</td><td></td></tr><tr><td>5480</td><td>application_1618324153128_4761</td><td>pyspark</td><td>idle</td><td><a target=\"_blank\" href=\"http://iccluster040.iccluster.epfl.ch:8088/proxy/application_1618324153128_4761/\">Link</a></td><td><a target=\"_blank\" href=\"http://iccluster071.iccluster.epfl.ch:8042/node/containerlogs/container_e01_1618324153128_4761_01_000001/ebouille\">Link</a></td><td>None</td><td></td></tr><tr><td>5482</td><td>application_1618324153128_4763</td><td>pyspark</td><td>idle</td><td><a target=\"_blank\" href=\"http://iccluster040.iccluster.epfl.ch:8088/proxy/application_1618324153128_4763/\">Link</a></td><td><a target=\"_blank\" href=\"http://iccluster077.iccluster.epfl.ch:8042/node/containerlogs/container_e01_1618324153128_4763_01_000001/ebouille\">Link</a></td><td>None</td><td></td></tr><tr><td>5483</td><td>application_1618324153128_4764</td><td>pyspark</td><td>idle</td><td><a target=\"_blank\" href=\"http://iccluster040.iccluster.epfl.ch:8088/proxy/application_1618324153128_4764/\">Link</a></td><td><a target=\"_blank\" href=\"http://iccluster077.iccluster.epfl.ch:8042/node/containerlogs/container_e01_1618324153128_4764_01_000001/ebouille\">Link</a></td><td>None</td><td></td></tr><tr><td>5484</td><td>application_1618324153128_4765</td><td>pyspark</td><td>busy</td><td><a target=\"_blank\" href=\"http://iccluster040.iccluster.epfl.ch:8088/proxy/application_1618324153128_4765/\">Link</a></td><td><a target=\"_blank\" href=\"http://iccluster071.iccluster.epfl.ch:8042/node/containerlogs/container_e01_1618324153128_4765_01_000001/ebouille\">Link</a></td><td>None</td><td></td></tr><tr><td>5485</td><td>application_1618324153128_4766</td><td>pyspark</td><td>busy</td><td><a target=\"_blank\" href=\"http://iccluster040.iccluster.epfl.ch:8088/proxy/application_1618324153128_4766/\">Link</a></td><td><a target=\"_blank\" href=\"http://iccluster071.iccluster.epfl.ch:8042/node/containerlogs/container_e01_1618324153128_4766_01_000001/ebouille\">Link</a></td><td>None</td><td></td></tr><tr><td>5486</td><td>application_1618324153128_4767</td><td>pyspark</td><td>busy</td><td><a target=\"_blank\" href=\"http://iccluster040.iccluster.epfl.ch:8088/proxy/application_1618324153128_4767/\">Link</a></td><td><a target=\"_blank\" href=\"http://iccluster078.iccluster.epfl.ch:8042/node/containerlogs/container_e01_1618324153128_4767_01_000001/ebouille\">Link</a></td><td>None</td><td></td></tr><tr><td>5487</td><td>application_1618324153128_4768</td><td>pyspark</td><td>idle</td><td><a target=\"_blank\" href=\"http://iccluster040.iccluster.epfl.ch:8088/proxy/application_1618324153128_4768/\">Link</a></td><td><a target=\"_blank\" href=\"http://iccluster069.iccluster.epfl.ch:8042/node/containerlogs/container_e01_1618324153128_4768_01_000001/ebouille\">Link</a></td><td>None</td><td></td></tr><tr><td>5488</td><td>application_1618324153128_4769</td><td>pyspark</td><td>idle</td><td><a target=\"_blank\" href=\"http://iccluster040.iccluster.epfl.ch:8088/proxy/application_1618324153128_4769/\">Link</a></td><td><a target=\"_blank\" href=\"http://iccluster068.iccluster.epfl.ch:8042/node/containerlogs/container_e01_1618324153128_4769_01_000001/ebouille\">Link</a></td><td>None</td><td></td></tr><tr><td>5489</td><td>application_1618324153128_4770</td><td>pyspark</td><td>idle</td><td><a target=\"_blank\" href=\"http://iccluster040.iccluster.epfl.ch:8088/proxy/application_1618324153128_4770/\">Link</a></td><td><a target=\"_blank\" href=\"http://iccluster070.iccluster.epfl.ch:8042/node/containerlogs/container_e01_1618324153128_4770_01_000001/ebouille\">Link</a></td><td>None</td><td></td></tr><tr><td>5490</td><td>application_1618324153128_4771</td><td>pyspark</td><td>idle</td><td><a target=\"_blank\" href=\"http://iccluster040.iccluster.epfl.ch:8088/proxy/application_1618324153128_4771/\">Link</a></td><td><a target=\"_blank\" href=\"http://iccluster072.iccluster.epfl.ch:8042/node/containerlogs/container_e01_1618324153128_4771_01_000001/ebouille\">Link</a></td><td>None</td><td></td></tr><tr><td>5491</td><td>application_1618324153128_4772</td><td>pyspark</td><td>idle</td><td><a target=\"_blank\" href=\"http://iccluster040.iccluster.epfl.ch:8088/proxy/application_1618324153128_4772/\">Link</a></td><td><a target=\"_blank\" href=\"http://iccluster068.iccluster.epfl.ch:8042/node/containerlogs/container_e01_1618324153128_4772_01_000001/ebouille\">Link</a></td><td>None</td><td></td></tr><tr><td>5493</td><td>application_1618324153128_4774</td><td>pyspark</td><td>idle</td><td><a target=\"_blank\" href=\"http://iccluster040.iccluster.epfl.ch:8088/proxy/application_1618324153128_4774/\">Link</a></td><td><a target=\"_blank\" href=\"http://iccluster066.iccluster.epfl.ch:8042/node/containerlogs/container_e01_1618324153128_4774_01_000001/ebouille\">Link</a></td><td>None</td><td></td></tr><tr><td>5494</td><td>application_1618324153128_4775</td><td>pyspark</td><td>idle</td><td><a target=\"_blank\" href=\"http://iccluster040.iccluster.epfl.ch:8088/proxy/application_1618324153128_4775/\">Link</a></td><td><a target=\"_blank\" href=\"http://iccluster070.iccluster.epfl.ch:8042/node/containerlogs/container_e01_1618324153128_4775_01_000001/ebouille\">Link</a></td><td>None</td><td></td></tr><tr><td>5495</td><td>application_1618324153128_4776</td><td>pyspark</td><td>idle</td><td><a target=\"_blank\" href=\"http://iccluster040.iccluster.epfl.ch:8088/proxy/application_1618324153128_4776/\">Link</a></td><td><a target=\"_blank\" href=\"http://iccluster070.iccluster.epfl.ch:8042/node/containerlogs/container_e01_1618324153128_4776_01_000001/ebouille\">Link</a></td><td>None</td><td></td></tr><tr><td>5496</td><td>application_1618324153128_4777</td><td>pyspark</td><td>busy</td><td><a target=\"_blank\" href=\"http://iccluster040.iccluster.epfl.ch:8088/proxy/application_1618324153128_4777/\">Link</a></td><td><a target=\"_blank\" href=\"http://iccluster067.iccluster.epfl.ch:8042/node/containerlogs/container_e01_1618324153128_4777_01_000001/ebouille\">Link</a></td><td>None</td><td></td></tr><tr><td>5498</td><td>application_1618324153128_4779</td><td>pyspark</td><td>idle</td><td><a target=\"_blank\" href=\"http://iccluster040.iccluster.epfl.ch:8088/proxy/application_1618324153128_4779/\">Link</a></td><td><a target=\"_blank\" href=\"http://iccluster068.iccluster.epfl.ch:8042/node/containerlogs/container_e01_1618324153128_4779_01_000001/ebouille\">Link</a></td><td>None</td><td></td></tr><tr><td>5499</td><td>application_1618324153128_4780</td><td>pyspark</td><td>idle</td><td><a target=\"_blank\" href=\"http://iccluster040.iccluster.epfl.ch:8088/proxy/application_1618324153128_4780/\">Link</a></td><td><a target=\"_blank\" href=\"http://iccluster067.iccluster.epfl.ch:8042/node/containerlogs/container_e01_1618324153128_4780_01_000001/ebouille\">Link</a></td><td>None</td><td>✔</td></tr></table>"
      ],
      "text/plain": [
       "<IPython.core.display.HTML object>"
      ]
     },
     "metadata": {},
     "output_type": "display_data"
    }
   ],
   "source": [
    "%%local\n",
    "import os\n",
    "username = os.environ['JUPYTERHUB_USER']\n",
    "get_ipython().run_cell_magic('configure', line=\"-f\", cell='{ \"name\":\"%s-final-path-finder\", \"executorMemory\":\"4G\", \"executorCores\":4, \"numExecutors\":10, \"driverMemory\": \"4G\" }' % username)"
   ]
  },
  {
   "cell_type": "code",
   "execution_count": 96,
   "metadata": {},
   "outputs": [
    {
     "data": {
      "application/vnd.jupyter.widget-view+json": {
       "model_id": "",
       "version_major": 2,
       "version_minor": 0
      },
      "text/plain": [
       "FloatProgress(value=0.0, bar_style='info', description='Progress:', layout=Layout(height='25px', width='50%'),…"
      ]
     },
     "metadata": {},
     "output_type": "display_data"
    },
    {
     "name": "stdout",
     "output_type": "stream",
     "text": [
      "Successfully passed 'username' as 'username' to Spark kernel"
     ]
    }
   ],
   "source": [
    "%%send_to_spark -i username -t str -n username"
   ]
  },
  {
   "cell_type": "code",
   "execution_count": 97,
   "metadata": {},
   "outputs": [
    {
     "data": {
      "application/vnd.jupyter.widget-view+json": {
       "model_id": "",
       "version_major": 2,
       "version_minor": 0
      },
      "text/plain": [
       "FloatProgress(value=0.0, bar_style='info', description='Progress:', layout=Layout(height='25px', width='50%'),…"
      ]
     },
     "metadata": {},
     "output_type": "display_data"
    }
   ],
   "source": [
    "import pyspark.sql.functions as F\n",
    "from pyspark.sql.types import *"
   ]
  },
  {
   "cell_type": "markdown",
   "metadata": {},
   "source": [
    "## Import data from HDFS"
   ]
  },
  {
   "cell_type": "code",
   "execution_count": 98,
   "metadata": {},
   "outputs": [
    {
     "data": {
      "application/vnd.jupyter.widget-view+json": {
       "model_id": "",
       "version_major": 2,
       "version_minor": 0
      },
      "text/plain": [
       "FloatProgress(value=0.0, bar_style='info', description='Progress:', layout=Layout(height='25px', width='50%'),…"
      ]
     },
     "metadata": {},
     "output_type": "display_data"
    }
   ],
   "source": [
    "routes = spark.read.csv('/data/sbb/csv/timetable/routes/2019/05/07/routes.csv', header=True )\n",
    "stops = spark.read.orc('/data/sbb/orc/geostops')"
   ]
  },
  {
   "cell_type": "code",
   "execution_count": 99,
   "metadata": {},
   "outputs": [
    {
     "data": {
      "application/vnd.jupyter.widget-view+json": {
       "model_id": "",
       "version_major": 2,
       "version_minor": 0
      },
      "text/plain": [
       "FloatProgress(value=0.0, bar_style='info', description='Progress:', layout=Layout(height='25px', width='50%'),…"
      ]
     },
     "metadata": {},
     "output_type": "display_data"
    }
   ],
   "source": [
    "walking_edges = spark.read.parquet('/user/%s/final/parquet/walking_edges' % username)\n",
    "transport_edges = spark.read.parquet('/user/%s/final/parquet/transport_edges' % username)"
   ]
  },
  {
   "cell_type": "code",
   "execution_count": 100,
   "metadata": {},
   "outputs": [
    {
     "data": {
      "application/vnd.jupyter.widget-view+json": {
       "model_id": "",
       "version_major": 2,
       "version_minor": 0
      },
      "text/plain": [
       "FloatProgress(value=0.0, bar_style='info', description='Progress:', layout=Layout(height='25px', width='50%'),…"
      ]
     },
     "metadata": {},
     "output_type": "display_data"
    },
    {
     "name": "stdout",
     "output_type": "stream",
     "text": [
      "['start_vertex', 'end_vertex', 'start_time', 'duration', 'route_id', 'weekday']"
     ]
    }
   ],
   "source": [
    "transport_edges.columns"
   ]
  },
  {
   "cell_type": "markdown",
   "metadata": {},
   "source": [
    "## Shortest Path"
   ]
  },
  {
   "cell_type": "code",
   "execution_count": 104,
   "metadata": {},
   "outputs": [
    {
     "data": {
      "application/vnd.jupyter.widget-view+json": {
       "model_id": "",
       "version_major": 2,
       "version_minor": 0
      },
      "text/plain": [
       "FloatProgress(value=0.0, bar_style='info', description='Progress:', layout=Layout(height='25px', width='50%'),…"
      ]
     },
     "metadata": {},
     "output_type": "display_data"
    }
   ],
   "source": [
    "inward_walking_edges = walking_edges.groupby('end_vertex').agg({'start_vertex': 'collect_set'})\\\n",
    "                                                              .withColumnRenamed('collect_set(start_vertex)', 'start_vertices')\\\n",
    "                                                              .toPandas().set_index('end_vertex').to_dict()['start_vertices']\n",
    "walking_edge_duration = walking_edges.toPandas()\n",
    "walking_edge_duration['key'] = walking_edge_duration.apply(lambda x: (x['start_vertex'], x['end_vertex']), axis=1)\n",
    "walking_edge_duration = walking_edge_duration.set_index('key').to_dict()['duration']"
   ]
  },
  {
   "cell_type": "code",
   "execution_count": 105,
   "metadata": {},
   "outputs": [
    {
     "data": {
      "application/vnd.jupyter.widget-view+json": {
       "model_id": "",
       "version_major": 2,
       "version_minor": 0
      },
      "text/plain": [
       "FloatProgress(value=0.0, bar_style='info', description='Progress:', layout=Layout(height='25px', width='50%'),…"
      ]
     },
     "metadata": {},
     "output_type": "display_data"
    }
   ],
   "source": [
    "edges = transport_edges.filter('weekday == \"monday\"')"
   ]
  },
  {
   "cell_type": "code",
   "execution_count": 125,
   "metadata": {},
   "outputs": [
    {
     "data": {
      "application/vnd.jupyter.widget-view+json": {
       "model_id": "",
       "version_major": 2,
       "version_minor": 0
      },
      "text/plain": [
       "FloatProgress(value=0.0, bar_style='info', description='Progress:', layout=Layout(height='25px', width='50%'),…"
      ]
     },
     "metadata": {},
     "output_type": "display_data"
    }
   ],
   "source": [
    "# This function assumes a (spark) dataframe with columns 'start_vertex', 'end_vertex', 'start_time', 'duration', 'route_id' \n",
    "# edges is a dataframe that represents the edges of the graph, \n",
    "# edges should be sorted by order of descending starting time\n",
    "# inward_walking_edges is a map route_id -> list(route_id), representing the nodes from which we can walk to a given node\n",
    "# walking_edge_duration is a map (route_id, route_id) -> float, representing the duration of the walk\n",
    "# end_time should be in the format 'HH:MM'\n",
    "def latest_departure_paths(edges, end_stop, end_time, inward_walking_edges, walking_edge_duration):\n",
    "    \n",
    "    # This function computes whether edge (u, v, t, dur, route_id) can be taken\n",
    "    # returns update to node u if possible, and None otherwise\n",
    "    def edge_valid(u, v, time, dur, route_id):\n",
    "        \n",
    "        next_edges = all_roads.get(v, [])\n",
    "        \n",
    "        for edge in next_edges[::-1]: # find first (earliest) edge that makes route possible\n",
    "            \n",
    "            time_v, next_v, route_id_v, dur_v, seq_v = edge\n",
    "\n",
    "            if route_id == 'walking':\n",
    "                if  route_id_v == 'walking' and dur_v + dur <= max_walking_time:\n",
    "                    time = time_v - dur - transfer_time\n",
    "                    return (time, next_v, route_id, dur + dur_v, [u] + seq_v)\n",
    "                elif route_id_v != 'walking':\n",
    "                    time = time_v - dur - transfer_time\n",
    "                    return (time, v, route_id, dur, [u, v])\n",
    "\n",
    "            if (route_id == route_id_v or v == end_stop) and time + duration <= time_v: # same route or last_stop\n",
    "                return (time, next_v, route_id, dur + dur_v, [u] + seq_v)\n",
    "\n",
    "            elif time + duration + transfer_time <= time_v: # transfer at node_v\n",
    "                return (time, v, route_id, dur, [u, v]) \n",
    "\n",
    "        # In any other case no update can be made\n",
    "        return None\n",
    "                \n",
    "    def time_to_minutes(timestamp):\n",
    "        return int(timestamp[:2]) * 60 + int(timestamp[3:5])\n",
    "    \n",
    "    transfer_time = 2 # at least 2 minutes to transfer\n",
    "    max_walking_time = 10\n",
    "\n",
    "    all_roads = {}\n",
    "    end_time = time_to_minutes(end_time)\n",
    "    start_time = end_time - 120 # look only at edges departing at most 2 hours before end_time\n",
    "    \n",
    "    all_roads[end_stop] = [(end_time, end_stop, None, 0, [end_stop])]\n",
    "\n",
    "    edges = edges.filter(F.col('start_time').between(start_time, end_time)).toPandas().sort_values(by=['start_time'], ascending=False).to_numpy()\n",
    "\n",
    "    for row in edges:\n",
    "        \n",
    "        start_vertex, end_vertex, start, duration, route_id = row[:5]\n",
    "        \n",
    "        update = edge_valid(start_vertex, end_vertex, start, duration, route_id)\n",
    "        if update:\n",
    "            if start_vertex in all_roads:    \n",
    "                all_roads[start_vertex].append(update)\n",
    "            else:\n",
    "                all_roads[start_vertex] = [update]\n",
    "                \n",
    "            \n",
    "        w_start_vertex = start_vertex    \n",
    "        for w_end_vertex in inward_walking_edges.get(w_start_vertex, []):\n",
    "            duration = walking_edge_duration[(w_start_vertex, w_end_vertex)]\n",
    "            w_start = start \n",
    "            update = edge_valid(w_start_vertex, w_end_vertex, w_start, duration, 'walking')\n",
    "            if update:\n",
    "                if w_start_vertex in all_roads and (update not in all_roads[w_start_vertex]):\n",
    "                    all_roads[w_start_vertex].append(update)\n",
    "#                     print(all_roads[w_start_vertex][0])\n",
    "                    all_roads[w_start_vertex].sort(lambda x,y : x[0], reverse=True)\n",
    "                elif w_start_vertex not in all_roads:\n",
    "                    all_roads[w_start_vertex] = [update]\n",
    "                \n",
    "                    \n",
    "            \n",
    "    \n",
    "    schema = StructType([\n",
    "        StructField(\"start_vertex\", StringType(), True),\n",
    "        StructField(\"departure_time\", StringType(), True),\n",
    "        StructField(\"end_vertex\", StringType(), True),\n",
    "        StructField(\"route_id\", StringType(), True),\n",
    "        StructField(\"duration\", IntegerType(), True),\n",
    "        StructField(\"stop_seq\", ArrayType(StringType()), True)\n",
    "    ])\n",
    "    \n",
    "\n",
    "    return all_roads"
   ]
  },
  {
   "cell_type": "code",
   "execution_count": 126,
   "metadata": {},
   "outputs": [
    {
     "data": {
      "application/vnd.jupyter.widget-view+json": {
       "model_id": "",
       "version_major": 2,
       "version_minor": 0
      },
      "text/plain": [
       "FloatProgress(value=0.0, bar_style='info', description='Progress:', layout=Layout(height='25px', width='50%'),…"
      ]
     },
     "metadata": {},
     "output_type": "display_data"
    },
    {
     "name": "stdout",
     "output_type": "stream",
     "text": [
      "21.6278610229"
     ]
    }
   ],
   "source": [
    "import time\n",
    "start = time.time()\n",
    "all_roads = latest_departure_paths(edges, '8591221', '20:00', inward_walking_edges, walking_edge_duration)\n",
    "end = time.time() \n",
    "print(end - start)"
   ]
  },
  {
   "cell_type": "code",
   "execution_count": 124,
   "metadata": {},
   "outputs": [
    {
     "data": {
      "application/vnd.jupyter.widget-view+json": {
       "model_id": "",
       "version_major": 2,
       "version_minor": 0
      },
      "text/plain": [
       "FloatProgress(value=0.0, bar_style='info', description='Progress:', layout=Layout(height='25px', width='50%'),…"
      ]
     },
     "metadata": {},
     "output_type": "display_data"
    },
    {
     "name": "stdout",
     "output_type": "stream",
     "text": [
      "(1149, u'8503016:0:4', 'walking', 7, [u'8580301', u'8503016:0:4'])"
     ]
    }
   ],
   "source": [
    "all_roads.values()[0][0]"
   ]
  },
  {
   "cell_type": "code",
   "execution_count": 56,
   "metadata": {},
   "outputs": [
    {
     "data": {
      "application/vnd.jupyter.widget-view+json": {
       "model_id": "",
       "version_major": 2,
       "version_minor": 0
      },
      "text/plain": [
       "FloatProgress(value=0.0, bar_style='info', description='Progress:', layout=Layout(height='25px', width='50%'),…"
      ]
     },
     "metadata": {},
     "output_type": "display_data"
    },
    {
     "name": "stdout",
     "output_type": "stream",
     "text": [
      "True"
     ]
    }
   ],
   "source": [
    "all([len(all_roads.values()[i][0]) == 5 for i in range(len(all_roads))])"
   ]
  },
  {
   "cell_type": "code",
   "execution_count": 127,
   "metadata": {},
   "outputs": [
    {
     "data": {
      "application/vnd.jupyter.widget-view+json": {
       "model_id": "",
       "version_major": 2,
       "version_minor": 0
      },
      "text/plain": [
       "FloatProgress(value=0.0, bar_style='info', description='Progress:', layout=Layout(height='25px', width='50%'),…"
      ]
     },
     "metadata": {},
     "output_type": "display_data"
    }
   ],
   "source": [
    "stop_id_to_stop = stops.select('stop_id', 'stop_name')\n",
    "stop_id_to_stop_dict = stop_id_to_stop.toPandas().set_index('stop_id').to_dict()['stop_name']\n",
    "\n",
    "route_id_to_route_name = routes.withColumn('route_name', F.concat(F.col('route_desc'), F.lit(' '), F.col('route_short_name')))\\\n",
    "                               .select('route_id', 'route_desc', 'route_short_name', 'route_name')\n",
    "route_id_to_route_name_dict = route_id_to_route_name.toPandas().set_index('route_id').to_dict()['route_name']\n",
    "route_id_to_route_name_dict['walking'] = 'Walk'"
   ]
  },
  {
   "cell_type": "code",
   "execution_count": 128,
   "metadata": {},
   "outputs": [
    {
     "data": {
      "application/vnd.jupyter.widget-view+json": {
       "model_id": "",
       "version_major": 2,
       "version_minor": 0
      },
      "text/plain": [
       "FloatProgress(value=0.0, bar_style='info', description='Progress:', layout=Layout(height='25px', width='50%'),…"
      ]
     },
     "metadata": {},
     "output_type": "display_data"
    }
   ],
   "source": [
    "# This cell is for generating best k paths\n",
    "def minutes_to_timestamp(minutes):\n",
    "    return str(minutes // 60) + ':' + str(minutes % 60).zfill(2)\n",
    "\n",
    "def select_next(time, paths_from_next_stop):\n",
    "    rev = paths_from_next_stop[::-1]\n",
    "    \n",
    "    for i in rev:\n",
    "        if (i[0] >= time):\n",
    "            return i\n",
    "    \n",
    "    return (None, None, None, None , [])\n",
    "\n",
    "def generate_best_k_paths(k_paths, start_stop, k):\n",
    "    l = k_paths[start_stop]\n",
    "    nbre_paths = k\n",
    "    if (l == None):\n",
    "        print(\"Sorry bro, no paths available\")\n",
    "        return\n",
    "    if(len(l) < k):\n",
    "        nbre_paths = len(l)\n",
    "    \n",
    "    possible = l[::-1][0:nbre_paths]\n",
    "    roads = []\n",
    "    for i in possible:\n",
    "        start_stop_ = start_stop\n",
    "        time, next_stop, route_id, duration, stops = i\n",
    "        journey = []\n",
    "        while next_stop != start_stop_:\n",
    "            journey.append(\n",
    "                (minutes_to_timestamp(time),\n",
    "                 stop_id_to_stop_dict[start_stop_], \n",
    "                 route_id_to_route_name_dict[route_id],\n",
    "                 duration,\n",
    "                 '' if route_id == 'walking' else 'Ride %d stops' % len(stops),\n",
    "                 minutes_to_timestamp(time + duration),\n",
    "                 stop_id_to_stop_dict[next_stop])\n",
    "            )\n",
    "        \n",
    "            start_stop_ = next_stop\n",
    "            paths_from_next_stop = k_paths[next_stop]\n",
    "            \n",
    "            m = select_next(time + duration, paths_from_next_stop)\n",
    "            \n",
    "            if (m[0] != None):\n",
    "                time, next_stop, route_id, duration, stops = m\n",
    "        \n",
    "        roads.append(journey)\n",
    "        \n",
    "    return roads"
   ]
  },
  {
   "cell_type": "code",
   "execution_count": 129,
   "metadata": {},
   "outputs": [
    {
     "data": {
      "application/vnd.jupyter.widget-view+json": {
       "model_id": "",
       "version_major": 2,
       "version_minor": 0
      },
      "text/plain": [
       "FloatProgress(value=0.0, bar_style='info', description='Progress:', layout=Layout(height='25px', width='50%'),…"
      ]
     },
     "metadata": {},
     "output_type": "display_data"
    }
   ],
   "source": [
    "g = generate_best_k_paths(all_roads, '8591250', 4 )"
   ]
  },
  {
   "cell_type": "code",
   "execution_count": 62,
   "metadata": {},
   "outputs": [
    {
     "data": {
      "application/vnd.jupyter.widget-view+json": {
       "model_id": "",
       "version_major": 2,
       "version_minor": 0
      },
      "text/plain": [
       "FloatProgress(value=0.0, bar_style='info', description='Progress:', layout=Layout(height='25px', width='50%'),…"
      ]
     },
     "metadata": {},
     "output_type": "display_data"
    },
    {
     "name": "stdout",
     "output_type": "stream",
     "text": [
      "4"
     ]
    }
   ],
   "source": [
    "len(g)"
   ]
  },
  {
   "cell_type": "code",
   "execution_count": 130,
   "metadata": {},
   "outputs": [
    {
     "data": {
      "application/vnd.jupyter.widget-view+json": {
       "model_id": "",
       "version_major": 2,
       "version_minor": 0
      },
      "text/plain": [
       "FloatProgress(value=0.0, bar_style='info', description='Progress:', layout=Layout(height='25px', width='50%'),…"
      ]
     },
     "metadata": {},
     "output_type": "display_data"
    }
   ],
   "source": [
    "def pretty_print_journey(journey):\n",
    "    if journey == None:\n",
    "        return \"No possible second best path\"\n",
    "    journey_str = '\\n'.join([\"%s : %s\\n|\\n| %s (%s min) %s\\n|\\n%s : %s\\n\" % segment for segment in journey])\n",
    "    return journey_str"
   ]
  },
  {
   "cell_type": "code",
   "execution_count": 131,
   "metadata": {},
   "outputs": [
    {
     "data": {
      "application/vnd.jupyter.widget-view+json": {
       "model_id": "",
       "version_major": 2,
       "version_minor": 0
      },
      "text/plain": [
       "FloatProgress(value=0.0, bar_style='info', description='Progress:', layout=Layout(height='25px', width='50%'),…"
      ]
     },
     "metadata": {},
     "output_type": "display_data"
    },
    {
     "name": "stdout",
     "output_type": "stream",
     "text": [
      "17:55 : Zürich, Lerchenrain\n",
      "|\n",
      "| Walk (6 min) \n",
      "|\n",
      "18:01 : Zürich, Schauenberg\n",
      "\n",
      "18:03 : Zürich, Schauenberg\n",
      "|\n",
      "| Walk (37 min) \n",
      "|\n",
      "18:40 : Zürich, Einfangstrasse\n",
      "\n",
      "**************************\n",
      "17:54 : Zürich, Lerchenrain\n",
      "|\n",
      "| Walk (7 min) \n",
      "|\n",
      "18:01 : Zürich, Einfangstrasse\n",
      "\n",
      "18:01 : Zürich, Einfangstrasse\n",
      "|\n",
      "| Bus 62 (62 min) Ride 53 stops\n",
      "|\n",
      "19:03 : Zürich, Schwamendingerplatz\n",
      "\n",
      "19:04 : Zürich, Schwamendingerplatz\n",
      "|\n",
      "| Tram 7 (19 min) Ride 18 stops\n",
      "|\n",
      "19:23 : Stettbach, Bahnhof\n",
      "\n",
      "19:28 : Stettbach, Bahnhof\n",
      "|\n",
      "| Walk (2 min) \n",
      "|\n",
      "19:30 : Stettbach\n",
      "\n",
      "19:34 : Stettbach\n",
      "|\n",
      "| S-Bahn 12 (4 min) Ride 2 stops\n",
      "|\n",
      "19:38 : Zürich Stadelhofen\n",
      "\n",
      "19:41 : Zürich Stadelhofen\n",
      "|\n",
      "| Walk (1 min) \n",
      "|\n",
      "19:42 : Zürich Stadelhofen FB\n",
      "\n",
      "19:43 : Zürich Stadelhofen FB\n",
      "|\n",
      "| Tram 8 (8 min) Ride 8 stops\n",
      "|\n",
      "19:51 : Zürich, Klusplatz\n",
      "\n",
      "19:52 : Zürich, Klusplatz\n",
      "|\n",
      "| Bus 31 (5 min) Ride 6 stops\n",
      "|\n",
      "19:57 : Zürich, Kapfstrasse\n",
      "\n",
      "**************************\n",
      "17:54 : Zürich, Lerchenrain\n",
      "|\n",
      "| Walk (6 min) \n",
      "|\n",
      "18:00 : Zürich, Lerchenhalde\n",
      "\n",
      "18:01 : Zürich, Lerchenhalde\n",
      "|\n",
      "| Bus 37 (6 min) Ride 5 stops\n",
      "|\n",
      "18:07 : Zürich Affoltern, Bahnhof\n",
      "\n",
      "18:07 : Zürich Affoltern, Bahnhof\n",
      "|\n",
      "| Bus 62 (56 min) Ride 49 stops\n",
      "|\n",
      "19:03 : Zürich, Schwamendingerplatz\n",
      "\n",
      "19:04 : Zürich, Schwamendingerplatz\n",
      "|\n",
      "| Tram 7 (19 min) Ride 18 stops\n",
      "|\n",
      "19:23 : Stettbach, Bahnhof\n",
      "\n",
      "19:28 : Stettbach, Bahnhof\n",
      "|\n",
      "| Walk (2 min) \n",
      "|\n",
      "19:30 : Stettbach\n",
      "\n",
      "19:34 : Stettbach\n",
      "|\n",
      "| S-Bahn 12 (4 min) Ride 2 stops\n",
      "|\n",
      "19:38 : Zürich Stadelhofen\n",
      "\n",
      "19:41 : Zürich Stadelhofen\n",
      "|\n",
      "| Walk (1 min) \n",
      "|\n",
      "19:42 : Zürich Stadelhofen FB\n",
      "\n",
      "19:43 : Zürich Stadelhofen FB\n",
      "|\n",
      "| Tram 8 (8 min) Ride 8 stops\n",
      "|\n",
      "19:51 : Zürich, Klusplatz\n",
      "\n",
      "19:52 : Zürich, Klusplatz\n",
      "|\n",
      "| Bus 31 (5 min) Ride 6 stops\n",
      "|\n",
      "19:57 : Zürich, Kapfstrasse\n",
      "\n",
      "**************************\n",
      "17:50 : Zürich, Lerchenrain\n",
      "|\n",
      "| Walk (10 min) \n",
      "|\n",
      "18:00 : Zürich, Schumacherweg\n",
      "\n",
      "18:01 : Zürich, Schumacherweg\n",
      "|\n",
      "| Bus 80 (66 min) Ride 47 stops\n",
      "|\n",
      "19:07 : Zürich, Triemlispital\n",
      "\n",
      "19:07 : Zürich, Triemlispital\n",
      "|\n",
      "| Bus 80 (6 min) Ride 6 stops\n",
      "|\n",
      "19:13 : Zürich, Triemli\n",
      "\n",
      "19:14 : Zürich, Triemli\n",
      "|\n",
      "| Tram 9 (32 min) Ride 27 stops\n",
      "|\n",
      "19:46 : Zürich, Klusplatz\n",
      "\n",
      "19:46 : Zürich, Klusplatz\n",
      "|\n",
      "| Bus 31 (10 min) Ride 10 stops\n",
      "|\n",
      "19:56 : Zürich, Kapfstrasse\n",
      "\n",
      "**************************"
     ]
    }
   ],
   "source": [
    "for i in g:\n",
    "    print(pretty_print_journey(i))\n",
    "    print(\"**************************\")"
   ]
  },
  {
   "cell_type": "code",
   "execution_count": 30,
   "metadata": {},
   "outputs": [
    {
     "data": {
      "application/vnd.jupyter.widget-view+json": {
       "model_id": "",
       "version_major": 2,
       "version_minor": 0
      },
      "text/plain": [
       "FloatProgress(value=0.0, bar_style='info', description='Progress:', layout=Layout(height='25px', width='50%'),…"
      ]
     },
     "metadata": {},
     "output_type": "display_data"
    }
   ],
   "source": [
    "m = all_roads['8591250']\n",
    "time, next_stop, route_id, duration, stops = select_next(4, m)"
   ]
  },
  {
   "cell_type": "code",
   "execution_count": 31,
   "metadata": {},
   "outputs": [
    {
     "data": {
      "application/vnd.jupyter.widget-view+json": {
       "model_id": "",
       "version_major": 2,
       "version_minor": 0
      },
      "text/plain": [
       "FloatProgress(value=0.0, bar_style='info', description='Progress:', layout=Layout(height='25px', width='50%'),…"
      ]
     },
     "metadata": {},
     "output_type": "display_data"
    },
    {
     "name": "stdout",
     "output_type": "stream",
     "text": [
      "[u'8591250', u'8591338', u'8576262', u'8591054']"
     ]
    }
   ],
   "source": [
    "stops"
   ]
  },
  {
   "cell_type": "markdown",
   "metadata": {},
   "source": [
    "## Send to local"
   ]
  },
  {
   "cell_type": "markdown",
   "metadata": {},
   "source": [
    "Send transfer dataframe to local"
   ]
  },
  {
   "cell_type": "code",
   "execution_count": null,
   "metadata": {},
   "outputs": [],
   "source": [
    "%%spark -o next_transfer_df -n -1"
   ]
  },
  {
   "cell_type": "code",
   "execution_count": null,
   "metadata": {},
   "outputs": [],
   "source": [
    "%%local\n",
    "next_transfer_df.head()"
   ]
  },
  {
   "cell_type": "markdown",
   "metadata": {},
   "source": [
    "Reconstruct a dict for transfers to keep old code"
   ]
  },
  {
   "cell_type": "code",
   "execution_count": null,
   "metadata": {},
   "outputs": [],
   "source": [
    "%%local\n",
    "next_transfer = {e[0]: tuple(e[1:]) for e in next_transfer_df.to_numpy()}"
   ]
  },
  {
   "cell_type": "markdown",
   "metadata": {},
   "source": [
    "Send route id to route name mapping to local"
   ]
  },
  {
   "cell_type": "code",
   "execution_count": null,
   "metadata": {},
   "outputs": [],
   "source": [
    "%%spark -o route_id_to_route_name -n -1\n",
    "route_id_to_route_name = routes.withColumn('route_name', F.concat(F.col('route_desc'), F.lit(' '), F.col('route_short_name')))\\\n",
    "                               .select('route_id', 'route_desc', 'route_short_name', 'route_name')"
   ]
  },
  {
   "cell_type": "code",
   "execution_count": null,
   "metadata": {},
   "outputs": [],
   "source": [
    "%%local\n",
    "route_id_to_route_name_dict = route_id_to_route_name.set_index('route_id').to_dict()['route_name']\n",
    "route_id_to_route_name_dict['walking'] = 'walk'"
   ]
  },
  {
   "cell_type": "markdown",
   "metadata": {},
   "source": [
    "Send stop id to stop name mapping to local"
   ]
  },
  {
   "cell_type": "code",
   "execution_count": null,
   "metadata": {},
   "outputs": [],
   "source": [
    "%%spark -o stop_id_to_stop -n -1\n",
    "stop_id_to_stop = stops.select('stop_id', 'stop_name')"
   ]
  },
  {
   "cell_type": "code",
   "execution_count": null,
   "metadata": {},
   "outputs": [],
   "source": [
    "%%local\n",
    "stop_id_to_stop_dict = stop_id_to_stop.set_index('stop_id').to_dict()['stop_name']"
   ]
  },
  {
   "cell_type": "markdown",
   "metadata": {},
   "source": [
    "## Reconstruct path and pretty print"
   ]
  },
  {
   "cell_type": "code",
   "execution_count": null,
   "metadata": {},
   "outputs": [],
   "source": [
    "%%local\n",
    "def minutes_to_timestamp(minutes):\n",
    "    return str(minutes // 60) + ':' + str(minutes % 60).zfill(2)\n",
    "    \n",
    "    \n",
    "def reconstruct_journey(next_transfer, start_stop):\n",
    "    time, next_stop, route_id, duration, stop_seq = next_transfer[start_stop]\n",
    "    journey = []\n",
    "    while next_stop != start_stop:\n",
    "        journey.append(\n",
    "            (minutes_to_timestamp(time),\n",
    "             stop_id_to_stop_dict[start_stop], \n",
    "             route_id_to_route_name_dict[route_id],\n",
    "             duration,\n",
    "             'Ride %d stops' % (len(stop_seq)-1),\n",
    "             minutes_to_timestamp(time + duration),\n",
    "             stop_id_to_stop_dict[next_stop])\n",
    "        )\n",
    "        \n",
    "        start_stop = next_stop\n",
    "        time, next_stop, route_id, duration, stop_seq = next_transfer[next_stop]\n",
    "    return journey\n",
    "\n",
    "\n",
    "def pretty_print_journey(journey):\n",
    "    journey_str = '\\n'.join([\"%s : %s\\n|\\n| %s (%s min) %s\\n|\\n%s : %s\\n\" % segment for segment in journey])\n",
    "    return journey_str"
   ]
  },
  {
   "cell_type": "code",
   "execution_count": null,
   "metadata": {},
   "outputs": [],
   "source": [
    "%%local\n",
    "print(pretty_print_journey(reconstruct_journey(next_transfer, '8590883'))) # almost same as sbb"
   ]
  },
  {
   "cell_type": "code",
   "execution_count": null,
   "metadata": {},
   "outputs": [],
   "source": [
    "%%local\n",
    "print(pretty_print_journey(reconstruct_journey(next_transfer, '8591353'))) # almost same as sbb"
   ]
  },
  {
   "cell_type": "code",
   "execution_count": null,
   "metadata": {},
   "outputs": [],
   "source": [
    "%%local\n",
    "print(pretty_print_journey(reconstruct_journey(next_transfer, '8590788'))) # not in sbb"
   ]
  },
  {
   "cell_type": "code",
   "execution_count": null,
   "metadata": {},
   "outputs": [],
   "source": [
    "%%local\n",
    "print(pretty_print_journey(reconstruct_journey(next_transfer, '8591368'))) # Correct"
   ]
  },
  {
   "cell_type": "code",
   "execution_count": null,
   "metadata": {},
   "outputs": [],
   "source": []
  }
 ],
 "metadata": {
  "kernelspec": {
   "display_name": "PySpark",
   "language": "python",
   "name": "pysparkkernel"
  },
  "language_info": {
   "codemirror_mode": {
    "name": "python",
    "version": 3
   },
   "file_extension": ".py",
   "mimetype": "text/x-python",
   "name": "pyspark",
   "pygments_lexer": "python3"
  }
 },
 "nbformat": 4,
 "nbformat_minor": 4
}
