{
 "cells": [
  {
   "cell_type": "markdown",
   "metadata": {},
   "source": [
    "# Path Finder"
   ]
  },
  {
   "cell_type": "markdown",
   "metadata": {},
   "source": [
    "## Setup Spark environment"
   ]
  },
  {
   "cell_type": "code",
   "execution_count": 64,
   "metadata": {},
   "outputs": [
    {
     "name": "stdout",
     "output_type": "stream",
     "text": [
      "Starting Spark application\n"
     ]
    },
    {
     "data": {
      "text/html": [
       "<table>\n",
       "<tr><th>ID</th><th>YARN Application ID</th><th>Kind</th><th>State</th><th>Spark UI</th><th>Driver log</th><th>User</th><th>Current session?</th></tr><tr><td>5869</td><td>application_1618324153128_5225</td><td>pyspark</td><td>idle</td><td><a target=\"_blank\" href=\"http://iccluster040.iccluster.epfl.ch:8088/proxy/application_1618324153128_5225/\">Link</a></td><td><a target=\"_blank\" href=\"http://iccluster066.iccluster.epfl.ch:8042/node/containerlogs/container_e01_1618324153128_5225_01_000001/ebouille\">Link</a></td><td>None</td><td>✔</td></tr></table>"
      ],
      "text/plain": [
       "<IPython.core.display.HTML object>"
      ]
     },
     "metadata": {},
     "output_type": "display_data"
    },
    {
     "data": {
      "application/vnd.jupyter.widget-view+json": {
       "model_id": "",
       "version_major": 2,
       "version_minor": 0
      },
      "text/plain": [
       "FloatProgress(value=0.0, bar_style='info', description='Progress:', layout=Layout(height='25px', width='50%'),…"
      ]
     },
     "metadata": {},
     "output_type": "display_data"
    },
    {
     "name": "stdout",
     "output_type": "stream",
     "text": [
      "SparkSession available as 'spark'.\n"
     ]
    },
    {
     "data": {
      "text/html": [
       "Current session configs: <tt>{'name': 'jellouli-final-path-finder', 'executorMemory': '4G', 'executorCores': 4, 'numExecutors': 10, 'driverMemory': '4G', 'kind': 'pyspark'}</tt><br>"
      ],
      "text/plain": [
       "<IPython.core.display.HTML object>"
      ]
     },
     "metadata": {},
     "output_type": "display_data"
    },
    {
     "data": {
      "text/html": [
       "<table>\n",
       "<tr><th>ID</th><th>YARN Application ID</th><th>Kind</th><th>State</th><th>Spark UI</th><th>Driver log</th><th>User</th><th>Current session?</th></tr><tr><td>5837</td><td>application_1618324153128_5181</td><td>pyspark</td><td>busy</td><td><a target=\"_blank\" href=\"http://iccluster040.iccluster.epfl.ch:8088/proxy/application_1618324153128_5181/\">Link</a></td><td><a target=\"_blank\" href=\"http://iccluster077.iccluster.epfl.ch:8042/node/containerlogs/container_e01_1618324153128_5181_01_000001/ebouille\">Link</a></td><td>None</td><td></td></tr><tr><td>5843</td><td>application_1618324153128_5187</td><td>pyspark</td><td>idle</td><td><a target=\"_blank\" href=\"http://iccluster040.iccluster.epfl.ch:8088/proxy/application_1618324153128_5187/\">Link</a></td><td><a target=\"_blank\" href=\"http://iccluster068.iccluster.epfl.ch:8042/node/containerlogs/container_e01_1618324153128_5187_01_000001/ebouille\">Link</a></td><td>None</td><td></td></tr><tr><td>5846</td><td>application_1618324153128_5190</td><td>pyspark</td><td>idle</td><td><a target=\"_blank\" href=\"http://iccluster040.iccluster.epfl.ch:8088/proxy/application_1618324153128_5190/\">Link</a></td><td><a target=\"_blank\" href=\"http://iccluster078.iccluster.epfl.ch:8042/node/containerlogs/container_e01_1618324153128_5190_01_000001/ebouille\">Link</a></td><td>None</td><td></td></tr><tr><td>5850</td><td>application_1618324153128_5195</td><td>pyspark</td><td>idle</td><td><a target=\"_blank\" href=\"http://iccluster040.iccluster.epfl.ch:8088/proxy/application_1618324153128_5195/\">Link</a></td><td><a target=\"_blank\" href=\"http://iccluster067.iccluster.epfl.ch:8042/node/containerlogs/container_e01_1618324153128_5195_01_000001/ebouille\">Link</a></td><td>None</td><td></td></tr><tr><td>5852</td><td>application_1618324153128_5197</td><td>pyspark</td><td>idle</td><td><a target=\"_blank\" href=\"http://iccluster040.iccluster.epfl.ch:8088/proxy/application_1618324153128_5197/\">Link</a></td><td><a target=\"_blank\" href=\"http://iccluster067.iccluster.epfl.ch:8042/node/containerlogs/container_e01_1618324153128_5197_01_000001/ebouille\">Link</a></td><td>None</td><td></td></tr><tr><td>5853</td><td>application_1618324153128_5199</td><td>pyspark</td><td>idle</td><td><a target=\"_blank\" href=\"http://iccluster040.iccluster.epfl.ch:8088/proxy/application_1618324153128_5199/\">Link</a></td><td><a target=\"_blank\" href=\"http://iccluster069.iccluster.epfl.ch:8042/node/containerlogs/container_e01_1618324153128_5199_01_000001/ebouille\">Link</a></td><td>None</td><td></td></tr><tr><td>5855</td><td>application_1618324153128_5202</td><td>pyspark</td><td>idle</td><td><a target=\"_blank\" href=\"http://iccluster040.iccluster.epfl.ch:8088/proxy/application_1618324153128_5202/\">Link</a></td><td><a target=\"_blank\" href=\"http://iccluster068.iccluster.epfl.ch:8042/node/containerlogs/container_e01_1618324153128_5202_01_000001/ebouille\">Link</a></td><td>None</td><td></td></tr><tr><td>5858</td><td>application_1618324153128_5205</td><td>pyspark</td><td>busy</td><td><a target=\"_blank\" href=\"http://iccluster040.iccluster.epfl.ch:8088/proxy/application_1618324153128_5205/\">Link</a></td><td><a target=\"_blank\" href=\"http://iccluster067.iccluster.epfl.ch:8042/node/containerlogs/container_e01_1618324153128_5205_01_000001/ebouille\">Link</a></td><td>None</td><td></td></tr><tr><td>5860</td><td>application_1618324153128_5207</td><td>pyspark</td><td>idle</td><td><a target=\"_blank\" href=\"http://iccluster040.iccluster.epfl.ch:8088/proxy/application_1618324153128_5207/\">Link</a></td><td><a target=\"_blank\" href=\"http://iccluster071.iccluster.epfl.ch:8042/node/containerlogs/container_e01_1618324153128_5207_01_000001/ebouille\">Link</a></td><td>None</td><td></td></tr><tr><td>5861</td><td>application_1618324153128_5215</td><td>pyspark</td><td>busy</td><td><a target=\"_blank\" href=\"http://iccluster040.iccluster.epfl.ch:8088/proxy/application_1618324153128_5215/\">Link</a></td><td><a target=\"_blank\" href=\"http://iccluster067.iccluster.epfl.ch:8042/node/containerlogs/container_e01_1618324153128_5215_01_000001/ebouille\">Link</a></td><td>None</td><td></td></tr><tr><td>5863</td><td>application_1618324153128_5218</td><td>pyspark</td><td>idle</td><td><a target=\"_blank\" href=\"http://iccluster040.iccluster.epfl.ch:8088/proxy/application_1618324153128_5218/\">Link</a></td><td><a target=\"_blank\" href=\"http://iccluster078.iccluster.epfl.ch:8042/node/containerlogs/container_e01_1618324153128_5218_01_000001/ebouille\">Link</a></td><td>None</td><td></td></tr><tr><td>5864</td><td>application_1618324153128_5220</td><td>pyspark</td><td>idle</td><td><a target=\"_blank\" href=\"http://iccluster040.iccluster.epfl.ch:8088/proxy/application_1618324153128_5220/\">Link</a></td><td><a target=\"_blank\" href=\"http://iccluster070.iccluster.epfl.ch:8042/node/containerlogs/container_e01_1618324153128_5220_01_000001/ebouille\">Link</a></td><td>None</td><td></td></tr><tr><td>5865</td><td>application_1618324153128_5221</td><td>pyspark</td><td>idle</td><td><a target=\"_blank\" href=\"http://iccluster040.iccluster.epfl.ch:8088/proxy/application_1618324153128_5221/\">Link</a></td><td><a target=\"_blank\" href=\"http://iccluster071.iccluster.epfl.ch:8042/node/containerlogs/container_e01_1618324153128_5221_01_000001/ebouille\">Link</a></td><td>None</td><td></td></tr><tr><td>5866</td><td>application_1618324153128_5222</td><td>pyspark</td><td>idle</td><td><a target=\"_blank\" href=\"http://iccluster040.iccluster.epfl.ch:8088/proxy/application_1618324153128_5222/\">Link</a></td><td><a target=\"_blank\" href=\"http://iccluster066.iccluster.epfl.ch:8042/node/containerlogs/container_e01_1618324153128_5222_01_000001/ebouille\">Link</a></td><td>None</td><td></td></tr><tr><td>5867</td><td>application_1618324153128_5223</td><td>pyspark</td><td>idle</td><td><a target=\"_blank\" href=\"http://iccluster040.iccluster.epfl.ch:8088/proxy/application_1618324153128_5223/\">Link</a></td><td><a target=\"_blank\" href=\"http://iccluster078.iccluster.epfl.ch:8042/node/containerlogs/container_e01_1618324153128_5223_01_000001/ebouille\">Link</a></td><td>None</td><td></td></tr><tr><td>5869</td><td>application_1618324153128_5225</td><td>pyspark</td><td>idle</td><td><a target=\"_blank\" href=\"http://iccluster040.iccluster.epfl.ch:8088/proxy/application_1618324153128_5225/\">Link</a></td><td><a target=\"_blank\" href=\"http://iccluster066.iccluster.epfl.ch:8042/node/containerlogs/container_e01_1618324153128_5225_01_000001/ebouille\">Link</a></td><td>None</td><td>✔</td></tr></table>"
      ],
      "text/plain": [
       "<IPython.core.display.HTML object>"
      ]
     },
     "metadata": {},
     "output_type": "display_data"
    }
   ],
   "source": [
    "%%local\n",
    "import os\n",
    "username = os.environ['JUPYTERHUB_USER']\n",
    "get_ipython().run_cell_magic('configure', line=\"-f\", cell='{ \"name\":\"%s-final-path-finder\", \"executorMemory\":\"4G\", \"executorCores\":4, \"numExecutors\":10, \"driverMemory\": \"4G\" }' % username)"
   ]
  },
  {
   "cell_type": "code",
   "execution_count": 65,
   "metadata": {},
   "outputs": [
    {
     "data": {
      "application/vnd.jupyter.widget-view+json": {
       "model_id": "",
       "version_major": 2,
       "version_minor": 0
      },
      "text/plain": [
       "FloatProgress(value=0.0, bar_style='info', description='Progress:', layout=Layout(height='25px', width='50%'),…"
      ]
     },
     "metadata": {},
     "output_type": "display_data"
    },
    {
     "name": "stdout",
     "output_type": "stream",
     "text": [
      "Successfully passed 'username' as 'username' to Spark kernel"
     ]
    }
   ],
   "source": [
    "%%send_to_spark -i username -t str -n username"
   ]
  },
  {
   "cell_type": "code",
   "execution_count": 66,
   "metadata": {},
   "outputs": [
    {
     "data": {
      "application/vnd.jupyter.widget-view+json": {
       "model_id": "",
       "version_major": 2,
       "version_minor": 0
      },
      "text/plain": [
       "FloatProgress(value=0.0, bar_style='info', description='Progress:', layout=Layout(height='25px', width='50%'),…"
      ]
     },
     "metadata": {},
     "output_type": "display_data"
    }
   ],
   "source": [
    "import pyspark.sql.functions as F\n",
    "from pyspark.sql.types import *"
   ]
  },
  {
   "cell_type": "markdown",
   "metadata": {},
   "source": [
    "## Import data from HDFS"
   ]
  },
  {
   "cell_type": "code",
   "execution_count": 98,
   "metadata": {},
   "outputs": [
    {
     "data": {
      "application/vnd.jupyter.widget-view+json": {
       "model_id": "",
       "version_major": 2,
       "version_minor": 0
      },
      "text/plain": [
       "FloatProgress(value=0.0, bar_style='info', description='Progress:', layout=Layout(height='25px', width='50%'),…"
      ]
     },
     "metadata": {},
     "output_type": "display_data"
    }
   ],
   "source": [
    "routes = spark.read.csv('/data/sbb/csv/timetable/routes/2019/05/07/routes.csv', header=True )\n",
    "stops = spark.read.orc('/data/sbb/orc/geostops')"
   ]
  },
  {
   "cell_type": "code",
   "execution_count": 104,
   "metadata": {},
   "outputs": [
    {
     "data": {
      "application/vnd.jupyter.widget-view+json": {
       "model_id": "",
       "version_major": 2,
       "version_minor": 0
      },
      "text/plain": [
       "FloatProgress(value=0.0, bar_style='info', description='Progress:', layout=Layout(height='25px', width='50%'),…"
      ]
     },
     "metadata": {},
     "output_type": "display_data"
    }
   ],
   "source": [
    "walking_edges = spark.read.parquet('/user/%s/final/parquet/walking_edges' % username)\n",
    "transport_edges = spark.read.parquet('/user/%s/final/parquet/transport_edges' % username)"
   ]
  },
  {
   "cell_type": "code",
   "execution_count": 100,
   "metadata": {},
   "outputs": [
    {
     "data": {
      "application/vnd.jupyter.widget-view+json": {
       "model_id": "",
       "version_major": 2,
       "version_minor": 0
      },
      "text/plain": [
       "FloatProgress(value=0.0, bar_style='info', description='Progress:', layout=Layout(height='25px', width='50%'),…"
      ]
     },
     "metadata": {},
     "output_type": "display_data"
    },
    {
     "name": "stdout",
     "output_type": "stream",
     "text": [
      "['start_vertex', 'end_vertex', 'start_time', 'duration', 'route_id', 'weekday']"
     ]
    }
   ],
   "source": [
    "transport_edges.columns"
   ]
  },
  {
   "cell_type": "markdown",
   "metadata": {},
   "source": [
    "## Shortest Path"
   ]
  },
  {
   "cell_type": "code",
   "execution_count": 105,
   "metadata": {},
   "outputs": [
    {
     "data": {
      "application/vnd.jupyter.widget-view+json": {
       "model_id": "",
       "version_major": 2,
       "version_minor": 0
      },
      "text/plain": [
       "FloatProgress(value=0.0, bar_style='info', description='Progress:', layout=Layout(height='25px', width='50%'),…"
      ]
     },
     "metadata": {},
     "output_type": "display_data"
    }
   ],
   "source": [
    "walking_edges = walking_edges.withColumn('value', F.struct(F.col('end_vertex'), F.col('duration')))\\\n",
    "                             .groupBy('start_vertex').agg({'value': 'collect_set'})\\\n",
    "                             .toPandas()\\\n",
    "                             .set_index('start_vertex')\\\n",
    "                             .to_dict()['collect_set(value)']"
   ]
  },
  {
   "cell_type": "code",
   "execution_count": 71,
   "metadata": {},
   "outputs": [
    {
     "data": {
      "application/vnd.jupyter.widget-view+json": {
       "model_id": "",
       "version_major": 2,
       "version_minor": 0
      },
      "text/plain": [
       "FloatProgress(value=0.0, bar_style='info', description='Progress:', layout=Layout(height='25px', width='50%'),…"
      ]
     },
     "metadata": {},
     "output_type": "display_data"
    }
   ],
   "source": [
    "edges = transport_edges.filter('weekday == \"monday\"')"
   ]
  },
  {
   "cell_type": "code",
   "execution_count": 107,
   "metadata": {},
   "outputs": [
    {
     "data": {
      "application/vnd.jupyter.widget-view+json": {
       "model_id": "",
       "version_major": 2,
       "version_minor": 0
      },
      "text/plain": [
       "FloatProgress(value=0.0, bar_style='info', description='Progress:', layout=Layout(height='25px', width='50%'),…"
      ]
     },
     "metadata": {},
     "output_type": "display_data"
    }
   ],
   "source": [
    "# This function assumes a (spark) dataframe with columns 'start_vertex', 'end_vertex', 'start_time', 'duration', 'route_id' \n",
    "# edges is a dataframe that represents the edges of the graph, \n",
    "# edges should be sorted by order of descending starting time\n",
    "# inward_walking_edges is a map route_id -> list(route_id), representing the nodes from which we can walk to a given node\n",
    "# walking_edge_duration is a map (route_id, route_id) -> float, representing the duration of the walk\n",
    "# end_time should be in the format 'HH:MM'\n",
    "def latest_departure_paths(edges, end_stop, end_time, walking_edges):\n",
    "\n",
    "    def edge_valid(u, v, time, dur, route_id): \n",
    "        next_edges = all_roads.get(v, [])\n",
    "        \n",
    "        # Can we reach the destination ?\n",
    "        if v == end_stop and time + dur <= end_time: \n",
    "             return (time, v, route_id, dur)\n",
    "        \n",
    "        # We don't add edges starting at the destination\n",
    "        if u != end_stop:\n",
    "            for edge in next_edges[::-1]: # Traverse the list in reverse order because it's sorted by descending starting time\n",
    "                time_v, next_v, route_id_v, dur_v = edge\n",
    "                if (route_id == route_id_v and time + dur <= time_v) or (time + dur + transfer_time <= time_v): \n",
    "                    return (time, v, route_id, dur)            \n",
    "            \n",
    "            # Can we walk from v instead?\n",
    "            for end_vertex, walking_duration in walking_edges.get(v, []):\n",
    "                if end_vertex != u: # do not loop back to u\n",
    "                    for next_next_edge in all_roads.get(end_vertex, []):\n",
    "                        time_next = next_next_edge[0]\n",
    "                        if time + dur + transfer_time <= time_next - walking_duration : # u -> v counts as a transfer\n",
    "                            return (time, v, route_id, dur)\n",
    "                \n",
    "        return None\n",
    "                \n",
    "    def time_to_minutes(timestamp):\n",
    "        return int(timestamp[:2]) * 60 + int(timestamp[3:5])\n",
    "    \n",
    "    \n",
    "    transfer_time = 2 # at least 2 minutes to transfer\n",
    "    max_walking_time = 10\n",
    "    \n",
    "    all_roads = {}\n",
    "    end_time = time_to_minutes(end_time)\n",
    "    start_time = end_time - 120 # look only at edges departing at most 2 hours before end_time\n",
    "        \n",
    "    edges = edges.filter(F.col('start_time').between(start_time, end_time)).toPandas().sort_values(by=['start_time'], ascending=False).to_numpy()\n",
    "\n",
    "    for row in edges:\n",
    "        start_vertex, end_vertex, start, duration, route_id = row[:5]\n",
    "        \n",
    "        update = edge_valid(start_vertex, end_vertex, start, duration, route_id)\n",
    "        if update:\n",
    "            if start_vertex in all_roads:    \n",
    "                all_roads[start_vertex].append(update)\n",
    "            else:\n",
    "                all_roads[start_vertex] = [update]\n",
    "                        \n",
    "    return all_roads"
   ]
  },
  {
   "cell_type": "code",
   "execution_count": 108,
   "metadata": {},
   "outputs": [
    {
     "data": {
      "application/vnd.jupyter.widget-view+json": {
       "model_id": "",
       "version_major": 2,
       "version_minor": 0
      },
      "text/plain": [
       "FloatProgress(value=0.0, bar_style='info', description='Progress:', layout=Layout(height='25px', width='50%'),…"
      ]
     },
     "metadata": {},
     "output_type": "display_data"
    },
    {
     "name": "stdout",
     "output_type": "stream",
     "text": [
      "1.30478000641"
     ]
    }
   ],
   "source": [
    "import time\n",
    "start = time.time()\n",
    "all_roads = latest_departure_paths(edges, '8591221', '20:00', walking_edges)\n",
    "end = time.time() \n",
    "print(end - start)"
   ]
  },
  {
   "cell_type": "code",
   "execution_count": 86,
   "metadata": {},
   "outputs": [
    {
     "data": {
      "application/vnd.jupyter.widget-view+json": {
       "model_id": "",
       "version_major": 2,
       "version_minor": 0
      },
      "text/plain": [
       "FloatProgress(value=0.0, bar_style='info', description='Progress:', layout=Layout(height='25px', width='50%'),…"
      ]
     },
     "metadata": {},
     "output_type": "display_data"
    }
   ],
   "source": [
    "stop_id_to_stop = stops.select('stop_id', 'stop_name')\n",
    "stop_id_to_stop_dict = stop_id_to_stop.toPandas().set_index('stop_id').to_dict()['stop_name']\n",
    "\n",
    "route_id_to_route_name = routes.withColumn('route_name', F.concat(F.col('route_desc'), F.lit(' '), F.col('route_short_name')))\\\n",
    "                               .select('route_id', 'route_desc', 'route_short_name', 'route_name')\n",
    "route_id_to_route_name_dict = route_id_to_route_name.toPandas().set_index('route_id').to_dict()['route_name']\n",
    "route_id_to_route_name_dict['walking'] = 'Walk'"
   ]
  },
  {
   "cell_type": "code",
   "execution_count": 59,
   "metadata": {},
   "outputs": [
    {
     "data": {
      "application/vnd.jupyter.widget-view+json": {
       "model_id": "",
       "version_major": 2,
       "version_minor": 0
      },
      "text/plain": [
       "FloatProgress(value=0.0, bar_style='info', description='Progress:', layout=Layout(height='25px', width='50%'),…"
      ]
     },
     "metadata": {},
     "output_type": "display_data"
    }
   ],
   "source": [
    "# Journey reconstruction\n",
    "\n",
    "from itertools import groupby\n",
    "import numpy as np\n",
    "\n",
    "def minutes_to_timestamp(minutes):\n",
    "    return str(minutes // 60) + ':' + str(minutes % 60).zfill(2)\n",
    "\n",
    "def select_next(prev_time, prev_duration, prev_route_id, node, all_roads, transfer_time=2, max_walking_time=10):\n",
    "    next_edges = all_roads.get(node, [])\n",
    "    possible_edges = []\n",
    "    for edge in next_edges:\n",
    "        t, v, route_id, dur = edge\n",
    "        if prev_route_id != route_id:\n",
    "            if prev_time + prev_duration + transfer_time <= t:\n",
    "                possible_edges.append(edge)\n",
    "        elif prev_route_id == 'Walking' and prev_time + prev_duration <= t and prev_duration + dur <= max_walking_time:\n",
    "            possible_edges.append(edge)\n",
    "        elif prev_time + prev_duration <= t:\n",
    "            possible_edges.append(edge)\n",
    "    \n",
    "    return possible_edges\n",
    "    \n",
    "def iterate_all_edges(start_edges, end_stop, all_roads, cur_list):\n",
    "    for edge in start_edges:\n",
    "        t, v, route_id, dur = edge\n",
    "        if v == end_stop:\n",
    "            yield cur_list + [edge]\n",
    "        else:\n",
    "            for journey in iterate_all_edges(select_next(t, dur, route_id, v,  all_roads), end_stop, all_roads, cur_list + [edge]):\n",
    "                yield journey\n",
    "\n",
    "def get_journey_attributes(journey):\n",
    "    walking_distance = sum([t[-1] for t in journey if t[-1] == 'Walking'])\n",
    "    transfers = len(set([t[2] for t in journey if t[2] != 'Walking']))\n",
    "    return [transfers, walking_distance]\n",
    "    \n",
    "def get_walking_edges(all_roads, node, walking_edges, walking_edge_duration):\n",
    "    # Compute viable walks starting at node u:\n",
    "    walking_edges = []\n",
    "    \n",
    "def generate_best_paths(all_roads, start_stop, end_stop, walking_edges, walking_edge_duration):\n",
    "    \n",
    "    \n",
    "    start_edges \n",
    "    start_edges = sorted(all_roads.get(start_stop, []), key=lambda x:x[0], reverse=True)\n",
    "    start_edges = groupby(start_edges, key=lambda x:x[0])\n",
    "    for start_time , edges in start_edges:\n",
    "        all_journeys = list(iterate_all_edges(list(edges), end_stop, all_roads, []))\n",
    "        journey_attribs = np.array([get_journey_attributes(journey) for journey in all_journeys])\n",
    "        sorted_indices = np.lexsort(journey_attribs.T)\n",
    "        for i in sorted_indices:\n",
    "            yield all_journeys[i]"
   ]
  },
  {
   "cell_type": "code",
   "execution_count": 60,
   "metadata": {},
   "outputs": [
    {
     "data": {
      "application/vnd.jupyter.widget-view+json": {
       "model_id": "",
       "version_major": 2,
       "version_minor": 0
      },
      "text/plain": [
       "FloatProgress(value=0.0, bar_style='info', description='Progress:', layout=Layout(height='25px', width='50%'),…"
      ]
     },
     "metadata": {},
     "output_type": "display_data"
    },
    {
     "name": "stdout",
     "output_type": "stream",
     "text": [
      "u'8573723'"
     ]
    }
   ],
   "source": [
    "all_roads.keys()[334]"
   ]
  },
  {
   "cell_type": "code",
   "execution_count": 61,
   "metadata": {},
   "outputs": [
    {
     "data": {
      "application/vnd.jupyter.widget-view+json": {
       "model_id": "",
       "version_major": 2,
       "version_minor": 0
      },
      "text/plain": [
       "FloatProgress(value=0.0, bar_style='info', description='Progress:', layout=Layout(height='25px', width='50%'),…"
      ]
     },
     "metadata": {},
     "output_type": "display_data"
    }
   ],
   "source": [
    "iterator = generate_best_paths(all_roads, '8573723',  '8591221')"
   ]
  },
  {
   "cell_type": "code",
   "execution_count": 62,
   "metadata": {},
   "outputs": [
    {
     "data": {
      "application/vnd.jupyter.widget-view+json": {
       "model_id": "",
       "version_major": 2,
       "version_minor": 0
      },
      "text/plain": [
       "FloatProgress(value=0.0, bar_style='info', description='Progress:', layout=Layout(height='25px', width='50%'),…"
      ]
     },
     "metadata": {},
     "output_type": "display_data"
    },
    {
     "name": "stderr",
     "output_type": "stream",
     "text": [
      "An error was encountered:\n",
      "maximum recursion depth exceeded in cmp\n",
      "Traceback (most recent call last):\n",
      "  File \"<stdin>\", line 41, in generate_best_paths\n",
      "  File \"<stdin>\", line 29, in iterate_all_edges\n",
      "  File \"<stdin>\", line 29, in iterate_all_edges\n",
      "  File \"<stdin>\", line 29, in iterate_all_edges\n",
      "  File \"<stdin>\", line 29, in iterate_all_edges\n",
      "  File \"<stdin>\", line 29, in iterate_all_edges\n",
      "  File \"<stdin>\", line 29, in iterate_all_edges\n",
      "  File \"<stdin>\", line 29, in iterate_all_edges\n",
      "  File \"<stdin>\", line 29, in iterate_all_edges\n",
      "  File \"<stdin>\", line 29, in iterate_all_edges\n",
      "  File \"<stdin>\", line 29, in iterate_all_edges\n",
      "  File \"<stdin>\", line 29, in iterate_all_edges\n",
      "  File \"<stdin>\", line 29, in iterate_all_edges\n",
      "  File \"<stdin>\", line 29, in iterate_all_edges\n",
      "  File \"<stdin>\", line 29, in iterate_all_edges\n",
      "  File \"<stdin>\", line 29, in iterate_all_edges\n",
      "  File \"<stdin>\", line 29, in iterate_all_edges\n",
      "  File \"<stdin>\", line 29, in iterate_all_edges\n",
      "  File \"<stdin>\", line 29, in iterate_all_edges\n",
      "  File \"<stdin>\", line 29, in iterate_all_edges\n",
      "  File \"<stdin>\", line 29, in iterate_all_edges\n",
      "  File \"<stdin>\", line 29, in iterate_all_edges\n",
      "  File \"<stdin>\", line 29, in iterate_all_edges\n",
      "  File \"<stdin>\", line 29, in iterate_all_edges\n",
      "  File \"<stdin>\", line 29, in iterate_all_edges\n",
      "  File \"<stdin>\", line 29, in iterate_all_edges\n",
      "  File \"<stdin>\", line 29, in iterate_all_edges\n",
      "  File \"<stdin>\", line 29, in iterate_all_edges\n",
      "  File \"<stdin>\", line 29, in iterate_all_edges\n",
      "  File \"<stdin>\", line 29, in iterate_all_edges\n",
      "  File \"<stdin>\", line 29, in iterate_all_edges\n",
      "  File \"<stdin>\", line 29, in iterate_all_edges\n",
      "  File \"<stdin>\", line 29, in iterate_all_edges\n",
      "  File \"<stdin>\", line 29, in iterate_all_edges\n",
      "  File \"<stdin>\", line 29, in iterate_all_edges\n",
      "  File \"<stdin>\", line 29, in iterate_all_edges\n",
      "  File \"<stdin>\", line 29, in iterate_all_edges\n",
      "  File \"<stdin>\", line 29, in iterate_all_edges\n",
      "  File \"<stdin>\", line 29, in iterate_all_edges\n",
      "  File \"<stdin>\", line 29, in iterate_all_edges\n",
      "  File \"<stdin>\", line 29, in iterate_all_edges\n",
      "  File \"<stdin>\", line 29, in iterate_all_edges\n",
      "  File \"<stdin>\", line 29, in iterate_all_edges\n",
      "  File \"<stdin>\", line 29, in iterate_all_edges\n",
      "  File \"<stdin>\", line 29, in iterate_all_edges\n",
      "  File \"<stdin>\", line 29, in iterate_all_edges\n",
      "  File \"<stdin>\", line 29, in iterate_all_edges\n",
      "  File \"<stdin>\", line 29, in iterate_all_edges\n",
      "  File \"<stdin>\", line 29, in iterate_all_edges\n",
      "  File \"<stdin>\", line 29, in iterate_all_edges\n",
      "  File \"<stdin>\", line 29, in iterate_all_edges\n",
      "  File \"<stdin>\", line 29, in iterate_all_edges\n",
      "  File \"<stdin>\", line 29, in iterate_all_edges\n",
      "  File \"<stdin>\", line 29, in iterate_all_edges\n",
      "  File \"<stdin>\", line 29, in iterate_all_edges\n",
      "  File \"<stdin>\", line 29, in iterate_all_edges\n",
      "  File \"<stdin>\", line 29, in iterate_all_edges\n",
      "  File \"<stdin>\", line 29, in iterate_all_edges\n",
      "  File \"<stdin>\", line 29, in iterate_all_edges\n",
      "  File \"<stdin>\", line 29, in iterate_all_edges\n",
      "  File \"<stdin>\", line 29, in iterate_all_edges\n",
      "  File \"<stdin>\", line 29, in iterate_all_edges\n",
      "  File \"<stdin>\", line 29, in iterate_all_edges\n",
      "  File \"<stdin>\", line 29, in iterate_all_edges\n",
      "  File \"<stdin>\", line 29, in iterate_all_edges\n",
      "  File \"<stdin>\", line 29, in iterate_all_edges\n",
      "  File \"<stdin>\", line 29, in iterate_all_edges\n",
      "  File \"<stdin>\", line 29, in iterate_all_edges\n",
      "  File \"<stdin>\", line 29, in iterate_all_edges\n",
      "  File \"<stdin>\", line 29, in iterate_all_edges\n",
      "  File \"<stdin>\", line 29, in iterate_all_edges\n",
      "  File \"<stdin>\", line 29, in iterate_all_edges\n",
      "  File \"<stdin>\", line 29, in iterate_all_edges\n",
      "  File \"<stdin>\", line 29, in iterate_all_edges\n",
      "  File \"<stdin>\", line 29, in iterate_all_edges\n",
      "  File \"<stdin>\", line 29, in iterate_all_edges\n",
      "  File \"<stdin>\", line 29, in iterate_all_edges\n",
      "  File \"<stdin>\", line 29, in iterate_all_edges\n",
      "  File \"<stdin>\", line 29, in iterate_all_edges\n",
      "  File \"<stdin>\", line 29, in iterate_all_edges\n",
      "  File \"<stdin>\", line 29, in iterate_all_edges\n",
      "  File \"<stdin>\", line 29, in iterate_all_edges\n",
      "  File \"<stdin>\", line 29, in iterate_all_edges\n",
      "  File \"<stdin>\", line 29, in iterate_all_edges\n",
      "  File \"<stdin>\", line 29, in iterate_all_edges\n",
      "  File \"<stdin>\", line 29, in iterate_all_edges\n",
      "  File \"<stdin>\", line 29, in iterate_all_edges\n",
      "  File \"<stdin>\", line 29, in iterate_all_edges\n",
      "  File \"<stdin>\", line 29, in iterate_all_edges\n",
      "  File \"<stdin>\", line 29, in iterate_all_edges\n",
      "  File \"<stdin>\", line 29, in iterate_all_edges\n",
      "  File \"<stdin>\", line 29, in iterate_all_edges\n",
      "  File \"<stdin>\", line 29, in iterate_all_edges\n",
      "  File \"<stdin>\", line 29, in iterate_all_edges\n",
      "  File \"<stdin>\", line 29, in iterate_all_edges\n",
      "  File \"<stdin>\", line 29, in iterate_all_edges\n",
      "  File \"<stdin>\", line 29, in iterate_all_edges\n",
      "  File \"<stdin>\", line 29, in iterate_all_edges\n",
      "  File \"<stdin>\", line 29, in iterate_all_edges\n",
      "  File \"<stdin>\", line 29, in iterate_all_edges\n",
      "  File \"<stdin>\", line 29, in iterate_all_edges\n",
      "  File \"<stdin>\", line 29, in iterate_all_edges\n",
      "  File \"<stdin>\", line 29, in iterate_all_edges\n",
      "  File \"<stdin>\", line 29, in iterate_all_edges\n",
      "  File \"<stdin>\", line 29, in iterate_all_edges\n",
      "  File \"<stdin>\", line 29, in iterate_all_edges\n",
      "  File \"<stdin>\", line 29, in iterate_all_edges\n",
      "  File \"<stdin>\", line 29, in iterate_all_edges\n",
      "  File \"<stdin>\", line 29, in iterate_all_edges\n",
      "  File \"<stdin>\", line 29, in iterate_all_edges\n",
      "  File \"<stdin>\", line 29, in iterate_all_edges\n",
      "  File \"<stdin>\", line 29, in iterate_all_edges\n",
      "  File \"<stdin>\", line 29, in iterate_all_edges\n",
      "  File \"<stdin>\", line 29, in iterate_all_edges\n",
      "  File \"<stdin>\", line 29, in iterate_all_edges\n",
      "  File \"<stdin>\", line 29, in iterate_all_edges\n",
      "  File \"<stdin>\", line 29, in iterate_all_edges\n",
      "  File \"<stdin>\", line 29, in iterate_all_edges\n",
      "  File \"<stdin>\", line 29, in iterate_all_edges\n",
      "  File \"<stdin>\", line 29, in iterate_all_edges\n",
      "  File \"<stdin>\", line 29, in iterate_all_edges\n",
      "  File \"<stdin>\", line 29, in iterate_all_edges\n",
      "  File \"<stdin>\", line 29, in iterate_all_edges\n",
      "  File \"<stdin>\", line 29, in iterate_all_edges\n",
      "  File \"<stdin>\", line 29, in iterate_all_edges\n",
      "  File \"<stdin>\", line 29, in iterate_all_edges\n",
      "  File \"<stdin>\", line 29, in iterate_all_edges\n",
      "  File \"<stdin>\", line 29, in iterate_all_edges\n",
      "  File \"<stdin>\", line 29, in iterate_all_edges\n",
      "  File \"<stdin>\", line 29, in iterate_all_edges\n",
      "  File \"<stdin>\", line 29, in iterate_all_edges\n",
      "  File \"<stdin>\", line 29, in iterate_all_edges\n",
      "  File \"<stdin>\", line 29, in iterate_all_edges\n",
      "  File \"<stdin>\", line 29, in iterate_all_edges\n",
      "  File \"<stdin>\", line 29, in iterate_all_edges\n",
      "  File \"<stdin>\", line 29, in iterate_all_edges\n",
      "  File \"<stdin>\", line 29, in iterate_all_edges\n",
      "  File \"<stdin>\", line 29, in iterate_all_edges\n",
      "  File \"<stdin>\", line 29, in iterate_all_edges\n",
      "  File \"<stdin>\", line 29, in iterate_all_edges\n",
      "  File \"<stdin>\", line 29, in iterate_all_edges\n",
      "  File \"<stdin>\", line 29, in iterate_all_edges\n",
      "  File \"<stdin>\", line 29, in iterate_all_edges\n",
      "  File \"<stdin>\", line 29, in iterate_all_edges\n",
      "  File \"<stdin>\", line 29, in iterate_all_edges\n",
      "  File \"<stdin>\", line 29, in iterate_all_edges\n",
      "  File \"<stdin>\", line 29, in iterate_all_edges\n",
      "  File \"<stdin>\", line 29, in iterate_all_edges\n",
      "  File \"<stdin>\", line 29, in iterate_all_edges\n",
      "  File \"<stdin>\", line 29, in iterate_all_edges\n",
      "  File \"<stdin>\", line 29, in iterate_all_edges\n",
      "  File \"<stdin>\", line 29, in iterate_all_edges\n",
      "  File \"<stdin>\", line 29, in iterate_all_edges\n",
      "  File \"<stdin>\", line 29, in iterate_all_edges\n",
      "  File \"<stdin>\", line 29, in iterate_all_edges\n",
      "  File \"<stdin>\", line 29, in iterate_all_edges\n",
      "  File \"<stdin>\", line 29, in iterate_all_edges\n",
      "  File \"<stdin>\", line 29, in iterate_all_edges\n",
      "  File \"<stdin>\", line 29, in iterate_all_edges\n",
      "  File \"<stdin>\", line 29, in iterate_all_edges\n",
      "  File \"<stdin>\", line 29, in iterate_all_edges\n",
      "  File \"<stdin>\", line 29, in iterate_all_edges\n",
      "  File \"<stdin>\", line 29, in iterate_all_edges\n",
      "  File \"<stdin>\", line 29, in iterate_all_edges\n",
      "  File \"<stdin>\", line 29, in iterate_all_edges\n",
      "  File \"<stdin>\", line 29, in iterate_all_edges\n",
      "  File \"<stdin>\", line 29, in iterate_all_edges\n",
      "  File \"<stdin>\", line 29, in iterate_all_edges\n",
      "  File \"<stdin>\", line 29, in iterate_all_edges\n",
      "  File \"<stdin>\", line 29, in iterate_all_edges\n",
      "  File \"<stdin>\", line 29, in iterate_all_edges\n",
      "  File \"<stdin>\", line 29, in iterate_all_edges\n",
      "  File \"<stdin>\", line 29, in iterate_all_edges\n",
      "  File \"<stdin>\", line 29, in iterate_all_edges\n",
      "  File \"<stdin>\", line 29, in iterate_all_edges\n",
      "  File \"<stdin>\", line 29, in iterate_all_edges\n",
      "  File \"<stdin>\", line 29, in iterate_all_edges\n",
      "  File \"<stdin>\", line 29, in iterate_all_edges\n",
      "  File \"<stdin>\", line 29, in iterate_all_edges\n",
      "  File \"<stdin>\", line 29, in iterate_all_edges\n",
      "  File \"<stdin>\", line 29, in iterate_all_edges\n",
      "  File \"<stdin>\", line 29, in iterate_all_edges\n",
      "  File \"<stdin>\", line 29, in iterate_all_edges\n",
      "  File \"<stdin>\", line 29, in iterate_all_edges\n",
      "  File \"<stdin>\", line 29, in iterate_all_edges\n",
      "  File \"<stdin>\", line 29, in iterate_all_edges\n",
      "  File \"<stdin>\", line 29, in iterate_all_edges\n",
      "  File \"<stdin>\", line 29, in iterate_all_edges\n",
      "  File \"<stdin>\", line 29, in iterate_all_edges\n",
      "  File \"<stdin>\", line 29, in iterate_all_edges\n",
      "  File \"<stdin>\", line 29, in iterate_all_edges\n",
      "  File \"<stdin>\", line 29, in iterate_all_edges\n",
      "  File \"<stdin>\", line 29, in iterate_all_edges\n",
      "  File \"<stdin>\", line 29, in iterate_all_edges\n",
      "  File \"<stdin>\", line 29, in iterate_all_edges\n",
      "  File \"<stdin>\", line 29, in iterate_all_edges\n",
      "  File \"<stdin>\", line 29, in iterate_all_edges\n",
      "  File \"<stdin>\", line 29, in iterate_all_edges\n",
      "  File \"<stdin>\", line 29, in iterate_all_edges\n",
      "  File \"<stdin>\", line 29, in iterate_all_edges\n",
      "  File \"<stdin>\", line 29, in iterate_all_edges\n",
      "  File \"<stdin>\", line 29, in iterate_all_edges\n",
      "  File \"<stdin>\", line 29, in iterate_all_edges\n",
      "  File \"<stdin>\", line 29, in iterate_all_edges\n",
      "  File \"<stdin>\", line 29, in iterate_all_edges\n",
      "  File \"<stdin>\", line 29, in iterate_all_edges\n",
      "  File \"<stdin>\", line 29, in iterate_all_edges\n",
      "  File \"<stdin>\", line 29, in iterate_all_edges\n",
      "  File \"<stdin>\", line 29, in iterate_all_edges\n",
      "  File \"<stdin>\", line 29, in iterate_all_edges\n",
      "  File \"<stdin>\", line 29, in iterate_all_edges\n",
      "  File \"<stdin>\", line 29, in iterate_all_edges\n",
      "  File \"<stdin>\", line 29, in iterate_all_edges\n",
      "  File \"<stdin>\", line 29, in iterate_all_edges\n",
      "  File \"<stdin>\", line 29, in iterate_all_edges\n",
      "  File \"<stdin>\", line 29, in iterate_all_edges\n",
      "  File \"<stdin>\", line 29, in iterate_all_edges\n",
      "  File \"<stdin>\", line 29, in iterate_all_edges\n",
      "  File \"<stdin>\", line 29, in iterate_all_edges\n",
      "  File \"<stdin>\", line 29, in iterate_all_edges\n",
      "  File \"<stdin>\", line 29, in iterate_all_edges\n",
      "  File \"<stdin>\", line 29, in iterate_all_edges\n",
      "  File \"<stdin>\", line 29, in iterate_all_edges\n",
      "  File \"<stdin>\", line 29, in iterate_all_edges\n",
      "  File \"<stdin>\", line 29, in iterate_all_edges\n",
      "  File \"<stdin>\", line 29, in iterate_all_edges\n",
      "  File \"<stdin>\", line 29, in iterate_all_edges\n",
      "  File \"<stdin>\", line 29, in iterate_all_edges\n",
      "  File \"<stdin>\", line 29, in iterate_all_edges\n",
      "  File \"<stdin>\", line 29, in iterate_all_edges\n",
      "  File \"<stdin>\", line 29, in iterate_all_edges\n",
      "  File \"<stdin>\", line 29, in iterate_all_edges\n",
      "  File \"<stdin>\", line 29, in iterate_all_edges\n",
      "  File \"<stdin>\", line 29, in iterate_all_edges\n",
      "  File \"<stdin>\", line 29, in iterate_all_edges\n",
      "  File \"<stdin>\", line 29, in iterate_all_edges\n",
      "  File \"<stdin>\", line 29, in iterate_all_edges\n",
      "  File \"<stdin>\", line 29, in iterate_all_edges\n",
      "  File \"<stdin>\", line 29, in iterate_all_edges\n",
      "  File \"<stdin>\", line 29, in iterate_all_edges\n",
      "  File \"<stdin>\", line 29, in iterate_all_edges\n",
      "  File \"<stdin>\", line 29, in iterate_all_edges\n",
      "  File \"<stdin>\", line 29, in iterate_all_edges\n",
      "  File \"<stdin>\", line 29, in iterate_all_edges\n",
      "  File \"<stdin>\", line 29, in iterate_all_edges\n",
      "  File \"<stdin>\", line 29, in iterate_all_edges\n",
      "  File \"<stdin>\", line 29, in iterate_all_edges\n",
      "  File \"<stdin>\", line 29, in iterate_all_edges\n",
      "  File \"<stdin>\", line 29, in iterate_all_edges\n",
      "  File \"<stdin>\", line 29, in iterate_all_edges\n",
      "  File \"<stdin>\", line 29, in iterate_all_edges\n",
      "  File \"<stdin>\", line 29, in iterate_all_edges\n",
      "  File \"<stdin>\", line 29, in iterate_all_edges\n",
      "  File \"<stdin>\", line 29, in iterate_all_edges\n",
      "  File \"<stdin>\", line 29, in iterate_all_edges\n",
      "  File \"<stdin>\", line 29, in iterate_all_edges\n",
      "  File \"<stdin>\", line 29, in iterate_all_edges\n",
      "  File \"<stdin>\", line 29, in iterate_all_edges\n",
      "  File \"<stdin>\", line 29, in iterate_all_edges\n",
      "  File \"<stdin>\", line 29, in iterate_all_edges\n",
      "  File \"<stdin>\", line 29, in iterate_all_edges\n",
      "  File \"<stdin>\", line 29, in iterate_all_edges\n",
      "  File \"<stdin>\", line 29, in iterate_all_edges\n",
      "  File \"<stdin>\", line 29, in iterate_all_edges\n",
      "  File \"<stdin>\", line 29, in iterate_all_edges\n",
      "  File \"<stdin>\", line 29, in iterate_all_edges\n",
      "  File \"<stdin>\", line 29, in iterate_all_edges\n",
      "  File \"<stdin>\", line 29, in iterate_all_edges\n",
      "  File \"<stdin>\", line 29, in iterate_all_edges\n",
      "  File \"<stdin>\", line 29, in iterate_all_edges\n",
      "  File \"<stdin>\", line 29, in iterate_all_edges\n",
      "  File \"<stdin>\", line 29, in iterate_all_edges\n",
      "  File \"<stdin>\", line 29, in iterate_all_edges\n",
      "  File \"<stdin>\", line 29, in iterate_all_edges\n",
      "  File \"<stdin>\", line 29, in iterate_all_edges\n",
      "  File \"<stdin>\", line 29, in iterate_all_edges\n",
      "  File \"<stdin>\", line 29, in iterate_all_edges\n",
      "  File \"<stdin>\", line 29, in iterate_all_edges\n",
      "  File \"<stdin>\", line 29, in iterate_all_edges\n",
      "  File \"<stdin>\", line 29, in iterate_all_edges\n",
      "  File \"<stdin>\", line 29, in iterate_all_edges\n",
      "  File \"<stdin>\", line 29, in iterate_all_edges\n",
      "  File \"<stdin>\", line 29, in iterate_all_edges\n",
      "  File \"<stdin>\", line 29, in iterate_all_edges\n",
      "  File \"<stdin>\", line 29, in iterate_all_edges\n",
      "  File \"<stdin>\", line 29, in iterate_all_edges\n",
      "  File \"<stdin>\", line 29, in iterate_all_edges\n",
      "  File \"<stdin>\", line 29, in iterate_all_edges\n",
      "  File \"<stdin>\", line 29, in iterate_all_edges\n",
      "  File \"<stdin>\", line 29, in iterate_all_edges\n",
      "  File \"<stdin>\", line 29, in iterate_all_edges\n",
      "  File \"<stdin>\", line 29, in iterate_all_edges\n",
      "  File \"<stdin>\", line 29, in iterate_all_edges\n",
      "  File \"<stdin>\", line 29, in iterate_all_edges\n",
      "  File \"<stdin>\", line 29, in iterate_all_edges\n",
      "  File \"<stdin>\", line 29, in iterate_all_edges\n",
      "  File \"<stdin>\", line 29, in iterate_all_edges\n",
      "  File \"<stdin>\", line 29, in iterate_all_edges\n",
      "  File \"<stdin>\", line 29, in iterate_all_edges\n",
      "  File \"<stdin>\", line 29, in iterate_all_edges\n",
      "  File \"<stdin>\", line 29, in iterate_all_edges\n",
      "  File \"<stdin>\", line 29, in iterate_all_edges\n",
      "  File \"<stdin>\", line 29, in iterate_all_edges\n",
      "  File \"<stdin>\", line 29, in iterate_all_edges\n",
      "  File \"<stdin>\", line 29, in iterate_all_edges\n",
      "  File \"<stdin>\", line 29, in iterate_all_edges\n",
      "  File \"<stdin>\", line 29, in iterate_all_edges\n",
      "  File \"<stdin>\", line 29, in iterate_all_edges\n",
      "  File \"<stdin>\", line 29, in iterate_all_edges\n",
      "  File \"<stdin>\", line 29, in iterate_all_edges\n",
      "  File \"<stdin>\", line 29, in iterate_all_edges\n",
      "  File \"<stdin>\", line 29, in iterate_all_edges\n",
      "  File \"<stdin>\", line 29, in iterate_all_edges\n",
      "  File \"<stdin>\", line 29, in iterate_all_edges\n",
      "  File \"<stdin>\", line 29, in iterate_all_edges\n",
      "  File \"<stdin>\", line 29, in iterate_all_edges\n",
      "  File \"<stdin>\", line 29, in iterate_all_edges\n",
      "  File \"<stdin>\", line 29, in iterate_all_edges\n",
      "  File \"<stdin>\", line 29, in iterate_all_edges\n",
      "  File \"<stdin>\", line 29, in iterate_all_edges\n",
      "  File \"<stdin>\", line 29, in iterate_all_edges\n",
      "  File \"<stdin>\", line 29, in iterate_all_edges\n",
      "  File \"<stdin>\", line 29, in iterate_all_edges\n",
      "  File \"<stdin>\", line 29, in iterate_all_edges\n",
      "  File \"<stdin>\", line 29, in iterate_all_edges\n",
      "  File \"<stdin>\", line 29, in iterate_all_edges\n",
      "  File \"<stdin>\", line 29, in iterate_all_edges\n",
      "  File \"<stdin>\", line 29, in iterate_all_edges\n",
      "  File \"<stdin>\", line 29, in iterate_all_edges\n",
      "  File \"<stdin>\", line 29, in iterate_all_edges\n",
      "  File \"<stdin>\", line 29, in iterate_all_edges\n",
      "  File \"<stdin>\", line 29, in iterate_all_edges\n",
      "  File \"<stdin>\", line 29, in iterate_all_edges\n",
      "  File \"<stdin>\", line 29, in iterate_all_edges\n",
      "  File \"<stdin>\", line 29, in iterate_all_edges\n",
      "  File \"<stdin>\", line 29, in iterate_all_edges\n",
      "  File \"<stdin>\", line 29, in iterate_all_edges\n",
      "  File \"<stdin>\", line 29, in iterate_all_edges\n",
      "  File \"<stdin>\", line 29, in iterate_all_edges\n",
      "  File \"<stdin>\", line 29, in iterate_all_edges\n",
      "  File \"<stdin>\", line 29, in iterate_all_edges\n",
      "  File \"<stdin>\", line 29, in iterate_all_edges\n",
      "  File \"<stdin>\", line 29, in iterate_all_edges\n",
      "  File \"<stdin>\", line 29, in iterate_all_edges\n",
      "  File \"<stdin>\", line 29, in iterate_all_edges\n",
      "  File \"<stdin>\", line 29, in iterate_all_edges\n",
      "  File \"<stdin>\", line 29, in iterate_all_edges\n",
      "  File \"<stdin>\", line 29, in iterate_all_edges\n",
      "  File \"<stdin>\", line 29, in iterate_all_edges\n",
      "  File \"<stdin>\", line 29, in iterate_all_edges\n",
      "  File \"<stdin>\", line 29, in iterate_all_edges\n",
      "  File \"<stdin>\", line 29, in iterate_all_edges\n",
      "  File \"<stdin>\", line 29, in iterate_all_edges\n",
      "  File \"<stdin>\", line 29, in iterate_all_edges\n",
      "  File \"<stdin>\", line 29, in iterate_all_edges\n",
      "  File \"<stdin>\", line 29, in iterate_all_edges\n",
      "  File \"<stdin>\", line 29, in iterate_all_edges\n",
      "  File \"<stdin>\", line 29, in iterate_all_edges\n",
      "  File \"<stdin>\", line 29, in iterate_all_edges\n",
      "  File \"<stdin>\", line 29, in iterate_all_edges\n",
      "  File \"<stdin>\", line 29, in iterate_all_edges\n",
      "  File \"<stdin>\", line 29, in iterate_all_edges\n",
      "  File \"<stdin>\", line 29, in iterate_all_edges\n",
      "  File \"<stdin>\", line 29, in iterate_all_edges\n",
      "  File \"<stdin>\", line 29, in iterate_all_edges\n",
      "  File \"<stdin>\", line 29, in iterate_all_edges\n",
      "  File \"<stdin>\", line 29, in iterate_all_edges\n",
      "  File \"<stdin>\", line 29, in iterate_all_edges\n",
      "  File \"<stdin>\", line 29, in iterate_all_edges\n",
      "  File \"<stdin>\", line 29, in iterate_all_edges\n",
      "  File \"<stdin>\", line 29, in iterate_all_edges\n",
      "  File \"<stdin>\", line 29, in iterate_all_edges\n",
      "  File \"<stdin>\", line 29, in iterate_all_edges\n",
      "  File \"<stdin>\", line 29, in iterate_all_edges\n",
      "  File \"<stdin>\", line 29, in iterate_all_edges\n",
      "  File \"<stdin>\", line 29, in iterate_all_edges\n",
      "  File \"<stdin>\", line 29, in iterate_all_edges\n",
      "  File \"<stdin>\", line 29, in iterate_all_edges\n",
      "  File \"<stdin>\", line 29, in iterate_all_edges\n",
      "  File \"<stdin>\", line 29, in iterate_all_edges\n",
      "  File \"<stdin>\", line 29, in iterate_all_edges\n",
      "  File \"<stdin>\", line 29, in iterate_all_edges\n",
      "  File \"<stdin>\", line 29, in iterate_all_edges\n",
      "  File \"<stdin>\", line 29, in iterate_all_edges\n",
      "  File \"<stdin>\", line 29, in iterate_all_edges\n",
      "  File \"<stdin>\", line 29, in iterate_all_edges\n",
      "  File \"<stdin>\", line 29, in iterate_all_edges\n",
      "  File \"<stdin>\", line 29, in iterate_all_edges\n",
      "  File \"<stdin>\", line 29, in iterate_all_edges\n",
      "  File \"<stdin>\", line 29, in iterate_all_edges\n",
      "  File \"<stdin>\", line 29, in iterate_all_edges\n",
      "  File \"<stdin>\", line 29, in iterate_all_edges\n",
      "  File \"<stdin>\", line 29, in iterate_all_edges\n",
      "  File \"<stdin>\", line 29, in iterate_all_edges\n",
      "  File \"<stdin>\", line 29, in iterate_all_edges\n",
      "  File \"<stdin>\", line 29, in iterate_all_edges\n",
      "  File \"<stdin>\", line 29, in iterate_all_edges\n",
      "  File \"<stdin>\", line 29, in iterate_all_edges\n",
      "  File \"<stdin>\", line 29, in iterate_all_edges\n",
      "  File \"<stdin>\", line 29, in iterate_all_edges\n",
      "  File \"<stdin>\", line 29, in iterate_all_edges\n",
      "  File \"<stdin>\", line 29, in iterate_all_edges\n",
      "  File \"<stdin>\", line 29, in iterate_all_edges\n",
      "  File \"<stdin>\", line 29, in iterate_all_edges\n",
      "  File \"<stdin>\", line 29, in iterate_all_edges\n",
      "  File \"<stdin>\", line 29, in iterate_all_edges\n",
      "  File \"<stdin>\", line 29, in iterate_all_edges\n",
      "  File \"<stdin>\", line 29, in iterate_all_edges\n",
      "  File \"<stdin>\", line 29, in iterate_all_edges\n",
      "  File \"<stdin>\", line 29, in iterate_all_edges\n",
      "  File \"<stdin>\", line 29, in iterate_all_edges\n",
      "  File \"<stdin>\", line 29, in iterate_all_edges\n",
      "  File \"<stdin>\", line 29, in iterate_all_edges\n",
      "  File \"<stdin>\", line 29, in iterate_all_edges\n",
      "  File \"<stdin>\", line 29, in iterate_all_edges\n",
      "  File \"<stdin>\", line 29, in iterate_all_edges\n",
      "  File \"<stdin>\", line 29, in iterate_all_edges\n",
      "  File \"<stdin>\", line 29, in iterate_all_edges\n",
      "  File \"<stdin>\", line 29, in iterate_all_edges\n",
      "  File \"<stdin>\", line 29, in iterate_all_edges\n",
      "  File \"<stdin>\", line 29, in iterate_all_edges\n",
      "  File \"<stdin>\", line 29, in iterate_all_edges\n",
      "  File \"<stdin>\", line 29, in iterate_all_edges\n",
      "  File \"<stdin>\", line 29, in iterate_all_edges\n",
      "  File \"<stdin>\", line 29, in iterate_all_edges\n",
      "  File \"<stdin>\", line 29, in iterate_all_edges\n",
      "  File \"<stdin>\", line 29, in iterate_all_edges\n",
      "  File \"<stdin>\", line 29, in iterate_all_edges\n",
      "  File \"<stdin>\", line 29, in iterate_all_edges\n",
      "  File \"<stdin>\", line 29, in iterate_all_edges\n",
      "  File \"<stdin>\", line 29, in iterate_all_edges\n",
      "  File \"<stdin>\", line 29, in iterate_all_edges\n",
      "  File \"<stdin>\", line 29, in iterate_all_edges\n",
      "  File \"<stdin>\", line 29, in iterate_all_edges\n",
      "  File \"<stdin>\", line 29, in iterate_all_edges\n",
      "  File \"<stdin>\", line 29, in iterate_all_edges\n",
      "  File \"<stdin>\", line 29, in iterate_all_edges\n",
      "  File \"<stdin>\", line 29, in iterate_all_edges\n",
      "  File \"<stdin>\", line 29, in iterate_all_edges\n",
      "  File \"<stdin>\", line 29, in iterate_all_edges\n",
      "  File \"<stdin>\", line 29, in iterate_all_edges\n",
      "  File \"<stdin>\", line 29, in iterate_all_edges\n",
      "  File \"<stdin>\", line 29, in iterate_all_edges\n",
      "  File \"<stdin>\", line 29, in iterate_all_edges\n",
      "  File \"<stdin>\", line 29, in iterate_all_edges\n",
      "  File \"<stdin>\", line 29, in iterate_all_edges\n",
      "  File \"<stdin>\", line 29, in iterate_all_edges\n",
      "  File \"<stdin>\", line 29, in iterate_all_edges\n",
      "  File \"<stdin>\", line 29, in iterate_all_edges\n",
      "  File \"<stdin>\", line 29, in iterate_all_edges\n",
      "  File \"<stdin>\", line 29, in iterate_all_edges\n",
      "  File \"<stdin>\", line 29, in iterate_all_edges\n",
      "  File \"<stdin>\", line 29, in iterate_all_edges\n",
      "  File \"<stdin>\", line 29, in iterate_all_edges\n",
      "  File \"<stdin>\", line 29, in iterate_all_edges\n",
      "  File \"<stdin>\", line 29, in iterate_all_edges\n",
      "  File \"<stdin>\", line 29, in iterate_all_edges\n",
      "  File \"<stdin>\", line 29, in iterate_all_edges\n",
      "  File \"<stdin>\", line 29, in iterate_all_edges\n",
      "  File \"<stdin>\", line 29, in iterate_all_edges\n",
      "  File \"<stdin>\", line 29, in iterate_all_edges\n",
      "  File \"<stdin>\", line 29, in iterate_all_edges\n",
      "  File \"<stdin>\", line 29, in iterate_all_edges\n",
      "  File \"<stdin>\", line 29, in iterate_all_edges\n",
      "  File \"<stdin>\", line 29, in iterate_all_edges\n",
      "  File \"<stdin>\", line 29, in iterate_all_edges\n",
      "  File \"<stdin>\", line 29, in iterate_all_edges\n",
      "  File \"<stdin>\", line 29, in iterate_all_edges\n",
      "  File \"<stdin>\", line 29, in iterate_all_edges\n",
      "  File \"<stdin>\", line 29, in iterate_all_edges\n",
      "  File \"<stdin>\", line 29, in iterate_all_edges\n",
      "  File \"<stdin>\", line 29, in iterate_all_edges\n",
      "  File \"<stdin>\", line 29, in iterate_all_edges\n",
      "  File \"<stdin>\", line 29, in iterate_all_edges\n",
      "  File \"<stdin>\", line 29, in iterate_all_edges\n",
      "  File \"<stdin>\", line 29, in iterate_all_edges\n",
      "  File \"<stdin>\", line 29, in iterate_all_edges\n",
      "  File \"<stdin>\", line 29, in iterate_all_edges\n",
      "  File \"<stdin>\", line 29, in iterate_all_edges\n",
      "  File \"<stdin>\", line 29, in iterate_all_edges\n",
      "  File \"<stdin>\", line 29, in iterate_all_edges\n",
      "  File \"<stdin>\", line 29, in iterate_all_edges\n",
      "  File \"<stdin>\", line 29, in iterate_all_edges\n",
      "  File \"<stdin>\", line 29, in iterate_all_edges\n",
      "  File \"<stdin>\", line 29, in iterate_all_edges\n",
      "  File \"<stdin>\", line 29, in iterate_all_edges\n",
      "  File \"<stdin>\", line 29, in iterate_all_edges\n",
      "  File \"<stdin>\", line 29, in iterate_all_edges\n",
      "  File \"<stdin>\", line 29, in iterate_all_edges\n",
      "  File \"<stdin>\", line 29, in iterate_all_edges\n",
      "  File \"<stdin>\", line 29, in iterate_all_edges\n",
      "  File \"<stdin>\", line 29, in iterate_all_edges\n",
      "  File \"<stdin>\", line 29, in iterate_all_edges\n",
      "  File \"<stdin>\", line 29, in iterate_all_edges\n",
      "  File \"<stdin>\", line 29, in iterate_all_edges\n",
      "  File \"<stdin>\", line 29, in iterate_all_edges\n",
      "  File \"<stdin>\", line 29, in iterate_all_edges\n",
      "  File \"<stdin>\", line 29, in iterate_all_edges\n",
      "  File \"<stdin>\", line 29, in iterate_all_edges\n",
      "  File \"<stdin>\", line 29, in iterate_all_edges\n",
      "  File \"<stdin>\", line 29, in iterate_all_edges\n",
      "  File \"<stdin>\", line 29, in iterate_all_edges\n",
      "  File \"<stdin>\", line 29, in iterate_all_edges\n",
      "  File \"<stdin>\", line 29, in iterate_all_edges\n",
      "  File \"<stdin>\", line 29, in iterate_all_edges\n",
      "  File \"<stdin>\", line 29, in iterate_all_edges\n",
      "  File \"<stdin>\", line 29, in iterate_all_edges\n",
      "  File \"<stdin>\", line 29, in iterate_all_edges\n",
      "  File \"<stdin>\", line 29, in iterate_all_edges\n",
      "  File \"<stdin>\", line 29, in iterate_all_edges\n",
      "  File \"<stdin>\", line 29, in iterate_all_edges\n",
      "  File \"<stdin>\", line 29, in iterate_all_edges\n",
      "  File \"<stdin>\", line 29, in iterate_all_edges\n",
      "  File \"<stdin>\", line 29, in iterate_all_edges\n",
      "  File \"<stdin>\", line 29, in iterate_all_edges\n",
      "  File \"<stdin>\", line 29, in iterate_all_edges\n",
      "  File \"<stdin>\", line 29, in iterate_all_edges\n",
      "  File \"<stdin>\", line 29, in iterate_all_edges\n",
      "  File \"<stdin>\", line 29, in iterate_all_edges\n",
      "  File \"<stdin>\", line 29, in iterate_all_edges\n",
      "  File \"<stdin>\", line 29, in iterate_all_edges\n",
      "  File \"<stdin>\", line 29, in iterate_all_edges\n",
      "  File \"<stdin>\", line 29, in iterate_all_edges\n",
      "  File \"<stdin>\", line 29, in iterate_all_edges\n",
      "  File \"<stdin>\", line 29, in iterate_all_edges\n",
      "  File \"<stdin>\", line 29, in iterate_all_edges\n",
      "  File \"<stdin>\", line 29, in iterate_all_edges\n",
      "  File \"<stdin>\", line 29, in iterate_all_edges\n",
      "  File \"<stdin>\", line 29, in iterate_all_edges\n",
      "  File \"<stdin>\", line 29, in iterate_all_edges\n",
      "  File \"<stdin>\", line 29, in iterate_all_edges\n",
      "  File \"<stdin>\", line 29, in iterate_all_edges\n",
      "  File \"<stdin>\", line 29, in iterate_all_edges\n",
      "  File \"<stdin>\", line 29, in iterate_all_edges\n",
      "  File \"<stdin>\", line 29, in iterate_all_edges\n",
      "  File \"<stdin>\", line 29, in iterate_all_edges\n",
      "  File \"<stdin>\", line 29, in iterate_all_edges\n",
      "  File \"<stdin>\", line 29, in iterate_all_edges\n",
      "  File \"<stdin>\", line 29, in iterate_all_edges\n",
      "  File \"<stdin>\", line 29, in iterate_all_edges\n",
      "  File \"<stdin>\", line 29, in iterate_all_edges\n",
      "  File \"<stdin>\", line 29, in iterate_all_edges\n",
      "  File \"<stdin>\", line 29, in iterate_all_edges\n",
      "  File \"<stdin>\", line 29, in iterate_all_edges\n",
      "  File \"<stdin>\", line 29, in iterate_all_edges\n",
      "  File \"<stdin>\", line 29, in iterate_all_edges\n",
      "  File \"<stdin>\", line 29, in iterate_all_edges\n",
      "  File \"<stdin>\", line 29, in iterate_all_edges\n",
      "  File \"<stdin>\", line 29, in iterate_all_edges\n",
      "  File \"<stdin>\", line 29, in iterate_all_edges\n",
      "  File \"<stdin>\", line 29, in iterate_all_edges\n",
      "  File \"<stdin>\", line 29, in iterate_all_edges\n",
      "  File \"<stdin>\", line 29, in iterate_all_edges\n",
      "  File \"<stdin>\", line 29, in iterate_all_edges\n",
      "  File \"<stdin>\", line 29, in iterate_all_edges\n",
      "  File \"<stdin>\", line 29, in iterate_all_edges\n",
      "  File \"<stdin>\", line 29, in iterate_all_edges\n",
      "  File \"<stdin>\", line 29, in iterate_all_edges\n",
      "  File \"<stdin>\", line 29, in iterate_all_edges\n",
      "  File \"<stdin>\", line 29, in iterate_all_edges\n",
      "  File \"<stdin>\", line 29, in iterate_all_edges\n",
      "  File \"<stdin>\", line 29, in iterate_all_edges\n",
      "  File \"<stdin>\", line 29, in iterate_all_edges\n",
      "  File \"<stdin>\", line 29, in iterate_all_edges\n",
      "  File \"<stdin>\", line 29, in iterate_all_edges\n",
      "  File \"<stdin>\", line 29, in iterate_all_edges\n",
      "  File \"<stdin>\", line 29, in iterate_all_edges\n",
      "  File \"<stdin>\", line 29, in iterate_all_edges\n",
      "  File \"<stdin>\", line 29, in iterate_all_edges\n",
      "  File \"<stdin>\", line 29, in iterate_all_edges\n",
      "  File \"<stdin>\", line 29, in iterate_all_edges\n",
      "  File \"<stdin>\", line 29, in iterate_all_edges\n",
      "  File \"<stdin>\", line 29, in iterate_all_edges\n",
      "  File \"<stdin>\", line 29, in iterate_all_edges\n",
      "  File \"<stdin>\", line 29, in iterate_all_edges\n",
      "  File \"<stdin>\", line 29, in iterate_all_edges\n",
      "  File \"<stdin>\", line 29, in iterate_all_edges\n",
      "  File \"<stdin>\", line 29, in iterate_all_edges\n",
      "  File \"<stdin>\", line 29, in iterate_all_edges\n",
      "  File \"<stdin>\", line 29, in iterate_all_edges\n",
      "  File \"<stdin>\", line 29, in iterate_all_edges\n",
      "  File \"<stdin>\", line 29, in iterate_all_edges\n",
      "  File \"<stdin>\", line 29, in iterate_all_edges\n",
      "  File \"<stdin>\", line 29, in iterate_all_edges\n",
      "  File \"<stdin>\", line 29, in iterate_all_edges\n",
      "  File \"<stdin>\", line 29, in iterate_all_edges\n",
      "  File \"<stdin>\", line 29, in iterate_all_edges\n",
      "  File \"<stdin>\", line 29, in iterate_all_edges\n",
      "  File \"<stdin>\", line 29, in iterate_all_edges\n",
      "  File \"<stdin>\", line 29, in iterate_all_edges\n",
      "  File \"<stdin>\", line 29, in iterate_all_edges\n",
      "  File \"<stdin>\", line 29, in iterate_all_edges\n",
      "  File \"<stdin>\", line 29, in iterate_all_edges\n",
      "  File \"<stdin>\", line 29, in iterate_all_edges\n",
      "  File \"<stdin>\", line 29, in iterate_all_edges\n",
      "  File \"<stdin>\", line 29, in iterate_all_edges\n",
      "  File \"<stdin>\", line 29, in iterate_all_edges\n",
      "  File \"<stdin>\", line 29, in iterate_all_edges\n",
      "  File \"<stdin>\", line 29, in iterate_all_edges\n",
      "  File \"<stdin>\", line 29, in iterate_all_edges\n",
      "  File \"<stdin>\", line 29, in iterate_all_edges\n",
      "  File \"<stdin>\", line 29, in iterate_all_edges\n",
      "  File \"<stdin>\", line 29, in iterate_all_edges\n",
      "  File \"<stdin>\", line 29, in iterate_all_edges\n",
      "  File \"<stdin>\", line 29, in iterate_all_edges\n",
      "  File \"<stdin>\", line 29, in iterate_all_edges\n",
      "  File \"<stdin>\", line 29, in iterate_all_edges\n",
      "  File \"<stdin>\", line 29, in iterate_all_edges\n",
      "  File \"<stdin>\", line 29, in iterate_all_edges\n",
      "  File \"<stdin>\", line 29, in iterate_all_edges\n",
      "  File \"<stdin>\", line 29, in iterate_all_edges\n",
      "  File \"<stdin>\", line 29, in iterate_all_edges\n",
      "  File \"<stdin>\", line 29, in iterate_all_edges\n",
      "  File \"<stdin>\", line 29, in iterate_all_edges\n",
      "  File \"<stdin>\", line 29, in iterate_all_edges\n",
      "  File \"<stdin>\", line 29, in iterate_all_edges\n",
      "  File \"<stdin>\", line 29, in iterate_all_edges\n",
      "  File \"<stdin>\", line 29, in iterate_all_edges\n",
      "  File \"<stdin>\", line 29, in iterate_all_edges\n",
      "  File \"<stdin>\", line 29, in iterate_all_edges\n",
      "  File \"<stdin>\", line 29, in iterate_all_edges\n",
      "  File \"<stdin>\", line 29, in iterate_all_edges\n",
      "  File \"<stdin>\", line 29, in iterate_all_edges\n",
      "  File \"<stdin>\", line 29, in iterate_all_edges\n",
      "  File \"<stdin>\", line 29, in iterate_all_edges\n",
      "  File \"<stdin>\", line 29, in iterate_all_edges\n",
      "  File \"<stdin>\", line 29, in iterate_all_edges\n",
      "  File \"<stdin>\", line 29, in iterate_all_edges\n",
      "  File \"<stdin>\", line 29, in iterate_all_edges\n",
      "  File \"<stdin>\", line 29, in iterate_all_edges\n",
      "  File \"<stdin>\", line 29, in iterate_all_edges\n",
      "  File \"<stdin>\", line 29, in iterate_all_edges\n",
      "  File \"<stdin>\", line 29, in iterate_all_edges\n",
      "  File \"<stdin>\", line 29, in iterate_all_edges\n",
      "  File \"<stdin>\", line 29, in iterate_all_edges\n",
      "  File \"<stdin>\", line 29, in iterate_all_edges\n",
      "  File \"<stdin>\", line 29, in iterate_all_edges\n",
      "  File \"<stdin>\", line 29, in iterate_all_edges\n",
      "  File \"<stdin>\", line 29, in iterate_all_edges\n",
      "  File \"<stdin>\", line 29, in iterate_all_edges\n",
      "  File \"<stdin>\", line 29, in iterate_all_edges\n",
      "  File \"<stdin>\", line 29, in iterate_all_edges\n",
      "  File \"<stdin>\", line 29, in iterate_all_edges\n",
      "  File \"<stdin>\", line 29, in iterate_all_edges\n",
      "  File \"<stdin>\", line 29, in iterate_all_edges\n",
      "  File \"<stdin>\", line 29, in iterate_all_edges\n",
      "  File \"<stdin>\", line 29, in iterate_all_edges\n",
      "  File \"<stdin>\", line 29, in iterate_all_edges\n",
      "  File \"<stdin>\", line 29, in iterate_all_edges\n",
      "  File \"<stdin>\", line 29, in iterate_all_edges\n",
      "  File \"<stdin>\", line 29, in iterate_all_edges\n",
      "  File \"<stdin>\", line 29, in iterate_all_edges\n",
      "  File \"<stdin>\", line 29, in iterate_all_edges\n",
      "  File \"<stdin>\", line 29, in iterate_all_edges\n",
      "  File \"<stdin>\", line 29, in iterate_all_edges\n",
      "  File \"<stdin>\", line 29, in iterate_all_edges\n",
      "  File \"<stdin>\", line 29, in iterate_all_edges\n",
      "  File \"<stdin>\", line 29, in iterate_all_edges\n",
      "  File \"<stdin>\", line 29, in iterate_all_edges\n",
      "  File \"<stdin>\", line 29, in iterate_all_edges\n",
      "  File \"<stdin>\", line 29, in iterate_all_edges\n",
      "  File \"<stdin>\", line 29, in iterate_all_edges\n",
      "  File \"<stdin>\", line 29, in iterate_all_edges\n",
      "  File \"<stdin>\", line 29, in iterate_all_edges\n",
      "  File \"<stdin>\", line 29, in iterate_all_edges\n",
      "  File \"<stdin>\", line 29, in iterate_all_edges\n",
      "  File \"<stdin>\", line 29, in iterate_all_edges\n",
      "  File \"<stdin>\", line 29, in iterate_all_edges\n",
      "  File \"<stdin>\", line 29, in iterate_all_edges\n",
      "  File \"<stdin>\", line 29, in iterate_all_edges\n",
      "  File \"<stdin>\", line 29, in iterate_all_edges\n",
      "  File \"<stdin>\", line 29, in iterate_all_edges\n",
      "  File \"<stdin>\", line 29, in iterate_all_edges\n",
      "  File \"<stdin>\", line 29, in iterate_all_edges\n",
      "  File \"<stdin>\", line 29, in iterate_all_edges\n",
      "  File \"<stdin>\", line 29, in iterate_all_edges\n",
      "  File \"<stdin>\", line 29, in iterate_all_edges\n",
      "  File \"<stdin>\", line 29, in iterate_all_edges\n",
      "  File \"<stdin>\", line 29, in iterate_all_edges\n",
      "  File \"<stdin>\", line 29, in iterate_all_edges\n",
      "  File \"<stdin>\", line 29, in iterate_all_edges\n",
      "  File \"<stdin>\", line 29, in iterate_all_edges\n",
      "  File \"<stdin>\", line 29, in iterate_all_edges\n",
      "  File \"<stdin>\", line 29, in iterate_all_edges\n",
      "  File \"<stdin>\", line 29, in iterate_all_edges\n",
      "  File \"<stdin>\", line 29, in iterate_all_edges\n",
      "  File \"<stdin>\", line 29, in iterate_all_edges\n",
      "  File \"<stdin>\", line 29, in iterate_all_edges\n",
      "  File \"<stdin>\", line 29, in iterate_all_edges\n",
      "  File \"<stdin>\", line 29, in iterate_all_edges\n",
      "  File \"<stdin>\", line 29, in iterate_all_edges\n",
      "  File \"<stdin>\", line 29, in iterate_all_edges\n",
      "  File \"<stdin>\", line 29, in iterate_all_edges\n",
      "  File \"<stdin>\", line 29, in iterate_all_edges\n",
      "  File \"<stdin>\", line 29, in iterate_all_edges\n",
      "  File \"<stdin>\", line 29, in iterate_all_edges\n",
      "  File \"<stdin>\", line 29, in iterate_all_edges\n",
      "  File \"<stdin>\", line 29, in iterate_all_edges\n",
      "  File \"<stdin>\", line 29, in iterate_all_edges\n",
      "  File \"<stdin>\", line 29, in iterate_all_edges\n",
      "  File \"<stdin>\", line 29, in iterate_all_edges\n",
      "  File \"<stdin>\", line 29, in iterate_all_edges\n",
      "  File \"<stdin>\", line 29, in iterate_all_edges\n",
      "  File \"<stdin>\", line 29, in iterate_all_edges\n",
      "  File \"<stdin>\", line 29, in iterate_all_edges\n",
      "  File \"<stdin>\", line 29, in iterate_all_edges\n",
      "  File \"<stdin>\", line 29, in iterate_all_edges\n",
      "  File \"<stdin>\", line 29, in iterate_all_edges\n",
      "  File \"<stdin>\", line 29, in iterate_all_edges\n",
      "  File \"<stdin>\", line 29, in iterate_all_edges\n",
      "  File \"<stdin>\", line 29, in iterate_all_edges\n",
      "  File \"<stdin>\", line 29, in iterate_all_edges\n",
      "  File \"<stdin>\", line 29, in iterate_all_edges\n",
      "  File \"<stdin>\", line 29, in iterate_all_edges\n",
      "  File \"<stdin>\", line 29, in iterate_all_edges\n",
      "  File \"<stdin>\", line 29, in iterate_all_edges\n",
      "  File \"<stdin>\", line 29, in iterate_all_edges\n",
      "  File \"<stdin>\", line 29, in iterate_all_edges\n",
      "  File \"<stdin>\", line 29, in iterate_all_edges\n",
      "  File \"<stdin>\", line 29, in iterate_all_edges\n",
      "  File \"<stdin>\", line 29, in iterate_all_edges\n",
      "  File \"<stdin>\", line 29, in iterate_all_edges\n",
      "  File \"<stdin>\", line 29, in iterate_all_edges\n",
      "  File \"<stdin>\", line 29, in iterate_all_edges\n",
      "  File \"<stdin>\", line 29, in iterate_all_edges\n",
      "  File \"<stdin>\", line 29, in iterate_all_edges\n",
      "  File \"<stdin>\", line 29, in iterate_all_edges\n",
      "  File \"<stdin>\", line 29, in iterate_all_edges\n",
      "  File \"<stdin>\", line 29, in iterate_all_edges\n",
      "  File \"<stdin>\", line 29, in iterate_all_edges\n",
      "  File \"<stdin>\", line 29, in iterate_all_edges\n",
      "  File \"<stdin>\", line 29, in iterate_all_edges\n",
      "  File \"<stdin>\", line 29, in iterate_all_edges\n",
      "  File \"<stdin>\", line 29, in iterate_all_edges\n",
      "  File \"<stdin>\", line 29, in iterate_all_edges\n",
      "  File \"<stdin>\", line 29, in iterate_all_edges\n",
      "  File \"<stdin>\", line 29, in iterate_all_edges\n",
      "  File \"<stdin>\", line 29, in iterate_all_edges\n",
      "  File \"<stdin>\", line 29, in iterate_all_edges\n",
      "  File \"<stdin>\", line 29, in iterate_all_edges\n",
      "  File \"<stdin>\", line 29, in iterate_all_edges\n",
      "  File \"<stdin>\", line 29, in iterate_all_edges\n",
      "  File \"<stdin>\", line 29, in iterate_all_edges\n",
      "  File \"<stdin>\", line 29, in iterate_all_edges\n",
      "  File \"<stdin>\", line 29, in iterate_all_edges\n",
      "  File \"<stdin>\", line 29, in iterate_all_edges\n",
      "  File \"<stdin>\", line 29, in iterate_all_edges\n",
      "  File \"<stdin>\", line 29, in iterate_all_edges\n",
      "  File \"<stdin>\", line 29, in iterate_all_edges\n",
      "  File \"<stdin>\", line 29, in iterate_all_edges\n",
      "  File \"<stdin>\", line 29, in iterate_all_edges\n",
      "  File \"<stdin>\", line 29, in iterate_all_edges\n",
      "  File \"<stdin>\", line 29, in iterate_all_edges\n",
      "  File \"<stdin>\", line 29, in iterate_all_edges\n",
      "  File \"<stdin>\", line 29, in iterate_all_edges\n",
      "  File \"<stdin>\", line 29, in iterate_all_edges\n",
      "  File \"<stdin>\", line 29, in iterate_all_edges\n",
      "  File \"<stdin>\", line 29, in iterate_all_edges\n",
      "  File \"<stdin>\", line 29, in iterate_all_edges\n",
      "  File \"<stdin>\", line 29, in iterate_all_edges\n",
      "  File \"<stdin>\", line 29, in iterate_all_edges\n",
      "  File \"<stdin>\", line 29, in iterate_all_edges\n",
      "  File \"<stdin>\", line 29, in iterate_all_edges\n",
      "  File \"<stdin>\", line 29, in iterate_all_edges\n",
      "  File \"<stdin>\", line 29, in iterate_all_edges\n",
      "  File \"<stdin>\", line 29, in iterate_all_edges\n",
      "  File \"<stdin>\", line 29, in iterate_all_edges\n",
      "  File \"<stdin>\", line 29, in iterate_all_edges\n",
      "  File \"<stdin>\", line 29, in iterate_all_edges\n",
      "  File \"<stdin>\", line 29, in iterate_all_edges\n",
      "  File \"<stdin>\", line 29, in iterate_all_edges\n",
      "  File \"<stdin>\", line 29, in iterate_all_edges\n",
      "  File \"<stdin>\", line 29, in iterate_all_edges\n",
      "  File \"<stdin>\", line 29, in iterate_all_edges\n",
      "  File \"<stdin>\", line 29, in iterate_all_edges\n",
      "  File \"<stdin>\", line 29, in iterate_all_edges\n",
      "  File \"<stdin>\", line 29, in iterate_all_edges\n",
      "  File \"<stdin>\", line 29, in iterate_all_edges\n",
      "  File \"<stdin>\", line 29, in iterate_all_edges\n",
      "  File \"<stdin>\", line 29, in iterate_all_edges\n",
      "  File \"<stdin>\", line 29, in iterate_all_edges\n",
      "  File \"<stdin>\", line 29, in iterate_all_edges\n",
      "  File \"<stdin>\", line 29, in iterate_all_edges\n",
      "  File \"<stdin>\", line 29, in iterate_all_edges\n",
      "  File \"<stdin>\", line 29, in iterate_all_edges\n",
      "  File \"<stdin>\", line 29, in iterate_all_edges\n",
      "  File \"<stdin>\", line 29, in iterate_all_edges\n",
      "  File \"<stdin>\", line 29, in iterate_all_edges\n",
      "  File \"<stdin>\", line 29, in iterate_all_edges\n",
      "  File \"<stdin>\", line 29, in iterate_all_edges\n",
      "  File \"<stdin>\", line 29, in iterate_all_edges\n",
      "  File \"<stdin>\", line 29, in iterate_all_edges\n",
      "  File \"<stdin>\", line 29, in iterate_all_edges\n",
      "  File \"<stdin>\", line 29, in iterate_all_edges\n",
      "  File \"<stdin>\", line 29, in iterate_all_edges\n",
      "  File \"<stdin>\", line 29, in iterate_all_edges\n",
      "  File \"<stdin>\", line 29, in iterate_all_edges\n",
      "  File \"<stdin>\", line 29, in iterate_all_edges\n",
      "  File \"<stdin>\", line 29, in iterate_all_edges\n",
      "  File \"<stdin>\", line 29, in iterate_all_edges\n",
      "  File \"<stdin>\", line 29, in iterate_all_edges\n",
      "  File \"<stdin>\", line 29, in iterate_all_edges\n",
      "  File \"<stdin>\", line 29, in iterate_all_edges\n",
      "  File \"<stdin>\", line 29, in iterate_all_edges\n",
      "  File \"<stdin>\", line 29, in iterate_all_edges\n",
      "  File \"<stdin>\", line 29, in iterate_all_edges\n",
      "  File \"<stdin>\", line 29, in iterate_all_edges\n",
      "  File \"<stdin>\", line 29, in iterate_all_edges\n",
      "  File \"<stdin>\", line 29, in iterate_all_edges\n",
      "  File \"<stdin>\", line 29, in iterate_all_edges\n",
      "  File \"<stdin>\", line 29, in iterate_all_edges\n",
      "  File \"<stdin>\", line 29, in iterate_all_edges\n",
      "  File \"<stdin>\", line 29, in iterate_all_edges\n",
      "  File \"<stdin>\", line 29, in iterate_all_edges\n",
      "  File \"<stdin>\", line 29, in iterate_all_edges\n",
      "  File \"<stdin>\", line 29, in iterate_all_edges\n",
      "  File \"<stdin>\", line 29, in iterate_all_edges\n",
      "  File \"<stdin>\", line 29, in iterate_all_edges\n",
      "  File \"<stdin>\", line 29, in iterate_all_edges\n",
      "  File \"<stdin>\", line 29, in iterate_all_edges\n",
      "  File \"<stdin>\", line 29, in iterate_all_edges\n",
      "  File \"<stdin>\", line 29, in iterate_all_edges\n",
      "  File \"<stdin>\", line 29, in iterate_all_edges\n",
      "  File \"<stdin>\", line 29, in iterate_all_edges\n",
      "  File \"<stdin>\", line 29, in iterate_all_edges\n",
      "  File \"<stdin>\", line 29, in iterate_all_edges\n",
      "  File \"<stdin>\", line 29, in iterate_all_edges\n",
      "  File \"<stdin>\", line 29, in iterate_all_edges\n",
      "  File \"<stdin>\", line 29, in iterate_all_edges\n",
      "  File \"<stdin>\", line 29, in iterate_all_edges\n",
      "  File \"<stdin>\", line 29, in iterate_all_edges\n",
      "  File \"<stdin>\", line 29, in iterate_all_edges\n",
      "  File \"<stdin>\", line 29, in iterate_all_edges\n",
      "  File \"<stdin>\", line 29, in iterate_all_edges\n",
      "  File \"<stdin>\", line 29, in iterate_all_edges\n",
      "  File \"<stdin>\", line 29, in iterate_all_edges\n",
      "  File \"<stdin>\", line 29, in iterate_all_edges\n",
      "  File \"<stdin>\", line 29, in iterate_all_edges\n",
      "  File \"<stdin>\", line 29, in iterate_all_edges\n",
      "  File \"<stdin>\", line 29, in iterate_all_edges\n",
      "  File \"<stdin>\", line 29, in iterate_all_edges\n",
      "  File \"<stdin>\", line 29, in iterate_all_edges\n",
      "  File \"<stdin>\", line 29, in iterate_all_edges\n",
      "  File \"<stdin>\", line 29, in iterate_all_edges\n",
      "  File \"<stdin>\", line 29, in iterate_all_edges\n",
      "  File \"<stdin>\", line 29, in iterate_all_edges\n",
      "  File \"<stdin>\", line 29, in iterate_all_edges\n",
      "  File \"<stdin>\", line 29, in iterate_all_edges\n",
      "  File \"<stdin>\", line 29, in iterate_all_edges\n",
      "  File \"<stdin>\", line 29, in iterate_all_edges\n",
      "  File \"<stdin>\", line 29, in iterate_all_edges\n",
      "  File \"<stdin>\", line 29, in iterate_all_edges\n",
      "  File \"<stdin>\", line 29, in iterate_all_edges\n",
      "  File \"<stdin>\", line 29, in iterate_all_edges\n",
      "  File \"<stdin>\", line 29, in iterate_all_edges\n",
      "  File \"<stdin>\", line 29, in iterate_all_edges\n",
      "  File \"<stdin>\", line 29, in iterate_all_edges\n",
      "  File \"<stdin>\", line 29, in iterate_all_edges\n",
      "  File \"<stdin>\", line 29, in iterate_all_edges\n",
      "  File \"<stdin>\", line 29, in iterate_all_edges\n",
      "  File \"<stdin>\", line 29, in iterate_all_edges\n",
      "  File \"<stdin>\", line 29, in iterate_all_edges\n",
      "  File \"<stdin>\", line 29, in iterate_all_edges\n",
      "  File \"<stdin>\", line 29, in iterate_all_edges\n",
      "  File \"<stdin>\", line 29, in iterate_all_edges\n",
      "  File \"<stdin>\", line 29, in iterate_all_edges\n",
      "  File \"<stdin>\", line 29, in iterate_all_edges\n",
      "  File \"<stdin>\", line 29, in iterate_all_edges\n",
      "  File \"<stdin>\", line 29, in iterate_all_edges\n",
      "  File \"<stdin>\", line 29, in iterate_all_edges\n",
      "  File \"<stdin>\", line 29, in iterate_all_edges\n",
      "  File \"<stdin>\", line 29, in iterate_all_edges\n",
      "  File \"<stdin>\", line 29, in iterate_all_edges\n",
      "  File \"<stdin>\", line 29, in iterate_all_edges\n",
      "  File \"<stdin>\", line 29, in iterate_all_edges\n",
      "  File \"<stdin>\", line 29, in iterate_all_edges\n",
      "  File \"<stdin>\", line 29, in iterate_all_edges\n",
      "  File \"<stdin>\", line 29, in iterate_all_edges\n",
      "  File \"<stdin>\", line 29, in iterate_all_edges\n",
      "  File \"<stdin>\", line 29, in iterate_all_edges\n",
      "  File \"<stdin>\", line 29, in iterate_all_edges\n",
      "  File \"<stdin>\", line 29, in iterate_all_edges\n",
      "  File \"<stdin>\", line 29, in iterate_all_edges\n",
      "  File \"<stdin>\", line 29, in iterate_all_edges\n",
      "  File \"<stdin>\", line 29, in iterate_all_edges\n",
      "  File \"<stdin>\", line 29, in iterate_all_edges\n",
      "  File \"<stdin>\", line 29, in iterate_all_edges\n",
      "  File \"<stdin>\", line 29, in iterate_all_edges\n",
      "  File \"<stdin>\", line 29, in iterate_all_edges\n",
      "  File \"<stdin>\", line 29, in iterate_all_edges\n",
      "  File \"<stdin>\", line 29, in iterate_all_edges\n",
      "  File \"<stdin>\", line 29, in iterate_all_edges\n",
      "  File \"<stdin>\", line 29, in iterate_all_edges\n",
      "  File \"<stdin>\", line 29, in iterate_all_edges\n",
      "  File \"<stdin>\", line 29, in iterate_all_edges\n",
      "  File \"<stdin>\", line 29, in iterate_all_edges\n",
      "  File \"<stdin>\", line 29, in iterate_all_edges\n",
      "  File \"<stdin>\", line 29, in iterate_all_edges\n",
      "  File \"<stdin>\", line 29, in iterate_all_edges\n",
      "  File \"<stdin>\", line 29, in iterate_all_edges\n",
      "  File \"<stdin>\", line 29, in iterate_all_edges\n",
      "  File \"<stdin>\", line 29, in iterate_all_edges\n",
      "  File \"<stdin>\", line 29, in iterate_all_edges\n",
      "  File \"<stdin>\", line 29, in iterate_all_edges\n",
      "  File \"<stdin>\", line 29, in iterate_all_edges\n",
      "  File \"<stdin>\", line 29, in iterate_all_edges\n",
      "  File \"<stdin>\", line 29, in iterate_all_edges\n",
      "  File \"<stdin>\", line 29, in iterate_all_edges\n",
      "  File \"<stdin>\", line 29, in iterate_all_edges\n",
      "  File \"<stdin>\", line 29, in iterate_all_edges\n",
      "  File \"<stdin>\", line 29, in iterate_all_edges\n",
      "  File \"<stdin>\", line 29, in iterate_all_edges\n",
      "  File \"<stdin>\", line 29, in iterate_all_edges\n",
      "  File \"<stdin>\", line 29, in iterate_all_edges\n",
      "  File \"<stdin>\", line 29, in iterate_all_edges\n",
      "  File \"<stdin>\", line 29, in iterate_all_edges\n",
      "  File \"<stdin>\", line 29, in iterate_all_edges\n",
      "  File \"<stdin>\", line 29, in iterate_all_edges\n",
      "  File \"<stdin>\", line 29, in iterate_all_edges\n",
      "  File \"<stdin>\", line 29, in iterate_all_edges\n",
      "  File \"<stdin>\", line 29, in iterate_all_edges\n",
      "  File \"<stdin>\", line 29, in iterate_all_edges\n",
      "  File \"<stdin>\", line 29, in iterate_all_edges\n",
      "  File \"<stdin>\", line 29, in iterate_all_edges\n",
      "  File \"<stdin>\", line 29, in iterate_all_edges\n",
      "  File \"<stdin>\", line 29, in iterate_all_edges\n",
      "  File \"<stdin>\", line 29, in iterate_all_edges\n",
      "  File \"<stdin>\", line 29, in iterate_all_edges\n",
      "  File \"<stdin>\", line 29, in iterate_all_edges\n",
      "  File \"<stdin>\", line 29, in iterate_all_edges\n",
      "  File \"<stdin>\", line 29, in iterate_all_edges\n",
      "  File \"<stdin>\", line 29, in iterate_all_edges\n",
      "  File \"<stdin>\", line 29, in iterate_all_edges\n",
      "  File \"<stdin>\", line 29, in iterate_all_edges\n",
      "  File \"<stdin>\", line 29, in iterate_all_edges\n",
      "  File \"<stdin>\", line 29, in iterate_all_edges\n",
      "  File \"<stdin>\", line 29, in iterate_all_edges\n",
      "  File \"<stdin>\", line 29, in iterate_all_edges\n",
      "  File \"<stdin>\", line 29, in iterate_all_edges\n",
      "  File \"<stdin>\", line 29, in iterate_all_edges\n",
      "  File \"<stdin>\", line 29, in iterate_all_edges\n",
      "  File \"<stdin>\", line 29, in iterate_all_edges\n",
      "  File \"<stdin>\", line 29, in iterate_all_edges\n",
      "  File \"<stdin>\", line 29, in iterate_all_edges\n",
      "  File \"<stdin>\", line 29, in iterate_all_edges\n",
      "  File \"<stdin>\", line 29, in iterate_all_edges\n",
      "  File \"<stdin>\", line 29, in iterate_all_edges\n",
      "  File \"<stdin>\", line 29, in iterate_all_edges\n",
      "  File \"<stdin>\", line 29, in iterate_all_edges\n",
      "  File \"<stdin>\", line 29, in iterate_all_edges\n",
      "  File \"<stdin>\", line 29, in iterate_all_edges\n",
      "  File \"<stdin>\", line 29, in iterate_all_edges\n",
      "  File \"<stdin>\", line 29, in iterate_all_edges\n",
      "  File \"<stdin>\", line 29, in iterate_all_edges\n",
      "  File \"<stdin>\", line 29, in iterate_all_edges\n",
      "  File \"<stdin>\", line 29, in iterate_all_edges\n",
      "  File \"<stdin>\", line 29, in iterate_all_edges\n",
      "  File \"<stdin>\", line 29, in iterate_all_edges\n",
      "  File \"<stdin>\", line 29, in iterate_all_edges\n",
      "  File \"<stdin>\", line 29, in iterate_all_edges\n",
      "  File \"<stdin>\", line 29, in iterate_all_edges\n",
      "  File \"<stdin>\", line 29, in iterate_all_edges\n",
      "  File \"<stdin>\", line 29, in iterate_all_edges\n",
      "  File \"<stdin>\", line 29, in iterate_all_edges\n",
      "  File \"<stdin>\", line 29, in iterate_all_edges\n",
      "  File \"<stdin>\", line 29, in iterate_all_edges\n",
      "  File \"<stdin>\", line 29, in iterate_all_edges\n",
      "  File \"<stdin>\", line 29, in iterate_all_edges\n",
      "  File \"<stdin>\", line 29, in iterate_all_edges\n",
      "  File \"<stdin>\", line 29, in iterate_all_edges\n",
      "  File \"<stdin>\", line 29, in iterate_all_edges\n",
      "  File \"<stdin>\", line 29, in iterate_all_edges\n",
      "  File \"<stdin>\", line 29, in iterate_all_edges\n",
      "  File \"<stdin>\", line 29, in iterate_all_edges\n",
      "  File \"<stdin>\", line 29, in iterate_all_edges\n",
      "  File \"<stdin>\", line 29, in iterate_all_edges\n",
      "  File \"<stdin>\", line 29, in iterate_all_edges\n",
      "  File \"<stdin>\", line 29, in iterate_all_edges\n",
      "  File \"<stdin>\", line 29, in iterate_all_edges\n",
      "  File \"<stdin>\", line 29, in iterate_all_edges\n",
      "  File \"<stdin>\", line 29, in iterate_all_edges\n",
      "  File \"<stdin>\", line 29, in iterate_all_edges\n",
      "  File \"<stdin>\", line 29, in iterate_all_edges\n",
      "  File \"<stdin>\", line 29, in iterate_all_edges\n",
      "  File \"<stdin>\", line 29, in iterate_all_edges\n",
      "  File \"<stdin>\", line 29, in iterate_all_edges\n",
      "  File \"<stdin>\", line 29, in iterate_all_edges\n",
      "  File \"<stdin>\", line 29, in iterate_all_edges\n",
      "  File \"<stdin>\", line 29, in iterate_all_edges\n",
      "  File \"<stdin>\", line 29, in iterate_all_edges\n",
      "  File \"<stdin>\", line 29, in iterate_all_edges\n",
      "  File \"<stdin>\", line 29, in iterate_all_edges\n",
      "  File \"<stdin>\", line 29, in iterate_all_edges\n",
      "  File \"<stdin>\", line 9, in select_next\n",
      "RuntimeError: maximum recursion depth exceeded in cmp\n",
      "\n"
     ]
    }
   ],
   "source": [
    "journey = next(iterator)"
   ]
  },
  {
   "cell_type": "code",
   "execution_count": 25,
   "metadata": {},
   "outputs": [
    {
     "data": {
      "application/vnd.jupyter.widget-view+json": {
       "model_id": "",
       "version_major": 2,
       "version_minor": 0
      },
      "text/plain": [
       "FloatProgress(value=0.0, bar_style='info', description='Progress:', layout=Layout(height='25px', width='50%'),…"
      ]
     },
     "metadata": {},
     "output_type": "display_data"
    }
   ],
   "source": [
    "def journey_to_segments (journey, start_stop):\n",
    "    segments = [(route_id, list(edges)) for (route_id, edges) in  groupby(journey, lambda x:x[2])]\n",
    "\n",
    "    segments = [(i + 1, edges[0][1], edges[-1][1], route_id, edges[0][0], edges[-1][0] + edges[-1][3] - edges[0][0], [t[1] for t in edges]) \\\n",
    "                for i, (route_id, edges) in enumerate(segments)]\n",
    "    \n",
    "    segments[0] = (segments[0][0], start_stop, segments[0][2], segments[0][3], segments[0][4], segments[0][5], [start_stop] + segments[0][6])\n",
    "    \n",
    "    return segments"
   ]
  },
  {
   "cell_type": "code",
   "execution_count": 26,
   "metadata": {},
   "outputs": [
    {
     "data": {
      "application/vnd.jupyter.widget-view+json": {
       "model_id": "",
       "version_major": 2,
       "version_minor": 0
      },
      "text/plain": [
       "FloatProgress(value=0.0, bar_style='info', description='Progress:', layout=Layout(height='25px', width='50%'),…"
      ]
     },
     "metadata": {},
     "output_type": "display_data"
    }
   ],
   "source": [
    "def journey_to_df(journey_list):\n",
    "    arr = []\n",
    "    journey_number = 0\n",
    "    for journey in journey_list:\n",
    "        journey_number += 1\n",
    "        arr = arr + [(journey_number,) + seg for seg in journey]\n",
    "    \n",
    "    schema = StructType([\n",
    "        StructField(\"journey_number\", IntegerType(), True),\n",
    "        StructField(\"segment_number\", IntegerType(), True),\n",
    "        StructField(\"start_vertex\", StringType(), True),\n",
    "        StructField(\"end_vertex\", StringType(), True),\n",
    "        StructField(\"route_id\", StringType(), True),\n",
    "        StructField(\"departure_time\", StringType(), True),\n",
    "        StructField(\"duration\", StringType(), True),\n",
    "        StructField(\"stop_seq\", ArrayType(StringType()), True)\n",
    "    ])\n",
    "    \n",
    "    journey_df = spark.createDataFrame(arr, schema)\n",
    "    \n",
    "    return journey_df"
   ]
  },
  {
   "cell_type": "code",
   "execution_count": 27,
   "metadata": {},
   "outputs": [
    {
     "data": {
      "application/vnd.jupyter.widget-view+json": {
       "model_id": "",
       "version_major": 2,
       "version_minor": 0
      },
      "text/plain": [
       "FloatProgress(value=0.0, bar_style='info', description='Progress:', layout=Layout(height='25px', width='50%'),…"
      ]
     },
     "metadata": {},
     "output_type": "display_data"
    }
   ],
   "source": [
    "journey_df = journey_to_df([journey_to_segments(journey, '8580437')])"
   ]
  },
  {
   "cell_type": "code",
   "execution_count": 28,
   "metadata": {},
   "outputs": [
    {
     "data": {
      "application/vnd.jupyter.widget-view+json": {
       "model_id": "",
       "version_major": 2,
       "version_minor": 0
      },
      "text/plain": [
       "FloatProgress(value=0.0, bar_style='info', description='Progress:', layout=Layout(height='25px', width='50%'),…"
      ]
     },
     "metadata": {},
     "output_type": "display_data"
    }
   ],
   "source": [
    "def pretty_print_journey(journey):\n",
    "    journey_str = '\\n'.join([\"%s : %s\\n|\\n| %s (%s min)\\n| %s\\n|\\n%s : %s\\n\" % (minutes_to_timestamp(time), \n",
    "                                                                             stop_id_to_stop_dict[start],\n",
    "                                                                             route_id_to_route_name_dict[route_id],\n",
    "                                                                             minutes_to_timestamp(duration),\n",
    "                                                                             ' -> '.join([stop_id_to_stop_dict[s] for s in stops]) if route_id != 'walking' else '',\n",
    "                                                                             minutes_to_timestamp(time + duration),\n",
    "                                                                             stop_id_to_stop_dict[end]) for _, start, end, route_id, time, duration, stops in journey])\n",
    "    return journey_str"
   ]
  },
  {
   "cell_type": "code",
   "execution_count": 32,
   "metadata": {},
   "outputs": [
    {
     "data": {
      "application/vnd.jupyter.widget-view+json": {
       "model_id": "",
       "version_major": 2,
       "version_minor": 0
      },
      "text/plain": [
       "FloatProgress(value=0.0, bar_style='info', description='Progress:', layout=Layout(height='25px', width='50%'),…"
      ]
     },
     "metadata": {},
     "output_type": "display_data"
    }
   ],
   "source": [
    "journey = next(iterator)"
   ]
  },
  {
   "cell_type": "code",
   "execution_count": 37,
   "metadata": {},
   "outputs": [
    {
     "data": {
      "application/vnd.jupyter.widget-view+json": {
       "model_id": "",
       "version_major": 2,
       "version_minor": 0
      },
      "text/plain": [
       "FloatProgress(value=0.0, bar_style='info', description='Progress:', layout=Layout(height='25px', width='50%'),…"
      ]
     },
     "metadata": {},
     "output_type": "display_data"
    },
    {
     "name": "stdout",
     "output_type": "stream",
     "text": [
      "18:47 : Dietlikon, In Lampitzäckern\n",
      "|\n",
      "| Bus 749 (0:02 min)\n",
      "| Dietlikon, In Lampitzäckern -> Dietlikon, Dornenstrasse -> Dietlikon, Bahnhof\n",
      "|\n",
      "18:49 : Dietlikon, Bahnhof\n",
      "\n",
      "18:55 : Dietlikon, Zentrum\n",
      "|\n",
      "| Bus 748 (0:10 min)\n",
      "| Dietlikon, Zentrum -> Dietlikon, Hofwiesen -> Dietlikon, Zentrum -> Dietlikon, Bahnhof -> Dietlikon, Dornenstrasse -> Dietlikon, Dübendorferstrasse\n",
      "|\n",
      "19:05 : Dietlikon, Dübendorferstrasse\n",
      "\n",
      "19:10 : Dietlikon, Hörnligraben\n",
      "|\n",
      "| Bus 787 (0:07 min)\n",
      "| Dietlikon, Hörnligraben -> Wallisellen, Ifang -> Wallisellen, Glatt (Bus) -> Zürich, Altried -> Zürich, Luchswiesen\n",
      "|\n",
      "19:17 : Zürich, Luchswiesen\n",
      "\n",
      "19:19 : Zürich, Altried\n",
      "|\n",
      "| Tram 9 (0:33 min)\n",
      "| Zürich, Altried -> Zürich, Luchswiesen -> Zürich, Luegisland -> Zürich, Heerenwiesen -> Zürich, Schwamendingerplatz -> Zürich, Schörlistrasse -> Zürich, Waldgarten -> Zürich, Tierspital -> Zürich, Milchbuck -> Zürich, Universität Irchel -> Zürich, Langmauerstrasse -> Zürich, Letzistrasse -> Zürich, Kinkelstrasse -> Zürich, Seilbahn Rigiblick -> Zürich, Winkelriedstrasse -> Zürich, Haldenbach -> Zürich, ETH/Universitätsspital -> Zürich, Kantonsschule -> Zürich, Kunsthaus -> Zürich, Hottingerplatz -> Zürich, Römerhof -> Zürich, Hölderlinstrasse -> Zürich, Klusplatz\n",
      "|\n",
      "19:52 : Zürich, Klusplatz\n",
      "\n",
      "19:54 : Zürich, Kapfstrasse\n",
      "|\n",
      "| Bus 31 (0:02 min)\n",
      "| Zürich, Kapfstrasse\n",
      "|\n",
      "19:56 : Zürich, Kapfstrasse"
     ]
    }
   ],
   "source": [
    "journey = next(iterator)\n",
    "print(pretty_print_journey(journey_to_segments(journey, '8595075')))"
   ]
  },
  {
   "cell_type": "code",
   "execution_count": 42,
   "metadata": {},
   "outputs": [
    {
     "data": {
      "application/vnd.jupyter.widget-view+json": {
       "model_id": "",
       "version_major": 2,
       "version_minor": 0
      },
      "text/plain": [
       "FloatProgress(value=0.0, bar_style='info', description='Progress:', layout=Layout(height='25px', width='50%'),…"
      ]
     },
     "metadata": {},
     "output_type": "display_data"
    },
    {
     "name": "stdout",
     "output_type": "stream",
     "text": [
      "19:06 : Zürich Flughafen, OPC\n",
      "|\n",
      "| Bus 520 (0:01 min)\n",
      "| Zürich Flughafen, OPC -> Zürich Flughafen, Fracht\n",
      "|\n",
      "19:07 : Zürich Flughafen, Fracht\n",
      "\n",
      "19:10 : Zürich Flughafen, Bahnhof\n",
      "|\n",
      "| Tram 10 (0:12 min)\n",
      "| Zürich Flughafen, Bahnhof -> Kloten Balsberg, Bahnhof -> Glattbrugg, Unterriet -> Rümlang, Bäuler -> Glattbrugg, Bahnhof -> Glattbrugg, Lindberghplatz -> Glattpark, Glattpark -> Zürich, Oerlikerhus -> Zürich, Leutschenbach\n",
      "|\n",
      "19:22 : Zürich, Leutschenbach\n",
      "\n",
      "19:24 : Zürich, Messe/Hallenstadion\n",
      "|\n",
      "| Tram 11 (0:19 min)\n",
      "| Zürich, Messe/Hallenstadion -> Zürich, Sternen Oerlikon -> Zürich Oerlikon, Bahnhof -> Zürich, Regensbergbrücke -> Zürich, Bad Allenmoos -> Zürich, Radiostudio -> Zürich, Bucheggplatz -> Zürich, Laubiweg -> Zürich, Schaffhauserplatz -> Zürich, Röslistrasse -> Zürich, Ottikerstrasse -> Zürich, Sonneggstrasse -> Zürich, Haldenegg -> Zürich, Central\n",
      "|\n",
      "19:43 : Zürich, Central\n",
      "\n",
      "19:45 : Zürich, Neumarkt\n",
      "|\n",
      "| Bus 31 (0:11 min)\n",
      "| Zürich, Neumarkt -> Zürich, Kunsthaus -> Zürich, Sprecherstrasse -> Zürich Kreuzplatz -> Zürich, Signaustrasse -> Zürich Hegibachplatz -> Zürich, Freiestrasse -> Zürich, Klusplatz -> Zürich, Kapfstrasse\n",
      "|\n",
      "19:56 : Zürich, Kapfstrasse"
     ]
    }
   ],
   "source": [
    "print(pretty_print_journey(journey_to_segments(journey, '8580301')))"
   ]
  },
  {
   "cell_type": "markdown",
   "metadata": {},
   "source": [
    "## Send to local"
   ]
  },
  {
   "cell_type": "markdown",
   "metadata": {},
   "source": [
    "Send transfer dataframe to local"
   ]
  },
  {
   "cell_type": "code",
   "execution_count": null,
   "metadata": {},
   "outputs": [],
   "source": [
    "%%spark -o next_transfer_df -n -1"
   ]
  },
  {
   "cell_type": "code",
   "execution_count": null,
   "metadata": {},
   "outputs": [],
   "source": [
    "%%local\n",
    "next_transfer_df.head()"
   ]
  },
  {
   "cell_type": "markdown",
   "metadata": {},
   "source": [
    "Reconstruct a dict for transfers to keep old code"
   ]
  },
  {
   "cell_type": "code",
   "execution_count": null,
   "metadata": {},
   "outputs": [],
   "source": [
    "%%local\n",
    "next_transfer = {e[0]: tuple(e[1:]) for e in next_transfer_df.to_numpy()}"
   ]
  },
  {
   "cell_type": "markdown",
   "metadata": {},
   "source": [
    "Send route id to route name mapping to local"
   ]
  },
  {
   "cell_type": "code",
   "execution_count": null,
   "metadata": {},
   "outputs": [],
   "source": [
    "%%spark -o route_id_to_route_name -n -1\n",
    "route_id_to_route_name = routes.withColumn('route_name', F.concat(F.col('route_desc'), F.lit(' '), F.col('route_short_name')))\\\n",
    "                               .select('route_id', 'route_desc', 'route_short_name', 'route_name')"
   ]
  },
  {
   "cell_type": "code",
   "execution_count": null,
   "metadata": {},
   "outputs": [],
   "source": [
    "%%local\n",
    "route_id_to_route_name_dict = route_id_to_route_name.set_index('route_id').to_dict()['route_name']\n",
    "route_id_to_route_name_dict['walking'] = 'walk'"
   ]
  },
  {
   "cell_type": "markdown",
   "metadata": {},
   "source": [
    "Send stop id to stop name mapping to local"
   ]
  },
  {
   "cell_type": "code",
   "execution_count": null,
   "metadata": {},
   "outputs": [],
   "source": [
    "%%spark -o stop_id_to_stop -n -1\n",
    "stop_id_to_stop = stops.select('stop_id', 'stop_name')"
   ]
  },
  {
   "cell_type": "code",
   "execution_count": null,
   "metadata": {},
   "outputs": [],
   "source": [
    "%%local\n",
    "stop_id_to_stop_dict = stop_id_to_stop.set_index('stop_id').to_dict()['stop_name']"
   ]
  },
  {
   "cell_type": "markdown",
   "metadata": {},
   "source": [
    "## Reconstruct path and pretty print"
   ]
  },
  {
   "cell_type": "code",
   "execution_count": null,
   "metadata": {},
   "outputs": [],
   "source": [
    "%%local\n",
    "def minutes_to_timestamp(minutes):\n",
    "    return str(minutes // 60) + ':' + str(minutes % 60).zfill(2)\n",
    "    \n",
    "    \n",
    "def reconstruct_journey(next_transfer, start_stop):\n",
    "    time, next_stop, route_id, duration, stop_seq = next_transfer[start_stop]\n",
    "    journey = []\n",
    "    while next_stop != start_stop:\n",
    "        journey.append(\n",
    "            (minutes_to_timestamp(time),\n",
    "             stop_id_to_stop_dict[start_stop], \n",
    "             route_id_to_route_name_dict[route_id],\n",
    "             duration,\n",
    "             'Ride %d stops' % (len(stop_seq)-1),\n",
    "             minutes_to_timestamp(time + duration),\n",
    "             stop_id_to_stop_dict[next_stop])\n",
    "        )\n",
    "        \n",
    "        start_stop = next_stop\n",
    "        time, next_stop, route_id, duration, stop_seq = next_transfer[next_stop]\n",
    "    return journey\n",
    "\n",
    "\n",
    "def pretty_print_journey(journey):\n",
    "    journey_str = '\\n'.join([\"%s : %s\\n|\\n| %s (%s min) %s\\n|\\n%s : %s\\n\" % segment for segment in journey])\n",
    "    return journey_str"
   ]
  },
  {
   "cell_type": "code",
   "execution_count": null,
   "metadata": {},
   "outputs": [],
   "source": [
    "%%local\n",
    "print(pretty_print_journey(reconstruct_journey(next_transfer, '8590883'))) # almost same as sbb"
   ]
  },
  {
   "cell_type": "code",
   "execution_count": null,
   "metadata": {},
   "outputs": [],
   "source": [
    "%%local\n",
    "print(pretty_print_journey(reconstruct_journey(next_transfer, '8591353'))) # almost same as sbb"
   ]
  },
  {
   "cell_type": "code",
   "execution_count": null,
   "metadata": {},
   "outputs": [],
   "source": [
    "%%local\n",
    "print(pretty_print_journey(reconstruct_journey(next_transfer, '8590788'))) # not in sbb"
   ]
  },
  {
   "cell_type": "code",
   "execution_count": null,
   "metadata": {},
   "outputs": [],
   "source": [
    "%%local\n",
    "print(pretty_print_journey(reconstruct_journey(next_transfer, '8591368'))) # Correct"
   ]
  },
  {
   "cell_type": "code",
   "execution_count": null,
   "metadata": {},
   "outputs": [],
   "source": []
  }
 ],
 "metadata": {
  "kernelspec": {
   "display_name": "PySpark",
   "language": "python",
   "name": "pysparkkernel"
  },
  "language_info": {
   "codemirror_mode": {
    "name": "python",
    "version": 3
   },
   "file_extension": ".py",
   "mimetype": "text/x-python",
   "name": "pyspark",
   "pygments_lexer": "python3"
  }
 },
 "nbformat": 4,
 "nbformat_minor": 4
}
