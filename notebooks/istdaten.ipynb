{
 "cells": [
  {
   "cell_type": "code",
   "execution_count": null,
   "metadata": {},
   "outputs": [],
   "source": [
    "%%local\n",
    "import os\n",
    "username = os.environ['JUPYTERHUB_USER']\n",
    "get_ipython().run_cell_magic('configure', line=\"-f\", cell='{ \"name\":\"%s-final-istaden\", \"executorMemory\":\"4G\", \"executorCores\":4, \"numExecutors\":10, \"driverMemory\": \"4G\" }' % username)"
   ]
  },
  {
   "cell_type": "code",
   "execution_count": null,
   "metadata": {},
   "outputs": [],
   "source": [
    "%%send_to_spark -i username -t str -n username"
   ]
  },
  {
   "cell_type": "code",
   "execution_count": null,
   "metadata": {},
   "outputs": [],
   "source": [
    "#Loading the data "
   ]
  },
  {
   "cell_type": "code",
   "execution_count": null,
   "metadata": {},
   "outputs": [],
   "source": [
    "df = spark.read.orc('/data/sbb/orc/istdaten')"
   ]
  },
  {
   "cell_type": "code",
   "execution_count": null,
   "metadata": {},
   "outputs": [],
   "source": [
    "df=df.selectExpr('betriebstag as date',\n",
    "                 'produkt_id as transport_type',\n",
    "                 'haltestellen_name as stop_name',\n",
    "                 'ankunftszeit as arrival_scheduled',\n",
    "                 'an_prognose as arrival_actual',\n",
    "                 'durchfahrt_tf as stop_skip',\n",
    "                 'bpuic as stop_id',\n",
    "                  'linien_text as line_name',\n",
    "                  'verkehrsmittel_text as line_type',\n",
    "                  'linien_id as line_id'\n",
    "                )"
   ]
  },
  {
   "cell_type": "code",
   "execution_count": null,
   "metadata": {},
   "outputs": [],
   "source": [
    "df.select(\"stop_id\").distinct().count()"
   ]
  },
  {
   "cell_type": "code",
   "execution_count": null,
   "metadata": {},
   "outputs": [],
   "source": [
    "stop_id_reachable.select(\"stop_id\").distinct().count()"
   ]
  },
  {
   "cell_type": "code",
   "execution_count": null,
   "metadata": {},
   "outputs": [],
   "source": [
    "import pyspark.sql.functions as F"
   ]
  },
  {
   "cell_type": "code",
   "execution_count": null,
   "metadata": {},
   "outputs": [],
   "source": [
    "#convert day of the trips between\n",
    "df = df.withColumn('date', F.to_timestamp('date', \"dd.MM.yyyy\"))\n",
    "df = df.withColumn('arrival_scheduled', F.to_timestamp('arrival_scheduled', \"dd.MM.yyyy HH:mm\"))\n",
    "df = df.withColumn('arrival_actual', F.to_timestamp('arrival_actual', 'dd.MM.yyyy HH:mm:ss'))    \n",
    "\n",
    "#keep only rows for stops that are not skipped\n",
    "df=df.filter(df.stop_skip==False)\n",
    "\n",
    "#keep only rows for stops during the week\n",
    "df=df.withColumn(\"day_of_week\",F.dayofweek(df.date))\n",
    "df=df.filter(df.day_of_week.between(2,6))\n",
    "\n",
    "#hours between 8am and 8pm\n",
    "min_day_hour,max_day_hour=8,20\n",
    "df = df.filter(F.hour(F.col('arrival_scheduled')).cast('int').between(min_day_hour, max_day_hour))\n",
    "\n",
    "#only keep stops within the 15km radius\n",
    "reachable_stops_path=\"/user/%s/final/parquet/reachable_stops\" %username\n",
    "stop_id_reachable=spark.read.parquet(reachable_stops_path)\n",
    "stop_id_reachable=stop_id_reachable.withColumn(\"stop_id\",F.split(stop_id_reachable.stop_id,':')[0]).drop(\"stop_name\")\n",
    "\n",
    "df=df.join(stop_id_reachable,on=\"stop_id\")\n",
    "\n",
    "#add hour column\n",
    "df=df.withColumn(\"hour\",F.hour(F.col(\"arrival_scheduled\")))\n"
   ]
  },
  {
   "cell_type": "code",
   "execution_count": null,
   "metadata": {},
   "outputs": [],
   "source": [
    "df.select(\"stop_id\").distinct().count()"
   ]
  },
  {
   "cell_type": "code",
   "execution_count": null,
   "metadata": {},
   "outputs": [],
   "source": [
    "#filter the rows where transport_type is null\n",
    "df=df.where((F.col(\"transport_type\")==\"Tram\") | (F.col(\"transport_type\")==\"Zug\")|(F.col(\"transport_type\")==\"Bus\"))"
   ]
  },
  {
   "cell_type": "code",
   "execution_count": null,
   "metadata": {},
   "outputs": [],
   "source": [
    "stop_id_reachable.show(10)"
   ]
  },
  {
   "cell_type": "code",
   "execution_count": null,
   "metadata": {},
   "outputs": [],
   "source": [
    "#computing actual delays\n",
    "@F.udf\n",
    "def relu(x):\n",
    "    return max(x,0)\n",
    "df=df.withColumn(\"delay\",relu((F.col(\"arrival_actual\").cast(\"long\")-F.col(\"arrival_scheduled\").cast(\"long\"))))\n",
    "df = df.where(~(F.col('delay').isNull()))"
   ]
  },
  {
   "cell_type": "code",
   "execution_count": null,
   "metadata": {
    "jupyter": {
     "source_hidden": true
    }
   },
   "outputs": [],
   "source": [
    "#statistics type of transport average delays\n",
    "transport_avg_delays=df.groupby(\"transport_type\").agg(F.mean('delay'))\n",
    "transport_avg_delays.show()"
   ]
  },
  {
   "cell_type": "code",
   "execution_count": null,
   "metadata": {
    "jupyter": {
     "source_hidden": true
    }
   },
   "outputs": [],
   "source": [
    "transport_avg_delays=transport_avg_delays.withColumnRenamed(\"avg(delay)\",\"avg_delay\")"
   ]
  },
  {
   "cell_type": "code",
   "execution_count": null,
   "metadata": {
    "jupyter": {
     "source_hidden": true
    }
   },
   "outputs": [],
   "source": [
    "transport_avg_delays.show()"
   ]
  },
  {
   "cell_type": "code",
   "execution_count": null,
   "metadata": {
    "jupyter": {
     "source_hidden": true
    }
   },
   "outputs": [],
   "source": [
    "import matplotlib\n",
    "matplotlib.use('agg')\n",
    "import matplotlib.pylab as plt\n",
    "\n",
    "plt.rcParams['figure.figsize'] = (30,8)\n",
    "plt.rcParams['font.size'] = 12\n",
    "plt.style.use('fivethirtyeight')"
   ]
  },
  {
   "cell_type": "code",
   "execution_count": null,
   "metadata": {
    "jupyter": {
     "source_hidden": true
    }
   },
   "outputs": [],
   "source": [
    "import matplotlib.pyplot as plt\n",
    "# Plot transport average delays\n",
    "\n",
    "t_avg_delays_plot=transport_avg_delays.toPandas()\n",
    "\n",
    "plt.bar(x=t_avg_delays_plot.transport_type,height=t_avg_delays_plot.avg_delay)\n",
    "#transport_avg_delays[\"avg_delay\"].plot.bar\n",
    "plt.xlabel('average delay distribution by train')\n",
    "plt.ylabel('average delay (seconds)')\n",
    "plt.xticks(range(len(t_avg_delays_plot)), t_avg_delays_plot.transport_type)"
   ]
  },
  {
   "cell_type": "code",
   "execution_count": null,
   "metadata": {
    "jupyter": {
     "source_hidden": true
    }
   },
   "outputs": [],
   "source": [
    "%matplot plt"
   ]
  },
  {
   "cell_type": "code",
   "execution_count": null,
   "metadata": {
    "jupyter": {
     "source_hidden": true
    }
   },
   "outputs": [],
   "source": [
    "hour_avg_delays=df.groupby(\"hour\").agg(F.mean('delay'))\n",
    "\n",
    "hour_avg_delays=hour_avg_delays.withColumnRenamed(\"avg(delay)\",\"avg_delay\")"
   ]
  },
  {
   "cell_type": "code",
   "execution_count": null,
   "metadata": {
    "jupyter": {
     "source_hidden": true
    }
   },
   "outputs": [],
   "source": [
    "# Plot transport average delays\n",
    "plt.cla()\n",
    "h_avg_delays_plot=hour_avg_delays.toPandas().sort_values(by=\"hour\").reset_index(drop=True)\n",
    "\n",
    "plt.bar(x=h_avg_delays_plot.hour, height=h_avg_delays_plot.avg_delay, color=(0.2, 0.4, 0.6, 0.6))\n",
    " \n",
    "plt.xlabel('average delay distribution by hour')\n",
    "plt.ylabel('average delay (seconds)')\n",
    "plt.xticks(h_avg_delays_plot.hour)\n",
    "# Show the graph\n",
    "%matplot plt"
   ]
  },
  {
   "cell_type": "code",
   "execution_count": null,
   "metadata": {
    "jupyter": {
     "source_hidden": true
    }
   },
   "outputs": [],
   "source": [
    "h_avg_delays_plot"
   ]
  },
  {
   "cell_type": "code",
   "execution_count": null,
   "metadata": {},
   "outputs": [],
   "source": [
    "train_types=df.where(F.col(\"transport_type\")==\"Zug\").groupby(\"line_name\").agg(F.mean('delay'))\n",
    "#train_types.filter(train_types.line_name[0:2]==\"RE\").show()\n",
    "train_types.show()"
   ]
  },
  {
   "cell_type": "code",
   "execution_count": null,
   "metadata": {},
   "outputs": [],
   "source": [
    "df"
   ]
  },
  {
   "cell_type": "code",
   "execution_count": null,
   "metadata": {},
   "outputs": [],
   "source": [
    "train_types_stops=df.where(F.col(\"transport_type\")==\"Zug\").groupby(\"line_name\", \"hour\", \"stop_id\").agg(F.mean('delay'))\n",
    "#train_types.filter(train_types.line_name[0:2]==\"RE\").show()\n",
    "train_types_stops.show()"
   ]
  },
  {
   "cell_type": "code",
   "execution_count": null,
   "metadata": {},
   "outputs": [],
   "source": [
    "train_types_hour=df.where(F.col(\"transport_type\")==\"Zug\").groupby(\"line_name\",\"hour\").agg(F.mean('delay'))\n",
    "train_types_hour.show()"
   ]
  },
  {
   "cell_type": "code",
   "execution_count": null,
   "metadata": {},
   "outputs": [],
   "source": [
    "train_types_hour.groupby('line_name').count().show()"
   ]
  },
  {
   "cell_type": "code",
   "execution_count": null,
   "metadata": {},
   "outputs": [],
   "source": [
    "bus_types=df.where(F.col(\"transport_type\")==\"Bus\").groupby(\"line_name\").agg(F.mean('delay'))\n",
    "bus_types.show()"
   ]
  },
  {
   "cell_type": "code",
   "execution_count": null,
   "metadata": {},
   "outputs": [],
   "source": [
    "bus_types_stops=df.where(F.col(\"transport_type\")==\"Bus\").groupby(\"line_name\", \"hour\", \"stop_id\").agg(F.mean('delay'))\n",
    "bus_types_stops.show()"
   ]
  },
  {
   "cell_type": "code",
   "execution_count": null,
   "metadata": {},
   "outputs": [],
   "source": [
    "bus_types_hour=df.where(F.col(\"transport_type\")==\"Bus\").groupby(\"line_name\", \"hour\").agg(F.mean('delay'))\n",
    "bus_types_hour.show()"
   ]
  },
  {
   "cell_type": "code",
   "execution_count": null,
   "metadata": {},
   "outputs": [],
   "source": [
    "tram_types=df.where(F.col(\"transport_type\")==\"Tram\").groupby(\"line_name\").agg(F.mean('delay'))\n",
    "tram_types.show()"
   ]
  },
  {
   "cell_type": "code",
   "execution_count": null,
   "metadata": {},
   "outputs": [],
   "source": [
    "tram_types_stops=df.where(F.col(\"transport_type\")==\"Tram\").groupby(\"line_name\", \"hour\", \"stop_id\").agg(F.mean('delay'))\n",
    "tram_types_stops.show()"
   ]
  },
  {
   "cell_type": "code",
   "execution_count": null,
   "metadata": {},
   "outputs": [],
   "source": [
    "tram_types_hour=df.where(F.col(\"transport_type\")==\"Tram\").groupby(\"line_name\", \"hour\").agg(F.mean('delay'))\n",
    "tram_types_hour.show()"
   ]
  },
  {
   "cell_type": "code",
   "execution_count": null,
   "metadata": {},
   "outputs": [],
   "source": [
    "#Renaming\n",
    "train_types = train_types.withColumnRenamed(\"avg(delay)\",\"avg_delay\")\n",
    "train_types_hour = train_types_hour.withColumnRenamed(\"avg(delay)\",\"avg_delay\")\n",
    "train_types_stops = train_types_stops.withColumnRenamed(\"avg(delay)\",\"avg_delay\")\n",
    "\n",
    "bus_types= bus_types.withColumnRenamed(\"avg(delay)\",\"avg_delay\")\n",
    "bus_types_hour= bus_types_hour.withColumnRenamed(\"avg(delay)\",\"avg_delay\")\n",
    "bus_types_stops = bus_types_stops.withColumnRenamed(\"avg(delay)\",\"avg_delay\")\n",
    "\n",
    "tram_types = tram_types.withColumnRenamed(\"avg(delay)\",\"avg_delay\")\n",
    "tram_types_hour = tram_types_hour.withColumnRenamed(\"avg(delay)\",\"avg_delay\")\n",
    "tram_types_stops = tram_types_stops.withColumnRenamed(\"avg(delay)\",\"avg_delay\")"
   ]
  },
  {
   "cell_type": "code",
   "execution_count": null,
   "metadata": {},
   "outputs": [],
   "source": [
    "#transport_avg_delays.write.parquet('/user/%s/final/parquet/transport_avg_delays' % username)\n",
    "#hour_avg_delays.write.parquet('/user/%s/final/parquet/hour_avg_delays' % username)\n",
    "\n",
    "train_types.write.mode('overwrite').parquet('/user/%s/final/parquet/train_types' % username)\n",
    "bus_types.write.mode('overwrite').parquet('/user/%s/final/parquet/bus_types' % username)\n",
    "tram_types.write.mode('overwrite').parquet('/user/%s/final/parquet/tram_types' % username)\n",
    "\n",
    "train_types_hour.write.mode('overwrite').parquet('/user/%s/final/parquet/train_types_hour' % username)\n",
    "bus_types_hour.write.mode('overwrite').parquet('/user/%s/final/parquet/bus_types_hour' % username)\n",
    "tram_types_hour.write.mode('overwrite').parquet('/user/%s/final/parquet/tram_types_hour' % username)\n",
    "\n",
    "train_types_stops.write.parquet('/user/%s/final/parquet/train_types_stops' % username)\n",
    "bus_types_stops.write.parquet('/user/%s/final/parquet/bus_types_stops' % username)\n",
    "tram_types_stops.write.parquet('/user/%s/final/parquet/tram_types_stops' % username)"
   ]
  },
  {
   "cell_type": "code",
   "execution_count": null,
   "metadata": {},
   "outputs": [],
   "source": [
    "default_delay = df.select(F.mean(F.col('delay')).alias('mean_delay'),).collect()\n"
   ]
  },
  {
   "cell_type": "code",
   "execution_count": null,
   "metadata": {},
   "outputs": [],
   "source": [
    "default_delay.show()"
   ]
  },
  {
   "cell_type": "code",
   "execution_count": null,
   "metadata": {},
   "outputs": [],
   "source": []
  }
 ],
 "metadata": {
  "kernelspec": {
   "display_name": "PySpark",
   "language": "python",
   "name": "pysparkkernel"
  },
  "language_info": {
   "codemirror_mode": {
    "name": "python",
    "version": 3
   },
   "file_extension": ".py",
   "mimetype": "text/x-python",
   "name": "pyspark",
   "pygments_lexer": "python3"
  }
 },
 "nbformat": 4,
 "nbformat_minor": 4
}
