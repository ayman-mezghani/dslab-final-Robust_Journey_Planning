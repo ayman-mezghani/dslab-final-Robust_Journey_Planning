{
 "cells": [
  {
   "cell_type": "code",
   "execution_count": 46,
   "metadata": {},
   "outputs": [
    {
     "name": "stdout",
     "output_type": "stream",
     "text": [
      "Starting Spark application\n"
     ]
    },
    {
     "data": {
      "text/html": [
       "<table>\n",
       "<tr><th>ID</th><th>YARN Application ID</th><th>Kind</th><th>State</th><th>Spark UI</th><th>Driver log</th><th>User</th><th>Current session?</th></tr><tr><td>6956</td><td>application_1618324153128_6605</td><td>pyspark</td><td>idle</td><td><a target=\"_blank\" href=\"http://iccluster040.iccluster.epfl.ch:8088/proxy/application_1618324153128_6605/\">Link</a></td><td><a target=\"_blank\" href=\"http://iccluster070.iccluster.epfl.ch:8042/node/containerlogs/container_e01_1618324153128_6605_01_000001/ebouille\">Link</a></td><td>None</td><td>✔</td></tr></table>"
      ],
      "text/plain": [
       "<IPython.core.display.HTML object>"
      ]
     },
     "metadata": {},
     "output_type": "display_data"
    },
    {
     "data": {
      "application/vnd.jupyter.widget-view+json": {
       "model_id": "",
       "version_major": 2,
       "version_minor": 0
      },
      "text/plain": [
       "FloatProgress(value=0.0, bar_style='info', description='Progress:', layout=Layout(height='25px', width='50%'),…"
      ]
     },
     "metadata": {},
     "output_type": "display_data"
    },
    {
     "name": "stdout",
     "output_type": "stream",
     "text": [
      "SparkSession available as 'spark'.\n"
     ]
    },
    {
     "data": {
      "text/html": [
       "Current session configs: <tt>{'name': 'hadidane-final-istaden', 'executorMemory': '4G', 'executorCores': 4, 'numExecutors': 10, 'driverMemory': '4G', 'kind': 'pyspark'}</tt><br>"
      ],
      "text/plain": [
       "<IPython.core.display.HTML object>"
      ]
     },
     "metadata": {},
     "output_type": "display_data"
    },
    {
     "data": {
      "text/html": [
       "<table>\n",
       "<tr><th>ID</th><th>YARN Application ID</th><th>Kind</th><th>State</th><th>Spark UI</th><th>Driver log</th><th>User</th><th>Current session?</th></tr><tr><td>6915</td><td>application_1618324153128_6543</td><td>pyspark</td><td>idle</td><td><a target=\"_blank\" href=\"http://iccluster040.iccluster.epfl.ch:8088/proxy/application_1618324153128_6543/\">Link</a></td><td><a target=\"_blank\" href=\"http://iccluster071.iccluster.epfl.ch:8042/node/containerlogs/container_e01_1618324153128_6543_01_000001/ebouille\">Link</a></td><td>None</td><td></td></tr><tr><td>6926</td><td>application_1618324153128_6556</td><td>pyspark</td><td>idle</td><td><a target=\"_blank\" href=\"http://iccluster040.iccluster.epfl.ch:8088/proxy/application_1618324153128_6556/\">Link</a></td><td><a target=\"_blank\" href=\"http://iccluster078.iccluster.epfl.ch:8042/node/containerlogs/container_e01_1618324153128_6556_01_000001/ebouille\">Link</a></td><td>None</td><td></td></tr><tr><td>6927</td><td>application_1618324153128_6560</td><td>pyspark</td><td>idle</td><td><a target=\"_blank\" href=\"http://iccluster040.iccluster.epfl.ch:8088/proxy/application_1618324153128_6560/\">Link</a></td><td><a target=\"_blank\" href=\"http://iccluster072.iccluster.epfl.ch:8042/node/containerlogs/container_e01_1618324153128_6560_01_000001/ebouille\">Link</a></td><td>None</td><td></td></tr><tr><td>6931</td><td>application_1618324153128_6566</td><td>pyspark</td><td>idle</td><td><a target=\"_blank\" href=\"http://iccluster040.iccluster.epfl.ch:8088/proxy/application_1618324153128_6566/\">Link</a></td><td><a target=\"_blank\" href=\"http://iccluster078.iccluster.epfl.ch:8042/node/containerlogs/container_e01_1618324153128_6566_01_000001/ebouille\">Link</a></td><td>None</td><td></td></tr><tr><td>6939</td><td>application_1618324153128_6578</td><td>pyspark</td><td>idle</td><td><a target=\"_blank\" href=\"http://iccluster040.iccluster.epfl.ch:8088/proxy/application_1618324153128_6578/\">Link</a></td><td><a target=\"_blank\" href=\"http://iccluster078.iccluster.epfl.ch:8042/node/containerlogs/container_e01_1618324153128_6578_01_000001/ebouille\">Link</a></td><td>None</td><td></td></tr><tr><td>6940</td><td>application_1618324153128_6579</td><td>pyspark</td><td>idle</td><td><a target=\"_blank\" href=\"http://iccluster040.iccluster.epfl.ch:8088/proxy/application_1618324153128_6579/\">Link</a></td><td><a target=\"_blank\" href=\"http://iccluster071.iccluster.epfl.ch:8042/node/containerlogs/container_e01_1618324153128_6579_01_000001/ebouille\">Link</a></td><td>None</td><td></td></tr><tr><td>6944</td><td>application_1618324153128_6584</td><td>pyspark</td><td>busy</td><td><a target=\"_blank\" href=\"http://iccluster040.iccluster.epfl.ch:8088/proxy/application_1618324153128_6584/\">Link</a></td><td><a target=\"_blank\" href=\"http://iccluster078.iccluster.epfl.ch:8042/node/containerlogs/container_e01_1618324153128_6584_01_000001/ebouille\">Link</a></td><td>None</td><td></td></tr><tr><td>6945</td><td>application_1618324153128_6586</td><td>pyspark</td><td>idle</td><td><a target=\"_blank\" href=\"http://iccluster040.iccluster.epfl.ch:8088/proxy/application_1618324153128_6586/\">Link</a></td><td><a target=\"_blank\" href=\"http://iccluster071.iccluster.epfl.ch:8042/node/containerlogs/container_e01_1618324153128_6586_01_000001/ebouille\">Link</a></td><td>None</td><td></td></tr><tr><td>6946</td><td>application_1618324153128_6589</td><td>pyspark</td><td>idle</td><td><a target=\"_blank\" href=\"http://iccluster040.iccluster.epfl.ch:8088/proxy/application_1618324153128_6589/\">Link</a></td><td><a target=\"_blank\" href=\"http://iccluster070.iccluster.epfl.ch:8042/node/containerlogs/container_e01_1618324153128_6589_01_000001/ebouille\">Link</a></td><td>None</td><td></td></tr><tr><td>6947</td><td>application_1618324153128_6591</td><td>pyspark</td><td>idle</td><td><a target=\"_blank\" href=\"http://iccluster040.iccluster.epfl.ch:8088/proxy/application_1618324153128_6591/\">Link</a></td><td><a target=\"_blank\" href=\"http://iccluster067.iccluster.epfl.ch:8042/node/containerlogs/container_e01_1618324153128_6591_01_000001/ebouille\">Link</a></td><td>None</td><td></td></tr><tr><td>6948</td><td>application_1618324153128_6593</td><td>pyspark</td><td>idle</td><td><a target=\"_blank\" href=\"http://iccluster040.iccluster.epfl.ch:8088/proxy/application_1618324153128_6593/\">Link</a></td><td><a target=\"_blank\" href=\"http://iccluster067.iccluster.epfl.ch:8042/node/containerlogs/container_e01_1618324153128_6593_01_000001/ebouille\">Link</a></td><td>None</td><td></td></tr><tr><td>6951</td><td>application_1618324153128_6600</td><td>pyspark</td><td>idle</td><td><a target=\"_blank\" href=\"http://iccluster040.iccluster.epfl.ch:8088/proxy/application_1618324153128_6600/\">Link</a></td><td><a target=\"_blank\" href=\"http://iccluster071.iccluster.epfl.ch:8042/node/containerlogs/container_e01_1618324153128_6600_01_000001/ebouille\">Link</a></td><td>None</td><td></td></tr><tr><td>6952</td><td>application_1618324153128_6601</td><td>pyspark</td><td>idle</td><td><a target=\"_blank\" href=\"http://iccluster040.iccluster.epfl.ch:8088/proxy/application_1618324153128_6601/\">Link</a></td><td><a target=\"_blank\" href=\"http://iccluster067.iccluster.epfl.ch:8042/node/containerlogs/container_e01_1618324153128_6601_01_000001/ebouille\">Link</a></td><td>None</td><td></td></tr><tr><td>6954</td><td>application_1618324153128_6603</td><td>pyspark</td><td>idle</td><td><a target=\"_blank\" href=\"http://iccluster040.iccluster.epfl.ch:8088/proxy/application_1618324153128_6603/\">Link</a></td><td><a target=\"_blank\" href=\"http://iccluster078.iccluster.epfl.ch:8042/node/containerlogs/container_e01_1618324153128_6603_01_000001/ebouille\">Link</a></td><td>None</td><td></td></tr><tr><td>6955</td><td>application_1618324153128_6604</td><td>pyspark</td><td>idle</td><td><a target=\"_blank\" href=\"http://iccluster040.iccluster.epfl.ch:8088/proxy/application_1618324153128_6604/\">Link</a></td><td><a target=\"_blank\" href=\"http://iccluster069.iccluster.epfl.ch:8042/node/containerlogs/container_e01_1618324153128_6604_01_000001/ebouille\">Link</a></td><td>None</td><td></td></tr><tr><td>6956</td><td>application_1618324153128_6605</td><td>pyspark</td><td>idle</td><td><a target=\"_blank\" href=\"http://iccluster040.iccluster.epfl.ch:8088/proxy/application_1618324153128_6605/\">Link</a></td><td><a target=\"_blank\" href=\"http://iccluster070.iccluster.epfl.ch:8042/node/containerlogs/container_e01_1618324153128_6605_01_000001/ebouille\">Link</a></td><td>None</td><td>✔</td></tr><tr><td>6957</td><td>application_1618324153128_6606</td><td>pyspark</td><td>starting</td><td><a target=\"_blank\" href=\"http://iccluster040.iccluster.epfl.ch:8088/proxy/application_1618324153128_6606/\">Link</a></td><td><a target=\"_blank\" href=\"http://iccluster066.iccluster.epfl.ch:8042/node/containerlogs/container_e01_1618324153128_6606_01_000001/ebouille\">Link</a></td><td>None</td><td></td></tr></table>"
      ],
      "text/plain": [
       "<IPython.core.display.HTML object>"
      ]
     },
     "metadata": {},
     "output_type": "display_data"
    }
   ],
   "source": [
    "%%local\n",
    "import os\n",
    "username = os.environ['JUPYTERHUB_USER']\n",
    "get_ipython().run_cell_magic('configure', line=\"-f\", cell='{ \"name\":\"%s-final-istaden\", \"executorMemory\":\"4G\", \"executorCores\":4, \"numExecutors\":10, \"driverMemory\": \"4G\" }' % username)"
   ]
  },
  {
   "cell_type": "code",
   "execution_count": 47,
   "metadata": {},
   "outputs": [
    {
     "data": {
      "application/vnd.jupyter.widget-view+json": {
       "model_id": "",
       "version_major": 2,
       "version_minor": 0
      },
      "text/plain": [
       "FloatProgress(value=0.0, bar_style='info', description='Progress:', layout=Layout(height='25px', width='50%'),…"
      ]
     },
     "metadata": {},
     "output_type": "display_data"
    },
    {
     "name": "stdout",
     "output_type": "stream",
     "text": [
      "Successfully passed 'username' as 'username' to Spark kernel"
     ]
    }
   ],
   "source": [
    "%%send_to_spark -i username -t str -n username"
   ]
  },
  {
   "cell_type": "code",
   "execution_count": 48,
   "metadata": {},
   "outputs": [
    {
     "data": {
      "application/vnd.jupyter.widget-view+json": {
       "model_id": "",
       "version_major": 2,
       "version_minor": 0
      },
      "text/plain": [
       "FloatProgress(value=0.0, bar_style='info', description='Progress:', layout=Layout(height='25px', width='50%'),…"
      ]
     },
     "metadata": {},
     "output_type": "display_data"
    }
   ],
   "source": [
    "#Loading the data "
   ]
  },
  {
   "cell_type": "code",
   "execution_count": 65,
   "metadata": {},
   "outputs": [
    {
     "data": {
      "application/vnd.jupyter.widget-view+json": {
       "model_id": "",
       "version_major": 2,
       "version_minor": 0
      },
      "text/plain": [
       "FloatProgress(value=0.0, bar_style='info', description='Progress:', layout=Layout(height='25px', width='50%'),…"
      ]
     },
     "metadata": {},
     "output_type": "display_data"
    }
   ],
   "source": [
    "df = spark.read.orc('/data/sbb/orc/istdaten')"
   ]
  },
  {
   "cell_type": "code",
   "execution_count": 66,
   "metadata": {},
   "outputs": [
    {
     "data": {
      "application/vnd.jupyter.widget-view+json": {
       "model_id": "",
       "version_major": 2,
       "version_minor": 0
      },
      "text/plain": [
       "FloatProgress(value=0.0, bar_style='info', description='Progress:', layout=Layout(height='25px', width='50%'),…"
      ]
     },
     "metadata": {},
     "output_type": "display_data"
    }
   ],
   "source": [
    "df=df.selectExpr('betriebstag as date',\n",
    "                 'produkt_id as transport_type',\n",
    "                 'haltestellen_name as stop_name',\n",
    "                 'ankunftszeit as arrival_scheduled',\n",
    "                 'an_prognose as arrival_actual',\n",
    "                 'durchfahrt_tf as stop_skip',\n",
    "                 'bpuic as stop_id',\n",
    "                  'linien_text as line_name',\n",
    "                  'verkehrsmittel_text as line_type',\n",
    "                  'linien_id as line_id'\n",
    "                )"
   ]
  },
  {
   "cell_type": "code",
   "execution_count": 67,
   "metadata": {},
   "outputs": [
    {
     "data": {
      "application/vnd.jupyter.widget-view+json": {
       "model_id": "",
       "version_major": 2,
       "version_minor": 0
      },
      "text/plain": [
       "FloatProgress(value=0.0, bar_style='info', description='Progress:', layout=Layout(height='25px', width='50%'),…"
      ]
     },
     "metadata": {},
     "output_type": "display_data"
    },
    {
     "name": "stdout",
     "output_type": "stream",
     "text": [
      "+----------+--------------+--------------------+-----------------+-------------------+---------+-------+---------+---------+----------+\n",
      "|      date|transport_type|           stop_name|arrival_scheduled|     arrival_actual|stop_skip|stop_id|line_name|line_type|   line_id|\n",
      "+----------+--------------+--------------------+-----------------+-------------------+---------+-------+---------+---------+----------+\n",
      "|02.02.2020|           Bus|Winterthur, Schmi...| 02.02.2020 22:55|02.02.2020 22:57:31|    false|8580472|        1|        B|85:882:101|\n",
      "|02.02.2020|           Bus|Winterthur, Stadt...| 02.02.2020 22:56|02.02.2020 22:58:19|    false|8580521|        1|        B|85:882:101|\n",
      "|02.02.2020|           Bus| Winterthur, Obertor| 02.02.2020 22:56|02.02.2020 22:59:07|    false|8573656|        1|        B|85:882:101|\n",
      "|02.02.2020|           Bus|Winterthur, Palms...| 02.02.2020 22:58|02.02.2020 22:59:39|    false|8590982|        1|        B|85:882:101|\n",
      "|02.02.2020|           Bus|   Winterthur, Swica| 02.02.2020 22:58|02.02.2020 23:00:21|    false|8591007|        1|        B|85:882:101|\n",
      "|02.02.2020|           Bus|  Winterthur, Brücke| 02.02.2020 22:59|02.02.2020 23:01:03|    false|8590926|        1|        B|85:882:101|\n",
      "|02.02.2020|           Bus|Winterthur, Stadt...| 02.02.2020 23:00|02.02.2020 23:02:03|    false|8591000|        1|        B|85:882:101|\n",
      "|02.02.2020|           Bus|Winterthur, Talacker| 02.02.2020 23:01|02.02.2020 23:02:31|    false|8591008|        1|        B|85:882:101|\n",
      "|02.02.2020|           Bus|Winterthur, Hohla...| 02.02.2020 23:02|02.02.2020 23:02:54|    false|8590961|        1|        B|85:882:101|\n",
      "|02.02.2020|           Bus|Winterthur, Bhf O...| 02.02.2020 23:03|02.02.2020 23:03:23|    false|8587017|        1|        B|85:882:101|\n",
      "|02.02.2020|           Bus|Winterthur, Römertor| 02.02.2020 23:04|02.02.2020 23:04:35|    false|8590988|        1|        B|85:882:101|\n",
      "|02.02.2020|           Bus|Winterthur, Gugge...| 02.02.2020 23:05|02.02.2020 23:05:29|    false|8590950|        1|        B|85:882:101|\n",
      "|02.02.2020|           Bus|Winterthur, Zinzikon| 02.02.2020 23:06|02.02.2020 23:05:55|    false|8591020|        1|        B|85:882:101|\n",
      "|02.02.2020|           Bus|Winterthur, Obstg...| 02.02.2020 23:06|02.02.2020 23:06:22|    false|8591021|        1|        B|85:882:101|\n",
      "|02.02.2020|           Bus|Winterthur, Oberw...| 02.02.2020 23:08|02.02.2020 23:07:34|    false|8590980|        1|        B|85:882:101|\n",
      "|02.02.2020|           Bus|    Winterthur, Töss|                 |                   |    false|8576178|        1|        B|85:882:101|\n",
      "|02.02.2020|           Bus|Winterthur, Zentr...| 02.02.2020 23:31|02.02.2020 23:33:55|    false|8576179|        1|        B|85:882:101|\n",
      "|02.02.2020|           Bus| Winterthur, Gaswerk| 02.02.2020 23:33|02.02.2020 23:34:47|    false|8590945|        1|        B|85:882:101|\n",
      "|02.02.2020|           Bus|    Winterthur, Loki| 02.02.2020 23:33|02.02.2020 23:34:49|    false|8576180|        1|        B|85:882:101|\n",
      "|02.02.2020|           Bus|Winterthur, Brühleck| 02.02.2020 23:34|02.02.2020 23:34:51|    false|8590929|        1|        B|85:882:101|\n",
      "+----------+--------------+--------------------+-----------------+-------------------+---------+-------+---------+---------+----------+\n",
      "only showing top 20 rows"
     ]
    }
   ],
   "source": [
    "df.show()"
   ]
  },
  {
   "cell_type": "code",
   "execution_count": 68,
   "metadata": {},
   "outputs": [
    {
     "data": {
      "application/vnd.jupyter.widget-view+json": {
       "model_id": "",
       "version_major": 2,
       "version_minor": 0
      },
      "text/plain": [
       "FloatProgress(value=0.0, bar_style='info', description='Progress:', layout=Layout(height='25px', width='50%'),…"
      ]
     },
     "metadata": {},
     "output_type": "display_data"
    }
   ],
   "source": [
    "import pyspark.sql.functions as F"
   ]
  },
  {
   "cell_type": "code",
   "execution_count": 69,
   "metadata": {},
   "outputs": [
    {
     "data": {
      "application/vnd.jupyter.widget-view+json": {
       "model_id": "",
       "version_major": 2,
       "version_minor": 0
      },
      "text/plain": [
       "FloatProgress(value=0.0, bar_style='info', description='Progress:', layout=Layout(height='25px', width='50%'),…"
      ]
     },
     "metadata": {},
     "output_type": "display_data"
    }
   ],
   "source": [
    "#convert day of the trips between\n",
    "df = df.withColumn('date', F.to_timestamp('date', \"dd.MM.yyyy\"))\n",
    "df = df.withColumn('arrival_scheduled', F.to_timestamp('arrival_scheduled', \"dd.MM.yyyy HH:mm\"))\n",
    "df = df.withColumn('arrival_actual', F.to_timestamp('arrival_actual', 'dd.MM.yyyy HH:mm:ss'))    \n",
    "\n",
    "#keep only rows for stops that are not skipped\n",
    "df=df.filter(df.stop_skip==False)\n",
    "\n",
    "#keep only rows for stops during the week\n",
    "df=df.withColumn(\"day_of_week\",F.dayofweek(df.date))\n",
    "df=df.filter(df.day_of_week.between(2,6))\n",
    "\n",
    "#hours between 8am and 8pm\n",
    "min_day_hour,max_day_hour=8,20\n",
    "df = df.filter(F.hour(F.col('arrival_scheduled')).cast('int').between(min_day_hour, max_day_hour))\n",
    "\n",
    "#only keep stops within the 15km radius\n",
    "reachable_stops_path=\"/user/%s/final/parquet/reachable_stops\" %username\n",
    "stop_id_reachable=spark.read.parquet(reachable_stops_path)\n",
    "stop_id_reachable=stop_id_reachable.withColumn(\"stop_id\",F.split(stop_id_reachable.stop_id,':')[0]).drop(\"stop_name\")\n",
    "\n",
    "df=df.join(stop_id_reachable,on=\"stop_id\")\n",
    "\n",
    "#add hour column\n",
    "df=df.withColumn(\"hour\",F.hour(F.col(\"arrival_scheduled\")))\n"
   ]
  },
  {
   "cell_type": "code",
   "execution_count": 70,
   "metadata": {
    "jupyter": {
     "source_hidden": true
    }
   },
   "outputs": [
    {
     "data": {
      "application/vnd.jupyter.widget-view+json": {
       "model_id": "",
       "version_major": 2,
       "version_minor": 0
      },
      "text/plain": [
       "FloatProgress(value=0.0, bar_style='info', description='Progress:', layout=Layout(height='25px', width='50%'),…"
      ]
     },
     "metadata": {},
     "output_type": "display_data"
    },
    {
     "name": "stdout",
     "output_type": "stream",
     "text": [
      "+-------+-------------------+--------------+--------------------+-------------------+-------------------+---------+---------+---------+-------+-----------+----------------+----------------+-------------+--------------+------------+-------------------+----+\n",
      "|stop_id|               date|transport_type|           stop_name|  arrival_scheduled|     arrival_actual|stop_skip|line_name|line_type|line_id|day_of_week|        stop_lat|        stop_lon|location_type|parent_station|true_stop_id| distance_zurich_HB|hour|\n",
      "+-------+-------------------+--------------+--------------------+-------------------+-------------------+---------+---------+---------+-------+-----------+----------------+----------------+-------------+--------------+------------+-------------------+----+\n",
      "|8503097|2018-02-16 00:00:00|           Zug|    Langnau-Gattikon|2018-02-16 08:00:00|2018-02-16 08:00:43|    false|       S4|        S|  24443|          6|47.2868644549589|8.54402039889557|         null|              |     8503097| 10.157590014092573|   8|\n",
      "|8503088|2018-02-16 00:00:00|           Zug|       Zürich HB SZU|2018-02-16 08:01:00|2018-02-16 08:01:58|    false|       S4|        S|  24444|          6|47.3775557344462|8.53916949636064|         null|      8503088P|    8503088P| 0.1034404045815823|   8|\n",
      "|8503088|2018-02-16 00:00:00|           Zug|       Zürich HB SZU|2018-02-16 08:01:00|2018-02-16 08:01:58|    false|       S4|        S|  24444|          6|47.3774340729037|8.53916949636064|         null|      8503088P|    8503088P|0.11292492837079718|   8|\n",
      "|8503088|2018-02-16 00:00:00|           Zug|       Zürich HB SZU|2018-02-16 08:01:00|2018-02-16 08:01:58|    false|       S4|        S|  24444|          6|47.3774949037101|8.53916949636064|         null|      8503088P|    8503088P|0.10807507039572137|   8|\n",
      "|8503095|2018-02-16 00:00:00|           Zug|   Sood-Oberleimbach|2018-02-16 08:01:00|2018-02-16 08:03:26|    false|       S4|        S|  24445|          6|47.3195704752201|8.52143675264966|         null|              |     8503095|    6.6681734120476|   8|\n",
      "|8503096|2018-02-16 00:00:00|           Zug|            Adliswil|2018-02-16 08:04:00|2018-02-16 08:05:01|    false|       S4|        S|  24445|          6|47.3123048960724|8.52416763111376|         null|              |     8503096| 7.4234797089030025|   8|\n",
      "|8503099|2018-02-16 00:00:00|           Zug|              Sihlau|2018-02-16 08:05:00|2018-02-16 08:08:50|    false|       S4|        S|  24445|          6|47.3031438488015|8.52524560945485|         null|              |     8503099|   8.41897243125367|   8|\n",
      "|8503097|2018-02-16 00:00:00|           Zug|    Langnau-Gattikon|2018-02-16 08:10:00|2018-02-16 08:10:34|    false|       S4|        S|  24445|          6|47.2868644549589|8.54402039889557|         null|              |     8503097| 10.157590014092573|   8|\n",
      "|8503093|2018-02-16 00:00:00|           Zug|       Zürich Manegg|2018-02-16 08:00:00|2018-02-16 08:01:20|    false|       S4|        S|  24446|          6|47.3383722971233|8.51967605469254|         null|              |     8503093|  4.688104750286049|   8|\n",
      "|8503086|2018-02-16 00:00:00|           Zug|       Zürich Brunau|2018-02-16 08:02:00|2018-02-16 08:03:35|    false|       S4|        S|  24446|          6| 47.352116284273|8.52623375626752|         null|              |     8503086|  3.082614787452275|   8|\n",
      "|8503087|2018-02-16 00:00:00|           Zug|Zürich Saalsporth...|2018-02-16 08:04:00|2018-02-16 08:05:41|    false|       S4|        S|  24446|          6|47.3573986717001|8.52214642172421|         null|              |     8503087|  2.680508787816139|   8|\n",
      "|8503091|2018-02-16 00:00:00|           Zug|   Zürich Giesshübel|2018-02-16 08:06:00|2018-02-16 08:07:49|    false|       S4|        S|  24446|          6| 47.362449307975|8.52184997768041|         null|              |     8503091|  2.228544504210794|   8|\n",
      "|8503090|2018-02-16 00:00:00|           Zug|       Zürich Selnau|2018-02-16 08:08:00|2018-02-16 08:09:53|    false|       S4|        S|  24446|          6|47.3720806871258|8.53164161427867|         null|              |     8503090| 0.9349132811414019|   8|\n",
      "|8503088|2018-02-16 00:00:00|           Zug|       Zürich HB SZU|2018-02-16 08:11:00|2018-02-16 08:12:39|    false|       S4|        S|  24446|          6|47.3775557344462|8.53916949636064|         null|      8503088P|    8503088P| 0.1034404045815823|   8|\n",
      "|8503088|2018-02-16 00:00:00|           Zug|       Zürich HB SZU|2018-02-16 08:11:00|2018-02-16 08:12:39|    false|       S4|        S|  24446|          6|47.3774340729037|8.53916949636064|         null|      8503088P|    8503088P|0.11292492837079718|   8|\n",
      "|8503088|2018-02-16 00:00:00|           Zug|       Zürich HB SZU|2018-02-16 08:11:00|2018-02-16 08:12:39|    false|       S4|        S|  24446|          6|47.3774949037101|8.53916949636064|         null|      8503088P|    8503088P|0.10807507039572137|   8|\n",
      "|8503091|2018-02-16 00:00:00|           Zug|   Zürich Giesshübel|2018-02-16 08:01:00|2018-02-16 08:02:26|    false|       S4|        S|  24447|          6| 47.362449307975|8.52184997768041|         null|              |     8503091|  2.228544504210794|   8|\n",
      "|8503087|2018-02-16 00:00:00|           Zug|Zürich Saalsporth...|2018-02-16 08:03:00|2018-02-16 08:04:18|    false|       S4|        S|  24447|          6|47.3573986717001|8.52214642172421|         null|              |     8503087|  2.680508787816139|   8|\n",
      "|8503086|2018-02-16 00:00:00|           Zug|       Zürich Brunau|2018-02-16 08:04:00|2018-02-16 08:05:53|    false|       S4|        S|  24447|          6| 47.352116284273|8.52623375626752|         null|              |     8503086|  3.082614787452275|   8|\n",
      "|8503093|2018-02-16 00:00:00|           Zug|       Zürich Manegg|2018-02-16 08:07:00|2018-02-16 08:08:33|    false|       S4|        S|  24447|          6|47.3383722971233|8.51967605469254|         null|              |     8503093|  4.688104750286049|   8|\n",
      "+-------+-------------------+--------------+--------------------+-------------------+-------------------+---------+---------+---------+-------+-----------+----------------+----------------+-------------+--------------+------------+-------------------+----+\n",
      "only showing top 20 rows"
     ]
    }
   ],
   "source": [
    "df.filter(df.transport_type==\"Zug\").show()"
   ]
  },
  {
   "cell_type": "code",
   "execution_count": 71,
   "metadata": {},
   "outputs": [
    {
     "data": {
      "application/vnd.jupyter.widget-view+json": {
       "model_id": "",
       "version_major": 2,
       "version_minor": 0
      },
      "text/plain": [
       "FloatProgress(value=0.0, bar_style='info', description='Progress:', layout=Layout(height='25px', width='50%'),…"
      ]
     },
     "metadata": {},
     "output_type": "display_data"
    }
   ],
   "source": [
    "#filter the rows where transport_type is null\n",
    "df=df.where((F.col(\"transport_type\")==\"Tram\") | (F.col(\"transport_type\")==\"Zug\")|(F.col(\"transport_type\")==\"Bus\"))"
   ]
  },
  {
   "cell_type": "code",
   "execution_count": 72,
   "metadata": {},
   "outputs": [
    {
     "data": {
      "application/vnd.jupyter.widget-view+json": {
       "model_id": "",
       "version_major": 2,
       "version_minor": 0
      },
      "text/plain": [
       "FloatProgress(value=0.0, bar_style='info', description='Progress:', layout=Layout(height='25px', width='50%'),…"
      ]
     },
     "metadata": {},
     "output_type": "display_data"
    },
    {
     "name": "stdout",
     "output_type": "stream",
     "text": [
      "+--------------+\n",
      "|transport_type|\n",
      "+--------------+\n",
      "|          Tram|\n",
      "|           Zug|\n",
      "|           Bus|\n",
      "+--------------+"
     ]
    }
   ],
   "source": [
    "df.select(\"transport_type\").distinct().show()"
   ]
  },
  {
   "cell_type": "code",
   "execution_count": null,
   "metadata": {},
   "outputs": [],
   "source": [
    "stop_id_reachable.show(10)"
   ]
  },
  {
   "cell_type": "code",
   "execution_count": 73,
   "metadata": {},
   "outputs": [
    {
     "data": {
      "application/vnd.jupyter.widget-view+json": {
       "model_id": "",
       "version_major": 2,
       "version_minor": 0
      },
      "text/plain": [
       "FloatProgress(value=0.0, bar_style='info', description='Progress:', layout=Layout(height='25px', width='50%'),…"
      ]
     },
     "metadata": {},
     "output_type": "display_data"
    }
   ],
   "source": [
    "#computing actual delays\n",
    "@F.udf\n",
    "def relu(x):\n",
    "    return max(x,0)\n",
    "df=df.withColumn(\"delay\",relu((F.col(\"arrival_actual\").cast(\"long\")-F.col(\"arrival_scheduled\").cast(\"long\"))))\n",
    "df = df.where(~(F.col('delay').isNull()))"
   ]
  },
  {
   "cell_type": "code",
   "execution_count": null,
   "metadata": {
    "jupyter": {
     "source_hidden": true
    }
   },
   "outputs": [],
   "source": [
    "#statistics type of transport average delays\n",
    "transport_avg_delays=df.groupby(\"transport_type\").agg(F.mean('delay'))\n",
    "transport_avg_delays.show()"
   ]
  },
  {
   "cell_type": "code",
   "execution_count": null,
   "metadata": {
    "jupyter": {
     "source_hidden": true
    }
   },
   "outputs": [],
   "source": [
    "transport_avg_delays=transport_avg_delays.withColumnRenamed(\"avg(delay)\",\"avg_delay\")"
   ]
  },
  {
   "cell_type": "code",
   "execution_count": null,
   "metadata": {
    "jupyter": {
     "source_hidden": true
    }
   },
   "outputs": [],
   "source": [
    "transport_avg_delays.show()"
   ]
  },
  {
   "cell_type": "code",
   "execution_count": null,
   "metadata": {
    "jupyter": {
     "source_hidden": true
    }
   },
   "outputs": [],
   "source": [
    "import matplotlib\n",
    "matplotlib.use('agg')\n",
    "import matplotlib.pylab as plt\n",
    "\n",
    "plt.rcParams['figure.figsize'] = (30,8)\n",
    "plt.rcParams['font.size'] = 12\n",
    "plt.style.use('fivethirtyeight')"
   ]
  },
  {
   "cell_type": "code",
   "execution_count": null,
   "metadata": {
    "jupyter": {
     "source_hidden": true
    }
   },
   "outputs": [],
   "source": [
    "import matplotlib.pyplot as plt\n",
    "# Plot transport average delays\n",
    "\n",
    "t_avg_delays_plot=transport_avg_delays.toPandas()\n",
    "\n",
    "plt.bar(x=t_avg_delays_plot.transport_type,height=t_avg_delays_plot.avg_delay)\n",
    "#transport_avg_delays[\"avg_delay\"].plot.bar\n",
    "plt.xlabel('average delay distribution by train')\n",
    "plt.ylabel('average delay (seconds)')\n",
    "plt.xticks(range(len(t_avg_delays_plot)), t_avg_delays_plot.transport_type)"
   ]
  },
  {
   "cell_type": "code",
   "execution_count": null,
   "metadata": {
    "jupyter": {
     "source_hidden": true
    }
   },
   "outputs": [],
   "source": [
    "%matplot plt"
   ]
  },
  {
   "cell_type": "code",
   "execution_count": null,
   "metadata": {
    "jupyter": {
     "source_hidden": true
    }
   },
   "outputs": [],
   "source": [
    "hour_avg_delays=df.groupby(\"hour\").agg(F.mean('delay'))\n",
    "\n",
    "hour_avg_delays=hour_avg_delays.withColumnRenamed(\"avg(delay)\",\"avg_delay\")"
   ]
  },
  {
   "cell_type": "code",
   "execution_count": null,
   "metadata": {
    "jupyter": {
     "source_hidden": true
    }
   },
   "outputs": [],
   "source": [
    "# Plot transport average delays\n",
    "plt.cla()\n",
    "h_avg_delays_plot=hour_avg_delays.toPandas().sort_values(by=\"hour\").reset_index(drop=True)\n",
    "\n",
    "plt.bar(x=h_avg_delays_plot.hour, height=h_avg_delays_plot.avg_delay, color=(0.2, 0.4, 0.6, 0.6))\n",
    " \n",
    "plt.xlabel('average delay distribution by hour')\n",
    "plt.ylabel('average delay (seconds)')\n",
    "plt.xticks(h_avg_delays_plot.hour)\n",
    "# Show the graph\n",
    "%matplot plt"
   ]
  },
  {
   "cell_type": "code",
   "execution_count": null,
   "metadata": {
    "jupyter": {
     "source_hidden": true
    }
   },
   "outputs": [],
   "source": [
    "h_avg_delays_plot"
   ]
  },
  {
   "cell_type": "code",
   "execution_count": 57,
   "metadata": {},
   "outputs": [
    {
     "data": {
      "application/vnd.jupyter.widget-view+json": {
       "model_id": "",
       "version_major": 2,
       "version_minor": 0
      },
      "text/plain": [
       "FloatProgress(value=0.0, bar_style='info', description='Progress:', layout=Layout(height='25px', width='50%'),…"
      ]
     },
     "metadata": {},
     "output_type": "display_data"
    },
    {
     "name": "stdout",
     "output_type": "stream",
     "text": [
      "61"
     ]
    }
   ],
   "source": [
    "train_types=df.where(F.col(\"transport_type\")==\"Zug\").groupby(\"line_name\").agg(F.mean('delay'))\n",
    "#train_types.filter(train_types.line_name[0:2]==\"RE\").show()\n",
    "train_types.count()"
   ]
  },
  {
   "cell_type": "code",
   "execution_count": 62,
   "metadata": {},
   "outputs": [
    {
     "data": {
      "application/vnd.jupyter.widget-view+json": {
       "model_id": "",
       "version_major": 2,
       "version_minor": 0
      },
      "text/plain": [
       "FloatProgress(value=0.0, bar_style='info', description='Progress:', layout=Layout(height='25px', width='50%'),…"
      ]
     },
     "metadata": {},
     "output_type": "display_data"
    },
    {
     "name": "stdout",
     "output_type": "stream",
     "text": [
      "DataFrame[stop_id: string, date: timestamp, transport_type: string, stop_name: string, arrival_scheduled: timestamp, arrival_actual: timestamp, stop_skip: string, line_name: string, line_type: string, line_id: string, day_of_week: int, stop_name: string, stop_lat: double, stop_lon: double, location_type: int, parent_station: string, true_stop_id: string, distance_zurich_HB: double, hour: int, delay: string]"
     ]
    }
   ],
   "source": [
    "df"
   ]
  },
  {
   "cell_type": "code",
   "execution_count": 75,
   "metadata": {},
   "outputs": [
    {
     "data": {
      "application/vnd.jupyter.widget-view+json": {
       "model_id": "",
       "version_major": 2,
       "version_minor": 0
      },
      "text/plain": [
       "FloatProgress(value=0.0, bar_style='info', description='Progress:', layout=Layout(height='25px', width='50%'),…"
      ]
     },
     "metadata": {},
     "output_type": "display_data"
    },
    {
     "name": "stdout",
     "output_type": "stream",
     "text": [
      "+---------+----+-------+------------------+\n",
      "|line_name|hour|stop_id|        avg(delay)|\n",
      "+---------+----+-------+------------------+\n",
      "|      S18|   9|8530813|               0.0|\n",
      "|      S10|  15|8503052|54.899648156646776|\n",
      "|       S4|  16|8503087|62.882486979166664|\n",
      "|       S4|  17|8503088| 96.81582446808511|\n",
      "|      S17|  15|8502268|56.642736486486484|\n",
      "|       S3|  14|8503020|38.809453471196456|\n",
      "|       S3|  14|8503305| 39.92926670992862|\n",
      "|       S3|  20|8503020| 38.55282555282555|\n",
      "|       S6|   8|8503526| 99.38361929426999|\n",
      "|       S6|  16|8503007| 99.81791720569211|\n",
      "|       S6|  19|8503111| 90.99481865284974|\n",
      "|       S8|   8|8503204|106.08058252427185|\n",
      "|       S8|  11|8503000|22.001940491591203|\n",
      "|      S12|  15|8503147| 32.74444444444445|\n",
      "|      S12|  19|8503147|41.098381466201204|\n",
      "|      S21|  18|8503008| 79.24966078697422|\n",
      "|      S15|  18|8503147| 160.9047619047619|\n",
      "|        S|  17|8503306|            35.375|\n",
      "|      EXT|  19|8503103|             105.0|\n",
      "|       S7|  19|8503103|             158.0|\n",
      "+---------+----+-------+------------------+\n",
      "only showing top 20 rows"
     ]
    }
   ],
   "source": [
    "train_types=df.where(F.col(\"transport_type\")==\"Zug\").groupby(\"line_name\", \"hour\", \"stop_id\").agg(F.mean('delay'))\n",
    "#train_types.filter(train_types.line_name[0:2]==\"RE\").show()\n",
    "train_types.show()"
   ]
  },
  {
   "cell_type": "code",
   "execution_count": null,
   "metadata": {},
   "outputs": [],
   "source": [
    "train_types_hour=df.where(F.col(\"transport_type\")==\"Zug\").groupby(\"line_type\",\"hour\").agg(F.mean('delay'))\n",
    "train_types_hour.show()"
   ]
  },
  {
   "cell_type": "code",
   "execution_count": null,
   "metadata": {},
   "outputs": [],
   "source": [
    "bus_types=df.where(F.col(\"transport_type\")==\"Bus\").groupby(\"line_name\").agg(F.mean('delay'))\n",
    "bus_types.show()"
   ]
  },
  {
   "cell_type": "code",
   "execution_count": null,
   "metadata": {},
   "outputs": [],
   "source": [
    "bus_types_hour=df.where(F.col(\"transport_type\")==\"Bus\").groupby(\"line_name\", \"hour\").agg(F.mean('delay'))\n",
    "bus_types_hour.show()"
   ]
  },
  {
   "cell_type": "code",
   "execution_count": null,
   "metadata": {},
   "outputs": [],
   "source": [
    "tram_types=df.where(F.col(\"transport_type\")==\"Tram\").groupby(\"line_name\").agg(F.mean('delay'))\n",
    "tram_types.show()"
   ]
  },
  {
   "cell_type": "code",
   "execution_count": null,
   "metadata": {},
   "outputs": [],
   "source": [
    "tram_types_hour=df.where(F.col(\"transport_type\")==\"Tram\").groupby(\"line_name\", \"hour\").agg(F.mean('delay'))\n",
    "tram_types_hour.show()"
   ]
  },
  {
   "cell_type": "code",
   "execution_count": null,
   "metadata": {},
   "outputs": [],
   "source": [
    "#Renaming\n",
    "train_types = train_types.withColumnRenamed(\"avg(delay)\",\"avg_delay\")\n",
    "train_types_hour = train_types_hour.withColumnRenamed(\"avg(delay)\",\"avg_delay\")\n",
    "bus_types= bus_types.withColumnRenamed(\"avg(delay)\",\"avg_delay\")\n",
    "bus_types_hour= bus_types_hour.withColumnRenamed(\"avg(delay)\",\"avg_delay\")\n",
    "tram_types = tram_types.withColumnRenamed(\"avg(delay)\",\"avg_delay\")\n",
    "tram_types_hour = tram_types_hour.withColumnRenamed(\"avg(delay)\",\"avg_delay\")"
   ]
  },
  {
   "cell_type": "code",
   "execution_count": null,
   "metadata": {},
   "outputs": [],
   "source": [
    "#transport_avg_delays.write.parquet('/user/%s/final/parquet/transport_avg_delays' % username)\n",
    "#hour_avg_delays.write.parquet('/user/%s/final/parquet/hour_avg_delays' % username)\n",
    "train_types = train_types.withColumnRenamed(\"avg(delay)\",\"avg_delay\")\n",
    "train_types.write.parquet('/user/%s/final/parquet/train_types' % username)\n",
    "bus_types= bus_types.withColumnRenamed(\"avg(delay)\",\"avg_delay\")\n",
    "bus_types.write.parquet('/user/%s/final/parquet/bus_types' % username)\n",
    "tram_types = tram_types.withColumnRenamed(\"avg(delay)\",\"avg_delay\")\n",
    "tram_types.write.parquet('/user/%s/final/parquet/tram_types' % username)\n",
    "train_types_hour.withColumnRenamed(\"avg(delay)\",\"avg_delay\").write.parquet('/user/%s/final/parquet/train_types_hour' % username)\n",
    "bus_types_hour.withColumnRenamed(\"avg(delay)\",\"avg_delay\").write.parquet('/user/%s/final/parquet/bus_types_hour' % username)\n",
    "tram_types_hour.withColumnRenamed(\"avg(delay)\",\"avg_delay\").write.parquet('/user/%s/final/parquet/tram_types_hour' % username)"
   ]
  },
  {
   "cell_type": "code",
   "execution_count": null,
   "metadata": {},
   "outputs": [],
   "source": [
    "default_delay = df.select(F.mean(F.col('delay')).alias('mean_delay'),).collect()\n"
   ]
  },
  {
   "cell_type": "code",
   "execution_count": null,
   "metadata": {},
   "outputs": [],
   "source": [
    "default_delay.show()"
   ]
  },
  {
   "cell_type": "code",
   "execution_count": null,
   "metadata": {},
   "outputs": [],
   "source": []
  }
 ],
 "metadata": {
  "kernelspec": {
   "display_name": "PySpark",
   "language": "python",
   "name": "pysparkkernel"
  },
  "language_info": {
   "codemirror_mode": {
    "name": "python",
    "version": 3
   },
   "file_extension": ".py",
   "mimetype": "text/x-python",
   "name": "pyspark",
   "pygments_lexer": "python3"
  }
 },
 "nbformat": 4,
 "nbformat_minor": 4
}
