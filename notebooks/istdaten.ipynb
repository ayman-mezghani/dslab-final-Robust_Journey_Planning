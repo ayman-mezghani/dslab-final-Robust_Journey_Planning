{
 "cells": [
  {
   "cell_type": "code",
   "execution_count": 76,
   "metadata": {},
   "outputs": [
    {
     "name": "stdout",
     "output_type": "stream",
     "text": [
      "Starting Spark application\n"
     ]
    },
    {
     "data": {
      "text/html": [
       "<table>\n",
       "<tr><th>ID</th><th>YARN Application ID</th><th>Kind</th><th>State</th><th>Spark UI</th><th>Driver log</th><th>User</th><th>Current session?</th></tr><tr><td>6964</td><td>application_1618324153128_6616</td><td>pyspark</td><td>idle</td><td><a target=\"_blank\" href=\"http://iccluster040.iccluster.epfl.ch:8088/proxy/application_1618324153128_6616/\">Link</a></td><td><a target=\"_blank\" href=\"http://iccluster066.iccluster.epfl.ch:8042/node/containerlogs/container_e01_1618324153128_6616_01_000001/ebouille\">Link</a></td><td>None</td><td>✔</td></tr></table>"
      ],
      "text/plain": [
       "<IPython.core.display.HTML object>"
      ]
     },
     "metadata": {},
     "output_type": "display_data"
    },
    {
     "data": {
      "application/vnd.jupyter.widget-view+json": {
       "model_id": "",
       "version_major": 2,
       "version_minor": 0
      },
      "text/plain": [
       "FloatProgress(value=0.0, bar_style='info', description='Progress:', layout=Layout(height='25px', width='50%'),…"
      ]
     },
     "metadata": {},
     "output_type": "display_data"
    },
    {
     "name": "stdout",
     "output_type": "stream",
     "text": [
      "SparkSession available as 'spark'.\n"
     ]
    },
    {
     "data": {
      "text/html": [
       "Current session configs: <tt>{'name': 'hadidane-final-istaden', 'executorMemory': '4G', 'executorCores': 4, 'numExecutors': 10, 'driverMemory': '4G', 'kind': 'pyspark'}</tt><br>"
      ],
      "text/plain": [
       "<IPython.core.display.HTML object>"
      ]
     },
     "metadata": {},
     "output_type": "display_data"
    },
    {
     "data": {
      "text/html": [
       "<table>\n",
       "<tr><th>ID</th><th>YARN Application ID</th><th>Kind</th><th>State</th><th>Spark UI</th><th>Driver log</th><th>User</th><th>Current session?</th></tr><tr><td>6915</td><td>application_1618324153128_6543</td><td>pyspark</td><td>busy</td><td><a target=\"_blank\" href=\"http://iccluster040.iccluster.epfl.ch:8088/proxy/application_1618324153128_6543/\">Link</a></td><td><a target=\"_blank\" href=\"http://iccluster071.iccluster.epfl.ch:8042/node/containerlogs/container_e01_1618324153128_6543_01_000001/ebouille\">Link</a></td><td>None</td><td></td></tr><tr><td>6926</td><td>application_1618324153128_6556</td><td>pyspark</td><td>idle</td><td><a target=\"_blank\" href=\"http://iccluster040.iccluster.epfl.ch:8088/proxy/application_1618324153128_6556/\">Link</a></td><td><a target=\"_blank\" href=\"http://iccluster078.iccluster.epfl.ch:8042/node/containerlogs/container_e01_1618324153128_6556_01_000001/ebouille\">Link</a></td><td>None</td><td></td></tr><tr><td>6939</td><td>application_1618324153128_6578</td><td>pyspark</td><td>idle</td><td><a target=\"_blank\" href=\"http://iccluster040.iccluster.epfl.ch:8088/proxy/application_1618324153128_6578/\">Link</a></td><td><a target=\"_blank\" href=\"http://iccluster078.iccluster.epfl.ch:8042/node/containerlogs/container_e01_1618324153128_6578_01_000001/ebouille\">Link</a></td><td>None</td><td></td></tr><tr><td>6946</td><td>application_1618324153128_6589</td><td>pyspark</td><td>idle</td><td><a target=\"_blank\" href=\"http://iccluster040.iccluster.epfl.ch:8088/proxy/application_1618324153128_6589/\">Link</a></td><td><a target=\"_blank\" href=\"http://iccluster070.iccluster.epfl.ch:8042/node/containerlogs/container_e01_1618324153128_6589_01_000001/ebouille\">Link</a></td><td>None</td><td></td></tr><tr><td>6947</td><td>application_1618324153128_6591</td><td>pyspark</td><td>idle</td><td><a target=\"_blank\" href=\"http://iccluster040.iccluster.epfl.ch:8088/proxy/application_1618324153128_6591/\">Link</a></td><td><a target=\"_blank\" href=\"http://iccluster067.iccluster.epfl.ch:8042/node/containerlogs/container_e01_1618324153128_6591_01_000001/ebouille\">Link</a></td><td>None</td><td></td></tr><tr><td>6951</td><td>application_1618324153128_6600</td><td>pyspark</td><td>idle</td><td><a target=\"_blank\" href=\"http://iccluster040.iccluster.epfl.ch:8088/proxy/application_1618324153128_6600/\">Link</a></td><td><a target=\"_blank\" href=\"http://iccluster071.iccluster.epfl.ch:8042/node/containerlogs/container_e01_1618324153128_6600_01_000001/ebouille\">Link</a></td><td>None</td><td></td></tr><tr><td>6952</td><td>application_1618324153128_6601</td><td>pyspark</td><td>idle</td><td><a target=\"_blank\" href=\"http://iccluster040.iccluster.epfl.ch:8088/proxy/application_1618324153128_6601/\">Link</a></td><td><a target=\"_blank\" href=\"http://iccluster067.iccluster.epfl.ch:8042/node/containerlogs/container_e01_1618324153128_6601_01_000001/ebouille\">Link</a></td><td>None</td><td></td></tr><tr><td>6954</td><td>application_1618324153128_6603</td><td>pyspark</td><td>idle</td><td><a target=\"_blank\" href=\"http://iccluster040.iccluster.epfl.ch:8088/proxy/application_1618324153128_6603/\">Link</a></td><td><a target=\"_blank\" href=\"http://iccluster078.iccluster.epfl.ch:8042/node/containerlogs/container_e01_1618324153128_6603_01_000001/ebouille\">Link</a></td><td>None</td><td></td></tr><tr><td>6955</td><td>application_1618324153128_6604</td><td>pyspark</td><td>idle</td><td><a target=\"_blank\" href=\"http://iccluster040.iccluster.epfl.ch:8088/proxy/application_1618324153128_6604/\">Link</a></td><td><a target=\"_blank\" href=\"http://iccluster069.iccluster.epfl.ch:8042/node/containerlogs/container_e01_1618324153128_6604_01_000001/ebouille\">Link</a></td><td>None</td><td></td></tr><tr><td>6957</td><td>application_1618324153128_6606</td><td>pyspark</td><td>busy</td><td><a target=\"_blank\" href=\"http://iccluster040.iccluster.epfl.ch:8088/proxy/application_1618324153128_6606/\">Link</a></td><td><a target=\"_blank\" href=\"http://iccluster066.iccluster.epfl.ch:8042/node/containerlogs/container_e01_1618324153128_6606_01_000001/ebouille\">Link</a></td><td>None</td><td></td></tr><tr><td>6958</td><td>application_1618324153128_6607</td><td>pyspark</td><td>idle</td><td><a target=\"_blank\" href=\"http://iccluster040.iccluster.epfl.ch:8088/proxy/application_1618324153128_6607/\">Link</a></td><td><a target=\"_blank\" href=\"http://iccluster077.iccluster.epfl.ch:8042/node/containerlogs/container_e01_1618324153128_6607_01_000001/ebouille\">Link</a></td><td>None</td><td></td></tr><tr><td>6959</td><td>application_1618324153128_6608</td><td>pyspark</td><td>busy</td><td><a target=\"_blank\" href=\"http://iccluster040.iccluster.epfl.ch:8088/proxy/application_1618324153128_6608/\">Link</a></td><td><a target=\"_blank\" href=\"http://iccluster069.iccluster.epfl.ch:8042/node/containerlogs/container_e01_1618324153128_6608_01_000001/ebouille\">Link</a></td><td>None</td><td></td></tr><tr><td>6960</td><td>application_1618324153128_6610</td><td>pyspark</td><td>idle</td><td><a target=\"_blank\" href=\"http://iccluster040.iccluster.epfl.ch:8088/proxy/application_1618324153128_6610/\">Link</a></td><td><a target=\"_blank\" href=\"http://iccluster072.iccluster.epfl.ch:8042/node/containerlogs/container_e01_1618324153128_6610_01_000001/ebouille\">Link</a></td><td>None</td><td></td></tr><tr><td>6961</td><td>application_1618324153128_6611</td><td>pyspark</td><td>idle</td><td><a target=\"_blank\" href=\"http://iccluster040.iccluster.epfl.ch:8088/proxy/application_1618324153128_6611/\">Link</a></td><td><a target=\"_blank\" href=\"http://iccluster066.iccluster.epfl.ch:8042/node/containerlogs/container_e01_1618324153128_6611_01_000001/ebouille\">Link</a></td><td>None</td><td></td></tr><tr><td>6962</td><td>application_1618324153128_6613</td><td>pyspark</td><td>idle</td><td><a target=\"_blank\" href=\"http://iccluster040.iccluster.epfl.ch:8088/proxy/application_1618324153128_6613/\">Link</a></td><td><a target=\"_blank\" href=\"http://iccluster072.iccluster.epfl.ch:8042/node/containerlogs/container_e01_1618324153128_6613_01_000001/ebouille\">Link</a></td><td>None</td><td></td></tr><tr><td>6963</td><td>application_1618324153128_6615</td><td>pyspark</td><td>busy</td><td><a target=\"_blank\" href=\"http://iccluster040.iccluster.epfl.ch:8088/proxy/application_1618324153128_6615/\">Link</a></td><td><a target=\"_blank\" href=\"http://iccluster070.iccluster.epfl.ch:8042/node/containerlogs/container_e01_1618324153128_6615_01_000001/ebouille\">Link</a></td><td>None</td><td></td></tr><tr><td>6964</td><td>application_1618324153128_6616</td><td>pyspark</td><td>idle</td><td><a target=\"_blank\" href=\"http://iccluster040.iccluster.epfl.ch:8088/proxy/application_1618324153128_6616/\">Link</a></td><td><a target=\"_blank\" href=\"http://iccluster066.iccluster.epfl.ch:8042/node/containerlogs/container_e01_1618324153128_6616_01_000001/ebouille\">Link</a></td><td>None</td><td>✔</td></tr></table>"
      ],
      "text/plain": [
       "<IPython.core.display.HTML object>"
      ]
     },
     "metadata": {},
     "output_type": "display_data"
    }
   ],
   "source": [
    "%%local\n",
    "import os\n",
    "username = os.environ['JUPYTERHUB_USER']\n",
    "get_ipython().run_cell_magic('configure', line=\"-f\", cell='{ \"name\":\"%s-final-istaden\", \"executorMemory\":\"4G\", \"executorCores\":4, \"numExecutors\":10, \"driverMemory\": \"4G\" }' % username)"
   ]
  },
  {
   "cell_type": "code",
   "execution_count": 77,
   "metadata": {},
   "outputs": [
    {
     "data": {
      "application/vnd.jupyter.widget-view+json": {
       "model_id": "",
       "version_major": 2,
       "version_minor": 0
      },
      "text/plain": [
       "FloatProgress(value=0.0, bar_style='info', description='Progress:', layout=Layout(height='25px', width='50%'),…"
      ]
     },
     "metadata": {},
     "output_type": "display_data"
    },
    {
     "name": "stdout",
     "output_type": "stream",
     "text": [
      "Successfully passed 'username' as 'username' to Spark kernel"
     ]
    }
   ],
   "source": [
    "%%send_to_spark -i username -t str -n username"
   ]
  },
  {
   "cell_type": "code",
   "execution_count": 78,
   "metadata": {},
   "outputs": [
    {
     "data": {
      "application/vnd.jupyter.widget-view+json": {
       "model_id": "",
       "version_major": 2,
       "version_minor": 0
      },
      "text/plain": [
       "FloatProgress(value=0.0, bar_style='info', description='Progress:', layout=Layout(height='25px', width='50%'),…"
      ]
     },
     "metadata": {},
     "output_type": "display_data"
    }
   ],
   "source": [
    "#Loading the data "
   ]
  },
  {
   "cell_type": "code",
   "execution_count": 90,
   "metadata": {},
   "outputs": [
    {
     "data": {
      "application/vnd.jupyter.widget-view+json": {
       "model_id": "",
       "version_major": 2,
       "version_minor": 0
      },
      "text/plain": [
       "FloatProgress(value=0.0, bar_style='info', description='Progress:', layout=Layout(height='25px', width='50%'),…"
      ]
     },
     "metadata": {},
     "output_type": "display_data"
    }
   ],
   "source": [
    "df = spark.read.orc('/data/sbb/orc/istdaten')"
   ]
  },
  {
   "cell_type": "code",
   "execution_count": 91,
   "metadata": {},
   "outputs": [
    {
     "data": {
      "application/vnd.jupyter.widget-view+json": {
       "model_id": "",
       "version_major": 2,
       "version_minor": 0
      },
      "text/plain": [
       "FloatProgress(value=0.0, bar_style='info', description='Progress:', layout=Layout(height='25px', width='50%'),…"
      ]
     },
     "metadata": {},
     "output_type": "display_data"
    }
   ],
   "source": [
    "df=df.selectExpr('betriebstag as date',\n",
    "                 'produkt_id as transport_type',\n",
    "                 'haltestellen_name as stop_name',\n",
    "                 'ankunftszeit as arrival_scheduled',\n",
    "                 'an_prognose as arrival_actual',\n",
    "                 'durchfahrt_tf as stop_skip',\n",
    "                 'bpuic as stop_id',\n",
    "                  'linien_text as line_name',\n",
    "                  'verkehrsmittel_text as line_type',\n",
    "                  'linien_id as line_id'\n",
    "                )"
   ]
  },
  {
   "cell_type": "code",
   "execution_count": 92,
   "metadata": {},
   "outputs": [
    {
     "data": {
      "application/vnd.jupyter.widget-view+json": {
       "model_id": "",
       "version_major": 2,
       "version_minor": 0
      },
      "text/plain": [
       "FloatProgress(value=0.0, bar_style='info', description='Progress:', layout=Layout(height='25px', width='50%'),…"
      ]
     },
     "metadata": {},
     "output_type": "display_data"
    },
    {
     "name": "stdout",
     "output_type": "stream",
     "text": [
      "36708"
     ]
    }
   ],
   "source": [
    "df.select(\"stop_id\").distinct().count()"
   ]
  },
  {
   "cell_type": "code",
   "execution_count": 89,
   "metadata": {},
   "outputs": [
    {
     "data": {
      "application/vnd.jupyter.widget-view+json": {
       "model_id": "",
       "version_major": 2,
       "version_minor": 0
      },
      "text/plain": [
       "FloatProgress(value=0.0, bar_style='info', description='Progress:', layout=Layout(height='25px', width='50%'),…"
      ]
     },
     "metadata": {},
     "output_type": "display_data"
    },
    {
     "name": "stdout",
     "output_type": "stream",
     "text": [
      "1597"
     ]
    }
   ],
   "source": [
    "stop_id_reachable.select(\"stop_id\").distinct().count()"
   ]
  },
  {
   "cell_type": "code",
   "execution_count": 93,
   "metadata": {},
   "outputs": [
    {
     "data": {
      "application/vnd.jupyter.widget-view+json": {
       "model_id": "",
       "version_major": 2,
       "version_minor": 0
      },
      "text/plain": [
       "FloatProgress(value=0.0, bar_style='info', description='Progress:', layout=Layout(height='25px', width='50%'),…"
      ]
     },
     "metadata": {},
     "output_type": "display_data"
    }
   ],
   "source": [
    "import pyspark.sql.functions as F"
   ]
  },
  {
   "cell_type": "code",
   "execution_count": 94,
   "metadata": {},
   "outputs": [
    {
     "data": {
      "application/vnd.jupyter.widget-view+json": {
       "model_id": "",
       "version_major": 2,
       "version_minor": 0
      },
      "text/plain": [
       "FloatProgress(value=0.0, bar_style='info', description='Progress:', layout=Layout(height='25px', width='50%'),…"
      ]
     },
     "metadata": {},
     "output_type": "display_data"
    }
   ],
   "source": [
    "#convert day of the trips between\n",
    "df = df.withColumn('date', F.to_timestamp('date', \"dd.MM.yyyy\"))\n",
    "df = df.withColumn('arrival_scheduled', F.to_timestamp('arrival_scheduled', \"dd.MM.yyyy HH:mm\"))\n",
    "df = df.withColumn('arrival_actual', F.to_timestamp('arrival_actual', 'dd.MM.yyyy HH:mm:ss'))    \n",
    "\n",
    "#keep only rows for stops that are not skipped\n",
    "df=df.filter(df.stop_skip==False)\n",
    "\n",
    "#keep only rows for stops during the week\n",
    "df=df.withColumn(\"day_of_week\",F.dayofweek(df.date))\n",
    "df=df.filter(df.day_of_week.between(2,6))\n",
    "\n",
    "#hours between 8am and 8pm\n",
    "min_day_hour,max_day_hour=8,20\n",
    "df = df.filter(F.hour(F.col('arrival_scheduled')).cast('int').between(min_day_hour, max_day_hour))\n",
    "\n",
    "#only keep stops within the 15km radius\n",
    "reachable_stops_path=\"/user/%s/final/parquet/reachable_stops\" %username\n",
    "stop_id_reachable=spark.read.parquet(reachable_stops_path)\n",
    "stop_id_reachable=stop_id_reachable.withColumn(\"stop_id\",F.split(stop_id_reachable.stop_id,':')[0]).drop(\"stop_name\")\n",
    "\n",
    "df=df.join(stop_id_reachable,on=\"stop_id\")\n",
    "\n",
    "#add hour column\n",
    "df=df.withColumn(\"hour\",F.hour(F.col(\"arrival_scheduled\")))\n"
   ]
  },
  {
   "cell_type": "code",
   "execution_count": 95,
   "metadata": {},
   "outputs": [
    {
     "data": {
      "application/vnd.jupyter.widget-view+json": {
       "model_id": "",
       "version_major": 2,
       "version_minor": 0
      },
      "text/plain": [
       "FloatProgress(value=0.0, bar_style='info', description='Progress:', layout=Layout(height='25px', width='50%'),…"
      ]
     },
     "metadata": {},
     "output_type": "display_data"
    },
    {
     "name": "stdout",
     "output_type": "stream",
     "text": [
      "1530"
     ]
    }
   ],
   "source": [
    "df.select(\"stop_id\").distinct().count()"
   ]
  },
  {
   "cell_type": "code",
   "execution_count": 97,
   "metadata": {},
   "outputs": [
    {
     "data": {
      "application/vnd.jupyter.widget-view+json": {
       "model_id": "",
       "version_major": 2,
       "version_minor": 0
      },
      "text/plain": [
       "FloatProgress(value=0.0, bar_style='info', description='Progress:', layout=Layout(height='25px', width='50%'),…"
      ]
     },
     "metadata": {},
     "output_type": "display_data"
    }
   ],
   "source": [
    "#filter the rows where transport_type is null\n",
    "df=df.where((F.col(\"transport_type\")==\"Tram\") | (F.col(\"transport_type\")==\"Zug\")|(F.col(\"transport_type\")==\"Bus\"))"
   ]
  },
  {
   "cell_type": "code",
   "execution_count": 85,
   "metadata": {},
   "outputs": [
    {
     "data": {
      "application/vnd.jupyter.widget-view+json": {
       "model_id": "",
       "version_major": 2,
       "version_minor": 0
      },
      "text/plain": [
       "FloatProgress(value=0.0, bar_style='info', description='Progress:', layout=Layout(height='25px', width='50%'),…"
      ]
     },
     "metadata": {},
     "output_type": "display_data"
    },
    {
     "name": "stdout",
     "output_type": "stream",
     "text": [
      "+-------+----------------+----------------+-------------+--------------+------------------+\n",
      "|stop_id|        stop_lat|        stop_lon|location_type|parent_station|distance_zurich_HB|\n",
      "+-------+----------------+----------------+-------------+--------------+------------------+\n",
      "|8502276|47.3621754906935|8.36679177646695|            1|              |13.179043039878453|\n",
      "|8502276|47.3622971874385|8.36679177646695|         null|      8502276P|13.177207987631474|\n",
      "|8502276|47.3622363391011|8.36679177646695|         null|      8502276P|13.178123808381171|\n",
      "|8502276|47.3621754906935|8.36679177646695|         null|      8502276P|13.179043039878453|\n",
      "|8503879|47.3724396243058|8.35652403276804|         null|              |13.844981913831946|\n",
      "|8576183|47.3427977889857|8.56732269736887|         null|              | 4.433088316413242|\n",
      "|8591406|47.3961605624575|8.54482888265138|         null|              |2.0299214545979867|\n",
      "|8591265|47.3890818922336|8.49469390663769|         null|              | 3.633768741068256|\n",
      "|8590899|47.4140111289803|8.59125381654114|         null|              |  5.53615548729977|\n",
      "|8573503|47.3633985302147|8.73678089258876|         null|              |14.895418030855717|\n",
      "+-------+----------------+----------------+-------------+--------------+------------------+\n",
      "only showing top 10 rows"
     ]
    }
   ],
   "source": [
    "stop_id_reachable.show(10)"
   ]
  },
  {
   "cell_type": "code",
   "execution_count": 98,
   "metadata": {},
   "outputs": [
    {
     "data": {
      "application/vnd.jupyter.widget-view+json": {
       "model_id": "",
       "version_major": 2,
       "version_minor": 0
      },
      "text/plain": [
       "FloatProgress(value=0.0, bar_style='info', description='Progress:', layout=Layout(height='25px', width='50%'),…"
      ]
     },
     "metadata": {},
     "output_type": "display_data"
    }
   ],
   "source": [
    "#computing actual delays\n",
    "@F.udf\n",
    "def relu(x):\n",
    "    return max(x,0)\n",
    "df=df.withColumn(\"delay\",relu((F.col(\"arrival_actual\").cast(\"long\")-F.col(\"arrival_scheduled\").cast(\"long\"))))\n",
    "df = df.where(~(F.col('delay').isNull()))"
   ]
  },
  {
   "cell_type": "code",
   "execution_count": null,
   "metadata": {
    "jupyter": {
     "source_hidden": true
    }
   },
   "outputs": [],
   "source": [
    "#statistics type of transport average delays\n",
    "transport_avg_delays=df.groupby(\"transport_type\").agg(F.mean('delay'))\n",
    "transport_avg_delays.show()"
   ]
  },
  {
   "cell_type": "code",
   "execution_count": null,
   "metadata": {
    "jupyter": {
     "source_hidden": true
    }
   },
   "outputs": [],
   "source": [
    "transport_avg_delays=transport_avg_delays.withColumnRenamed(\"avg(delay)\",\"avg_delay\")"
   ]
  },
  {
   "cell_type": "code",
   "execution_count": null,
   "metadata": {
    "jupyter": {
     "source_hidden": true
    }
   },
   "outputs": [],
   "source": [
    "transport_avg_delays.show()"
   ]
  },
  {
   "cell_type": "code",
   "execution_count": null,
   "metadata": {
    "jupyter": {
     "source_hidden": true
    }
   },
   "outputs": [],
   "source": [
    "import matplotlib\n",
    "matplotlib.use('agg')\n",
    "import matplotlib.pylab as plt\n",
    "\n",
    "plt.rcParams['figure.figsize'] = (30,8)\n",
    "plt.rcParams['font.size'] = 12\n",
    "plt.style.use('fivethirtyeight')"
   ]
  },
  {
   "cell_type": "code",
   "execution_count": null,
   "metadata": {
    "jupyter": {
     "source_hidden": true
    }
   },
   "outputs": [],
   "source": [
    "import matplotlib.pyplot as plt\n",
    "# Plot transport average delays\n",
    "\n",
    "t_avg_delays_plot=transport_avg_delays.toPandas()\n",
    "\n",
    "plt.bar(x=t_avg_delays_plot.transport_type,height=t_avg_delays_plot.avg_delay)\n",
    "#transport_avg_delays[\"avg_delay\"].plot.bar\n",
    "plt.xlabel('average delay distribution by train')\n",
    "plt.ylabel('average delay (seconds)')\n",
    "plt.xticks(range(len(t_avg_delays_plot)), t_avg_delays_plot.transport_type)"
   ]
  },
  {
   "cell_type": "code",
   "execution_count": null,
   "metadata": {
    "jupyter": {
     "source_hidden": true
    }
   },
   "outputs": [],
   "source": [
    "%matplot plt"
   ]
  },
  {
   "cell_type": "code",
   "execution_count": null,
   "metadata": {
    "jupyter": {
     "source_hidden": true
    }
   },
   "outputs": [],
   "source": [
    "hour_avg_delays=df.groupby(\"hour\").agg(F.mean('delay'))\n",
    "\n",
    "hour_avg_delays=hour_avg_delays.withColumnRenamed(\"avg(delay)\",\"avg_delay\")"
   ]
  },
  {
   "cell_type": "code",
   "execution_count": null,
   "metadata": {
    "jupyter": {
     "source_hidden": true
    }
   },
   "outputs": [],
   "source": [
    "# Plot transport average delays\n",
    "plt.cla()\n",
    "h_avg_delays_plot=hour_avg_delays.toPandas().sort_values(by=\"hour\").reset_index(drop=True)\n",
    "\n",
    "plt.bar(x=h_avg_delays_plot.hour, height=h_avg_delays_plot.avg_delay, color=(0.2, 0.4, 0.6, 0.6))\n",
    " \n",
    "plt.xlabel('average delay distribution by hour')\n",
    "plt.ylabel('average delay (seconds)')\n",
    "plt.xticks(h_avg_delays_plot.hour)\n",
    "# Show the graph\n",
    "%matplot plt"
   ]
  },
  {
   "cell_type": "code",
   "execution_count": null,
   "metadata": {
    "jupyter": {
     "source_hidden": true
    }
   },
   "outputs": [],
   "source": [
    "h_avg_delays_plot"
   ]
  },
  {
   "cell_type": "code",
   "execution_count": 105,
   "metadata": {},
   "outputs": [
    {
     "data": {
      "application/vnd.jupyter.widget-view+json": {
       "model_id": "",
       "version_major": 2,
       "version_minor": 0
      },
      "text/plain": [
       "FloatProgress(value=0.0, bar_style='info', description='Progress:', layout=Layout(height='25px', width='50%'),…"
      ]
     },
     "metadata": {},
     "output_type": "display_data"
    },
    {
     "name": "stdout",
     "output_type": "stream",
     "text": [
      "+---------+------------------+\n",
      "|line_name|        avg(delay)|\n",
      "+---------+------------------+\n",
      "|     IR13| 65.32800626622087|\n",
      "|       IC| 120.4030260030296|\n",
      "|      ZUG|             362.0|\n",
      "|       RE| 48.46594256661397|\n",
      "|       NJ| 532.7103941633504|\n",
      "|      TGV| 371.7994513867723|\n",
      "|     IR16|  84.6015362190911|\n",
      "|      S10| 62.09292183598789|\n",
      "|      IC5|  82.2860826042917|\n",
      "|       S6| 61.67543553967913|\n",
      "|       S8|61.763740268928316|\n",
      "|    ZUG46|               0.0|\n",
      "|       S7| 53.77962510252617|\n",
      "|    ZUG36|             167.0|\n",
      "|      S18|               0.0|\n",
      "|       S4| 90.93178599027974|\n",
      "|      S19| 52.28142776406349|\n",
      "|      S23| 81.26838091013019|\n",
      "|       S3| 58.52042471203553|\n",
      "|      S16|   44.422459280037|\n",
      "+---------+------------------+\n",
      "only showing top 20 rows"
     ]
    }
   ],
   "source": [
    "train_types=df.where(F.col(\"transport_type\")==\"Zug\").groupby(\"line_name\").agg(F.mean('delay'))\n",
    "#train_types.filter(train_types.line_name[0:2]==\"RE\").show()\n",
    "train_types.show()"
   ]
  },
  {
   "cell_type": "code",
   "execution_count": 62,
   "metadata": {},
   "outputs": [
    {
     "data": {
      "application/vnd.jupyter.widget-view+json": {
       "model_id": "",
       "version_major": 2,
       "version_minor": 0
      },
      "text/plain": [
       "FloatProgress(value=0.0, bar_style='info', description='Progress:', layout=Layout(height='25px', width='50%'),…"
      ]
     },
     "metadata": {},
     "output_type": "display_data"
    },
    {
     "name": "stdout",
     "output_type": "stream",
     "text": [
      "DataFrame[stop_id: string, date: timestamp, transport_type: string, stop_name: string, arrival_scheduled: timestamp, arrival_actual: timestamp, stop_skip: string, line_name: string, line_type: string, line_id: string, day_of_week: int, stop_name: string, stop_lat: double, stop_lon: double, location_type: int, parent_station: string, true_stop_id: string, distance_zurich_HB: double, hour: int, delay: string]"
     ]
    }
   ],
   "source": [
    "df"
   ]
  },
  {
   "cell_type": "code",
   "execution_count": 106,
   "metadata": {},
   "outputs": [
    {
     "data": {
      "application/vnd.jupyter.widget-view+json": {
       "model_id": "",
       "version_major": 2,
       "version_minor": 0
      },
      "text/plain": [
       "FloatProgress(value=0.0, bar_style='info', description='Progress:', layout=Layout(height='25px', width='50%'),…"
      ]
     },
     "metadata": {},
     "output_type": "display_data"
    },
    {
     "name": "stdout",
     "output_type": "stream",
     "text": [
      "+---------+----+-------+------------------+\n",
      "|line_name|hour|stop_id|        avg(delay)|\n",
      "+---------+----+-------+------------------+\n",
      "|      S18|   9|8530813|               0.0|\n",
      "|      S10|  15|8503052|54.899648156646776|\n",
      "|       S4|  16|8503087|62.882486979166664|\n",
      "|       S4|  17|8503088| 96.81582446808511|\n",
      "|      S17|  15|8502268|56.642736486486484|\n",
      "|       S3|  14|8503020|38.809453471196456|\n",
      "|       S3|  14|8503305| 39.92926670992862|\n",
      "|       S3|  20|8503020| 38.55282555282555|\n",
      "|       S6|   8|8503526| 99.38361929426999|\n",
      "|       S6|  16|8503007| 99.81791720569211|\n",
      "|       S6|  19|8503111| 90.99481865284974|\n",
      "|       S8|   8|8503204|106.08058252427185|\n",
      "|       S8|  11|8503000|22.001940491591203|\n",
      "|      S12|  15|8503147| 32.74444444444445|\n",
      "|      S12|  19|8503147|41.098381466201204|\n",
      "|      S21|  18|8503008| 79.24966078697422|\n",
      "|        S|  17|8503306|            35.375|\n",
      "|      S15|  18|8503147| 160.9047619047619|\n",
      "|      EXT|  19|8503103|             105.0|\n",
      "|       S7|  19|8503103|             158.0|\n",
      "+---------+----+-------+------------------+\n",
      "only showing top 20 rows"
     ]
    }
   ],
   "source": [
    "train_types_stops=df.where(F.col(\"transport_type\")==\"Zug\").groupby(\"line_name\", \"hour\", \"stop_id\").agg(F.mean('delay'))\n",
    "#train_types.filter(train_types.line_name[0:2]==\"RE\").show()\n",
    "train_types_stops.show()"
   ]
  },
  {
   "cell_type": "code",
   "execution_count": 107,
   "metadata": {},
   "outputs": [
    {
     "data": {
      "application/vnd.jupyter.widget-view+json": {
       "model_id": "",
       "version_major": 2,
       "version_minor": 0
      },
      "text/plain": [
       "FloatProgress(value=0.0, bar_style='info', description='Progress:', layout=Layout(height='25px', width='50%'),…"
      ]
     },
     "metadata": {},
     "output_type": "display_data"
    },
    {
     "name": "stdout",
     "output_type": "stream",
     "text": [
      "+---------+----+------------------+\n",
      "|line_name|hour|        avg(delay)|\n",
      "+---------+----+------------------+\n",
      "|      ICE|  13| 75.14521841794569|\n",
      "|       IC|  13|102.72360062978446|\n",
      "|     IR75|  18| 90.20963406673579|\n",
      "|     IR37|  12| 64.38737854859639|\n",
      "|     IR37|  15| 70.57067383739323|\n",
      "|     IR13|  17| 72.65537099903007|\n",
      "|      S15|  15| 53.14881894301051|\n",
      "|      S21|   8|30.722813744285503|\n",
      "|     IR35|  16| 37.01428571428571|\n",
      "|       RE|  20| 49.79948075924537|\n",
      "|       AG|   8|            1814.0|\n",
      "|     IR16|  10|              58.0|\n",
      "|       EC|  14|206.72096641347122|\n",
      "|       S7|  11| 40.29147569201209|\n",
      "|       S7|  12| 43.45201537045191|\n",
      "|      EXT|  12|112.08719346049047|\n",
      "|       S8|  12| 46.33350075899634|\n",
      "|       S9|   8| 77.01190748981914|\n",
      "|      S11|  16|46.192433632759574|\n",
      "|      S25|  19| 92.43643441411254|\n",
      "+---------+----+------------------+\n",
      "only showing top 20 rows"
     ]
    }
   ],
   "source": [
    "train_types_hour=df.where(F.col(\"transport_type\")==\"Zug\").groupby(\"line_name\",\"hour\").agg(F.mean('delay'))\n",
    "train_types_hour.show()"
   ]
  },
  {
   "cell_type": "code",
   "execution_count": 108,
   "metadata": {},
   "outputs": [
    {
     "data": {
      "application/vnd.jupyter.widget-view+json": {
       "model_id": "",
       "version_major": 2,
       "version_minor": 0
      },
      "text/plain": [
       "FloatProgress(value=0.0, bar_style='info', description='Progress:', layout=Layout(height='25px', width='50%'),…"
      ]
     },
     "metadata": {},
     "output_type": "display_data"
    },
    {
     "name": "stdout",
     "output_type": "stream",
     "text": [
      "+---------+-----+\n",
      "|line_name|count|\n",
      "+---------+-----+\n",
      "|     IR13|   13|\n",
      "|       IC|   13|\n",
      "|      ZUG|    1|\n",
      "|       RE|   13|\n",
      "|       NJ|    5|\n",
      "|      TGV|    5|\n",
      "|     IR16|   13|\n",
      "|      S10|   13|\n",
      "|      IC5|   13|\n",
      "|       S6|   13|\n",
      "|       S8|   13|\n",
      "|    ZUG46|    1|\n",
      "|       S7|   13|\n",
      "|    ZUG36|    1|\n",
      "|      S18|   13|\n",
      "|       S4|   13|\n",
      "|      S19|   13|\n",
      "|      S23|    4|\n",
      "|       S3|   13|\n",
      "|      S16|   13|\n",
      "+---------+-----+\n",
      "only showing top 20 rows"
     ]
    }
   ],
   "source": [
    "train_types_hour.groupby('line_name').count().show()"
   ]
  },
  {
   "cell_type": "code",
   "execution_count": 109,
   "metadata": {},
   "outputs": [
    {
     "data": {
      "application/vnd.jupyter.widget-view+json": {
       "model_id": "",
       "version_major": 2,
       "version_minor": 0
      },
      "text/plain": [
       "FloatProgress(value=0.0, bar_style='info', description='Progress:', layout=Layout(height='25px', width='50%'),…"
      ]
     },
     "metadata": {},
     "output_type": "display_data"
    },
    {
     "name": "stdout",
     "output_type": "stream",
     "text": [
      "+---------+------------------+\n",
      "|line_name|        avg(delay)|\n",
      "+---------+------------------+\n",
      "|      451| 82.52002079033552|\n",
      "|      919| 66.11488035637656|\n",
      "|      307|107.98843247350868|\n",
      "|      205| 50.28392293487852|\n",
      "|      743| 86.86185857969186|\n",
      "|      155| 42.41823187519119|\n",
      "|      132|    24.80567838786|\n",
      "|      727| 81.16999332264646|\n",
      "|      200|116.61423365078583|\n",
      "|      521|   74.595160085965|\n",
      "|      961| 137.5145813802553|\n",
      "|       69| 67.50659419637475|\n",
      "|      309| 99.29527676178792|\n",
      "|      703|121.41838113200617|\n",
      "|      974| 79.19863145502705|\n",
      "|       73|  74.3761608040201|\n",
      "|       64| 62.32576592517063|\n",
      "|      308| 94.99145552397123|\n",
      "|      652|  90.1991169152099|\n",
      "|      910| 95.08755089755076|\n",
      "+---------+------------------+\n",
      "only showing top 20 rows"
     ]
    }
   ],
   "source": [
    "bus_types=df.where(F.col(\"transport_type\")==\"Bus\").groupby(\"line_name\").agg(F.mean('delay'))\n",
    "bus_types.show()"
   ]
  },
  {
   "cell_type": "code",
   "execution_count": 110,
   "metadata": {},
   "outputs": [
    {
     "data": {
      "application/vnd.jupyter.widget-view+json": {
       "model_id": "",
       "version_major": 2,
       "version_minor": 0
      },
      "text/plain": [
       "FloatProgress(value=0.0, bar_style='info', description='Progress:', layout=Layout(height='25px', width='50%'),…"
      ]
     },
     "metadata": {},
     "output_type": "display_data"
    },
    {
     "name": "stdout",
     "output_type": "stream",
     "text": [
      "+---------+----+-------+------------------+\n",
      "|line_name|hour|stop_id|        avg(delay)|\n",
      "+---------+----+-------+------------------+\n",
      "|      449|  16|8576260|30.089437474706596|\n",
      "|      450|   9|8576235| 34.91301504251145|\n",
      "|      451|  11|8576249| 99.08630527817404|\n",
      "|      452|  10|8590760| 59.49832214765101|\n",
      "|      452|  16|8590878| 27.57546494992847|\n",
      "|      485|  15|8591402| 42.18181818181818|\n",
      "|      640|  13|8594339| 95.00698757763975|\n",
      "|      640|  12|8503382| 62.17404580152672|\n",
      "|      650|  18|8503374|62.187721788502486|\n",
      "|      655|  10|8503381| 82.57342115459124|\n",
      "|      658|   9|8576169| 138.1376673040153|\n",
      "|      725|  15|8503156| 77.93617577818468|\n",
      "|      725|  12|8587859| 90.67864271457086|\n",
      "|      726|   9|8503154|207.47377809489834|\n",
      "|      726|  15|8576127| 71.44610992148465|\n",
      "|      727|  13|8590640| 53.85274869109948|\n",
      "|      732|  19|8590600| 68.69421487603306|\n",
      "|      733|  17|8587420| 84.28103170338528|\n",
      "|      733|  13|8580437| 68.16503496503496|\n",
      "|      733|  14|8576153| 65.40949759119064|\n",
      "+---------+----+-------+------------------+\n",
      "only showing top 20 rows"
     ]
    }
   ],
   "source": [
    "bus_types_stops=df.where(F.col(\"transport_type\")==\"Bus\").groupby(\"line_name\", \"hour\", \"stop_id\").agg(F.mean('delay'))\n",
    "bus_types_stops.show()"
   ]
  },
  {
   "cell_type": "code",
   "execution_count": 111,
   "metadata": {},
   "outputs": [
    {
     "data": {
      "application/vnd.jupyter.widget-view+json": {
       "model_id": "",
       "version_major": 2,
       "version_minor": 0
      },
      "text/plain": [
       "FloatProgress(value=0.0, bar_style='info', description='Progress:', layout=Layout(height='25px', width='50%'),…"
      ]
     },
     "metadata": {},
     "output_type": "display_data"
    },
    {
     "name": "stdout",
     "output_type": "stream",
     "text": [
      "+---------+----+------------------+\n",
      "|line_name|hour|        avg(delay)|\n",
      "+---------+----+------------------+\n",
      "|      134|  12|43.472376265076946|\n",
      "|      155|   8|57.291875284478834|\n",
      "|      811|  18|101.79324439212608|\n",
      "|      842|  17| 134.4118087335871|\n",
      "|      973|  17| 86.01799626906617|\n",
      "|       32|  18| 104.4351895192534|\n",
      "|       40|  14| 93.80258306888183|\n",
      "|       75|  19| 80.64258898169436|\n",
      "|      751|  18| 88.03139547472124|\n",
      "|      652|  19|61.741764492940995|\n",
      "|      754|  17| 157.4464488783211|\n",
      "|      650|   9|161.63326334542217|\n",
      "|      245|  11| 69.17903682719546|\n",
      "|      795|  18| 82.79540081667741|\n",
      "|      245|  19|  46.1589215740383|\n",
      "|      225|  15| 66.32331893494938|\n",
      "|      227|  15| 80.71390102631847|\n",
      "|      521|   8| 94.44635286863134|\n",
      "|      521|   9| 66.13880161579893|\n",
      "|      504|  13| 86.26912846189954|\n",
      "+---------+----+------------------+\n",
      "only showing top 20 rows"
     ]
    }
   ],
   "source": [
    "bus_types_hour=df.where(F.col(\"transport_type\")==\"Bus\").groupby(\"line_name\", \"hour\").agg(F.mean('delay'))\n",
    "bus_types_hour.show()"
   ]
  },
  {
   "cell_type": "code",
   "execution_count": 112,
   "metadata": {},
   "outputs": [
    {
     "data": {
      "application/vnd.jupyter.widget-view+json": {
       "model_id": "",
       "version_major": 2,
       "version_minor": 0
      },
      "text/plain": [
       "FloatProgress(value=0.0, bar_style='info', description='Progress:', layout=Layout(height='25px', width='50%'),…"
      ]
     },
     "metadata": {},
     "output_type": "display_data"
    },
    {
     "name": "stdout",
     "output_type": "stream",
     "text": [
      "+---------+------------------+\n",
      "|line_name|        avg(delay)|\n",
      "+---------+------------------+\n",
      "|        7| 70.81191261690066|\n",
      "|       15| 75.00601441653484|\n",
      "|       11| 66.86055264518396|\n",
      "|        3| 59.33061610213354|\n",
      "|        8| 70.40891044996407|\n",
      "|        E| 90.85397553516819|\n",
      "|        5| 59.46522312547608|\n",
      "|       17|  68.8109536244329|\n",
      "|        6| 56.65332733859282|\n",
      "|       8E|   71.322913028292|\n",
      "|        9|57.419847911867606|\n",
      "|       10| 70.04290109313014|\n",
      "|        4| 69.85353917808457|\n",
      "|       12| 51.71743727892853|\n",
      "|       13| 69.13658160251748|\n",
      "|       14|57.614791397629645|\n",
      "|        2| 54.24695457437215|\n",
      "+---------+------------------+"
     ]
    }
   ],
   "source": [
    "tram_types=df.where(F.col(\"transport_type\")==\"Tram\").groupby(\"line_name\").agg(F.mean('delay'))\n",
    "tram_types.show()"
   ]
  },
  {
   "cell_type": "code",
   "execution_count": 113,
   "metadata": {},
   "outputs": [
    {
     "data": {
      "application/vnd.jupyter.widget-view+json": {
       "model_id": "",
       "version_major": 2,
       "version_minor": 0
      },
      "text/plain": [
       "FloatProgress(value=0.0, bar_style='info', description='Progress:', layout=Layout(height='25px', width='50%'),…"
      ]
     },
     "metadata": {},
     "output_type": "display_data"
    },
    {
     "name": "stdout",
     "output_type": "stream",
     "text": [
      "+---------+----+-------+------------------+\n",
      "|line_name|hour|stop_id|        avg(delay)|\n",
      "+---------+----+-------+------------------+\n",
      "|       13|  20|8591067| 69.50646153846154|\n",
      "|       14|  11|8591168|  55.8284845496384|\n",
      "|       15|  11|8591183| 68.39863627111744|\n",
      "|       17|  16|8591131|50.018172241243086|\n",
      "|       17|  18|8591427| 72.19849246231156|\n",
      "|       13|  15|8591306| 63.11587982832618|\n",
      "|        2|   8|8590318| 72.01213538187486|\n",
      "|        2|   8|8591299| 57.48425948999086|\n",
      "|        2|  19|8591448| 52.09071348653068|\n",
      "|        4|  17|8591309| 85.45589570096543|\n",
      "|        4|   9|8591178|167.36363636363637|\n",
      "|        5|   9|8591220|47.534160037435655|\n",
      "|        5|  13|8591412| 45.73444563162653|\n",
      "|        6|  10|8591074|54.714146103102856|\n",
      "|        7|  13|8591283| 56.16522882261113|\n",
      "|        8|  12|8530813|  62.3380490212206|\n",
      "|        8|  17|8591384|  84.5840786399162|\n",
      "|        9|  20|8591343| 64.70736369680851|\n",
      "|        9|  11|8591390| 52.19317338609943|\n",
      "|       10|  18|8588553|142.52163265306123|\n",
      "+---------+----+-------+------------------+\n",
      "only showing top 20 rows"
     ]
    }
   ],
   "source": [
    "tram_types_stops=df.where(F.col(\"transport_type\")==\"Tram\").groupby(\"line_name\", \"hour\", \"stop_id\").agg(F.mean('delay'))\n",
    "tram_types_stops.show()"
   ]
  },
  {
   "cell_type": "code",
   "execution_count": 114,
   "metadata": {},
   "outputs": [
    {
     "data": {
      "application/vnd.jupyter.widget-view+json": {
       "model_id": "",
       "version_major": 2,
       "version_minor": 0
      },
      "text/plain": [
       "FloatProgress(value=0.0, bar_style='info', description='Progress:', layout=Layout(height='25px', width='50%'),…"
      ]
     },
     "metadata": {},
     "output_type": "display_data"
    },
    {
     "name": "stdout",
     "output_type": "stream",
     "text": [
      "+---------+----+------------------+\n",
      "|line_name|hour|        avg(delay)|\n",
      "+---------+----+------------------+\n",
      "|       14|  10| 55.37009190703116|\n",
      "|        5|  15| 66.51267330325216|\n",
      "|        8|  18| 88.76431724137932|\n",
      "|        7|  16| 78.86462999440376|\n",
      "|        8|  19| 68.62609447355867|\n",
      "|       14|   9| 51.88008392200643|\n",
      "|       15|  11| 69.42126711721973|\n",
      "|        3|  13| 57.00602907371504|\n",
      "|       13|  19| 68.37475685234305|\n",
      "|       8E|   9| 69.49776785714286|\n",
      "|        9|  18|47.478068418624225|\n",
      "|        9|   8| 58.06513618497229|\n",
      "|       14|  18|62.205553500097196|\n",
      "|       17|  19| 62.22989701445959|\n",
      "|        3|   8|62.483166967097674|\n",
      "|       15|  14| 75.62902567937323|\n",
      "|        2|  20| 54.93717576796998|\n",
      "|        3|  19| 54.46267692001724|\n",
      "|       8E|  10| 80.52232142857143|\n",
      "|       12|  20| 51.64720644234971|\n",
      "+---------+----+------------------+\n",
      "only showing top 20 rows"
     ]
    }
   ],
   "source": [
    "tram_types_hour=df.where(F.col(\"transport_type\")==\"Tram\").groupby(\"line_name\", \"hour\").agg(F.mean('delay'))\n",
    "tram_types_hour.show()"
   ]
  },
  {
   "cell_type": "code",
   "execution_count": 115,
   "metadata": {},
   "outputs": [
    {
     "data": {
      "application/vnd.jupyter.widget-view+json": {
       "model_id": "",
       "version_major": 2,
       "version_minor": 0
      },
      "text/plain": [
       "FloatProgress(value=0.0, bar_style='info', description='Progress:', layout=Layout(height='25px', width='50%'),…"
      ]
     },
     "metadata": {},
     "output_type": "display_data"
    }
   ],
   "source": [
    "#Renaming\n",
    "train_types = train_types.withColumnRenamed(\"avg(delay)\",\"avg_delay\")\n",
    "train_types_hour = train_types_hour.withColumnRenamed(\"avg(delay)\",\"avg_delay\")\n",
    "train_types_stops = train_types_stops.withColumnRenamed(\"avg(delay)\",\"avg_delay\")\n",
    "\n",
    "bus_types= bus_types.withColumnRenamed(\"avg(delay)\",\"avg_delay\")\n",
    "bus_types_hour= bus_types_hour.withColumnRenamed(\"avg(delay)\",\"avg_delay\")\n",
    "bus_types_stops = bus_types_stops.withColumnRenamed(\"avg(delay)\",\"avg_delay\")\n",
    "\n",
    "tram_types = tram_types.withColumnRenamed(\"avg(delay)\",\"avg_delay\")\n",
    "tram_types_hour = tram_types_hour.withColumnRenamed(\"avg(delay)\",\"avg_delay\")\n",
    "tram_types_stops = tram_types_stops.withColumnRenamed(\"avg(delay)\",\"avg_delay\")"
   ]
  },
  {
   "cell_type": "code",
   "execution_count": 117,
   "metadata": {},
   "outputs": [
    {
     "data": {
      "application/vnd.jupyter.widget-view+json": {
       "model_id": "",
       "version_major": 2,
       "version_minor": 0
      },
      "text/plain": [
       "FloatProgress(value=0.0, bar_style='info', description='Progress:', layout=Layout(height='25px', width='50%'),…"
      ]
     },
     "metadata": {},
     "output_type": "display_data"
    }
   ],
   "source": [
    "#transport_avg_delays.write.parquet('/user/%s/final/parquet/transport_avg_delays' % username)\n",
    "#hour_avg_delays.write.parquet('/user/%s/final/parquet/hour_avg_delays' % username)\n",
    "\n",
    "train_types.write.mode('overwrite').parquet('/user/%s/final/parquet/train_types' % username)\n",
    "bus_types.write.mode('overwrite').parquet('/user/%s/final/parquet/bus_types' % username)\n",
    "tram_types.write.mode('overwrite').parquet('/user/%s/final/parquet/tram_types' % username)\n",
    "\n",
    "train_types_hour.write.mode('overwrite').parquet('/user/%s/final/parquet/train_types_hour' % username)\n",
    "bus_types_hour.write.mode('overwrite').parquet('/user/%s/final/parquet/bus_types_hour' % username)\n",
    "tram_types_hour.write.mode('overwrite').parquet('/user/%s/final/parquet/tram_types_hour' % username)\n",
    "\n",
    "train_types_stops.write.parquet('/user/%s/final/parquet/train_types_stops' % username)\n",
    "bus_types_stops.write.parquet('/user/%s/final/parquet/bus_types_stops' % username)\n",
    "tram_types_stops.write.parquet('/user/%s/final/parquet/tram_types_stops' % username)"
   ]
  },
  {
   "cell_type": "code",
   "execution_count": null,
   "metadata": {
    "jupyter": {
     "source_hidden": true
    }
   },
   "outputs": [],
   "source": [
    "default_delay = df.select(F.mean(F.col('delay')).alias('mean_delay'),).collect()\n"
   ]
  },
  {
   "cell_type": "code",
   "execution_count": null,
   "metadata": {
    "jupyter": {
     "source_hidden": true
    }
   },
   "outputs": [],
   "source": [
    "default_delay.show()"
   ]
  },
  {
   "cell_type": "code",
   "execution_count": null,
   "metadata": {},
   "outputs": [],
   "source": []
  }
 ],
 "metadata": {
  "kernelspec": {
   "display_name": "PySpark",
   "language": "python",
   "name": "pysparkkernel"
  },
  "language_info": {
   "codemirror_mode": {
    "name": "python",
    "version": 3
   },
   "file_extension": ".py",
   "mimetype": "text/x-python",
   "name": "pyspark",
   "pygments_lexer": "python3"
  }
 },
 "nbformat": 4,
 "nbformat_minor": 4
}
