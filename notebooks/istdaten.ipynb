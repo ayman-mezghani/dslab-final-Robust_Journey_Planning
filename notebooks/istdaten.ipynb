{
 "cells": [
  {
   "cell_type": "code",
   "execution_count": 33,
   "metadata": {},
   "outputs": [
    {
     "name": "stdout",
     "output_type": "stream",
     "text": [
      "Starting Spark application\n"
     ]
    },
    {
     "data": {
      "text/html": [
       "<table>\n",
       "<tr><th>ID</th><th>YARN Application ID</th><th>Kind</th><th>State</th><th>Spark UI</th><th>Driver log</th><th>User</th><th>Current session?</th></tr><tr><td>6681</td><td>application_1618324153128_6283</td><td>pyspark</td><td>idle</td><td><a target=\"_blank\" href=\"http://iccluster040.iccluster.epfl.ch:8088/proxy/application_1618324153128_6283/\">Link</a></td><td><a target=\"_blank\" href=\"http://iccluster077.iccluster.epfl.ch:8042/node/containerlogs/container_e01_1618324153128_6283_01_000001/ebouille\">Link</a></td><td>None</td><td>✔</td></tr></table>"
      ],
      "text/plain": [
       "<IPython.core.display.HTML object>"
      ]
     },
     "metadata": {},
     "output_type": "display_data"
    },
    {
     "data": {
      "application/vnd.jupyter.widget-view+json": {
       "model_id": "",
       "version_major": 2,
       "version_minor": 0
      },
      "text/plain": [
       "FloatProgress(value=0.0, bar_style='info', description='Progress:', layout=Layout(height='25px', width='50%'),…"
      ]
     },
     "metadata": {},
     "output_type": "display_data"
    },
    {
     "name": "stdout",
     "output_type": "stream",
     "text": [
      "SparkSession available as 'spark'.\n"
     ]
    },
    {
     "data": {
      "text/html": [
       "Current session configs: <tt>{'name': 'machraou-final-istaden', 'executorMemory': '4G', 'executorCores': 4, 'numExecutors': 10, 'driverMemory': '4G', 'kind': 'pyspark'}</tt><br>"
      ],
      "text/plain": [
       "<IPython.core.display.HTML object>"
      ]
     },
     "metadata": {},
     "output_type": "display_data"
    },
    {
     "data": {
      "text/html": [
       "<table>\n",
       "<tr><th>ID</th><th>YARN Application ID</th><th>Kind</th><th>State</th><th>Spark UI</th><th>Driver log</th><th>User</th><th>Current session?</th></tr><tr><td>6358</td><td>application_1618324153128_5874</td><td>pyspark</td><td>idle</td><td><a target=\"_blank\" href=\"http://iccluster040.iccluster.epfl.ch:8088/proxy/application_1618324153128_5874/\">Link</a></td><td><a target=\"_blank\" href=\"http://iccluster077.iccluster.epfl.ch:8042/node/containerlogs/container_e01_1618324153128_5874_01_000001/ebouille\">Link</a></td><td>None</td><td></td></tr><tr><td>6406</td><td>application_1618324153128_5941</td><td>pyspark</td><td>idle</td><td><a target=\"_blank\" href=\"http://iccluster040.iccluster.epfl.ch:8088/proxy/application_1618324153128_5941/\">Link</a></td><td><a target=\"_blank\" href=\"http://iccluster072.iccluster.epfl.ch:8042/node/containerlogs/container_e01_1618324153128_5941_01_000002/ebouille\">Link</a></td><td>None</td><td></td></tr><tr><td>6462</td><td>application_1618324153128_6023</td><td>pyspark</td><td>busy</td><td><a target=\"_blank\" href=\"http://iccluster040.iccluster.epfl.ch:8088/proxy/application_1618324153128_6023/\">Link</a></td><td><a target=\"_blank\" href=\"http://iccluster078.iccluster.epfl.ch:8042/node/containerlogs/container_e01_1618324153128_6023_01_000001/ebouille\">Link</a></td><td>None</td><td></td></tr><tr><td>6533</td><td>application_1618324153128_6110</td><td>pyspark</td><td>idle</td><td><a target=\"_blank\" href=\"http://iccluster040.iccluster.epfl.ch:8088/proxy/application_1618324153128_6110/\">Link</a></td><td><a target=\"_blank\" href=\"http://iccluster071.iccluster.epfl.ch:8042/node/containerlogs/container_e01_1618324153128_6110_01_000002/ebouille\">Link</a></td><td>None</td><td></td></tr><tr><td>6556</td><td>application_1618324153128_6136</td><td>pyspark</td><td>busy</td><td><a target=\"_blank\" href=\"http://iccluster040.iccluster.epfl.ch:8088/proxy/application_1618324153128_6136/\">Link</a></td><td><a target=\"_blank\" href=\"http://iccluster077.iccluster.epfl.ch:8042/node/containerlogs/container_e01_1618324153128_6136_01_000002/ebouille\">Link</a></td><td>None</td><td></td></tr><tr><td>6574</td><td>application_1618324153128_6156</td><td>pyspark</td><td>idle</td><td><a target=\"_blank\" href=\"http://iccluster040.iccluster.epfl.ch:8088/proxy/application_1618324153128_6156/\">Link</a></td><td><a target=\"_blank\" href=\"http://iccluster069.iccluster.epfl.ch:8042/node/containerlogs/container_e01_1618324153128_6156_01_000001/ebouille\">Link</a></td><td>None</td><td></td></tr><tr><td>6575</td><td>application_1618324153128_6161</td><td>pyspark</td><td>idle</td><td><a target=\"_blank\" href=\"http://iccluster040.iccluster.epfl.ch:8088/proxy/application_1618324153128_6161/\">Link</a></td><td><a target=\"_blank\" href=\"http://iccluster077.iccluster.epfl.ch:8042/node/containerlogs/container_e01_1618324153128_6161_01_000002/ebouille\">Link</a></td><td>None</td><td></td></tr><tr><td>6576</td><td>application_1618324153128_6163</td><td>pyspark</td><td>idle</td><td><a target=\"_blank\" href=\"http://iccluster040.iccluster.epfl.ch:8088/proxy/application_1618324153128_6163/\">Link</a></td><td><a target=\"_blank\" href=\"http://iccluster078.iccluster.epfl.ch:8042/node/containerlogs/container_e01_1618324153128_6163_01_000001/ebouille\">Link</a></td><td>None</td><td></td></tr><tr><td>6620</td><td>application_1618324153128_6218</td><td>pyspark</td><td>idle</td><td><a target=\"_blank\" href=\"http://iccluster040.iccluster.epfl.ch:8088/proxy/application_1618324153128_6218/\">Link</a></td><td><a target=\"_blank\" href=\"http://iccluster077.iccluster.epfl.ch:8042/node/containerlogs/container_e01_1618324153128_6218_01_000001/ebouille\">Link</a></td><td>None</td><td></td></tr><tr><td>6632</td><td>application_1618324153128_6233</td><td>pyspark</td><td>idle</td><td><a target=\"_blank\" href=\"http://iccluster040.iccluster.epfl.ch:8088/proxy/application_1618324153128_6233/\">Link</a></td><td><a target=\"_blank\" href=\"http://iccluster070.iccluster.epfl.ch:8042/node/containerlogs/container_e01_1618324153128_6233_01_000002/ebouille\">Link</a></td><td>None</td><td></td></tr><tr><td>6650</td><td>application_1618324153128_6252</td><td>pyspark</td><td>idle</td><td><a target=\"_blank\" href=\"http://iccluster040.iccluster.epfl.ch:8088/proxy/application_1618324153128_6252/\">Link</a></td><td><a target=\"_blank\" href=\"http://iccluster078.iccluster.epfl.ch:8042/node/containerlogs/container_e01_1618324153128_6252_01_000001/ebouille\">Link</a></td><td>None</td><td></td></tr><tr><td>6651</td><td>application_1618324153128_6253</td><td>pyspark</td><td>idle</td><td><a target=\"_blank\" href=\"http://iccluster040.iccluster.epfl.ch:8088/proxy/application_1618324153128_6253/\">Link</a></td><td><a target=\"_blank\" href=\"http://iccluster077.iccluster.epfl.ch:8042/node/containerlogs/container_e01_1618324153128_6253_01_000001/ebouille\">Link</a></td><td>None</td><td></td></tr><tr><td>6654</td><td>application_1618324153128_6256</td><td>pyspark</td><td>idle</td><td><a target=\"_blank\" href=\"http://iccluster040.iccluster.epfl.ch:8088/proxy/application_1618324153128_6256/\">Link</a></td><td><a target=\"_blank\" href=\"http://iccluster072.iccluster.epfl.ch:8042/node/containerlogs/container_e01_1618324153128_6256_01_000001/ebouille\">Link</a></td><td>None</td><td></td></tr><tr><td>6655</td><td>application_1618324153128_6257</td><td>pyspark</td><td>idle</td><td><a target=\"_blank\" href=\"http://iccluster040.iccluster.epfl.ch:8088/proxy/application_1618324153128_6257/\">Link</a></td><td><a target=\"_blank\" href=\"http://iccluster077.iccluster.epfl.ch:8042/node/containerlogs/container_e01_1618324153128_6257_01_000001/ebouille\">Link</a></td><td>None</td><td></td></tr><tr><td>6656</td><td>application_1618324153128_6258</td><td>pyspark</td><td>idle</td><td><a target=\"_blank\" href=\"http://iccluster040.iccluster.epfl.ch:8088/proxy/application_1618324153128_6258/\">Link</a></td><td><a target=\"_blank\" href=\"http://iccluster066.iccluster.epfl.ch:8042/node/containerlogs/container_e01_1618324153128_6258_01_000001/ebouille\">Link</a></td><td>None</td><td></td></tr><tr><td>6659</td><td>application_1618324153128_6261</td><td>pyspark</td><td>idle</td><td><a target=\"_blank\" href=\"http://iccluster040.iccluster.epfl.ch:8088/proxy/application_1618324153128_6261/\">Link</a></td><td><a target=\"_blank\" href=\"http://iccluster077.iccluster.epfl.ch:8042/node/containerlogs/container_e01_1618324153128_6261_01_000001/ebouille\">Link</a></td><td>None</td><td></td></tr><tr><td>6663</td><td>application_1618324153128_6265</td><td>pyspark</td><td>idle</td><td><a target=\"_blank\" href=\"http://iccluster040.iccluster.epfl.ch:8088/proxy/application_1618324153128_6265/\">Link</a></td><td><a target=\"_blank\" href=\"http://iccluster069.iccluster.epfl.ch:8042/node/containerlogs/container_e01_1618324153128_6265_01_000002/ebouille\">Link</a></td><td>None</td><td></td></tr><tr><td>6668</td><td>application_1618324153128_6270</td><td>pyspark</td><td>idle</td><td><a target=\"_blank\" href=\"http://iccluster040.iccluster.epfl.ch:8088/proxy/application_1618324153128_6270/\">Link</a></td><td><a target=\"_blank\" href=\"http://iccluster072.iccluster.epfl.ch:8042/node/containerlogs/container_e01_1618324153128_6270_01_000001/ebouille\">Link</a></td><td>None</td><td></td></tr><tr><td>6670</td><td>application_1618324153128_6272</td><td>pyspark</td><td>idle</td><td><a target=\"_blank\" href=\"http://iccluster040.iccluster.epfl.ch:8088/proxy/application_1618324153128_6272/\">Link</a></td><td><a target=\"_blank\" href=\"http://iccluster071.iccluster.epfl.ch:8042/node/containerlogs/container_e01_1618324153128_6272_01_000001/ebouille\">Link</a></td><td>None</td><td></td></tr><tr><td>6671</td><td>application_1618324153128_6273</td><td>pyspark</td><td>idle</td><td><a target=\"_blank\" href=\"http://iccluster040.iccluster.epfl.ch:8088/proxy/application_1618324153128_6273/\">Link</a></td><td><a target=\"_blank\" href=\"http://iccluster070.iccluster.epfl.ch:8042/node/containerlogs/container_e01_1618324153128_6273_01_000002/ebouille\">Link</a></td><td>None</td><td></td></tr><tr><td>6672</td><td>application_1618324153128_6274</td><td>pyspark</td><td>idle</td><td><a target=\"_blank\" href=\"http://iccluster040.iccluster.epfl.ch:8088/proxy/application_1618324153128_6274/\">Link</a></td><td><a target=\"_blank\" href=\"http://iccluster069.iccluster.epfl.ch:8042/node/containerlogs/container_e01_1618324153128_6274_01_000002/ebouille\">Link</a></td><td>None</td><td></td></tr><tr><td>6674</td><td>application_1618324153128_6276</td><td>pyspark</td><td>idle</td><td><a target=\"_blank\" href=\"http://iccluster040.iccluster.epfl.ch:8088/proxy/application_1618324153128_6276/\">Link</a></td><td><a target=\"_blank\" href=\"http://iccluster071.iccluster.epfl.ch:8042/node/containerlogs/container_e01_1618324153128_6276_01_000002/ebouille\">Link</a></td><td>None</td><td></td></tr><tr><td>6675</td><td>application_1618324153128_6277</td><td>pyspark</td><td>idle</td><td><a target=\"_blank\" href=\"http://iccluster040.iccluster.epfl.ch:8088/proxy/application_1618324153128_6277/\">Link</a></td><td><a target=\"_blank\" href=\"http://iccluster069.iccluster.epfl.ch:8042/node/containerlogs/container_e01_1618324153128_6277_01_000001/ebouille\">Link</a></td><td>None</td><td></td></tr><tr><td>6676</td><td>application_1618324153128_6278</td><td>pyspark</td><td>idle</td><td><a target=\"_blank\" href=\"http://iccluster040.iccluster.epfl.ch:8088/proxy/application_1618324153128_6278/\">Link</a></td><td><a target=\"_blank\" href=\"http://iccluster069.iccluster.epfl.ch:8042/node/containerlogs/container_e01_1618324153128_6278_01_000001/ebouille\">Link</a></td><td>None</td><td></td></tr><tr><td>6678</td><td>application_1618324153128_6280</td><td>pyspark</td><td>idle</td><td><a target=\"_blank\" href=\"http://iccluster040.iccluster.epfl.ch:8088/proxy/application_1618324153128_6280/\">Link</a></td><td><a target=\"_blank\" href=\"http://iccluster070.iccluster.epfl.ch:8042/node/containerlogs/container_e01_1618324153128_6280_01_000001/ebouille\">Link</a></td><td>None</td><td></td></tr><tr><td>6679</td><td>application_1618324153128_6281</td><td>pyspark</td><td>idle</td><td><a target=\"_blank\" href=\"http://iccluster040.iccluster.epfl.ch:8088/proxy/application_1618324153128_6281/\">Link</a></td><td><a target=\"_blank\" href=\"http://iccluster071.iccluster.epfl.ch:8042/node/containerlogs/container_e01_1618324153128_6281_01_000002/ebouille\">Link</a></td><td>None</td><td></td></tr><tr><td>6680</td><td>application_1618324153128_6282</td><td>pyspark</td><td>idle</td><td><a target=\"_blank\" href=\"http://iccluster040.iccluster.epfl.ch:8088/proxy/application_1618324153128_6282/\">Link</a></td><td><a target=\"_blank\" href=\"http://iccluster070.iccluster.epfl.ch:8042/node/containerlogs/container_e01_1618324153128_6282_01_000001/ebouille\">Link</a></td><td>None</td><td></td></tr><tr><td>6681</td><td>application_1618324153128_6283</td><td>pyspark</td><td>idle</td><td><a target=\"_blank\" href=\"http://iccluster040.iccluster.epfl.ch:8088/proxy/application_1618324153128_6283/\">Link</a></td><td><a target=\"_blank\" href=\"http://iccluster077.iccluster.epfl.ch:8042/node/containerlogs/container_e01_1618324153128_6283_01_000001/ebouille\">Link</a></td><td>None</td><td>✔</td></tr></table>"
      ],
      "text/plain": [
       "<IPython.core.display.HTML object>"
      ]
     },
     "metadata": {},
     "output_type": "display_data"
    }
   ],
   "source": [
    "%%local\n",
    "import os\n",
    "username = os.environ['JUPYTERHUB_USER']\n",
    "get_ipython().run_cell_magic('configure', line=\"-f\", cell='{ \"name\":\"%s-final-istaden\", \"executorMemory\":\"4G\", \"executorCores\":4, \"numExecutors\":10, \"driverMemory\": \"4G\" }' % username)"
   ]
  },
  {
   "cell_type": "code",
   "execution_count": 34,
   "metadata": {},
   "outputs": [
    {
     "data": {
      "application/vnd.jupyter.widget-view+json": {
       "model_id": "",
       "version_major": 2,
       "version_minor": 0
      },
      "text/plain": [
       "FloatProgress(value=0.0, bar_style='info', description='Progress:', layout=Layout(height='25px', width='50%'),…"
      ]
     },
     "metadata": {},
     "output_type": "display_data"
    },
    {
     "name": "stdout",
     "output_type": "stream",
     "text": [
      "Successfully passed 'username' as 'username' to Spark kernel"
     ]
    }
   ],
   "source": [
    "%%send_to_spark -i username -t str -n username"
   ]
  },
  {
   "cell_type": "code",
   "execution_count": 35,
   "metadata": {},
   "outputs": [
    {
     "data": {
      "application/vnd.jupyter.widget-view+json": {
       "model_id": "",
       "version_major": 2,
       "version_minor": 0
      },
      "text/plain": [
       "FloatProgress(value=0.0, bar_style='info', description='Progress:', layout=Layout(height='25px', width='50%'),…"
      ]
     },
     "metadata": {},
     "output_type": "display_data"
    }
   ],
   "source": [
    "#Loading the data "
   ]
  },
  {
   "cell_type": "code",
   "execution_count": 61,
   "metadata": {},
   "outputs": [
    {
     "data": {
      "application/vnd.jupyter.widget-view+json": {
       "model_id": "",
       "version_major": 2,
       "version_minor": 0
      },
      "text/plain": [
       "FloatProgress(value=0.0, bar_style='info', description='Progress:', layout=Layout(height='25px', width='50%'),…"
      ]
     },
     "metadata": {},
     "output_type": "display_data"
    }
   ],
   "source": [
    "df = spark.read.orc('/data/sbb/orc/istdaten')"
   ]
  },
  {
   "cell_type": "code",
   "execution_count": 62,
   "metadata": {},
   "outputs": [
    {
     "data": {
      "application/vnd.jupyter.widget-view+json": {
       "model_id": "",
       "version_major": 2,
       "version_minor": 0
      },
      "text/plain": [
       "FloatProgress(value=0.0, bar_style='info', description='Progress:', layout=Layout(height='25px', width='50%'),…"
      ]
     },
     "metadata": {},
     "output_type": "display_data"
    }
   ],
   "source": [
    "df=df.selectExpr('betriebstag as date',\n",
    "                 'produkt_id as transport_type',\n",
    "                 'haltestellen_name as stop_name',\n",
    "                 'ankunftszeit as arrival_scheduled',\n",
    "                 'an_prognose as arrival_actual',\n",
    "                 'durchfahrt_tf as stop_skip',\n",
    "                 'bpuic as stop_id',\n",
    "                  'linien_text as line_name',\n",
    "                  'verkehrsmittel_text as line_type'\n",
    "                )"
   ]
  },
  {
   "cell_type": "code",
   "execution_count": 63,
   "metadata": {},
   "outputs": [
    {
     "data": {
      "application/vnd.jupyter.widget-view+json": {
       "model_id": "",
       "version_major": 2,
       "version_minor": 0
      },
      "text/plain": [
       "FloatProgress(value=0.0, bar_style='info', description='Progress:', layout=Layout(height='25px', width='50%'),…"
      ]
     },
     "metadata": {},
     "output_type": "display_data"
    }
   ],
   "source": [
    "import pyspark.sql.functions as F"
   ]
  },
  {
   "cell_type": "code",
   "execution_count": 64,
   "metadata": {},
   "outputs": [
    {
     "data": {
      "application/vnd.jupyter.widget-view+json": {
       "model_id": "",
       "version_major": 2,
       "version_minor": 0
      },
      "text/plain": [
       "FloatProgress(value=0.0, bar_style='info', description='Progress:', layout=Layout(height='25px', width='50%'),…"
      ]
     },
     "metadata": {},
     "output_type": "display_data"
    }
   ],
   "source": [
    "#convert day of the trips between\n",
    "df = df.withColumn('date', F.to_timestamp('date', \"dd.MM.yyyy\"))\n",
    "df = df.withColumn('arrival_scheduled', F.to_timestamp('arrival_scheduled', \"dd.MM.yyyy HH:mm\"))\n",
    "df = df.withColumn('arrival_actual', F.to_timestamp('arrival_actual', 'dd.MM.yyyy HH:mm:ss'))    \n",
    "\n",
    "#keep only rows for stops that are not skipped\n",
    "df=df.filter(df.stop_skip==False)\n",
    "\n",
    "#keep only rows for stops during the week\n",
    "df=df.withColumn(\"day_of_week\",F.dayofweek(df.date))\n",
    "df=df.filter(df.day_of_week.between(2,6))\n",
    "\n",
    "#hours between 8am and 8pm\n",
    "min_day_hour,max_day_hour=8,20\n",
    "df = df.filter(F.hour(F.col('arrival_scheduled')).cast('int').between(min_day_hour, max_day_hour))\n",
    "\n",
    "#only keep stops within the 15km radius\n",
    "reachable_stops_path=\"/user/%s/final/parquet/reachable_stops\" %username\n",
    "stop_id_reachable=spark.read.parquet(reachable_stops_path)\n",
    "stop_id_reachable=stop_id_reachable.withColumn(\"stop_id\",F.split(stop_id_reachable.stop_id,':')[0])\n",
    "\n",
    "df=df.join(stop_id_reachable,on=\"stop_id\")\n",
    "\n",
    "#add hour column\n",
    "df=df.withColumn(\"hour\",F.hour(F.col(\"arrival_scheduled\")))\n"
   ]
  },
  {
   "cell_type": "code",
   "execution_count": 65,
   "metadata": {},
   "outputs": [
    {
     "data": {
      "application/vnd.jupyter.widget-view+json": {
       "model_id": "",
       "version_major": 2,
       "version_minor": 0
      },
      "text/plain": [
       "FloatProgress(value=0.0, bar_style='info', description='Progress:', layout=Layout(height='25px', width='50%'),…"
      ]
     },
     "metadata": {},
     "output_type": "display_data"
    }
   ],
   "source": [
    "#filter the rows where transport_type is null\n",
    "df=df.where((F.col(\"transport_type\")==\"Tram\") | (F.col(\"transport_type\")==\"Zug\")|(F.col(\"transport_type\")==\"Bus\"))"
   ]
  },
  {
   "cell_type": "code",
   "execution_count": 66,
   "metadata": {},
   "outputs": [
    {
     "data": {
      "application/vnd.jupyter.widget-view+json": {
       "model_id": "",
       "version_major": 2,
       "version_minor": 0
      },
      "text/plain": [
       "FloatProgress(value=0.0, bar_style='info', description='Progress:', layout=Layout(height='25px', width='50%'),…"
      ]
     },
     "metadata": {},
     "output_type": "display_data"
    },
    {
     "name": "stdout",
     "output_type": "stream",
     "text": [
      "+--------------+\n",
      "|transport_type|\n",
      "+--------------+\n",
      "|          Tram|\n",
      "|           Zug|\n",
      "|           Bus|\n",
      "+--------------+"
     ]
    }
   ],
   "source": [
    "df.select(\"transport_type\").distinct().show()"
   ]
  },
  {
   "cell_type": "code",
   "execution_count": 67,
   "metadata": {},
   "outputs": [
    {
     "data": {
      "application/vnd.jupyter.widget-view+json": {
       "model_id": "",
       "version_major": 2,
       "version_minor": 0
      },
      "text/plain": [
       "FloatProgress(value=0.0, bar_style='info', description='Progress:', layout=Layout(height='25px', width='50%'),…"
      ]
     },
     "metadata": {},
     "output_type": "display_data"
    },
    {
     "name": "stdout",
     "output_type": "stream",
     "text": [
      "+-------+\n",
      "|stop_id|\n",
      "+-------+\n",
      "|8503306|\n",
      "|8591274|\n",
      "|8591209|\n",
      "|8576170|\n",
      "|8502209|\n",
      "|8503378|\n",
      "|8591201|\n",
      "|8590588|\n",
      "|8590681|\n",
      "|8588984|\n",
      "+-------+\n",
      "only showing top 10 rows"
     ]
    }
   ],
   "source": [
    "stop_id_reachable.show(10)"
   ]
  },
  {
   "cell_type": "code",
   "execution_count": 68,
   "metadata": {},
   "outputs": [
    {
     "data": {
      "application/vnd.jupyter.widget-view+json": {
       "model_id": "",
       "version_major": 2,
       "version_minor": 0
      },
      "text/plain": [
       "FloatProgress(value=0.0, bar_style='info', description='Progress:', layout=Layout(height='25px', width='50%'),…"
      ]
     },
     "metadata": {},
     "output_type": "display_data"
    }
   ],
   "source": [
    "#computing actual delays\n",
    "@F.udf\n",
    "def relu(x):\n",
    "    return max(x,0)\n",
    "df=df.withColumn(\"delay\",relu((F.col(\"arrival_actual\").cast(\"long\")-F.col(\"arrival_scheduled\").cast(\"long\"))))\n",
    "df = df.where(~(F.col('delay').isNull()))"
   ]
  },
  {
   "cell_type": "code",
   "execution_count": 69,
   "metadata": {},
   "outputs": [
    {
     "data": {
      "application/vnd.jupyter.widget-view+json": {
       "model_id": "",
       "version_major": 2,
       "version_minor": 0
      },
      "text/plain": [
       "FloatProgress(value=0.0, bar_style='info', description='Progress:', layout=Layout(height='25px', width='50%'),…"
      ]
     },
     "metadata": {},
     "output_type": "display_data"
    },
    {
     "name": "stdout",
     "output_type": "stream",
     "text": [
      "+--------------+-----------------+\n",
      "|transport_type|       avg(delay)|\n",
      "+--------------+-----------------+\n",
      "|          Tram|63.99676229368708|\n",
      "|           Zug|61.34423495288514|\n",
      "|           Bus|87.97392379025952|\n",
      "+--------------+-----------------+"
     ]
    }
   ],
   "source": [
    "#statistics type of transport average delays\n",
    "transport_avg_delays=df.groupby(\"transport_type\").agg(F.mean('delay'))\n",
    "transport_avg_delays.show()"
   ]
  },
  {
   "cell_type": "code",
   "execution_count": 70,
   "metadata": {},
   "outputs": [
    {
     "data": {
      "application/vnd.jupyter.widget-view+json": {
       "model_id": "",
       "version_major": 2,
       "version_minor": 0
      },
      "text/plain": [
       "FloatProgress(value=0.0, bar_style='info', description='Progress:', layout=Layout(height='25px', width='50%'),…"
      ]
     },
     "metadata": {},
     "output_type": "display_data"
    }
   ],
   "source": [
    "transport_avg_delays=transport_avg_delays.withColumnRenamed(\"avg(delay)\",\"avg_delay\")"
   ]
  },
  {
   "cell_type": "code",
   "execution_count": 71,
   "metadata": {},
   "outputs": [
    {
     "data": {
      "application/vnd.jupyter.widget-view+json": {
       "model_id": "",
       "version_major": 2,
       "version_minor": 0
      },
      "text/plain": [
       "FloatProgress(value=0.0, bar_style='info', description='Progress:', layout=Layout(height='25px', width='50%'),…"
      ]
     },
     "metadata": {},
     "output_type": "display_data"
    },
    {
     "name": "stdout",
     "output_type": "stream",
     "text": [
      "+--------------+-----------------+\n",
      "|transport_type|        avg_delay|\n",
      "+--------------+-----------------+\n",
      "|          Tram|63.99676229368708|\n",
      "|           Zug|61.34423495288514|\n",
      "|           Bus|87.97392379025952|\n",
      "+--------------+-----------------+"
     ]
    }
   ],
   "source": [
    "transport_avg_delays.show()"
   ]
  },
  {
   "cell_type": "code",
   "execution_count": 72,
   "metadata": {},
   "outputs": [
    {
     "data": {
      "application/vnd.jupyter.widget-view+json": {
       "model_id": "",
       "version_major": 2,
       "version_minor": 0
      },
      "text/plain": [
       "FloatProgress(value=0.0, bar_style='info', description='Progress:', layout=Layout(height='25px', width='50%'),…"
      ]
     },
     "metadata": {},
     "output_type": "display_data"
    }
   ],
   "source": [
    "import matplotlib\n",
    "matplotlib.use('agg')\n",
    "import matplotlib.pylab as plt\n",
    "\n",
    "plt.rcParams['figure.figsize'] = (30,8)\n",
    "plt.rcParams['font.size'] = 12\n",
    "plt.style.use('fivethirtyeight')"
   ]
  },
  {
   "cell_type": "code",
   "execution_count": 73,
   "metadata": {},
   "outputs": [
    {
     "data": {
      "application/vnd.jupyter.widget-view+json": {
       "model_id": "",
       "version_major": 2,
       "version_minor": 0
      },
      "text/plain": [
       "FloatProgress(value=0.0, bar_style='info', description='Progress:', layout=Layout(height='25px', width='50%'),…"
      ]
     },
     "metadata": {},
     "output_type": "display_data"
    },
    {
     "name": "stdout",
     "output_type": "stream",
     "text": [
      "([<matplotlib.axis.XTick object at 0x7f4982a5ae50>, <matplotlib.axis.XTick object at 0x7f49b1c849d0>, <matplotlib.axis.XTick object at 0x7f49829ab810>], <a list of 3 Text xticklabel objects>)"
     ]
    }
   ],
   "source": [
    "import matplotlib.pyplot as plt\n",
    "# Plot transport average delays\n",
    "\n",
    "t_avg_delays_plot=transport_avg_delays.toPandas()\n",
    "\n",
    "plt.bar(x=t_avg_delays_plot.transport_type,height=t_avg_delays_plot.avg_delay)\n",
    "#transport_avg_delays[\"avg_delay\"].plot.bar\n",
    "plt.xlabel('average delay distribution by train')\n",
    "plt.ylabel('average delay (seconds)')\n",
    "plt.xticks(range(len(t_avg_delays_plot)), t_avg_delays_plot.transport_type)"
   ]
  },
  {
   "cell_type": "code",
   "execution_count": 74,
   "metadata": {},
   "outputs": [
    {
     "data": {
      "application/vnd.jupyter.widget-view+json": {
       "model_id": "",
       "version_major": 2,
       "version_minor": 0
      },
      "text/plain": [
       "FloatProgress(value=0.0, bar_style='info', description='Progress:', layout=Layout(height='25px', width='50%'),…"
      ]
     },
     "metadata": {},
     "output_type": "display_data"
    },
    {
     "data": {
      "image/png": "[encoded data removed]",
      "text/plain": [
       "<IPython.core.display.Image object>"
      ]
     },
     "metadata": {},
     "output_type": "display_data"
    }
   ],
   "source": [
    "%matplot plt"
   ]
  },
  {
   "cell_type": "code",
   "execution_count": 75,
   "metadata": {},
   "outputs": [
    {
     "data": {
      "application/vnd.jupyter.widget-view+json": {
       "model_id": "",
       "version_major": 2,
       "version_minor": 0
      },
      "text/plain": [
       "FloatProgress(value=0.0, bar_style='info', description='Progress:', layout=Layout(height='25px', width='50%'),…"
      ]
     },
     "metadata": {},
     "output_type": "display_data"
    }
   ],
   "source": [
    "hour_avg_delays=df.groupby(\"hour\").agg(F.mean('delay'))\n",
    "\n",
    "hour_avg_delays=hour_avg_delays.withColumnRenamed(\"avg(delay)\",\"avg_delay\")"
   ]
  },
  {
   "cell_type": "code",
   "execution_count": 76,
   "metadata": {},
   "outputs": [
    {
     "data": {
      "application/vnd.jupyter.widget-view+json": {
       "model_id": "",
       "version_major": 2,
       "version_minor": 0
      },
      "text/plain": [
       "FloatProgress(value=0.0, bar_style='info', description='Progress:', layout=Layout(height='25px', width='50%'),…"
      ]
     },
     "metadata": {},
     "output_type": "display_data"
    },
    {
     "data": {
      "image/png": "[encoded data removed]",
      "text/plain": [
       "<IPython.core.display.Image object>"
      ]
     },
     "metadata": {},
     "output_type": "display_data"
    }
   ],
   "source": [
    "# Plot transport average delays\n",
    "plt.cla()\n",
    "h_avg_delays_plot=hour_avg_delays.toPandas().sort_values(by=\"hour\").reset_index(drop=True)\n",
    "\n",
    "plt.bar(x=h_avg_delays_plot.hour, height=h_avg_delays_plot.avg_delay, color=(0.2, 0.4, 0.6, 0.6))\n",
    " \n",
    "plt.xlabel('average delay distribution by hour')\n",
    "plt.ylabel('average delay (seconds)')\n",
    "plt.xticks(h_avg_delays_plot.hour)\n",
    "# Show the graph\n",
    "%matplot plt"
   ]
  },
  {
   "cell_type": "code",
   "execution_count": 77,
   "metadata": {},
   "outputs": [
    {
     "data": {
      "application/vnd.jupyter.widget-view+json": {
       "model_id": "",
       "version_major": 2,
       "version_minor": 0
      },
      "text/plain": [
       "FloatProgress(value=0.0, bar_style='info', description='Progress:', layout=Layout(height='25px', width='50%'),…"
      ]
     },
     "metadata": {},
     "output_type": "display_data"
    },
    {
     "name": "stdout",
     "output_type": "stream",
     "text": [
      "    hour   avg_delay\n",
      "0      8   86.795467\n",
      "1      9   74.446170\n",
      "2     10   68.969857\n",
      "3     11   67.005302\n",
      "4     12   68.443827\n",
      "5     13   70.088751\n",
      "6     14   70.033427\n",
      "7     15   76.117962\n",
      "8     16   83.957700\n",
      "9     17  101.163273\n",
      "10    18   83.672957\n",
      "11    19   65.614738\n",
      "12    20   66.623194"
     ]
    }
   ],
   "source": [
    "h_avg_delays_plot"
   ]
  },
  {
   "cell_type": "code",
   "execution_count": 113,
   "metadata": {},
   "outputs": [
    {
     "data": {
      "application/vnd.jupyter.widget-view+json": {
       "model_id": "",
       "version_major": 2,
       "version_minor": 0
      },
      "text/plain": [
       "FloatProgress(value=0.0, bar_style='info', description='Progress:', layout=Layout(height='25px', width='50%'),…"
      ]
     },
     "metadata": {},
     "output_type": "display_data"
    },
    {
     "name": "stdout",
     "output_type": "stream",
     "text": [
      "+---------+----+------------------+\n",
      "|line_type|hour|        avg(delay)|\n",
      "+---------+----+------------------+\n",
      "|       IC|  13| 69.77952960745439|\n",
      "|      ICE|  13| 75.14521841794569|\n",
      "|       RE|  20| 49.37491999409187|\n",
      "|       AG|   8|            1814.0|\n",
      "|       EC|  14| 206.6857509994289|\n",
      "|      EXT|  12|120.89573459715639|\n",
      "|      ICE|  14|263.68567460479557|\n",
      "|       AG|  14|               0.0|\n",
      "|        S|   8| 84.01364082789692|\n",
      "|      ZUG|   9|              83.5|\n",
      "|       NJ|  11|            1045.8|\n",
      "|       IC|  19|110.40499973081134|\n",
      "|      RJX|  12|              45.0|\n",
      "|       IR|  14|50.990735721840295|\n",
      "|      ICE|  11|63.494960806270996|\n",
      "|       EC|  19| 565.6540248459752|\n",
      "|       RE|   8| 70.16618633600542|\n",
      "|      TGV|  20|422.98501872659176|\n",
      "|      ZUG|  12|             362.0|\n",
      "|       RE|  12| 33.10614318934016|\n",
      "+---------+----+------------------+\n",
      "only showing top 20 rows"
     ]
    }
   ],
   "source": [
    "train_types=df.where(F.col(\"transport_type\")==\"Zug\").groupby(\"line_type\",\"hour\").agg(F.mean('delay'))\n",
    "train_types.show()"
   ]
  },
  {
   "cell_type": "code",
   "execution_count": 114,
   "metadata": {},
   "outputs": [
    {
     "data": {
      "application/vnd.jupyter.widget-view+json": {
       "model_id": "",
       "version_major": 2,
       "version_minor": 0
      },
      "text/plain": [
       "FloatProgress(value=0.0, bar_style='info', description='Progress:', layout=Layout(height='25px', width='50%'),…"
      ]
     },
     "metadata": {},
     "output_type": "display_data"
    },
    {
     "name": "stdout",
     "output_type": "stream",
     "text": [
      "+---------+------------------+\n",
      "|line_name|        avg(delay)|\n",
      "+---------+------------------+\n",
      "|      451| 82.52002079033552|\n",
      "|      919| 66.11488035637656|\n",
      "|      307|107.98843247350868|\n",
      "|      205| 51.10120391647517|\n",
      "|      743|  86.2928960500865|\n",
      "|      155| 43.49989584516911|\n",
      "|      132|25.786480406931265|\n",
      "|      727| 81.20237401123356|\n",
      "|      200|115.79231817776903|\n",
      "|      521| 74.97075354072875|\n",
      "|      961| 137.5145813802553|\n",
      "|       69| 67.50659419637475|\n",
      "|      309| 99.43202154292194|\n",
      "|      703|121.41838113200617|\n",
      "|      974| 79.19863145502705|\n",
      "|       73|  74.3761608040201|\n",
      "|       64| 62.32576592517063|\n",
      "|      308| 94.99145552397123|\n",
      "|      910| 95.08755089755076|\n",
      "|      652| 91.41329678616052|\n",
      "+---------+------------------+\n",
      "only showing top 20 rows"
     ]
    }
   ],
   "source": [
    "bus_types=df.where(F.col(\"transport_type\")==\"Bus\").groupby(\"line_name\").agg(F.mean('delay'))\n",
    "bus_types.show()"
   ]
  },
  {
   "cell_type": "code",
   "execution_count": 115,
   "metadata": {},
   "outputs": [
    {
     "data": {
      "application/vnd.jupyter.widget-view+json": {
       "model_id": "",
       "version_major": 2,
       "version_minor": 0
      },
      "text/plain": [
       "FloatProgress(value=0.0, bar_style='info', description='Progress:', layout=Layout(height='25px', width='50%'),…"
      ]
     },
     "metadata": {},
     "output_type": "display_data"
    },
    {
     "name": "stdout",
     "output_type": "stream",
     "text": [
      "+---------+------------------+\n",
      "|line_name|        avg(delay)|\n",
      "+---------+------------------+\n",
      "|        7|  69.8878063016985|\n",
      "|       15| 75.00601441653484|\n",
      "|       11| 66.86055264518396|\n",
      "|        3| 59.33061610213354|\n",
      "|        8| 70.40891044996407|\n",
      "|        E| 90.85397553516819|\n",
      "|        5| 59.46522312547608|\n",
      "|       17|  68.8109536244329|\n",
      "|        6| 56.65332733859282|\n",
      "|       8E|   71.322913028292|\n",
      "|        9|57.409503574474954|\n",
      "|       10| 70.00171260225294|\n",
      "|        4| 69.85353917808457|\n",
      "|       12| 51.51746101772522|\n",
      "|       13| 69.13658160251748|\n",
      "|       14|57.614791397629645|\n",
      "|        2| 54.24695457437215|\n",
      "+---------+------------------+"
     ]
    }
   ],
   "source": [
    "tram_types=df.where(F.col(\"transport_type\")==\"Tram\").groupby(\"line_name\").agg(F.mean('delay'))\n",
    "tram_types.show()"
   ]
  },
  {
   "cell_type": "code",
   "execution_count": 116,
   "metadata": {},
   "outputs": [
    {
     "data": {
      "application/vnd.jupyter.widget-view+json": {
       "model_id": "",
       "version_major": 2,
       "version_minor": 0
      },
      "text/plain": [
       "FloatProgress(value=0.0, bar_style='info', description='Progress:', layout=Layout(height='25px', width='50%'),…"
      ]
     },
     "metadata": {},
     "output_type": "display_data"
    }
   ],
   "source": [
    "df=df.withColumn(\"hour\",F.hour(F.col(\"arrival_scheduled\")))"
   ]
  },
  {
   "cell_type": "code",
   "execution_count": 117,
   "metadata": {},
   "outputs": [
    {
     "data": {
      "application/vnd.jupyter.widget-view+json": {
       "model_id": "",
       "version_major": 2,
       "version_minor": 0
      },
      "text/plain": [
       "FloatProgress(value=0.0, bar_style='info', description='Progress:', layout=Layout(height='25px', width='50%'),…"
      ]
     },
     "metadata": {},
     "output_type": "display_data"
    },
    {
     "name": "stdout",
     "output_type": "stream",
     "text": [
      "+---------+----+------------------+\n",
      "|line_type|hour|        avg(delay)|\n",
      "+---------+----+------------------+\n",
      "|       IC|  13| 69.77952960745439|\n",
      "|      ICE|  13| 75.14521841794569|\n",
      "|       RE|  20| 49.37491999409187|\n",
      "|       AG|   8|            1814.0|\n",
      "|       EC|  14| 206.6857509994289|\n",
      "|      EXT|  12|120.89573459715639|\n",
      "|      ICE|  14|263.68567460479557|\n",
      "|       AG|  14|               0.0|\n",
      "|        S|   8| 84.01364082789692|\n",
      "|      ZUG|   9|              83.5|\n",
      "|       NJ|  11|            1045.8|\n",
      "|       IC|  19|110.40499973081134|\n",
      "|      RJX|  12|              45.0|\n",
      "|       IR|  14|50.990735721840295|\n",
      "|      ICE|  11|63.494960806270996|\n",
      "|       EC|  19| 565.6540248459752|\n",
      "|       RE|   8| 70.16618633600542|\n",
      "|      TGV|  20|422.98501872659176|\n",
      "|      ZUG|  12|             362.0|\n",
      "|       RE|  12| 33.10614318934016|\n",
      "+---------+----+------------------+\n",
      "only showing top 20 rows"
     ]
    }
   ],
   "source": [
    "train_types_hour=df.where(F.col(\"transport_type\")==\"Zug\").groupby(\"line_type\",\"hour\").agg(F.mean('delay'))\n",
    "train_types_hour.show()"
   ]
  },
  {
   "cell_type": "code",
   "execution_count": 118,
   "metadata": {},
   "outputs": [
    {
     "data": {
      "application/vnd.jupyter.widget-view+json": {
       "model_id": "",
       "version_major": 2,
       "version_minor": 0
      },
      "text/plain": [
       "FloatProgress(value=0.0, bar_style='info', description='Progress:', layout=Layout(height='25px', width='50%'),…"
      ]
     },
     "metadata": {},
     "output_type": "display_data"
    },
    {
     "name": "stdout",
     "output_type": "stream",
     "text": [
      "+---------+----+------------------+\n",
      "|line_name|hour|        avg(delay)|\n",
      "+---------+----+------------------+\n",
      "|      650|   9|161.08842957130358|\n",
      "|      652|  19| 63.30388307741953|\n",
      "|      754|  17|157.32562378340117|\n",
      "|      245|  11| 69.85999313481507|\n",
      "|      134|  12| 45.02939023497548|\n",
      "|      155|   8| 58.03131163708087|\n",
      "|      811|  18|101.79324439212608|\n",
      "|      842|  17| 134.4118087335871|\n",
      "|      973|  17| 86.01799626906617|\n",
      "|       32|  18| 104.4351895192534|\n",
      "|       40|  14| 93.80258306888183|\n",
      "|       75|  19| 80.64258898169436|\n",
      "|      751|  18| 88.79274183091286|\n",
      "|      305|  11| 79.59240239647113|\n",
      "|      309|  18| 79.25972776917435|\n",
      "|      912|  19|51.264625526246704|\n",
      "|      759|  12|  76.9040294672929|\n",
      "|      795|  18| 82.79540081667741|\n",
      "|      245|  19| 47.02799414348463|\n",
      "|      225|  15| 67.28446670954203|\n",
      "+---------+----+------------------+\n",
      "only showing top 20 rows"
     ]
    }
   ],
   "source": [
    "bus_types_hour=df.where(F.col(\"transport_type\")==\"Bus\").groupby(\"line_name\",\"hour\").agg(F.mean('delay'))\n",
    "bus_types_hour.show()"
   ]
  },
  {
   "cell_type": "code",
   "execution_count": 119,
   "metadata": {},
   "outputs": [
    {
     "data": {
      "application/vnd.jupyter.widget-view+json": {
       "model_id": "",
       "version_major": 2,
       "version_minor": 0
      },
      "text/plain": [
       "FloatProgress(value=0.0, bar_style='info', description='Progress:', layout=Layout(height='25px', width='50%'),…"
      ]
     },
     "metadata": {},
     "output_type": "display_data"
    },
    {
     "name": "stdout",
     "output_type": "stream",
     "text": [
      "+---------+----+------------------+\n",
      "|line_name|hour|        avg(delay)|\n",
      "+---------+----+------------------+\n",
      "|       14|  10| 55.37009190703116|\n",
      "|        5|  15| 66.51267330325216|\n",
      "|        8|  18| 88.76431724137932|\n",
      "|        7|  16| 77.59871650151553|\n",
      "|        8|  19| 68.62609447355867|\n",
      "|       14|   9| 51.88008392200643|\n",
      "|       15|  11| 69.42126711721973|\n",
      "|        3|  13| 57.00602907371504|\n",
      "|       13|  19| 68.37475685234305|\n",
      "|       8E|   9| 69.49776785714286|\n",
      "|        9|   8| 58.05699694718815|\n",
      "|        9|  18| 47.47692869329777|\n",
      "|       14|  18|62.205553500097196|\n",
      "|       17|  19| 62.22989701445959|\n",
      "|        3|   8|62.483166967097674|\n",
      "|       15|  14| 75.62902567937323|\n",
      "|        2|  20| 54.93717576796998|\n",
      "|        3|  19| 54.46267692001724|\n",
      "|       8E|  10| 80.52232142857143|\n",
      "|       12|  20|51.545313676774846|\n",
      "+---------+----+------------------+\n",
      "only showing top 20 rows"
     ]
    }
   ],
   "source": [
    "tram_types_hour=df.where(F.col(\"transport_type\")==\"Tram\").groupby(\"line_name\",\"hour\").agg(F.mean('delay'))\n",
    "tram_types_hour.show()"
   ]
  },
  {
   "cell_type": "code",
   "execution_count": 123,
   "metadata": {},
   "outputs": [
    {
     "data": {
      "application/vnd.jupyter.widget-view+json": {
       "model_id": "",
       "version_major": 2,
       "version_minor": 0
      },
      "text/plain": [
       "FloatProgress(value=0.0, bar_style='info', description='Progress:', layout=Layout(height='25px', width='50%'),…"
      ]
     },
     "metadata": {},
     "output_type": "display_data"
    }
   ],
   "source": [
    "transport_avg_delays.write.parquet('/user/%s/final/parquet/transport_avg_delays' % username)\n",
    "hour_avg_delays.write.parquet('/user/%s/final/parquet/hour_avg_delays' % username)\n",
    "train_types.withColumnRenamed(\"avg(delay)\",\"avg_delay\").write.parquet('/user/%s/final/parquet/train_types' % username)\n",
    "bus_types.withColumnRenamed(\"avg(delay)\",\"avg_delay\").write.parquet('/user/%s/final/parquet/bus_types' % username)\n",
    "tram_types.withColumnRenamed(\"avg(delay)\",\"avg_delay\").write.parquet('/user/%s/final/parquet/tram_types' % username)\n",
    "train_types_hour.withColumnRenamed(\"avg(delay)\",\"avg_delay\").write.parquet('/user/%s/final/parquet/train_types_hour' % username)\n",
    "bus_types_hour.withColumnRenamed(\"avg(delay)\",\"avg_delay\").write.parquet('/user/%s/final/parquet/bus_types_hour' % username)\n",
    "tram_types_hour.withColumnRenamed(\"avg(delay)\",\"avg_delay\").write.parquet('/user/%s/final/parquet/tram_types_hour' % username)"
   ]
  },
  {
   "cell_type": "code",
   "execution_count": 127,
   "metadata": {},
   "outputs": [
    {
     "data": {
      "application/vnd.jupyter.widget-view+json": {
       "model_id": "",
       "version_major": 2,
       "version_minor": 0
      },
      "text/plain": [
       "FloatProgress(value=0.0, bar_style='info', description='Progress:', layout=Layout(height='25px', width='50%'),…"
      ]
     },
     "metadata": {},
     "output_type": "display_data"
    }
   ],
   "source": [
    "default_delay = df.select(F.mean(F.col('delay')).alias('mean_delay'),).collect()\n"
   ]
  },
  {
   "cell_type": "code",
   "execution_count": null,
   "metadata": {},
   "outputs": [],
   "source": [
    "default_delay.show()"
   ]
  },
  {
   "cell_type": "code",
   "execution_count": null,
   "metadata": {},
   "outputs": [],
   "source": []
  }
 ],
 "metadata": {
  "kernelspec": {
   "display_name": "PySpark",
   "language": "python",
   "name": "pysparkkernel"
  },
  "language_info": {
   "codemirror_mode": {
    "name": "python",
    "version": 3
   },
   "file_extension": ".py",
   "mimetype": "text/x-python",
   "name": "pyspark",
   "pygments_lexer": "python3"
  }
 },
 "nbformat": 4,
 "nbformat_minor": 4
}
