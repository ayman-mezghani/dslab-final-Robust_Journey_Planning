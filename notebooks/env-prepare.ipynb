{
 "cells": [
  {
   "cell_type": "code",
   "execution_count": null,
   "metadata": {},
   "outputs": [],
   "source": [
    "beeline -n \"${JUPYTERHUB_USER:-nobody}\" -p \"\" -e \"show databases like '${JUPYTERHUB_USER:-nobody}'\""
   ]
  },
  {
   "cell_type": "code",
   "execution_count": null,
   "metadata": {},
   "outputs": [],
   "source": [
    "beeline -n \"${JUPYTERHUB_USER:-nobody}\" -p \"\" -e \"show tables in ${JUPYTERHUB_USER:-nobody};\""
   ]
  },
  {
   "cell_type": "code",
   "execution_count": null,
   "metadata": {},
   "outputs": [],
   "source": [
    "hdfs dfs -ls /data/sbb/orc/geostops"
   ]
  },
  {
   "cell_type": "code",
   "execution_count": null,
   "metadata": {},
   "outputs": [],
   "source": [
    "beeline -n \"${JUPYTERHUB_USER:-nobody}\" -p \"\" -e \"\n",
    "create database if not exists ${JUPYTERHUB_USER:-nobody} location '/user/${JUPYTERHUB_USER:-nobody}/hive';\n",
    "drop table if exists ${JUPYTERHUB_USER:-nobody}.geostops_orc;\n",
    "create external table ${JUPYTERHUB_USER:-nobody}.geostops_orc(\n",
    "        STOP_ID string,\n",
    "        STOP_NAME string,\n",
    "        STOP_LAT string,\n",
    "        STOP_LON string,\n",
    "        LOCATION_TYPE string,\n",
    "        PARENT_STATION string\n",
    "    )\n",
    "    row format delimited fields terminated by ';'\n",
    "    stored as ORC\n",
    "    location '/data/sbb/orc/geostops'\n",
    "    tblproperties ('skip.header.line.count'='1');\n",
    "    select count(*) from ${JUPYTERHUB_USER:-nobody}.geostops_orc;\n",
    "    \""
   ]
  },
  {
   "cell_type": "code",
   "execution_count": null,
   "metadata": {},
   "outputs": [],
   "source": [
    "hdfs dfs -ls /data/sbb/csv/timetable/*/2019/05/07"
   ]
  },
  {
   "cell_type": "code",
   "execution_count": null,
   "metadata": {},
   "outputs": [],
   "source": [
    "beeline -n \"${JUPYTERHUB_USER:-nobody}\" -p \"\" -e \"\n",
    "create database if not exists ${JUPYTERHUB_USER:-nobody} location '/user/${JUPYTERHUB_USER:-nobody}/hive';\n",
    "drop table if exists ${JUPYTERHUB_USER:-nobody}.timetable_calendar_csv;\n",
    "create external table ${JUPYTERHUB_USER:-nobody}.timetable_calendar_csv(\n",
    "        SERVICE_ID string,\n",
    "        MONDAY string,\n",
    "        TUESDAY string,\n",
    "        WEDNESDAY string,\n",
    "        THURSDAY string,\n",
    "        FRIDAY string,\n",
    "        SATURDAY string,\n",
    "        SUNDAY string,\n",
    "        START_DATE string,\n",
    "        END_DATE string\n",
    "    )\n",
    "    row format delimited fields terminated by ','\n",
    "    stored as textfile\n",
    "    location '/data/sbb/csv/timetable/calendar/2019/05/07'\n",
    "    tblproperties ('skip.header.line.count'='1');\n",
    "    select count(*) from ${JUPYTERHUB_USER:-nobody}.timetable_calendar_csv;\n",
    "    \""
   ]
  },
  {
   "cell_type": "code",
   "execution_count": null,
   "metadata": {},
   "outputs": [],
   "source": [
    "beeline -n \"${JUPYTERHUB_USER:-nobody}\" -p \"\" -e \"\n",
    "create database if not exists ${JUPYTERHUB_USER:-nobody} location '/user/${JUPYTERHUB_USER:-nobody}/hive';\n",
    "drop table if exists ${JUPYTERHUB_USER:-nobody}.timetable_stop_times_csv;\n",
    "create external table ${JUPYTERHUB_USER:-nobody}.timetable_stop_times_csv(\n",
    "        TRIP_ID string,\n",
    "        ARRIVAL_TIME string,\n",
    "        DEPARTURE_TIME string,\n",
    "        STOP_ID string,\n",
    "        STOP_SEQUENCE string,\n",
    "        PICKUP_TYPE string,\n",
    "        DROP_OFF_TYPE string\n",
    "    )\n",
    "    row format delimited fields terminated by ','\n",
    "    stored as textfile\n",
    "    location '/data/sbb/csv/timetable/stop_times/2019/05/07'\n",
    "    tblproperties ('skip.header.line.count'='1');\n",
    "    select count(*) from ${JUPYTERHUB_USER:-nobody}.timetable_stop_times_csv;\n",
    "    \""
   ]
  },
  {
   "cell_type": "code",
   "execution_count": null,
   "metadata": {},
   "outputs": [],
   "source": [
    "beeline -n \"${JUPYTERHUB_USER:-nobody}\" -p \"\" -e \"\n",
    "create database if not exists ${JUPYTERHUB_USER:-nobody} location '/user/${JUPYTERHUB_USER:-nobody}/hive';\n",
    "drop table if exists ${JUPYTERHUB_USER:-nobody}.timetable_trips_csv;\n",
    "create external table ${JUPYTERHUB_USER:-nobody}.timetable_trips_csv(\n",
    "        ROUTE_ID string,\n",
    "        SERVICE_ID string,\n",
    "        TRIP_ID string,\n",
    "        TRIP_HEADSIGN string,\n",
    "        TRIP_SHORT_NAME string,\n",
    "        DIRECTION_ID string\n",
    "    )\n",
    "    row format delimited fields terminated by ','\n",
    "    stored as textfile\n",
    "    location '/data/sbb/csv/timetable/trips/2019/05/07'\n",
    "    tblproperties ('skip.header.line.count'='1');\n",
    "    select count(*) from ${JUPYTERHUB_USER:-nobody}.timetable_trips_csv;\n",
    "    \""
   ]
  },
  {
   "cell_type": "code",
   "execution_count": null,
   "metadata": {},
   "outputs": [],
   "source": [
    "beeline -n \"${JUPYTERHUB_USER:-nobody}\" -p \"\" -e \"\n",
    "create database if not exists ${JUPYTERHUB_USER:-nobody} location '/user/${JUPYTERHUB_USER:-nobody}/hive';\n",
    "drop table if exists ${JUPYTERHUB_USER:-nobody}.timetable_routes_csv;\n",
    "create external table ${JUPYTERHUB_USER:-nobody}.timetable_routes_csv(\n",
    "        ROUTE_ID string,\n",
    "        AGENCY_ID string,\n",
    "        ROUTE_SHORT_NAME string,\n",
    "        ROUTE_LONG_NAME string,\n",
    "        ROUTE_DESC string,\n",
    "        ROUTE_TYPE string\n",
    "    )\n",
    "    row format delimited fields terminated by ','\n",
    "    stored as textfile\n",
    "    location '/data/sbb/csv/timetable/routes/2019/05/07'\n",
    "    tblproperties ('skip.header.line.count'='1');\n",
    "    select count(*) from ${JUPYTERHUB_USER:-nobody}.timetable_routes_csv;\n",
    "    \""
   ]
  }
 ],
 "metadata": {
  "kernelspec": {
   "display_name": "Bash",
   "language": "bash",
   "name": "bash"
  },
  "language_info": {
   "codemirror_mode": "shell",
   "file_extension": ".sh",
   "mimetype": "text/x-sh",
   "name": "bash"
  }
 },
 "nbformat": 4,
 "nbformat_minor": 4
}
